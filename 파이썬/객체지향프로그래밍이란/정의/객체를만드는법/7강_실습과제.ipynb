{
 "cells": [
  {
   "cell_type": "code",
   "execution_count": 5,
   "metadata": {},
   "outputs": [
    {
     "output_type": "stream",
     "name": "stdout",
     "text": "Lisa 123456 123456\nYoonsoo yoonsoo@codeit.kr abcdef\nTaeho taeho@codeit.kr 123abc\nLisa lisa@codeit.kr abc123\n"
    }
   ],
   "source": [
    "class User:\n",
    "    \n",
    "    def initialize(self,name,email,password):\n",
    "        self.name =name\n",
    "        self.email = password\n",
    "        self.password = password\n",
    "        return self.name, self.email,self.password\n",
    "\n",
    "user1 = User()\n",
    "user1.initialize(\"Young\", \"young@codeit.kr\", \"123456\")\n",
    "user1 = User()\n",
    "user1.initialize(\"Yoonsoo\", \"yoonsoo@codeit.kr\", \"123456\")\n",
    "user1 = User()\n",
    "user1.initialize(\"Taeho\", \"taeho@codeit.kr\", \"123456\")\n",
    "user1 = User()\n",
    "user1.initialize(\"Lisa\", \"Lisa@codeit.kr\", \"123456\")\n",
    "    \n",
    "\n",
    "print(user1.name, user1.email, user1.password)\n",
    "print(user2.name, user2.email, user2.password)\n",
    "print(user3.name, user3.email, user3.password)\n",
    "print(user4.name, user4.email, user4.password)"
   ]
  }
 ],
 "metadata": {
  "language_info": {
   "codemirror_mode": {
    "name": "ipython",
    "version": 3
   },
   "file_extension": ".py",
   "mimetype": "text/x-python",
   "name": "python",
   "nbconvert_exporter": "python",
   "pygments_lexer": "ipython3",
   "version": "3.8.1-final"
  },
  "orig_nbformat": 2,
  "kernelspec": {
   "name": "python38164bitpytorchcondae2e836418e8f4945879c9669572061e2",
   "display_name": "Python 3.8.1 64-bit ('pytorch': conda)"
  }
 },
 "nbformat": 4,
 "nbformat_minor": 2
}