{
 "cells": [
  {
   "cell_type": "markdown",
   "metadata": {},
   "source": [
    "파이썬에서는 인스턴스를 메소드를 만들시 첫번째 파라미터에 self라는 단어를 넣어줄것을 권장하고 있습니다."
   ]
  },
  {
   "cell_type": "code",
   "execution_count": 4,
   "metadata": {},
   "outputs": [
    {
     "output_type": "stream",
     "name": "stdout",
     "text": "로그인 성공, 환영해요.\n안녕하세요! 저는김대위입니다\n"
    }
   ],
   "source": [
    "class User:\n",
    "    def say_hello(self):\n",
    " #인사 메세지 출력 메소드\n",
    "        print('안녕하세요! 저는{}입니다'.format(self.name))\n",
    "\n",
    "    def login(self, my_email, my_password):\n",
    "        # 로그인 메소드\n",
    "        if (self.email == my_email and self.password == my_password):\n",
    "            print('로그인 성공, 환영해요.')\n",
    "            User.say_hello(self)            #클래스 메소드?!\n",
    "        else:\n",
    "            print('로그인 실패.')\n",
    "\n",
    "user1 = User()\n",
    "\n",
    "user1.name = '김대위'\n",
    "user1.email = 'captain@codeit.kr'\n",
    "user1.password = '12345'\n",
    "\n",
    "# user1.login(user1,'captain@codeit.kr','12345')\n",
    "user1.login('captain@codeit.kr','12345')"
   ]
  }
 ],
 "metadata": {
  "language_info": {
   "name": "python",
   "codemirror_mode": {
    "name": "ipython",
    "version": 3
   },
   "version": "3.8.1-final"
  },
  "orig_nbformat": 2,
  "file_extension": ".py",
  "mimetype": "text/x-python",
  "name": "python",
  "npconvert_exporter": "python",
  "pygments_lexer": "ipython3",
  "version": 3,
  "kernelspec": {
   "name": "python38164bitpytorchcondae2e836418e8f4945879c9669572061e2",
   "display_name": "Python 3.8.1 64-bit ('pytorch': conda)"
  }
 },
 "nbformat": 4,
 "nbformat_minor": 2
}