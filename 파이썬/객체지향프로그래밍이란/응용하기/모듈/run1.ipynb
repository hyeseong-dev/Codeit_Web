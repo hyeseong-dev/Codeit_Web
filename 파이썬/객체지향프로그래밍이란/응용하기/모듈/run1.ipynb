{
 "nbformat": 4,
 "nbformat_minor": 2,
 "metadata": {
  "language_info": {
   "name": "python",
   "codemirror_mode": {
    "name": "ipython",
    "version": 3
   },
   "version": "3.8.2-final"
  },
  "orig_nbformat": 2,
  "file_extension": ".py",
  "mimetype": "text/x-python",
  "name": "python",
  "npconvert_exporter": "python",
  "pygments_lexer": "ipython3",
  "version": 3,
  "kernelspec": {
   "name": "python38264bitmymythonenvconda1f36fd18157f4376a30b6173fcd0cb3f",
   "display_name": "Python 3.8.2 64-bit ('my_mython_env': conda)"
  }
 },
 "cells": [
  {
   "cell_type": "markdown",
   "metadata": {},
   "source": [
    "첫 번째, \n",
    "from으로 모듈이름을 적고 import * 로 모든 메소드의 기능을 불러온다. \n",
    "\n",
    "그러면 메소드명만 가지고 기능 구현이 간단하게 가능하다. "
   ]
  },
  {
   "cell_type": "code",
   "execution_count": 1,
   "metadata": {},
   "outputs": [
    {
     "output_type": "stream",
     "name": "stdout",
     "text": "3\n-1\n2\n0.5\n"
    }
   ],
   "source": [
    "from calculator import * \n",
    "\n",
    "print(add(1,2) )\n",
    "print(subtract(1,2) )\n",
    "print(multiply(1,2) )\n",
    "print(divide(1,2) )"
   ]
  },
  {
   "cell_type": "code",
   "execution_count": null,
   "metadata": {},
   "outputs": [],
   "source": []
  },
  {
   "cell_type": "markdown",
   "metadata": {},
   "source": [
    "두 번째, \n",
    "import calculator로 모듈이름을 적으면 \n",
    "\n",
    "모듈이름.메소드이름()으로 사용 할 수 있음. \n",
    "\n"
   ]
  },
  {
   "cell_type": "code",
   "execution_count": 2,
   "metadata": {},
   "outputs": [
    {
     "output_type": "stream",
     "name": "stdout",
     "text": "3\n-1\n2\n0.5\n"
    }
   ],
   "source": [
    "import calculator\n",
    "\n",
    "print(calculator.add(1,2) )\n",
    "print(calculator.subtract(1,2) )\n",
    "print(calculator.multiply(1,2) )\n",
    "print(calculator.divide(1,2) )"
   ]
  }
 ]
}