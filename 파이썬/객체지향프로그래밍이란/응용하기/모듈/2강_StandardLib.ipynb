{
 "nbformat": 4,
 "nbformat_minor": 2,
 "metadata": {
  "language_info": {
   "name": "python",
   "codemirror_mode": {
    "name": "ipython",
    "version": 3
   },
   "version": "3.8.2-final"
  },
  "orig_nbformat": 2,
  "file_extension": ".py",
  "mimetype": "text/x-python",
  "name": "python",
  "npconvert_exporter": "python",
  "pygments_lexer": "ipython3",
  "version": 3,
  "kernelspec": {
   "name": "python38264bitmymythonenvconda1f36fd18157f4376a30b6173fcd0cb3f",
   "display_name": "Python 3.8.2 64-bit ('my_mython_env': conda)"
  }
 },
 "cells": [
  {
   "cell_type": "code",
   "execution_count": 6,
   "metadata": {},
   "outputs": [
    {
     "output_type": "stream",
     "name": "stdout",
     "text": "a\n안녕\na\n"
    }
   ],
   "source": [
    "class MyClass : \n",
    "    name = '하나' # 클래스 변수 또는 멤버변수 \n",
    "\n",
    "c1 = MyClass()\n",
    "c2 = MyClass()\n",
    "c3 = MyClass()\n",
    "c4 = MyClass()\n",
    "c5 = MyClass()\n",
    "\n",
    "\n",
    "c1.name ='a'\n",
    "\n",
    "print(c1.name)\n",
    "\n",
    "MyClass.name = '안녕'\n",
    "print(MyClass.name)\n",
    "print(c1.name)"
   ]
  },
  {
   "cell_type": "code",
   "execution_count": null,
   "metadata": {},
   "outputs": [],
   "source": [
    "a = '안녕'\n",
    "a = 1\n"
   ]
  }
 ]
}