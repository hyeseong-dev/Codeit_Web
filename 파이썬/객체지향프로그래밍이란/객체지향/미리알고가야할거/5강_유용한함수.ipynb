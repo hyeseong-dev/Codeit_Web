{
 "nbformat": 4,
 "nbformat_minor": 2,
 "metadata": {
  "language_info": {
   "name": "python",
   "codemirror_mode": {
    "name": "ipython",
    "version": 3
   },
   "version": "3.8.1-final"
  },
  "orig_nbformat": 2,
  "file_extension": ".py",
  "mimetype": "text/x-python",
  "name": "python",
  "npconvert_exporter": "python",
  "pygments_lexer": "ipython3",
  "version": 3,
  "kernelspec": {
   "name": "python38164bitpytorchcondae2e836418e8f4945879c9669572061e2",
   "display_name": "Python 3.8.1 64-bit ('pytorch': conda)"
  }
 },
 "cells": [
  {
   "cell_type": "markdown",
   "metadata": {},
   "source": [
    "# max, min 함수"
   ]
  },
  {
   "cell_type": "code",
   "execution_count": 7,
   "metadata": {},
   "outputs": [
    {
     "output_type": "stream",
     "name": "stdout",
     "text": "5\n7\n2\n2\n"
    }
   ],
   "source": [
    "print(max(2, 5))             # => 5\n",
    "print(max(2, 7, 5))          # => 7\n",
    "print(min(2, 5,3.0)) # 만약 float이 있으면 무시함\n",
    "print(min(2, 7, 5, 11, 6))   # => 2"
   ]
  },
  {
   "cell_type": "markdown",
   "metadata": {},
   "source": [
    "max 함수는 파라미터 중 가장 큰 값을, min 함수는 파라미터 중 가장 작은 값을 리턴합니다. 두 함수 모두 원하는 개수만큼의 파라미터들을 넘겨줄 수 있습니다."
   ]
  },
  {
   "cell_type": "markdown",
   "metadata": {},
   "source": [
    "# sum 함수"
   ]
  },
  {
   "cell_type": "code",
   "execution_count": 29,
   "metadata": {},
   "outputs": [
    {
     "output_type": "stream",
     "name": "stdout",
     "text": "15\n16\n6\n6\n"
    }
   ],
   "source": [
    "int_list = [1, 2, 3, 4, 5]\n",
    "int_tuple = (4, 3, 6, 1, 2)\n",
    "int_dict = {1: 2, 2: 3, 3: 4}\n",
    "    \n",
    "print(sum(int_list))         # => 15\n",
    "print(sum(int_tuple))        # => 16\n",
    "print(sum(int_dict))         # => 6\n",
    "\n",
    "i=0\n",
    "for j in int_dict.keys(): #키값들의 총합\n",
    "    i = i + j # 2 = 0+2, \n",
    "print(i)\n",
    "\n",
    "i=0\n",
    "for j in int_dict.values(): # values의 총합\n",
    "    i = i + j # 2 = 0+2, \n",
    "print(i)"
   ]
  },
  {
   "cell_type": "markdown",
   "metadata": {},
   "source": [
    "# ternary expression\n"
   ]
  },
  {
   "cell_type": "code",
   "execution_count": 30,
   "metadata": {},
   "outputs": [
    {
     "output_type": "stream",
     "name": "stdout",
     "text": "nice\n"
    }
   ],
   "source": [
    "condition = True\n",
    "    \n",
    "if condition:\n",
    "    condition_string = \"nice\"\n",
    "else:\n",
    "    condition_string = \"not nice\"\n",
    "    \n",
    "print(condition_string)      # => nice"
   ]
  },
  {
   "cell_type": "code",
   "execution_count": 31,
   "metadata": {},
   "outputs": [
    {
     "output_type": "stream",
     "name": "stdout",
     "text": "nice\n"
    }
   ],
   "source": [
    "condition = True\n",
    "    \n",
    "condition_string = \"nice\" if condition else \"not nice\"\n",
    "    \n",
    "print(condition_string)      # => nice"
   ]
  },
  {
   "cell_type": "markdown",
   "metadata": {},
   "source": [
    "위의 코드와 아래의 코드는 같은 내용입니다. \"nice\" if condition else \"not_nice\" 이 구문은\n",
    "\n",
    "\n",
    "condition이 True 일 때는 \"nice\"가 되고\n",
    "False 일 때는 \"not_nice\"가 된다는 뜻입니다.\n",
    "\n",
    "이렇게 불린(Boolean) 값에 따라 다른 값을 리턴하는 구문을 ternary expression이라고 합니다. ternary expression을 사용하면 if, else로 복잡하게 표현해야 하는 구문을 간단하게 나타낼 수 있습니다."
   ]
  },
  {
   "cell_type": "markdown",
   "metadata": {},
   "source": [
    "# list comprehension"
   ]
  },
  {
   "cell_type": "code",
   "execution_count": 33,
   "metadata": {},
   "outputs": [
    {
     "output_type": "stream",
     "name": "stdout",
     "text": "[1, 4, 9, 16, 25, 36]\n"
    }
   ],
   "source": [
    "int_list = [1, 2, 3, 4, 5, 6]\n",
    "squares = []\n",
    "    \n",
    "for x in int_list:\n",
    "    squares.append(x**2)\n",
    "    \n",
    "print(squares) "
   ]
  },
  {
   "cell_type": "code",
   "execution_count": 32,
   "metadata": {},
   "outputs": [
    {
     "output_type": "stream",
     "name": "stdout",
     "text": "[1, 4, 9, 16, 25, 36]\n"
    }
   ],
   "source": [
    "print([x**2 for x in [1,2,3,4,5,6]])\n",
    ""
   ]
  },
  {
   "cell_type": "code",
   "execution_count": null,
   "metadata": {},
   "outputs": [],
   "source": [
    "위 코드와 아래 코드는 같은 뜻입니다. list comprehension은 새로운 리스트를 만드는 간편한 방법입니다. 특정 리스트나 튜플을 바탕으로 리스트를 생성할 때\n",
    "\n",
    "\n",
    "[] 안에 원하는 값을 리턴하는 식 (x**2) 뒤에\n",
    "for문을 써줍니다(for x in int_list).\n",
    "\n",
    "이렇게 쓰면 int_list 의 각 요소들을 제곱해준 값들로 이루어진 새로운 리스트가 생성됩니다. \n",
    "x**2 부분에 여러분이 원하는 식을 쓰면 되겠죠?"
   ]
  },
  {
   "cell_type": "markdown",
   "metadata": {},
   "source": [
    "# zfill 메소드\n",
    "\n",
    "이 메소드는 문자열을 최소 몇 자리 이상을 가진 문자열로 변환시켜줍니다. 이때 만약 모자란 부분은 왼쪽에 “0”을 채워주는데요. 예를 들어 만약 \"1\".zfill(2)을 하면 \"01\"을 리턴합니다. 그리고 설정된 자릿수보다 이미 더 긴 문자열이라면 그 문자열을 그대로 출력합니다. 그러니까 \"333\".zfill(2) 와 같이 하면 문자열 그대로 “333”을 리턴합니다. 아래 코드를 보면 더 쉽게 이해할 수 있습니다. 이 메소드는 문자열을 예쁘고 통일감있게 출력하고자 할 때 자주 사용되니까 꼭 기억해주세요.\n",
    "\n"
   ]
  },
  {
   "cell_type": "code",
   "execution_count": 36,
   "metadata": {},
   "outputs": [
    {
     "output_type": "stream",
     "name": "stdout",
     "text": "000001\n333\n0000000a\n000000ab\n00000abc\n"
    }
   ],
   "source": [
    "print('1'.zfill(6))\n",
    "print('333'.zfill(2))\n",
    "print('a'.zfill(8))\n",
    "print('ab'.zfill(8))\n",
    "print('abc'.zfill(8))"
   ]
  }
 ]
}