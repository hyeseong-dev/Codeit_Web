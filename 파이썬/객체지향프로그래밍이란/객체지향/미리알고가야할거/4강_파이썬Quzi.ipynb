{
 "nbformat": 4,
 "nbformat_minor": 2,
 "metadata": {
  "language_info": {
   "name": "python",
   "codemirror_mode": {
    "name": "ipython",
    "version": 3
   }
  },
  "orig_nbformat": 2,
  "file_extension": ".py",
  "mimetype": "text/x-python",
  "name": "python",
  "npconvert_exporter": "python",
  "pygments_lexer": "ipython3",
  "version": 3
 },
 "cells": [
  {
   "cell_type": "markdown",
   "metadata": {},
   "source": [
    "질문  1   /n",
    "다음 중 틀린 정보를 고르세요/n",
    "/n",
    "1/n",
    "파이썬은 순수 객체 지향 언어이다./n",
    "/n",
    "2/n",
    "클래스는 인스턴스를 만드는 틀의 역할을 한다./n",
    "/n",
    "3/n",
    "파이썬으로 코드를 쓰면 의도하지 않았어도 기본적으로 객체 지향 프로그래밍을 하게 된다./n",
    "/n",
    "4/n",
    "type 함수를 사용하면 인스턴스의 클래스를 확인할 수 있다./n",
    "/n",
    "5/n",
    "인스턴스를 먼저 만들고 이후에 클래스를 정의해도 된다."
   ]
  },
  {
   "cell_type": "markdown",
   "metadata": {},
   "source": [
    "퀴즈 해설   /n",
    "클래스를 미리 정의해놓지 않으면 해당 클래스의 인스턴스를 만들 수 없습니다."
   ]
  },
  {
   "cell_type": "code",
   "execution_count": null,
   "metadata": {},
   "outputs": [],
   "source": []
  },
  {
   "cell_type": "markdown",
   "metadata": {},
   "source": [
    "질문 2/n",
    "다음 중 파이썬에서 가변 타입인 것을 고르세요./n",
    "/n",
    "1/n",
    "딕셔너리(dict)/n",
    "/n",
    "2/n",
    "문자열(str)/n",
    "/n",
    "3/n",
    "불린(bool)/n",
    "/n",
    "4/n",
    "정수(int)/n",
    "/n",
    "5/n",
    "튜플(tuple)"
   ]
  },
  {
   "cell_type": "markdown",
   "metadata": {},
   "source": [
    "퀴즈 해설   /n",
    "파이썬에서 리스트, 딕셔너리는 가변 타입이고 문자열, 불린, 정수, 튜플은 불변 타입입니다."
   ]
  },
  {
   "cell_type": "code",
   "execution_count": null,
   "metadata": {},
   "outputs": [],
   "source": [
    "def change_list(list_parameter):/n",
    "    list_parameter[2] = 5/n",
    "/n",
    "list_x = [1, 2, 3, 4]/n",
    "/n",
    "change_list(list_x)/n",
    "print(list_x[2])"
   ]
  },
  {
   "cell_type": "markdown",
   "metadata": {},
   "source": [
    "퀴즈 해설   /n",
    "리스트는 가변 타입입니다. 가변 타입 인스턴스를 다른 변수 이름에 aliasing하고 그 변수를 통해 값을 수정한 상황입니다. list_x를 change_list에 list_parameter로 넘겨준 후, list_parameter의 2번째 인덱스의 요소를 바꿨네요. list_parameter와 list_x는 같은 인스턴스를 가리키므로 list_x를 통해서도 바뀐 결과를 볼 수 있습니다./n",
    "/n"
   ]
  },
  {
   "cell_type": "code",
   "execution_count": null,
   "metadata": {},
   "outputs": [],
   "source": []
  },
  {
   "cell_type": "code",
   "execution_count": null,
   "metadata": {},
   "outputs": [],
   "source": []
  }
 ]
}