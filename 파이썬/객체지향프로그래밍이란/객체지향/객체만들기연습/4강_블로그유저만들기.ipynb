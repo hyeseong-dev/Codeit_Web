{
 "nbformat": 4,
 "nbformat_minor": 2,
 "metadata": {
  "language_info": {
   "name": "python",
   "codemirror_mode": {
    "name": "ipython",
    "version": 3
   },
   "version": "3.8.2-final"
  },
  "orig_nbformat": 2,
  "file_extension": ".py",
  "mimetype": "text/x-python",
  "name": "python",
  "npconvert_exporter": "python",
  "pygments_lexer": "ipython3",
  "version": 3,
  "kernelspec": {
   "name": "python38264bitmymythonenvconda1f36fd18157f4376a30b6173fcd0cb3f",
   "display_name": "Python 3.8.2 64-bit ('my_mython_env': conda)"
  }
 },
 "cells": [
  {
   "cell_type": "markdown",
   "metadata": {},
   "source": [
    "## 실습과제\n",
    "\n",
    "프로그래밍에 관심이 많은 영준이는 여러 사람들이 자신의 글을 올릴 수 있는 블로그를 만들려고 합니다. 영준이는 일단 아래와 같이 게시글을 나타내는 Post 클래스를 정의했습니다."
   ],
   "execution_count": null,
   "outputs": []
  },
  {
   "cell_type": "code",
   "execution_count": null,
   "metadata": {},
   "outputs": [],
   "source": []
  },
  {
   "cell_type": "code",
   "execution_count": null,
   "metadata": {},
   "outputs": [],
   "source": [
    "class Post: \n",
    "    #게시글 클래스 \n",
    "    def __init__(self,data,content):\n",
    "        self.data = data\n",
    "        self.content = content\n",
    "\n",
    "    def __str__(self):\n",
    "        #게시글의 정보를 문자열로 리턴하는 메소드\n",
    "        return '게시일: {}\\n내용: {}'.format(self.data,self.content)\n",
    "\n",
    "class BlogUser:\n",
    "    # 블로그 유저 클래스 \n",
    "    def __init__(self,name):\n",
    "        \"\"\" \n",
    "        블로그 유저는 속성으로 이름, 게시글들을 갖는다. \n",
    "        posts는 빈 배열로 초기화한다. \n",
    "        \"\"\"\n",
    "        self.name = name \n",
    "        self.posts = [] # 새로운 인스턴스 변수를 이용해서 리스트 만들기 \n",
    "    \n",
    "    def add_post(self, date, content):\n",
    "        # 새로운 게시글 추가\n",
    "        new_post = Post(date, content) # 파라미터로 self는 왜 안들어가는걸까요?\n",
    "        self.posts.append(new_post)\n",
    "\n",
    "    def show_all_posts(self):\n",
    "        # 블로그 유저의 모든 게시글 출력\n",
    "        for i in self.posts:\n",
    "            print(i)\n",
    "\n",
    "    def __str__(self):\n",
    "        # 간단한 인사와 이름을 문자열로 리턴\n",
    "        return '안녕하세요. {}입니다.\\n'.format(self.name)"
   ]
  },
  {
   "cell_type": "code",
   "execution_count": null,
   "metadata": {},
   "outputs": [],
   "source": []
  },
  {
   "cell_type": "code",
   "execution_count": null,
   "metadata": {},
   "outputs": [],
   "source": []
  },
  {
   "cell_type": "code",
   "execution_count": 10,
   "metadata": {},
   "outputs": [
    {
     "output_type": "stream",
     "name": "stdout",
     "text": "안녕하세요 성태호입니다.\n작성 날짜: 2019년 8월 30일\n내용: \n오늘은 내 생일이였다.\n많은 사람들이 축하해줬다.\n행복했다.\n\n작성 날짜: 2019년 8월 31일\n내용: \n재밌는 코딩 교육 사이트를 찾았다.\n코드잇이란 곳인데 최고다.\n같이 공부하실 분들은 www.codeit.kr로 오세요!\n\n작성 날짜: 2019년 9월 1일\n내용: \n어제보다 오늘 오늘보다 내일 더 발전하겠습니다.\n\n"
    }
   ],
   "source": [
    "class Post:\n",
    "    # 게시글 클래스\n",
    "    def __init__(self, date, content):\n",
    "        # 게시글은 속성으로 작성 날짜와 내용을 갖는다\n",
    "        self.date = date\n",
    "        self.content = content\n",
    "\n",
    "    def __str__(self):\n",
    "        # 게시글의 정보를 문자열로 리턴하는 메소드\n",
    "        return \"작성 날짜: {}\\n내용: {}\".format(self.date, self.content)\n",
    "    \n",
    "class BlogUser:\n",
    "    # 블로그 유저 클래스\n",
    "    def __init__(self, name):\n",
    "        \"\"\"\n",
    "        블로그 유저는 속성으로 이름, 게시글들을 갖는다\n",
    "        posts는 빈 배열로 초기화한다\n",
    "        \"\"\"\n",
    "        self.name = name\n",
    "        self.posts = []     # <- 이 코드는 어디서 가져온걸까?\n",
    "\n",
    "    def add_post(self, date, content): # 블로그 사용자의 블로그 게시글 리스트에 새로운 게시글 인스턴스를 추가하는 메소드\n",
    "        # 새로운 게시글 추가\n",
    "        new_post = Post(date, content) # <--상속 받은 건가요??? Post클래스를 다른 변수명에 담음\n",
    "        self.posts.append(new_post) # new_post변수명으로 담은 매개변수가  self.posts라는 매개변수에 담기게 된다.\n",
    "\n",
    "    def show_all_posts(self):   #  블로그 사용자가 올린 모든 게시글을 출력하는 메소드\n",
    "        # 블로그 유저의 모든 게시글 출력\n",
    "        for post in self.posts:\n",
    "            print(post)\n",
    "\n",
    "    def __str__(self):\n",
    "        # 간단한 인사와 이름을 문자열로 리턴\n",
    "        return \"안녕하세요 {}입니다.\".format(self.name)\n",
    "    \n",
    "# 블로그 유저 인스턴스 생성\n",
    "blog_user_1 = BlogUser(\"성태호\")\n",
    "\n",
    "# 블로그 유저 인스턴스 출력(인사, 이름)\n",
    "print(blog_user_1)\n",
    "\n",
    "# 블로그 유저 게시글 2개 추가\n",
    "blog_user_1.add_post(\"2019년 8월 30일\", \"\"\"\n",
    "오늘은 내 생일이였다.\n",
    "많은 사람들이 축하해줬다.\n",
    "행복했다.\n",
    "\"\"\")\n",
    "\n",
    "blog_user_1.add_post(\"2019년 8월 31일\", \"\"\"\n",
    "재밌는 코딩 교육 사이트를 찾았다.\n",
    "코드잇이란 곳인데 최고다.\n",
    "같이 공부하실 분들은 www.codeit.kr로 오세요!\n",
    "\"\"\")\n",
    "\n",
    "blog_user_1.add_post(\"2019년 9월 1일\", \"\"\"\n",
    "어제보다 오늘 오늘보다 내일 더 발전하겠습니다.\n",
    "\"\"\")\n",
    "\n",
    "# 블로그 유저의 모든 게시글 출력\n",
    "blog_user_1.show_all_posts()"
   ]
  },
  {
   "cell_type": "code",
   "execution_count": 15,
   "metadata": {},
   "outputs": [
    {
     "output_type": "execute_result",
     "data": {
      "text/plain": "1"
     },
     "metadata": {},
     "execution_count": 15
    }
   ],
   "source": [
    "123//100"
   ]
  },
  {
   "cell_type": "code",
   "execution_count": 13,
   "metadata": {},
   "outputs": [
    {
     "output_type": "execute_result",
     "data": {
      "text/plain": "3"
     },
     "metadata": {},
     "execution_count": 13
    }
   ],
   "source": [
    "123%10"
   ]
  },
  {
   "cell_type": "code",
   "execution_count": null,
   "metadata": {},
   "outputs": [],
   "source": [
    "def sum_digit(num):\n",
    "    \n",
    "    if num > 9  \n",
    "\n",
    "    one_ = num % 10\n",
    "    ten_ = num // 10\n",
    "    \n",
    "    \n",
    "\n",
    "    return one_ + ten_"
   ]
  }
 ]
}