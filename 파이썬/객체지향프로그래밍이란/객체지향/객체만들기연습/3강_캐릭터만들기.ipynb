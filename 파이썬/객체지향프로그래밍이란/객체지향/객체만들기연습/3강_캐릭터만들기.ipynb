{
 "nbformat": 4,
 "nbformat_minor": 2,
 "metadata": {
  "language_info": {
   "name": "python",
   "codemirror_mode": {
    "name": "ipython",
    "version": 3
   },
   "version": "3.8.2-final"
  },
  "orig_nbformat": 2,
  "file_extension": ".py",
  "mimetype": "text/x-python",
  "name": "python",
  "npconvert_exporter": "python",
  "pygments_lexer": "ipython3",
  "version": 3,
  "kernelspec": {
   "name": "python38264bitmymythonenvconda1f36fd18157f4376a30b6173fcd0cb3f",
   "display_name": "Python 3.8.2 64-bit ('my_mython_env': conda)"
  }
 },
 "cells": [
  {
   "cell_type": "markdown",
   "metadata": {},
   "source": [
    "실습과제\n",
    "99XP\n",
    "한국의 최대 온라인 게임업체 넥손에서 일하는 대위는 최근 새 프로젝트인 ‘은행스토리’에 개발자로 참여하게 되었는데요. 대위가 맡은 부분은 게임 캐릭터를 ‘클래스’로 작성하는 것입니다. 이미 객체의 속성과 행동을 뭐로 할지에 대해서는 생각을 마친 상태입니다.\n",
    "\n",
    "\n",
    "다음 조건들과 출력 예시에 맞게 GameCharacter클래스를 작성하세요.\n",
    "\n",
    "\n",
    "인스턴스 변수(타입)\n",
    "name(문자열): 캐릭터의 이름\n",
    "hp(숫자형): 캐릭터의 체력\n",
    "power(숫자형): 캐릭터의 공격력\n",
    "\n",
    "인스턴스 메소드\n",
    "__init__: 사용할 모든 인스턴스 변수를 설정한다.\n",
    "is_alive: 게임 캐릭터의 체력이 0보다 큰지(살았는지 죽었는지) 확인한다.\n",
    "0 초과이면 True를, 0 이하라면 False를 리턴한다.\n",
    "get_attacked: 게임 캐릭터의 체력이 0보다 큰 상태라면 파라미터로 받은 공격력만큼 체력을 깎는다.\n",
    "조건:\n",
    "is_alive 메소드를 사용해서 인스턴스가 살아있을 때만 체력을 깎는다. 이미 캐릭터가 죽었으면 죽었다는 메시지를 출력한다.\n",
    "남은 체력보다 공격력이 더 크면 체력(hp)을 0으로 설정한다.\n",
    "attack: 파라미터로 받은 다른 캐릭터의 체력을 자신의 공격력만큼 깎는다.\n",
    "조건:\n",
    "is_alive 메소드를 이용해서 살아있는 인스턴스만 공격을 할 수 있도록 한다.\n",
    "get_attacked 메소드를 사용한다.\n",
    "__str__: 게임 캐릭터의 의미있는 정보를 포함한 문자열을 리턴한다.\n",
    "\n",
    "<출력 예시>\n",
    "\n",
    "> Ww영훈전사wW은 이미 죽었습니다.   \n",
    "Ww영훈전사wW님의 hp는 0만큼 남았습니다.  \n",
    "Xx지웅최고xX님의 hp는 70만큼 남았습니다.   "
   ],
   "execution_count": null,
   "outputs": []
  },
  {
   "cell_type": "code",
   "execution_count": null,
   "metadata": {},
   "outputs": [],
   "source": [
    "class GameCharacter:\n",
    "    # 게임 캐릭터 클래스\n",
    "    def __init__(self, name, hp, power):\n",
    "        # 게임 캐릭터는 속성으로 이름, hp, 공격력을 갖는다\n",
    "        self.name = name \n",
    "        self.hp = hp \n",
    "        self.power = power \n",
    "\n",
    "    def is_alive(self):\n",
    "        # 게임 캐릭터가 살아있는지(체력이 0이 넘는지) 확인하는 메소드\n",
    "        if self.hp > 0 :\n",
    "            return True\n",
    "        else :\n",
    "            retur False\n",
    "\n",
    "    def get_attacked(self, damage):\n",
    "        \"\"\"\n",
    "        게임 캐릭터가 살아있으면 공격한 캐릭터의 공격력만큼 체력을 깎는 메소드\n",
    "        조건:    \n",
    "            1. 이미 캐릭터가 죽었으면 죽었다는 메시지를 출력한다\n",
    "            2. 남은 체력보다 공격력이 더 크면 체력은 0이 된다.\n",
    "        \"\"\"\n",
    "        if self.hp.\n",
    "\n",
    "    def attack(self, other_character):\n",
    "        # 게임 캐릭터가 살아있으면 파라미터로 받은 다른 캐릭터의 체력을 자신의 공격력만큼 깎는다.\n",
    "\n",
    "        if other_character.hp >= self.power:\n",
    "            other_character.hp = other_character.hp - self.power\n",
    "        else : \n",
    "            other_character.hp = 0\n",
    "\n",
    "    def __str__(self):\n",
    "        # 게임 캐릭터의 의미있는 정보를 포함한 문자열을 리턴한다.\n",
    "\n",
    "# 게임 캐릭터 인스턴스 생성                        \n",
    "character_1 = GameCharacter(\"Ww영훈전사wW\", 200, 30)\n",
    "character_2 = GameCharacter(\"Xx지웅최고xX\", 100, 50)\n",
    "\n",
    "# 게임 캐릭터 인스턴스들 서로 공격\n",
    "character_1.attack(character_2)\n",
    "character_2.attack(character_1)\n",
    "character_2.attack(character_1)\n",
    "character_2.attack(character_1)\n",
    "character_2.attack(character_1)\n",
    "character_2.attack(character_1)\n",
    "\n",
    "# 게임 캐릭터 인스턴스 출력\n",
    "print(character_1)\n",
    "print(character_2)"
   ]
  },
  {
   "cell_type": "code",
   "execution_count": null,
   "metadata": {},
   "outputs": [],
   "source": [
    "class GameCharacter:\n",
    "    # 게임 캐릭터 클래스\n",
    "    def __init__(self, name, hp, power):\n",
    "    # 게임 캐릭터는 속성으로 이름, hp, 공격력을 갖는다\n",
    "      self.name = name\n",
    "      self.hp = hp\n",
    "      self.power = power\n",
    "\n",
    "    def is_alive(self):\n",
    "      # 게임 캐릭터가 살아있는지(체력이 0이 넘는지) 확인하는 메소드\n",
    "      return self.hp > 0\n",
    "\n",
    "    def get_attacked(self, damage):\n",
    "      \"\"\"\n",
    "      게임 캐릭터가 살아있으면 공격한 캐릭터의 공격력만큼 체력을 깎는 메소드\n",
    "      조건:    \n",
    "          1. 이미 캐릭터가 죽었으면 죽었다는 메시지를 출력한다\n",
    "          2. 남은 체력보다 공격력이 더 크면 체력은 0이 된다.\n",
    "      \"\"\"\n",
    "      if self.is_alive():\n",
    "        self.hp = self.hp - damage if self.hp >= damage else 0\n",
    "\n",
    "      else:\n",
    "        print(\"{}님은 이미 죽었습니다.\".format(self.name))\n",
    "\n",
    "    def attack(self, other_character):\n",
    "      # 게임 캐릭터가 살아있으면 파라미터로 받은 다른 캐릭터의 체력을 자신의 공격력만큼 깎는다.\n",
    "      if self.is_alive():\n",
    "        other_character.get_attacked(self.power)\n",
    "\n",
    "    def __str__(self):\n",
    "      # 게임 캐릭터의 의미있는 정보를 포함한 문자열을 리턴한다.\n",
    "      return self.name + \"님의 hp는 \" + str(self.hp) + \"만큼 남았습니다.\"\n",
    "\n",
    "# 게임 캐릭터 인스턴스 생성                        \n",
    "younghoon = GameCharacter(\"Ww영훈전사wW\", 200, 30)\n",
    "jiwoong = GameCharacter(\"Xx지웅최고xX\", 100, 50)\n",
    "\n",
    "# 게임 캐릭터 인스턴스들 서로 공격\n",
    "younghoon.attack(jiwoong)\n",
    "# jiwoong.get_attacked(younghoon.power) > jiwoong.hp(70) = jiwoong.hp(100) - younghoon.power(30)\n",
    "\n",
    "jiwoong.attack(younghoon)\n",
    "# younghoon.get_attacked(jiwoong.power) > younghoon.hp(150) = younghoon.hp(200) - jiwoong.power(50)\n",
    "\n",
    "jiwoong.attack(younghoon)\n",
    "# younghoon.get_attacked(jiwoong.power) > younghoon.hp(100) = younghoon.hp(150) - jiwoong.power(50)\n",
    "\n",
    "jiwoong.attack(younghoon)\n",
    "# younghoon.get_attacked(jiwoong.power) > younghoon.hp(50) = younghoon.hp(100) - jiwoong.power(50)\n",
    "\n",
    "jiwoong.attack(younghoon)\n",
    "# younghoon.get_attacked(jiwoong.power) > younghoon.hp(0) = younghoon.hp(50) - jiwoong.power(50)\n",
    "\n",
    "jiwoong.attack(younghoon)\n",
    "# younghoon.get_attacked(jiwoong.power) > Ww영훈전사wW님은 이미 죽었습니다.\n",
    "\n",
    "\n",
    "# 게임 캐릭터 인스턴스 출력\n",
    "print(younghoon)\n",
    "# Ww영훈전사wW님의 hp는 0만큼 남았습니다.\n",
    "print(jiwoong)\n",
    "# Xx지웅최고xX님의 hp는 70만큼 남았습니다."
   ]
  },
  {
   "cell_type": "code",
   "execution_count": null,
   "metadata": {},
   "outputs": [],
   "source": []
  },
  {
   "cell_type": "code",
   "execution_count": 97,
   "metadata": {},
   "outputs": [
    {
     "output_type": "execute_result",
     "data": {
      "text/plain": "'tr'"
     },
     "metadata": {},
     "execution_count": 97
    }
   ],
   "source": [
    "a = 'string'\n",
    "a[1:3]"
   ]
  },
  {
   "cell_type": "markdown",
   "metadata": {},
   "source": [
    "## 문항 2번 \n",
    "\n",
    "## a =\\['하나','둘','일곱',1,2,3.0,'넷','다섯','여섯'\\]"
   ],
   "execution_count": null,
   "outputs": []
  },
  {
   "cell_type": "code",
   "execution_count": null,
   "metadata": {},
   "outputs": [],
   "source": [
    "a = ['하나','둘',1,2,3.0]\n",
    "b = ['넷','다섯']\n",
    "c = '여섯'\n",
    "d = '일곱'\n",
    "\n",
    "a[2] = [d,1]\n",
    "print(a) # 1가지 "
   ]
  },
  {
   "cell_type": "code",
   "execution_count": null,
   "metadata": {},
   "outputs": [],
   "source": [
    "a = ['하나','둘',1,2,3.0]\n",
    "b = ['넷','다섯']\n",
    "c = '여섯'\n",
    "d = '일곱'\n",
    "\n",
    "a.insert(2,b)\n",
    "a.insert(3,c)\n",
    "a.insert(4,d)\n",
    "# print(a[1])\n",
    "print(a) # 1가지 "
   ]
  },
  {
   "cell_type": "code",
   "execution_count": null,
   "metadata": {},
   "outputs": [],
   "source": [
    "a = ['하나','둘',1,2,3.0]\n",
    "b = ['넷','다섯']\n",
    "c = '여섯'\n",
    "d = '일곱'\n",
    "\n",
    "\n",
    "a.append(b)\n",
    "a.append(c)\n",
    "a.append(d)\n",
    "print(a)"
   ]
  },
  {
   "cell_type": "code",
   "execution_count": null,
   "metadata": {},
   "outputs": [],
   "source": [
    "a = ['하나','둘',1,2,3.0]\n",
    "b = ['넷','다섯']\n",
    "c = '여섯'\n",
    "d = '일곱'\n",
    "\n",
    "\n",
    "a.extend(b)\n",
    "a.extend(c)\n",
    "a.extend(c)\n",
    "\n",
    "print(a)"
   ]
  },
  {
   "cell_type": "markdown",
   "metadata": {},
   "source": [
    "### 문항 3번"
   ],
   "execution_count": null,
   "outputs": []
  },
  {
   "cell_type": "code",
   "execution_count": null,
   "metadata": {},
   "outputs": [],
   "source": [
    "a = ['하나','둘','일곱',1,2,3.0,'넷','다섯','여섯','A']\n",
    "b = a \n",
    "\n",
    "print(a, '주소값'+ str(id(a)))\n",
    "print(b,'주소값'+ str(id(b)))\n",
    "print()\n",
    "\n",
    "b = a[:]\n",
    "print(b, '주소값'+ str(id(b))) # 주소값이 변경되었음 \n"
   ]
  },
  {
   "cell_type": "code",
   "execution_count": null,
   "metadata": {},
   "outputs": [],
   "source": []
  },
  {
   "cell_type": "markdown",
   "metadata": {},
   "source": [
    "문항 4번\n"
   ],
   "execution_count": null,
   "outputs": []
  },
  {
   "cell_type": "code",
   "execution_count": null,
   "metadata": {},
   "outputs": [],
   "source": [
    "def sum(a,b):\n",
    "    return a + b\n",
    "\n",
    "sum(1,2)"
   ]
  },
  {
   "cell_type": "markdown",
   "metadata": {},
   "source": [
    "<문항 5>\n",
    "다음의 예문의 출력물이 아래의 값이 나오도록 작성하세요.\n",
    "\n",
    "<예문>"
   ],
   "execution_count": null,
   "outputs": []
  },
  {
   "cell_type": "code",
   "execution_count": null,
   "metadata": {},
   "outputs": [],
   "source": [
    "def f( a, **args, ***kwargs):\n",
    "    print('f의 값은(a = %s, args=%s, kwargs=%s' %(a,args, kwargs))\n",
    "\n",
    "a = 1\n",
    "b = (2,3,4)\n",
    "c = {'b':5, 'c':6}\n",
    "\n",
    "f(a, b, c)"
   ]
  },
  {
   "cell_type": "code",
   "execution_count": null,
   "metadata": {},
   "outputs": [],
   "source": [
    "def f( a, args, kwargs):\n",
    "    print('f의 값은(a = %s, args=%s, kwargs=%s' %(a,args, kwargs))\n",
    "\n",
    "a = 1\n",
    "b = (2,3,4)\n",
    "c = {'b':5, 'c':6}\n",
    "\n",
    "f(a, b, c)"
   ]
  },
  {
   "cell_type": "markdown",
   "metadata": {},
   "source": [
    "## <문항 6> 람다 함수 "
   ],
   "execution_count": null,
   "outputs": []
  },
  {
   "cell_type": "code",
   "execution_count": null,
   "metadata": {},
   "outputs": [],
   "source": [
    "def sum(a,b):\n",
    "    return a + b\n",
    "print(sum(1,2))"
   ]
  },
  {
   "cell_type": "code",
   "execution_count": null,
   "metadata": {},
   "outputs": [],
   "source": [
    "a,b = 1,2\n",
    "(lambda a,b : a + b)(a,b)"
   ]
  },
  {
   "cell_type": "markdown",
   "metadata": {},
   "source": [
    "<문항 7> 다음은 이터레이터에 관한 문제입니다. 아래의 예문을 yield를 사용해서 고치세요. "
   ],
   "execution_count": null,
   "outputs": []
  },
  {
   "cell_type": "code",
   "execution_count": 96,
   "metadata": {},
   "outputs": [
    {
     "output_type": "stream",
     "name": "stdout",
     "text": "1\n2\n3\n4\n<class 'generator'>\n"
    }
   ],
   "source": [
    "def test_generator():\n",
    "    yield 1\n",
    "    yield 2\n",
    "    yield 3\n",
    "    yield 4\n",
    "    yield 5\n",
    "\n",
    "a = test_generator()\n",
    "print(next(a))\n",
    "print(next(a))\n",
    "print(next(a))\n",
    "print(next(a))\n",
    "\n",
    "print(type(a))\n",
    ""
   ]
  },
  {
   "cell_type": "markdown",
   "metadata": {},
   "source": [
    "<문항 9>"
   ]
  },
  {
   "cell_type": "code",
   "execution_count": 90,
   "metadata": {},
   "outputs": [],
   "source": [
    "class MyClass:\n",
    "    \"\"\" 클래스 주석\"\"\"\n",
    "    name = '하나' # 멤버 변수 \n",
    "    \n",
    "    def sum(self, a, b): # 멤버 메소드 \n",
    "        print(self.name)\n",
    "        return a + b \n",
    "\n",
    "a = MyClass() \n",
    "b = MyClass() \n",
    "c = MyClass() \n",
    "d = MyClass() \n",
    "e = MyClass() \n"
   ]
  },
  {
   "cell_type": "code",
   "execution_count": null,
   "metadata": {},
   "outputs": [],
   "source": []
  },
  {
   "cell_type": "code",
   "execution_count": null,
   "metadata": {},
   "outputs": [],
   "source": []
  },
  {
   "cell_type": "code",
   "execution_count": null,
   "metadata": {},
   "outputs": [],
   "source": []
  }
 ]
}