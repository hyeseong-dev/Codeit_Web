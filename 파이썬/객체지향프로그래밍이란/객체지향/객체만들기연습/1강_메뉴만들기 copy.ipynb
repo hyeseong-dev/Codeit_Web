{
 "nbformat": 4,
 "nbformat_minor": 2,
 "metadata": {
  "language_info": {
   "name": "python",
   "codemirror_mode": {
    "name": "ipython",
    "version": 3
   },
   "version": "3.8.1-final"
  },
  "orig_nbformat": 2,
  "file_extension": ".py",
  "mimetype": "text/x-python",
  "name": "python",
  "npconvert_exporter": "python",
  "pygments_lexer": "ipython3",
  "version": 3,
  "kernelspec": {
   "name": "python38164bitpytorchcondae2e836418e8f4945879c9669572061e2",
   "display_name": "Python 3.8.1 64-bit ('pytorch': conda)"
  }
 },
 "cells": [
  {
   "cell_type": "markdown",
   "metadata": {},
   "source": [
    "## 실습과제/n",
    "/n",
    "올해 코드잇 대학교를 졸업한 영훈이는 배달 어플 회사 “여기오”에 취직했습니다. “여기오”는 고객들이 배달 음식을 주문할 수 있는 어플을 만들려고 합니다. 영훈이가 맡게 된 업무는 어플에서 각 배달 음식 메뉴를 나타낼 클래스를 작성하는 건데요./n",
    "/n",
    "/n",
    "MenuItem 클래스가 가져야할 다음 조건들을 보고 배달 음식 메뉴를 나타내는 MenuItem 클래스를 정의해보세요./n",
    "/n",
    "/n",
    "### 인스턴스 변수(타입):/n",
    " - name(문자열): 메뉴 이름/n",
    " - price(숫자): 메뉴 가격/n",
    "/n",
    "### 인스턴스 메소드:/n",
    " - __init__: MenuItem 클래스의 모든 인스턴스 변수를 초기화한다./n",
    " - __str__: MenuItem 인스턴스의 정보를 문자열로 리턴한다. 단, 리턴 형식은 아래의 출력 예시와 같은 형식이어야 한다."
   ]
  },
  {
   "cell_type": "code",
   "execution_count": null,
   "metadata": {},
   "outputs": [],
   "source": [
    "출력예시/n",
    "/n",
    "햄버거 가격: 4000/n",
    "콜라 가격: 1500/n",
    "후렌치 후라이 가격: 1500"
   ]
  },
  {
   "cell_type": "code",
   "execution_count": 3,
   "metadata": {},
   "outputs": [
    {
     "output_type": "stream",
     "name": "stdout",
     "text": "햄버거 가격: 4000/n콜라 가격: 1500/n후렌치 후라이 가격: 1500/n"
    }
   ],
   "source": [
    "class MenuItem:/n",
    "    # 음식 메뉴를 나타내는 클래스/n",
    "    def __init__(self, name, price):/n",
    "        # 코드를 쓰세요/n",
    "        self.name = name/n",
    "        self.price = price/n",
    "/n",
    "    def __str__(self):/n",
    "        # 코드를 쓰세요/n",
    "       return '{0} 가격: {1}'.format(self.name,self.price)/n",
    "       /n",
    "# 메뉴 인스턴스 생성/n",
    "burger = MenuItem(/"햄버거/", 4000)/n",
    "coke = MenuItem(/"콜라/", 1500)/n",
    "fries = MenuItem(/"후렌치 후라이/", 1500)/n",
    "/n",
    "# 메뉴 인스턴스 출력/n",
    "print(burger)/n",
    "print(coke)/n",
    "print(fries)"
   ]
  },
  {
   "cell_type": "code",
   "execution_count": null,
   "metadata": {},
   "outputs": [],
   "source": []
  }
 ]
}