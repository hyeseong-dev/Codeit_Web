{
 "cells": [
  {
   "cell_type": "markdown",
   "metadata": {},
   "source": [
    "## 실습과제\n",
    "\n",
    "이번 과제에서는 계산기 클래스를 만들어 볼게요. 이때까지 객체는 속성과 행동을 갖는 존재라고 했습니다. \n",
    "하지만 속성없이 행동만 있는 객체도 있습니다. 이 말은 변수는 없고 메소드만 있는 클래스도 만들 수 있다는 뜻입니다. \n",
    "우리가 배웠던 메소드의 종류 3가지는\n",
    "\n",
    "\n",
    "1. 인스턴스 메소드\n",
    "2. 클래스 메소드\n",
    "3. 정적 메소드\n",
    "\n",
    "입니다. 변수가 없는 클래스에서는 무슨 메소드를 써야할까요? 이전에 우리는 인스턴스 변수나 클래스 변수를 쓰지 않을 거라면 정적 메소드(static method)를 사용해야 한다고 배웠죠? 변수가 없는 클래스에서는 정적 메소드를 정의하면 됩니다.\n",
    "\n",
    "\n",
    "다음 조건들을 보고 계산기 클래스인 SimpleCalculator 클래스의 정적 메소드들을 완성해보세요.\n",
    "\n",
    "\n",
    "### 정적 메소드\n",
    " - add: 파라미터로 받은 두 숫자의 합을 리턴한다\n",
    " - subtract: 첫 번째 파라미터에서 두 번째 파라미터를 뺀 값을 리턴한다\n",
    " - multiply: 파라미터로 받은 두 숫자의 곱을 리턴한다\n",
    " - divide: 첫 번째 파라미터를 두 번째 파라미터로 나눈 값을 리턴한다"
   ]
  },
  {
   "cell_type": "code",
   "execution_count": 1,
   "metadata": {},
   "outputs": [
    {
     "output_type": "stream",
     "name": "stdout",
     "text": "9\n-1\n20\n0.8\n"
    }
   ],
   "source": [
    "class SimpleCalculator:\n",
    "    # 계산기 클래스\n",
    "    @staticmethod\n",
    "    def add(first_number, second_number):\n",
    "        # 파라미터로 받는 두 숫자의 합을 리턴한다\n",
    "        return (first_number + second_number)\n",
    "\n",
    "    @staticmethod\n",
    "    def subtract(first_number, second_number):\n",
    "        # 첫 번째 파라미터에서 두 번째 파라미터를 뺀 값을 리턴한다\n",
    "     return first_number - second_number\n",
    "\n",
    "    @staticmethod\n",
    "    def multiply(first_number, second_number):\n",
    "        # 파라미터로 받는 두 숫자의 곱을 리턴한다\n",
    "        return first_number * second_number\n",
    "\n",
    "    @staticmethod\n",
    "    def divide(first_number, second_number):\n",
    "        # 첫 번째 파라미터를 두 번째 파라미터로 나눈 값을 리턴한다\n",
    "     return first_number / second_number\n",
    "    \n",
    "# 계산기 인스턴스 생성\n",
    "calculator = SimpleCalculator()\n",
    "    \n",
    "# 계산기 연산 호출\n",
    "print(calculator.add(4, 5))\n",
    "print(calculator.subtract(4, 5))\n",
    "print(calculator.multiply(4, 5))\n",
    "print(calculator.divide(4, 5))\n"
   ]
  },
  {
   "cell_type": "code",
   "execution_count": null,
   "metadata": {},
   "outputs": [],
   "source": [
    "함수안에 변수는 없고 오직 정적 메소드만 있는 경우!\n",
    "동작만을 구현할 뿐인것! "
   ]
  }
 ],
 "metadata": {
  "language_info": {
   "name": "python",
   "codemirror_mode": {
    "name": "ipython",
    "version": 3
   },
   "version": "3.8.1-final"
  },
  "orig_nbformat": 2,
  "file_extension": ".py",
  "mimetype": "text/x-python",
  "name": "python",
  "npconvert_exporter": "python",
  "pygments_lexer": "ipython3",
  "version": 3,
  "kernelspec": {
   "name": "python38164bitpytorchcondae2e836418e8f4945879c9669572061e2",
   "display_name": "Python 3.8.1 64-bit ('pytorch': conda)"
  }
 },
 "nbformat": 4,
 "nbformat_minor": 2
}