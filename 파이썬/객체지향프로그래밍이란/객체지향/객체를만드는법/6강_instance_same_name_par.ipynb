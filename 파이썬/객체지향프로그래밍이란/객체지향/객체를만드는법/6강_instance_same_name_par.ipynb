{
 "cells": [
  {
   "cell_type": "code",
   "execution_count": 9,
   "metadata": {},
   "outputs": [
    {
     "output_type": "stream",
     "name": "stdout",
     "text": "True\nFalse\n"
    }
   ],
   "source": [
    "class User:\n",
    "    def say_hello(self):\n",
    "        print(f'안녕하세요! 저는 {self.name}입니다.')\n",
    "    \n",
    "    def check_name(self, name):\n",
    "        return self.name == name \n",
    "user1 = User()\n",
    "user2 = User()\n",
    "\n",
    "user1.name = '김대위'\n",
    "user1.email = 'daewi@codeit.kr'\n",
    "user1.pw = '12345'\n",
    "\n",
    "user2.name = '강영훈'\n",
    "user2.email = 'younghoon@codeit.kr'\n",
    "user2.pw = '2345'\n",
    "\n",
    "print(user1.check_name(\"김대위\"))\n",
    "print(user1.check_name(\"강영훈\"))"
   ]
  }
 ],
 "metadata": {
  "language_info": {
   "codemirror_mode": {
    "name": "ipython",
    "version": 3
   },
   "file_extension": ".py",
   "mimetype": "text/x-python",
   "name": "python",
   "nbconvert_exporter": "python",
   "pygments_lexer": "ipython3",
   "version": "3.8.1-final"
  },
  "orig_nbformat": 2,
  "kernelspec": {
   "name": "python38164bitpytorchcondae2e836418e8f4945879c9669572061e2",
   "display_name": "Python 3.8.1 64-bit ('pytorch': conda)"
  }
 },
 "nbformat": 4,
 "nbformat_minor": 2
}