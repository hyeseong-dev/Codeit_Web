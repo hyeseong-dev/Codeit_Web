{
 "nbformat": 4,
 "nbformat_minor": 2,
 "metadata": {
  "language_info": {
   "name": "python",
   "codemirror_mode": {
    "name": "ipython",
    "version": 3
   },
   "version": "3.8.1-final"
  },
  "orig_nbformat": 2,
  "file_extension": ".py",
  "mimetype": "text/x-python",
  "name": "python",
  "npconvert_exporter": "python",
  "pygments_lexer": "ipython3",
  "version": 3,
  "kernelspec": {
   "name": "python38164bitpytorchcondae2e836418e8f4945879c9669572061e2",
   "display_name": "Python 3.8.1 64-bit ('pytorch': conda)"
  }
 },
 "cells": [
  {
   "cell_type": "code",
   "execution_count": null,
   "metadata": {},
   "outputs": [],
   "source": [
    "class User:/n",
    "    def say_hello(some_user):/n",
    "        #인사 메세지 출력 메소드/n",
    "        print('안녕하세요! 저는{}입니다'.format(some_user.name))/n",
    "/n",
    "user1 = User()/n",
    "user2 = User()/n",
    "user3 = User()/n",
    "/n",
    "user1.name = '김대위'/n",
    "user1.email = 'captain@codeit.kr'/n",
    "user1.password = '12345'/n",
    "/n",
    "user2.name = '강영훈'/n",
    "user2.email = 'younghoon@codeit.kr'/n",
    "user2.password = '5678'/n",
    "/n",
    "user3.name = '최지웅'/n",
    "user3.email = 'jiwoong@codeit.kr'/n",
    "user3.password = '!@#dd'/n",
    "/n",
    ""
   ]
  },
  {
   "cell_type": "code",
   "execution_count": null,
   "metadata": {},
   "outputs": [],
   "source": [
    "User.say_hello(user1)   # 클래스의 메소드를 호출한것이고!/n",
    "user1.say_hello()       # 객체(인스턴스)의 메소드를 호출한것임./n",
    "/n"
   ]
  },
  {
   "cell_type": "code",
   "execution_count": null,
   "metadata": {},
   "outputs": [],
   "source": [
    "/"/"/" 아래는 오류가 나는 코드 작성의 예입니다. /"/"/"/n",
    "user1.say_hello(user1) /n",
    "# TypeError: say_hello() takes 1 positional argument but 2 were given/n",
    ""
   ]
  },
  {
   "cell_type": "code",
   "execution_count": null,
   "metadata": {},
   "outputs": [],
   "source": [
    "# 즉, 이미 user1이 넘어갔는데 또 들어가니 오류가 난다./n",
    "/n",
    "User.say_hello(user1,user1) #이랑 똑같다고 보면 된다. "
   ]
  },
  {
   "cell_type": "code",
   "execution_count": null,
   "metadata": {},
   "outputs": [],
   "source": []
  },
  {
   "cell_type": "code",
   "execution_count": null,
   "metadata": {},
   "outputs": [],
   "source": []
  },
  {
   "cell_type": "code",
   "execution_count": 11,
   "metadata": {},
   "outputs": [],
   "source": [
    "class User:/n",
    "    def say_hello(some_user):/n",
    "        #인사 메세지 출력 메소드/n",
    "        print('안녕하세요! 저는{}입니다'.format(some_user.name))/n",
    "/n",
    "    def login(some_user, my_email, my_password):/n",
    "        # 로그인 메소드/n",
    "        if (some_user.email == my_email and some_user.password == my_password):/n",
    "            print('로그인 성공, 환영해요.')/n",
    "            User.say_hello(some_user)/n",
    "        else:/n",
    "            print('로그인 실패.')/n",
    "            /n",
    "user1 = User() # 인스턴스 생성/n",
    "/n",
    "user1.name = '김대위'/n",
    "user1.email = 'captain@naver.com'/n",
    "user1.password = '12345'/n",
    "/n",
    ""
   ]
  },
  {
   "cell_type": "code",
   "execution_count": null,
   "metadata": {},
   "outputs": [],
   "source": [
    "# 인스턴스를 다시 동일하게 매개변수로 넣으면 오류 발생!/n",
    "user1.login(user1, 'captain@namver.com','12345')/n",
    ""
   ]
  },
  {
   "cell_type": "code",
   "execution_count": 12,
   "metadata": {},
   "outputs": [
    {
     "output_type": "stream",
     "name": "stdout",
     "text": "로그인 성공, 환영해요./n안녕하세요! 저는김대위입니다/n"
    }
   ],
   "source": [
    "user1.login('captain@naver.com','12345')"
   ]
  },
  {
   "cell_type": "code",
   "execution_count": null,
   "metadata": {},
   "outputs": [],
   "source": []
  }
 ]
}