{
 "nbformat": 4,
 "nbformat_minor": 2,
 "metadata": {
  "language_info": {
   "name": "python",
   "codemirror_mode": {
    "name": "ipython",
    "version": 3
   },
   "version": "3.8.1-final"
  },
  "orig_nbformat": 2,
  "file_extension": ".py",
  "mimetype": "text/x-python",
  "name": "python",
  "npconvert_exporter": "python",
  "pygments_lexer": "ipython3",
  "version": 3,
  "kernelspec": {
   "name": "python38164bitpytorchcondae2e836418e8f4945879c9669572061e2",
   "display_name": "Python 3.8.1 64-bit ('pytorch': conda)"
  }
 },
 "cells": [
  {
   "cell_type": "markdown",
   "metadata": {},
   "source": [
    "## 인스턴스 변수와 같은 이름을 갖는 파라미터"
   ],
   "execution_count": null,
   "outputs": []
  },
  {
   "cell_type": "code",
   "execution_count": 16,
   "metadata": {},
   "outputs": [],
   "source": [
    "class User:/n",
    "    def say_hello(self):/n",
    "        # 인사 메시지 출력 메소드/n",
    "        print('안녕하세요! 저는 {]입니다.'.format(self.name))/n",
    "    /n",
    "    def check_name(self,name):/n",
    "        # 파라미터로 받는 name이 유저의 이름과 같은지 불린으로 리턴하는 메소드/n",
    "        return self.name == name/n",
    "/n",
    "    def check_pw(self,pw):/n",
    "        return self.pw == str(pw)/n",
    "/n",
    "user1 = User()/n",
    "user2 = User()/n",
    "/n",
    "user1.name = '김대위'/n",
    "user1.email = 'captain@codeit.kr'/n",
    "user1.pw = '12345'/n",
    "/n",
    "user2.name = '강영훈'/n",
    "user2.email = 'younghoon@codeit.kr'/n",
    "user2.pw = '98765'/n",
    ""
   ]
  },
  {
   "cell_type": "code",
   "execution_count": 17,
   "metadata": {},
   "outputs": [
    {
     "output_type": "stream",
     "name": "stdout",
     "text": "True/nTrue/n"
    }
   ],
   "source": [
    "print(user1.check_name(/"김대위/"))/n",
    "print(user1.check_pw(12345))"
   ]
  },
  {
   "cell_type": "code",
   "execution_count": 13,
   "metadata": {},
   "outputs": [
    {
     "output_type": "stream",
     "name": "stdout",
     "text": "False/n"
    }
   ],
   "source": [
    "print(user1.check_name(/"김대민/"))"
   ]
  },
  {
   "cell_type": "code",
   "execution_count": 14,
   "metadata": {},
   "outputs": [
    {
     "output_type": "stream",
     "name": "stdout",
     "text": "False/n"
    }
   ],
   "source": [
    "# 다른 인스턴스를 넣으면?/n",
    "print(user2.check_name(/"김대위/"))"
   ]
  },
  {
   "cell_type": "code",
   "execution_count": null,
   "metadata": {},
   "outputs": [],
   "source": []
  },
  {
   "cell_type": "code",
   "execution_count": null,
   "metadata": {},
   "outputs": [],
   "source": []
  },
  {
   "cell_type": "code",
   "execution_count": null,
   "metadata": {},
   "outputs": [],
   "source": []
  },
  {
   "cell_type": "code",
   "execution_count": null,
   "metadata": {},
   "outputs": [],
   "source": []
  }
 ]
}