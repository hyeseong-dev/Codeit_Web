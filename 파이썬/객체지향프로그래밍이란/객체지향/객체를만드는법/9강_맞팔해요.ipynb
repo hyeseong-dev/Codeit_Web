{
 "nbformat": 4,
 "nbformat_minor": 2,
 "metadata": {
  "language_info": {
   "name": "python",
   "codemirror_mode": {
    "name": "ipython",
    "version": 3
   },
   "version": "3.8.1-final"
  },
  "orig_nbformat": 2,
  "file_extension": ".py",
  "mimetype": "text/x-python",
  "name": "python",
  "npconvert_exporter": "python",
  "pygments_lexer": "ipython3",
  "version": 3,
  "kernelspec": {
   "name": "python38164bitpytorchcondae2e836418e8f4945879c9669572061e2",
   "display_name": "Python 3.8.1 64-bit ('pytorch': conda)"
  }
 },
 "cells": [
  {
   "cell_type": "markdown",
   "metadata": {},
   "source": [
    "# 실습과제\n",
    "\n",
    "코드잇에서 강의를 듣고 인스타그램에 취직한 Jane은 User 클래스에 \"팔로우\" 기능을 추가하라는 지시를 받았습니다.   \n",
    "\n",
    "\n",
    "팔로우 기능은 크게 2개의 동작을 해야 합니다.   \n",
    "\n",
    "\n",
    "1. \"내가 팔로우하는 사람\" 목록에 그 사람을 추가하는 동작과   \n",
    "2. 상대방의 \"나를 팔로우하는 사람\" 목록에 나를 추가하는 동작   \n",
    "\n",
    "팔로우 기능은 follow 메소드로 구현하려고 하는데요.       \n",
    "팔로우 기능을 만드는 김에   \n",
    "\n",
    "\n",
    "1. follow 메소드 말고도\n",
    "2. 유저가 팔로우하는 사람 수를 알려주는 num_following 메소드와\n",
    "3. 유저를 팔로우하는 사람 수를 알려주는 num_followers 메소드도\n",
    "\n",
    "추가해봅시다.\n",
    "\n",
    "\n",
    "User 클래스에 이 메소드들을 모두 추가하고 나서 코드를 실행하면 아래와 같은 실행 결과가 나와야 합니다."
   ]
  },
  {
   "cell_type": "code",
   "execution_count": 9,
   "metadata": {},
   "outputs": [
    {
     "output_type": "error",
     "ename": "TypeError",
     "evalue": "__str__ returned non-string (type tuple)",
     "traceback": [
      "\u001b[1;31m---------------------------------------------------------------------------\u001b[0m",
      "\u001b[1;31mTypeError\u001b[0m                                 Traceback (most recent call last)",
      "\u001b[1;32m<ipython-input-9-709b0f6e4b30>\u001b[0m in \u001b[0;36m<module>\u001b[1;34m\u001b[0m\n\u001b[0;32m     42\u001b[0m \u001b[0muser4\u001b[0m\u001b[1;33m.\u001b[0m\u001b[0mfollow\u001b[0m\u001b[1;33m(\u001b[0m\u001b[0muser1\u001b[0m\u001b[1;33m)\u001b[0m\u001b[1;33m\u001b[0m\u001b[1;33m\u001b[0m\u001b[0m\n\u001b[0;32m     43\u001b[0m \u001b[1;33m\u001b[0m\u001b[0m\n\u001b[1;32m---> 44\u001b[1;33m \u001b[0mprint\u001b[0m\u001b[1;33m(\u001b[0m\u001b[0muser1\u001b[0m\u001b[1;33m)\u001b[0m\u001b[1;33m\u001b[0m\u001b[1;33m\u001b[0m\u001b[0m\n\u001b[0m\u001b[0;32m     45\u001b[0m \u001b[1;31m# 유저 이름, 자신의 팔로워 수, 자신이 팔로우하는 사람 수를 출력합니다\u001b[0m\u001b[1;33m\u001b[0m\u001b[1;33m\u001b[0m\u001b[1;33m\u001b[0m\u001b[0m\n\u001b[0;32m     46\u001b[0m \u001b[1;31m# print(user1.name, user1.num_followers(), user1.num_following())\u001b[0m\u001b[1;33m\u001b[0m\u001b[1;33m\u001b[0m\u001b[1;33m\u001b[0m\u001b[0m\n",
      "\u001b[1;31mTypeError\u001b[0m: __str__ returned non-string (type tuple)"
     ]
    }
   ],
   "source": [
    "class User:\n",
    "    # 인스턴스 변수 설정\n",
    "    def __init__(self, name, email, password):\n",
    "        self.name = name\n",
    "        self.email = email\n",
    "        self.password = password\n",
    "\n",
    "        self.following_list = []    # 이 유저가 팔로우하는 유저 리스트\n",
    "        self.followers_list = []    # 이 유저를 팔로우하는 유저 리스트\n",
    "\n",
    "    # 팔로우\n",
    "    def follow(self, another_user):\n",
    "        self.following_list.append(another_user)\n",
    "        another_user.followers_list.append(self.name)\n",
    "        return len(self.following_list)\n",
    "\n",
    "    # 내가 몇 명을 팔로우하는지 리턴\n",
    "    \n",
    "    def num_following(self):\n",
    "        return len(self.following_list)\n",
    "\n",
    "    # 나를 몇 명이 팔로우하는지 리턴\n",
    "    def num_followers(self):\n",
    "        # 코드를 입력하세요\n",
    "        return len(self.followers_list)\n",
    "    \n",
    "\n",
    "# 유저들 생성\n",
    "user1 = User(\"Young\", \"young@codeit.kr\", \"123456\")\n",
    "user2 = User(\"Yoonsoo\", \"yoonsoo@codeit.kr\", \"abcdef\")\n",
    "user3 = User(\"Taeho\", \"taeho@codeit.kr\", \"123abc\")\n",
    "user4 = User(\"Lisa\", \"lisa@codeit.kr\", \"abc123\")\n",
    "\n",
    "# 유저마다 서로 관심 있는 유저를 팔로우\n",
    "user1.follow(user2)\n",
    "user1.follow(user3)\n",
    "user2.follow(user1)\n",
    "user2.follow(user3)\n",
    "user2.follow(user4)\n",
    "user4.follow(user1)\n",
    "\n",
    "# 유저 이름, 자신의 팔로워 수, 자신이 팔로우하는 사람 수를 출력합니다\n",
    "print(user1.name, user1.num_followers(), user1.num_following())\n",
    "print(user2.name, user2.num_followers(), user2.num_following())\n",
    "print(user3.name, user3.num_followers(), user3.num_following())\n",
    "print(user4.name, user4.num_followers(), user4.num_following())\n",
    " "
   ]
  }
 ]
}