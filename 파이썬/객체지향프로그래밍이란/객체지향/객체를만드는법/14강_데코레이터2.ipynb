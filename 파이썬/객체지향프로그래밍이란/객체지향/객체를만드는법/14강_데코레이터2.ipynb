{
 "cells": [
  {
   "cell_type": "code",
   "execution_count": 2,
   "metadata": {},
   "outputs": [
    {
     "output_type": "stream",
     "name": "stdout",
     "text": "함수 시작\nhello\n함수 끝\n"
    }
   ],
   "source": [
    "def add_print_to(original): # original의 원래 이름은 print_hello()\n",
    "    def wrapper():\n",
    "        print('함수 시작')\n",
    "        original()\n",
    "        print('함수 끝')\n",
    "    return wrapper\n",
    "\n",
    "@add_print_to\n",
    "def print_hello():\n",
    "    print('hello')\n",
    "\n",
    "print_hello()"
   ]
  },
  {
   "cell_type": "code",
   "execution_count": null,
   "metadata": {},
   "outputs": [],
   "source": [
    "def function1():\n",
    "    기존 함수1 내용\n",
    "\n",
    "def function2():\n",
    "    기존 함수2 내용\n",
    "\n",
    "def function1():\n",
    "    기존 함수2 내용"
   ]
  },
  {
   "cell_type": "code",
   "execution_count": null,
   "metadata": {},
   "outputs": [],
   "source": [
    "def function1():\n",
    "    print('이 함수의 시작 부분입니다.')\n",
    "    기존 함수1 내용\n",
    "    print('이 함수의 마지막 부분입니다.')\n",
    "\n",
    "def function2():\n",
    "    print('이 함수의 시작 부분입니다.')\n",
    "    기존 함수2 내용\n",
    "    print('이 함수의 마지막 부분입니다.')\n",
    "\n",
    "def function1():\n",
    "    print('이 함수의 시작 부분입니다.')\n",
    "    기존 함수2 내용\n",
    "    print('이 함수의 마지막 부분입니다.')"
   ]
  },
  {
   "cell_type": "code",
   "execution_count": null,
   "metadata": {},
   "outputs": [],
   "source": []
  },
  {
   "cell_type": "code",
   "execution_count": 4,
   "metadata": {},
   "outputs": [
    {
     "output_type": "error",
     "ename": "SyntaxError",
     "evalue": "invalid syntax (<ipython-input-4-bab0ad2bb4cc>, line 13)",
     "traceback": [
      "\u001b[1;36m  File \u001b[1;32m\"<ipython-input-4-bab0ad2bb4cc>\"\u001b[1;36m, line \u001b[1;32m13\u001b[0m\n\u001b[1;33m    기존함수1 내용\u001b[0m\n\u001b[1;37m          ^\u001b[0m\n\u001b[1;31mSyntaxError\u001b[0m\u001b[1;31m:\u001b[0m invalid syntax\n"
     ]
    }
   ],
   "source": [
    "# 위의 코드가 너무 반복된게 있다. \n",
    "# 해결방법은 데코레이터!\n",
    "\n",
    "def add_print_to(original): # original의 원래 이름은 print_hello()\n",
    "    def wrapper():\n",
    "        print('함수 시작')\n",
    "        original()\n",
    "        print('함수 끝')\n",
    "    return wrapper\n",
    "\n",
    "@add_print_to\n",
    "def function1():\n",
    "    기존함수1 내용\n",
    "\n",
    "@add_print_to\n",
    "def function2():\n",
    "    기존함수2 내용\n",
    "\n",
    "@add_print_to\n",
    "def function3():\n",
    "    기존함수3 내용\n",
    "\n",
    "function3()"
   ]
  },
  {
   "cell_type": "code",
   "execution_count": null,
   "metadata": {},
   "outputs": [],
   "source": [
    "@classmethod # 데코레이터 기존의 함수에 새로운 기능 추가\n",
    "def function(): \n",
    "    함수내용"
   ]
  }
 ],
 "metadata": {
  "language_info": {
   "codemirror_mode": {
    "name": "ipython",
    "version": 3
   },
   "file_extension": ".py",
   "mimetype": "text/x-python",
   "name": "python",
   "nbconvert_exporter": "python",
   "pygments_lexer": "ipython3",
   "version": "3.8.1-final"
  },
  "orig_nbformat": 2,
  "kernelspec": {
   "name": "python38164bitpytorchcondae2e836418e8f4945879c9669572061e2",
   "display_name": "Python 3.8.1 64-bit ('pytorch': conda)"
  }
 },
 "nbformat": 4,
 "nbformat_minor": 2
}