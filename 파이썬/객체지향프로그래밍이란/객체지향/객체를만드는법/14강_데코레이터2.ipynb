{
 "nbformat": 4,
 "nbformat_minor": 2,
 "metadata": {
  "language_info": {
   "name": "python",
   "codemirror_mode": {
    "name": "ipython",
    "version": 3
   },
   "version": "3.8.1-final"
  },
  "orig_nbformat": 2,
  "file_extension": ".py",
  "mimetype": "text/x-python",
  "name": "python",
  "npconvert_exporter": "python",
  "pygments_lexer": "ipython3",
  "version": 3,
  "kernelspec": {
   "name": "python38164bitpytorchcondae2e836418e8f4945879c9669572061e2",
   "display_name": "Python 3.8.1 64-bit ('pytorch': conda)"
  }
 },
 "cells": [
  {
   "cell_type": "code",
   "execution_count": null,
   "metadata": {},
   "outputs": [],
   "source": []
  },
  {
   "cell_type": "code",
   "execution_count": null,
   "metadata": {},
   "outputs": [],
   "source": [
    "def add_print_to(original): #데코레이터 함수/n",
    "    def wrapper():/n",
    "        print('함수 시작')/n",
    "        original()/n",
    "        print('함수 끝')/n",
    "    return wrapper/n",
    "/n",
    "@add_print_to  # <- 1번은 print_hello()함수를 add_print_to로 꾸며줘! /n",
    "def print_hello():/n",
    "    print('hello')/n",
    "/n",
    "/n",
    "# print_hello = add_print_to(print_hello) <-데코레이터 해주면 요건 실행 안되게 해야함./n",
    "print_hello()"
   ]
  },
  {
   "cell_type": "code",
   "execution_count": null,
   "metadata": {},
   "outputs": [],
   "source": [
    "@add_print_to  # <- 1번은 print_hello()함수를 add_print_to로 꾸며줘! /n",
    "def print_hello():/n",
    "    print('hello')/n",
    "/n",
    "def add_print_to(original): #데코레이터 함수/n",
    "    def wrapper():/n",
    "        print('함수 시작')/n",
    "        original()/n",
    "        print('함수 끝')/n",
    "    return wrapper/n",
    "/n",
    "/n",
    "/n",
    "/n",
    "# print_hello = add_print_to(print_hello)/n",
    "print_hello()"
   ]
  },
  {
   "cell_type": "code",
   "execution_count": null,
   "metadata": {},
   "outputs": [],
   "source": []
  },
  {
   "cell_type": "code",
   "execution_count": null,
   "metadata": {},
   "outputs": [],
   "source": [
    "def function1():/n",
    "    기존함수 1 내용/n",
    "    /n",
    "def function2():/n",
    "    기존함수 2 내용/n",
    "    /n",
    "def function3():/n",
    "    기존함수 3 내용"
   ]
  },
  {
   "cell_type": "code",
   "execution_count": null,
   "metadata": {},
   "outputs": [],
   "source": [
    "# 만약 데코레이터가 없다면! 일일히 하니 중복 발생/n",
    "/n",
    "def function1():/n",
    "    print('이 함수의 시작 부분입니다.')/n",
    "    기존함수 1 내용/n",
    "    print('이 함수의 끝 부분입니다.')/n",
    "    /n",
    "def function2():/n",
    "    print('이 함수의 시작 부분입니다.')    /n",
    "    기존함수 2 내용/n",
    "    print('이 함수의 끝 부분입니다.')/n",
    "    /n",
    "def function3():/n",
    "    print('이 함수의 시작 부분입니다.')/n",
    "    기존함수 3 내용/n",
    "    print('이 함수의 끝 부분입니다.')/n",
    "    "
   ]
  },
  {
   "cell_type": "code",
   "execution_count": null,
   "metadata": {},
   "outputs": [],
   "source": [
    "# 이럴때 데코레이터를 통해서 훨씬 깔끔하게 처리 할 수 있습니다. /n",
    "/n",
    "def add_print_to(original): #데코레이터 함수/n",
    "    def wrapper():/n",
    "        print('함수 시작')/n",
    "        original()/n",
    "        print('함수 끝')/n",
    "    return wrapper/n",
    "/n",
    "@add_print_to  # <- 1번은 print_hello()함수를 add_print_to로 꾸며줘! /n",
    "def function1():/n",
    "    기존함수1 내용/n",
    "/n",
    "@add_print_to  # <- 1번은 print_hello()함수를 add_print_to로 꾸며줘! /n",
    "def function2():/n",
    "    기존함수2 내용/n",
    "/n",
    "@add_print_to  # <- 1번은 print_hello()함수를 add_print_to로 꾸며줘! /n",
    "def function3():/n",
    "    기존함수3 내용/n",
    "# print_hello = add_print_to(print_hello)/n",
    "print_hello()"
   ]
  },
  {
   "cell_type": "code",
   "execution_count": null,
   "metadata": {},
   "outputs": [],
   "source": [
    "@classmethod  # <-데코레이터구나/n",
    "def function():/n",
    "    함수 내용"
   ]
  },
  {
   "cell_type": "markdown",
   "metadata": {},
   "source": [
    "즉 기존의 함수에 새로운 기능을 추가 했구나?!"
   ],
   "execution_count": null,
   "outputs": []
  },
  {
   "cell_type": "code",
   "execution_count": null,
   "metadata": {},
   "outputs": [],
   "source": [
    "def print_hello(param):/n",
    "     print(/"안녕하세요! {}/".format(param))/n",
    "/n",
    "def add_print_to(original, param):/n",
    "    def wrapper():/n",
    "        print(/"시작/")/n",
    "        original(param)/n",
    "        print(/"종료/")/n",
    "    return wrapper/n",
    "/n",
    "param = 'test1'/n",
    "print_hello = add_print_to(print_hello,param)/n",
    "param = 'test2'  # param값을 변경하면 변경된 값이 적용될까?/n",
    "/n",
    "print_hello()      # 적용되지 않고 호출된 시점의 param값으로 return함/n",
    "/n",
    "# # 질문1 코드/n",
    "# # decorator의 return값을 rtn_func에 할당/n",
    "# rtn_func = add_print_to(print_hello, param)/n",
    "# print(rtn_func())    # test2/n",
    "# param = /"test3/"/n",
    "# print(rtn_func())"
   ]
  }
 ]
}