{
 "cells": [
  {
   "cell_type": "code",
   "execution_count": 3,
   "metadata": {},
   "outputs": [
    {
     "output_type": "stream",
     "name": "stdout",
     "text": "3\n5\n3\n3\n"
    }
   ],
   "source": [
    "class User: \n",
    "    count = 0 \n",
    "\n",
    "    def __init__(self,name, email, pw):\n",
    "        self.name = name\n",
    "        self.email = email\n",
    "        self.pw = pw\n",
    "    \n",
    "        User.count += 1\n",
    "\n",
    "user1 = User('강영훈', 'younghoon@codeit.kr', '123456')\n",
    "user2 = User('이윤수', 'yoonsoo@codeit.kr', '3232324')\n",
    "user3 = User('서혜린', 'haelin@codeit.kr', '5545454')\n",
    "\n",
    "\n",
    "user1.count = 5 \n",
    "# 인스턴스에 속성값을 추가한 것임\n",
    "# 즉 클래스변수와 같은 이름인 속성count 인스턴스 변수 속성 count가 있으면 인스턴스가 먼저 우선권을 얻어서 호출된거임. \n",
    "print(User.count)\n",
    "print(user1.count)\n",
    "print(user2.count)\n",
    "print(user3.count)"
   ]
  },
  {
   "cell_type": "code",
   "execution_count": 5,
   "metadata": {},
   "outputs": [
    {
     "output_type": "stream",
     "name": "stdout",
     "text": "6\n6\n6\n6\n"
    }
   ],
   "source": [
    "class User: \n",
    "    count = 0 \n",
    "\n",
    "    def __init__(self,name, email, pw):\n",
    "        self.name = name\n",
    "        self.email = email\n",
    "        self.pw = pw\n",
    "    \n",
    "        User.count += 1\n",
    "\n",
    "user1 = User('강영훈', 'younghoon@codeit.kr', '123456')\n",
    "user2 = User('이윤수', 'yoonsoo@codeit.kr', '3232324')\n",
    "user3 = User('서혜린', 'haelin@codeit.kr', '5545454')\n",
    "\n",
    "#상황1 아래 인스턴스를 만들었을 경우! \n",
    "# user3 = User('서혜린', 'haelin@codeit.kr', '5545454')\n",
    "User.count = 5 \n",
    "# 모든 변수의 클래스 변수 속성 count를 5로 줘버렸음.\n",
    "# 상황 1,2를 활성화 비활성화 모두 3번의 경우를 적용해서 확인할것\n",
    "\n",
    "#상황2 아래 인스턴스를 만들었을 경우! \n",
    "user3 = User('서혜린', 'haelin@codeit.kr', '5545454')\n",
    "\n",
    "\n",
    "\n",
    "print(User.count)\n",
    "print(user1.count)\n",
    "print(user2.count)\n",
    "print(user3.count)"
   ]
  }
 ],
 "metadata": {
  "language_info": {
   "codemirror_mode": {
    "name": "ipython",
    "version": 3
   },
   "file_extension": ".py",
   "mimetype": "text/x-python",
   "name": "python",
   "nbconvert_exporter": "python",
   "pygments_lexer": "ipython3",
   "version": "3.8.1-final"
  },
  "orig_nbformat": 2,
  "kernelspec": {
   "name": "python38164bitpytorchcondae2e836418e8f4945879c9669572061e2",
   "display_name": "Python 3.8.1 64-bit ('pytorch': conda)"
  }
 },
 "nbformat": 4,
 "nbformat_minor": 2
}