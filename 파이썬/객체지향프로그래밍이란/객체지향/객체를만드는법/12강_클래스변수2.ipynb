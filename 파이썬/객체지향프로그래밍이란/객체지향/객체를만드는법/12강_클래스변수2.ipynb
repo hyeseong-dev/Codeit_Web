{
 "nbformat": 4,
 "nbformat_minor": 2,
 "metadata": {
  "language_info": {
   "name": "python",
   "codemirror_mode": {
    "name": "ipython",
    "version": 3
   },
   "version": "3.8.1-final"
  },
  "orig_nbformat": 2,
  "file_extension": ".py",
  "mimetype": "text/x-python",
  "name": "python",
  "npconvert_exporter": "python",
  "pygments_lexer": "ipython3",
  "version": 3,
  "kernelspec": {
   "name": "python38164bitpytorchcondae2e836418e8f4945879c9669572061e2",
   "display_name": "Python 3.8.1 64-bit ('pytorch': conda)"
  }
 },
 "cells": [
  {
   "cell_type": "code",
   "execution_count": 3,
   "metadata": {},
   "outputs": [
    {
     "output_type": "stream",
     "name": "stdout",
     "text": "4/n4/n4/n4/n"
    }
   ],
   "source": [
    "class User:/n",
    "    count = 0/n",
    "/n",
    "    def __init__(self,name, email, pw):/n",
    "        # 유저 인스턴스의 모든 변수를 지정해주는 메소드 /n",
    "        self.name = name/n",
    "        self.email = email/n",
    "        self.pw = pw/n",
    "        User.count +=1 # <- init메소드 안에 정의된 이놈때문에 인스턴스가 생성 될때마다 count가 증가한다. /n",
    "/n",
    "user1 = User(/"Young/", /"young@codeit.kr/", /"123456/")/n",
    "user2 = User(/"Yoonsoo/", /"yoonsoo@codeit.kr/", /"abcdef/")/n",
    "user3 = User(/"Taeho/", /"taeho@codeit.kr/", /"123abc/")/n",
    "user4 = User(/"Lisa/", /"lisa@codeit.kr/", /"abc123/")/n",
    "/n",
    "print(User.count) #인스턴스 user1~user4까지 4개 생성되어서 /n",
    "#count라는 클래스 변수에 값이 4로 되었다. (init메소드안의 User.count +=1 때문에 )/n",
    "/n",
    "print(user1.count)/n",
    "print(user2.count)/n",
    "print(user3.count)/n",
    "# 인스턴스 마다 값이 모두 공유되어 동일한 것을 알수 있습니다."
   ]
  },
  {
   "cell_type": "code",
   "execution_count": null,
   "metadata": {},
   "outputs": [],
   "source": []
  },
  {
   "cell_type": "code",
   "execution_count": 9,
   "metadata": {},
   "outputs": [
    {
     "output_type": "stream",
     "name": "stdout",
     "text": "4/n5/n01058974859/n['__class__', '__delattr__', '__dict__', '__dir__', '__doc__', '__eq__', '__format__', '__ge__', '__getattribute__', '__gt__', '__hash__', '__init__', '__init_subclass__', '__le__', '__lt__', '__module__', '__ne__', '__new__', '__reduce__', '__reduce_ex__', '__repr__', '__setattr__', '__sizeof__', '__str__', '__subclasshook__', '__weakref__', 'count', 'email', 'name', 'phone_number', 'pw']/n4/n4/n"
    }
   ],
   "source": [
    "class User:/n",
    "    count = 0/n",
    "/n",
    "    def __init__(self,name, email, pw):/n",
    "        # 유저 인스턴스의 모든 변수를 지정해주는 메소드 /n",
    "        self.name = name/n",
    "        self.email = email/n",
    "        self.pw = pw/n",
    "        User.count +=1 # <- init메소드 안에 정의된 이놈때문에 인스턴스가 생성 될때마다 count가 증가한다. /n",
    "/n",
    "user1 = User(/"Young/", /"young@codeit.kr/", /"123456/")/n",
    "user2 = User(/"Yoonsoo/", /"yoonsoo@codeit.kr/", /"abcdef/")/n",
    "user3 = User(/"Taeho/", /"taeho@codeit.kr/", /"123abc/")/n",
    "user4 = User(/"Lisa/", /"lisa@codeit.kr/", /"abc123/")/n",
    "/n",
    "print(User.count) #인스턴스 user1~user4까지 4개 생성되어서 /n",
    "#count라는 클래스 변수에 값이 4로 되었다. (init메소드안의 User.count +=1 때문에 )/n",
    "/n",
    "user1.count = 5 # 이방법은 사실 인스턴스 변수를 설정할때 쓰는 방법임/n",
    "user1.phone_number = '01058974859'/n",
    "/n",
    "print(user1.count) # user1의 인스턴스만!! 값이 다르네요.(즉 공유되지않고 따로논다는 걸 알수 있습니다.)/n",
    "print(user1.phone_number)/n",
    "print(dir(user1)) # 인스턴스가 갖고 있는 속성과 메소드들을 볼 수 있다./n",
    "print(user2.count)/n",
    "print(user3.count)"
   ]
  },
  {
   "cell_type": "markdown",
   "metadata": {},
   "source": [
    "## 1. 한 클래스의 모든 인스턴스가 공유하는 속성?!/n",
    "# -> 클래스 변수/n"
   ]
  },
  {
   "cell_type": "markdown",
   "metadata": {},
   "source": [
    "/n",
    "## 2. 클래스 변수의 값 읽는 법?/n",
    "# -> 클래스이름.클래스변수이름"
   ]
  },
  {
   "cell_type": "markdown",
   "metadata": {},
   "source": [
    "## 2. 클래스 변수의 값 설정 법?/n",
    "# -> 클래스이름.클래스변수이름 = 값"
   ]
  },
  {
   "cell_type": "code",
   "execution_count": 10,
   "metadata": {},
   "outputs": [
    {
     "output_type": "stream",
     "name": "stdout",
     "text": "4/n4/n4/n4/n"
    }
   ],
   "source": [
    "class User:/n",
    "    count = 0/n",
    "/n",
    "    def __init__(self,name, email, pw):/n",
    "        # 유저 인스턴스의 모든 변수를 지정해주는 메소드 /n",
    "        self.name = name/n",
    "        self.email = email/n",
    "        self.pw = pw/n",
    "        User.count +=1 # <- init메소드 안에 정의된 이놈때문에 인스턴스가 생성 될때마다 count가 증가한다. /n",
    "/n",
    "user1 = User(/"Young/", /"young@codeit.kr/", /"123456/")/n",
    "user2 = User(/"Yoonsoo/", /"yoonsoo@codeit.kr/", /"abcdef/")/n",
    "user3 = User(/"Taeho/", /"taeho@codeit.kr/", /"123abc/")/n",
    "user4 = User(/"Lisa/", /"lisa@codeit.kr/", /"abc123/")/n",
    "/n",
    "print(User.count) #인스턴스 user1~user4까지 4개 생성되어서 /n",
    "#count라는 클래스 변수에 값이 4로 되었다. (init메소드안의 User.count +=1 때문에 )/n",
    "/n",
    "# user1.count = 5 # 이방법은 사실 인스턴스 변수를 설정할때 쓰는 방법임/n",
    "/n",
    "print(user1.count)/n",
    "print(user2.count)/n",
    "print(user3.count)"
   ]
  }
 ]
}