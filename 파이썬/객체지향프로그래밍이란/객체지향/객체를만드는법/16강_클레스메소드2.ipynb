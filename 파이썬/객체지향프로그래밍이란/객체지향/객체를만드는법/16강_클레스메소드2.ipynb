{
 "nbformat": 4,
 "nbformat_minor": 2,
 "metadata": {
  "language_info": {
   "name": "python",
   "codemirror_mode": {
    "name": "ipython",
    "version": 3
   },
   "version": "3.8.1-final"
  },
  "orig_nbformat": 2,
  "file_extension": ".py",
  "mimetype": "text/x-python",
  "name": "python",
  "npconvert_exporter": "python",
  "pygments_lexer": "ipython3",
  "version": 3,
  "kernelspec": {
   "name": "python38164bitpytorchcondae2e836418e8f4945879c9669572061e2",
   "display_name": "Python 3.8.1 64-bit ('pytorch': conda)"
  }
 },
 "cells": [
  {
   "cell_type": "code",
   "execution_count": 1,
   "metadata": {},
   "outputs": [
    {
     "output_type": "stream",
     "name": "stdout",
     "text": "총 유저 수는: 3입니다.\n총 유저 수는: 3입니다.\n"
    }
   ],
   "source": [
    "class User:\n",
    "    count = 0 \n",
    "\n",
    "    def __init__(self, name, email, pw):\n",
    "        self.name = name\n",
    "        self.email = email\n",
    "        self.pw =  pw\n",
    "\n",
    "        User.count += 1\n",
    "\n",
    "    def say_hllo(self):\n",
    "        print('hello. I\\'m {}'.format(self.name))\n",
    "    \n",
    "    def __str__(self):\n",
    "        return '사용자: {}, 이메일, 비밀번호:****'.format(self.name,self.email)\n",
    "    \n",
    "    # @classmethod #데코레이터 \n",
    "    # def number_of_users(cls,para): # 다른 단어 가능(O) but, cls는 약속\n",
    "    #    print('총 유저 수: {},{}'.format(cls.count,para))  # 여기서 cls.count == User.count임!!!\n",
    "\n",
    "\n",
    "user1 = User('강영훈','younghoon@code.kr','12345')\n",
    "user2 = User('이윤수','yoonsoo@codeit.kr','1q2w3e4r')\n",
    "user3 = User('d','d','d')\n",
    "\n",
    "User.number_of_users(user1)\n",
    "user1.number_of_users()"
   ]
  },
  {
   "cell_type": "markdown",
   "metadata": {},
   "source": [
    "## 클래스 메소드를 사용할때?\n",
    "\n",
    "인스턴스 변수 사용 -> 인스턴스 메소드   \n",
    "클래스 변수 사용 -> 클래스 메소드"
   ]
  },
  {
   "cell_type": "markdown",
   "metadata": {},
   "source": [
    "## Q. 클래스변수와 인스턴스 변수 둘 다 쓴다면?\n",
    "\n",
    "A. 인스턴스 메소드!   \n",
    " -> 인스턴스 변수, 클래스 변수 모두 사용 가능.\n",
    "\n",
    " but 클래스 메소드는 -> 클래스 변수(O), 인스턴스 변수(X)"
   ]
  },
  {
   "cell_type": "markdown",
   "metadata": {},
   "source": [
    "## 인스턴스 없이도 필요한 정보가 있다면?\n",
    "\n",
    "A. 클래스 메소드 number_of_users   \n",
    "User.count -> 인스턴스가 하나도 없더라도 필요!"
   ]
  },
  {
   "cell_type": "code",
   "execution_count": 7,
   "metadata": {},
   "outputs": [
    {
     "output_type": "stream",
     "name": "stdout",
     "text": "총 유저 수: 0\n"
    }
   ],
   "source": [
    "class User:\n",
    "    count = 0 \n",
    "\n",
    "    # def __init__(self, name, email, pw):\n",
    "    #     self.name = name\n",
    "    #     self.email = email\n",
    "    #     self.pw =  pw\n",
    "\n",
    "    #     User.count += 1\n",
    "\n",
    "    # def say_hllo(self):\n",
    "    #     print('hello. I\\'m {}'.format(self.name))\n",
    "    \n",
    "    # def __str__(self):\n",
    "    #     return '사용자: {}, 이메일:{}, 비밀번호:****'.format(self.name,self.email)\n",
    "    \n",
    "    @classmethod #데코레이터 \n",
    "    def number_of_users(cls): # 다른 단어 가능(O) but, cls는 약속\n",
    "       print('총 유저 수: {}'.format(cls.count))  # 여기서 cls.count == User.count임!!!\n",
    "\n",
    "\n",
    "User.number_of_users()"
   ]
  }
 ]
}