{
 "nbformat": 4,
 "nbformat_minor": 2,
 "metadata": {
  "language_info": {
   "name": "python",
   "codemirror_mode": {
    "name": "ipython",
    "version": 3
   }
  },
  "orig_nbformat": 2,
  "file_extension": ".py",
  "mimetype": "text/x-python",
  "name": "python",
  "npconvert_exporter": "python",
  "pygments_lexer": "ipython3",
  "version": 3
 },
 "cells": [
  {
   "cell_type": "markdown",
   "metadata": {},
   "source": [
    "## 질문1/n",
    "다음 중 옳은 내용을 고르시오.   /n",
    "1. 인스턴스 변수는 __init__메소드에서 설정해주는 것이 좋다.    /n",
    "2. 클래스 변수는 인스턴스를 통해 접근해서 값을 바꾸면 된다.   /n",
    "3. 모든 인스턴스들이 같은 값을 공유해야하는 속성은 인스턴스 변수에 저장한다.    /n",
    "4. 모든 인스턴스 변수의 값이 같으면 둘은 같은 인스턴스이다.    /n",
    "5. 클래스 변수는 클래스를 통해서만 접근할 수 있다.   "
   ]
  },
  {
   "cell_type": "markdown",
   "metadata": {},
   "source": [
    "퀴즈 해설  /n",
    "1.(O): 모든 인스턴스 변수를 __init__ 메소드에서 설정해주면 보기 쉬운 코드를 쓸 수 있습니다.  /n",
    "/n",
    "2.(X): 인스턴스를 통해 클래스 변수의 값을 바꾸려고 하면 클래스 변수의 값이 바뀌는 게 아니라 같은 이름의 새로운 인스턴스 변수가 만들어집니다. 따라서 클래스 변수의 값을 바꾸고 싶으면 인스턴스가 아닌 클래스로 접근해서 값을 바꿔야 합니다.  /n",
    "/n",
    "3.(X): 모든 인스턴스들이 같은 값을 공유해야하는 변수라면 클래스 변수로 정의해야 합니다.  /n",
    "/n",
    "4.(X): 모든 인스턴스 변수의 값이 같아도 인스턴스들은 서로 다른 존재일 수도 있습니다.  /n",
    "/n",
    "5.(X): 클래스 변수는 클래스나 인스턴스 2가지 방법을 통해서 접근할 수 있습니다."
   ]
  },
  {
   "cell_type": "markdown",
   "metadata": {},
   "source": []
  },
  {
   "cell_type": "markdown",
   "metadata": {},
   "source": [
    "질문 2/n",
    "다음 중 틀린 것을 고르시오./n",
    "/n",
    "1/n",
    "정적 메소드는 인스턴스 변수나 클래스 변수를 사용하지 않는다./n",
    "/n",
    "2/n",
    "인스턴스 메소드로 작성하는 모든 행동은 클래스 메소드로도 나타낼 수 있다./n",
    "/n",
    "3/n",
    "__init__ 메소드는 따로 호출하지 않아도 인스턴스를 생성할 때 자동으로 호출된다./n",
    "/n",
    "4/n",
    "__str__ 메소드는 인스턴스의 정보를 이해하기 쉬운 문자열로 나타내고 싶을 때 유용하게 사용된다./n",
    "/n",
    "5/n",
    "특수 메소드들은 파이썬에서 미리 지정한 특정 상황에 자동으로 호출되는 메소드이다."
   ]
  },
  {
   "cell_type": "markdown",
   "metadata": {},
   "source": [
    "인스턴스 메소드와 달리 클래스 메소드는 특정 인스턴스에 접근할 수 없습니다. 따라서 인스턴스 메소드에서 할 수 있는 것 중 클래스 메소드에서는 하지 못하는 것들도 있습니다."
   ]
  },
  {
   "cell_type": "code",
   "execution_count": null,
   "metadata": {},
   "outputs": [],
   "source": []
  },
  {
   "cell_type": "code",
   "execution_count": null,
   "metadata": {},
   "outputs": [],
   "source": []
  },
  {
   "cell_type": "markdown",
   "metadata": {},
   "source": [
    "질문 3   /n",
    "클래스 User에/n",
    "/n",
    "인스턴스 메소드 say_hello(파라미터 : self)/n",
    "클래스 메소드 number_of_users(파라미터: cls)/n",
    "정적 메소드 is_valid_email(파라미터 : email_address)가 있고, 그 인스턴스인 user1이 있을 때, 다음 중 에러를 일으키는 코드를 고르시오./n",
    "/n",
    "1/n",
    "User.say_hello(user1)/n",
    "/n",
    "2/n",
    "user1.say_hello()/n",
    "/n",
    "3/n",
    "User.number_of_users()/n",
    "/n",
    "4/n",
    "user1.number_of_users(User)/n",
    "/n",
    "5/n",
    "user1.is_valid_email(/"taehosung@codeit.kr/")"
   ]
  },
  {
   "cell_type": "markdown",
   "metadata": {},
   "source": [
    "퀴즈 해설/n",
    "클래스 메소드는 어떤 방식으로 호출하든 첫번째 파라미터로 그 클래스가 넘어갑니다. number_of_users는 파라미터가 한 개만 필요한데, 보기 4에서는 자동 전달되는 User 클래스와 직접 전달한 User 클래스까지 총 두 개의 파라미터가 넘어가기 때문에 에러가 발생합니다."
   ]
  },
  {
   "cell_type": "code",
   "execution_count": null,
   "metadata": {},
   "outputs": [],
   "source": []
  },
  {
   "cell_type": "code",
   "execution_count": null,
   "metadata": {},
   "outputs": [],
   "source": []
  },
  {
   "cell_type": "code",
   "execution_count": null,
   "metadata": {},
   "outputs": [],
   "source": []
  },
  {
   "cell_type": "code",
   "execution_count": null,
   "metadata": {},
   "outputs": [],
   "source": []
  },
  {
   "cell_type": "code",
   "execution_count": null,
   "metadata": {},
   "outputs": [],
   "source": []
  }
 ]
}