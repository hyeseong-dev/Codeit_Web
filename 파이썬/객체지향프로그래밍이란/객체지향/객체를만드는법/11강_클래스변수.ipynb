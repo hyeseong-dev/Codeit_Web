{
 "nbformat": 4,
 "nbformat_minor": 2,
 "metadata": {
  "language_info": {
   "name": "python",
   "codemirror_mode": {
    "name": "ipython",
    "version": 3
   },
   "version": "3.8.1-final"
  },
  "orig_nbformat": 2,
  "file_extension": ".py",
  "mimetype": "text/x-python",
  "name": "python",
  "npconvert_exporter": "python",
  "pygments_lexer": "ipython3",
  "version": 3,
  "kernelspec": {
   "name": "python38164bitpytorchcondae2e836418e8f4945879c9669572061e2",
   "display_name": "Python 3.8.1 64-bit ('pytorch': conda)"
  }
 },
 "cells": [
  {
   "cell_type": "markdown",
   "metadata": {},
   "source": [
    "## 인스턴스 변수 \n",
    "-> 인스턴스 자신만의 속성"
   ]
  },
  {
   "cell_type": "markdown",
   "metadata": {},
   "source": [
    "## 여러 인스턴스들이 공유하는 속성?!"
   ]
  },
  {
   "cell_type": "markdown",
   "metadata": {},
   "source": [
    "class User: #<--공유하는 속성을 만들고 싶다면?!\n",
    "\n",
    "    count = 3\n",
    "\n",
    "user1 = User()   # 각각의 인스턴스들이 count라는 속성을 가지기원함\n",
    "user2 = User()   # 각각의 인스턴스들이 count라는 속성을 가지기원함\n",
    "user3 = User()   # 각각의 인스턴스들이 count라는 속성을 가지기원함\n",
    "\n",
    "# 이때 우리는 클래스 변수!라고 함\n"
   ]
  },
  {
   "cell_type": "code",
   "execution_count": 3,
   "metadata": {},
   "outputs": [
    {
     "output_type": "stream",
     "name": "stdout",
     "text": "1\n"
    }
   ],
   "source": [
    "class User:\n",
    "    count = 0\n",
    "    def __init__(self,name, email, pw):\n",
    "        # 유저 인스턴스의 모든 변수를 지정해주는 메소드 \n",
    "        self.name = name\n",
    "        self.email = email\n",
    "        self.pw = pw\n",
    "User.count = 1\n",
    "print(User.count)"
   ]
  },
  {
   "cell_type": "code",
   "execution_count": null,
   "metadata": {},
   "outputs": [],
   "source": []
  },
  {
   "cell_type": "markdown",
   "metadata": {},
   "source": [
    "### 클래스 변수 count가 유저 인스턴스 개수를 정확히 나타내도록 하려면?\n",
    "\n",
    "init메소드 안에서 클래스변수를 1씩 증가 시켜주어야합니다."
   ]
  },
  {
   "cell_type": "code",
   "execution_count": 4,
   "metadata": {},
   "outputs": [
    {
     "output_type": "stream",
     "name": "stdout",
     "text": "4\n"
    }
   ],
   "source": [
    "class User:\n",
    "    count = 0\n",
    "    def __init__(self,name, email, pw):\n",
    "        # 유저 인스턴스의 모든 변수를 지정해주는 메소드 \n",
    "        self.name = name\n",
    "        self.email = email\n",
    "        self.pw = pw\n",
    "        User.count +=1 # <- init메소드 안에 정의된 이놈때문에 인스턴스가 생성 될때마다 count가 증가한다. \n",
    "\n",
    "user1 = User(\"Young\", \"young@codeit.kr\", \"123456\")\n",
    "user2 = User(\"Yoonsoo\", \"yoonsoo@codeit.kr\", \"abcdef\")\n",
    "user3 = User(\"Taeho\", \"taeho@codeit.kr\", \"123abc\")\n",
    "user4 = User(\"Lisa\", \"lisa@codeit.kr\", \"abc123\")\n",
    "\n",
    "print(User.count) #인스턴스 user1~user4까지 4개 생성되어서 \n",
    "#count라는 클래스 변수에 값이 4로 되었다. (init메소드안의 User.count +=1 때문에 )\n"
   ]
  },
  {
   "cell_type": "code",
   "execution_count": 10,
   "metadata": {},
   "outputs": [
    {
     "output_type": "stream",
     "name": "stdout",
     "text": "2\n"
    }
   ],
   "source": [
    "class Person:\n",
    "    count = 0\n",
    "    def __init__(self, name):\n",
    "        self.name = name\n",
    "        self.count_person()\n",
    "    \n",
    "    @classmethod            #1번 방식\n",
    "    def count_person(cls):\n",
    "        cls.count += 1\n",
    "\n",
    "#    count_person = classmethod(count_person) 2번방식, 1번,2번 동시(X)\n",
    "\n",
    "peter = Person(\"Peter\")\n",
    "jack = Person(\"Jack\")\n",
    "\n",
    "print(Person.count)"
   ]
  }
 ]
}