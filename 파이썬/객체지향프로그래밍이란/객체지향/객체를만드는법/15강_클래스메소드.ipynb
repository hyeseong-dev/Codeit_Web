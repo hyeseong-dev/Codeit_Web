{
 "cells": [
  {
   "cell_type": "code",
   "execution_count": 7,
   "metadata": {},
   "outputs": [
    {
     "output_type": "stream",
     "name": "stdout",
     "text": "총 유저 수: 3\n총 유저 수: 3\n"
    }
   ],
   "source": [
    "class User:\n",
    "    count = 0 \n",
    "\n",
    "    def __init__(self, name, email, pw):\n",
    "        self.name = name\n",
    "        self.email = email\n",
    "        self.pw =  pw\n",
    "\n",
    "        User.count += 1\n",
    "\n",
    "    def say_hllo(self):\n",
    "        print('hello. I\\'m {}'.format(self.name))\n",
    "    \n",
    "    def __str__(self):\n",
    "        return f'사용자: {self.name}, 이메일{self.email}, 비밀번호:****'\n",
    "    \n",
    "    @classmethod #데코레이터 \n",
    "    def number_of_users(cls): # 다른 단어 가능(O) but, cls는 약속\n",
    "       print( f'총 유저 수: {cls.count}')  # 여기서 cls.count == User.count임!!!\n",
    "\n",
    "user1 = User('강영훈','younghoon@code.kr','12345')\n",
    "user2 = User('이윤수','yoonsoo@codeit.kr','1q2w3e4r')\n",
    "user3 = User('이윤수','yoonsoo@codeit.kr','1q2w3e4r')\n",
    "\n",
    "User.number_of_users()\n",
    "user1.number_of_users()\n",
    "# user3.number_of_users('반가워')"
   ]
  },
  {
   "cell_type": "code",
   "execution_count": 11,
   "metadata": {},
   "outputs": [
    {
     "output_type": "stream",
     "name": "stdout",
     "text": "총 유저 수: 3,hello\n총 유저 수: 3,hi\n총 유저 수: 3,반가워\n사용자: 강영훈, 이메일younghoon@code.kr, 비밀번호:****\n"
    }
   ],
   "source": [
    "class User:\n",
    "    count = 0 \n",
    "\n",
    "    def __init__(self, name, email, pw):\n",
    "        self.name = name\n",
    "        self.email = email\n",
    "        self.pw =  pw\n",
    "\n",
    "        User.count += 1\n",
    "\n",
    "    def say_hllo(self):\n",
    "        print('hello. I\\'m {}'.format(self.name))\n",
    "    \n",
    "    def __str__(self):\n",
    "        return '사용자: {}, 이메일{}, 비밀번호:****'.format(self.name,self.email)\n",
    "    \n",
    "    @classmethod #데코레이터 \n",
    "    def number_of_users(cls,para): # 다른 단어 가능(O) but, cls는 약속\n",
    "       print('총 유저 수: {},{}'.format(cls.count,para))  # 여기서 cls.count == User.count임!!!\n",
    "\n",
    "user1 = User('강영훈','younghoon@code.kr','12345')\n",
    "user2 = User('이윤수','yoonsoo@codeit.kr','1q2w3e4r')\n",
    "user3 = User('이윤수','yoonsoo@codeit.kr','1q2w3e4r')\n",
    "\n",
    "User.number_of_users('hello')\n",
    "\n",
    "user1.number_of_users('hi')\n",
    "user3.number_of_users('반가워')\n",
    "print(user1)"
   ]
  },
  {
   "cell_type": "markdown",
   "metadata": {},
   "source": [
    "## 인스턴스 메소드 사용 V.S. 클래스 메소드 사용\n",
    "\n",
    "User.say_hello(user1) VS User.number_of_users()   \n",
    "user1.say_hello()     VS user1.number_of_users()\n"
   ]
  },
  {
   "cell_type": "markdown",
   "metadata": {},
   "source": [
    "클래스 메소드 사용의 경우 첫 번째 파라미터로 클래스 자동전달이 됨!"
   ]
  }
 ],
 "metadata": {
  "language_info": {
   "name": "python",
   "codemirror_mode": {
    "name": "ipython",
    "version": 3
   },
   "version": "3.8.1-final"
  },
  "orig_nbformat": 2,
  "file_extension": ".py",
  "mimetype": "text/x-python",
  "name": "python",
  "npconvert_exporter": "python",
  "pygments_lexer": "ipython3",
  "version": 3,
  "kernelspec": {
   "name": "python38164bitpytorchcondae2e836418e8f4945879c9669572061e2",
   "display_name": "Python 3.8.1 64-bit ('pytorch': conda)"
  }
 },
 "nbformat": 4,
 "nbformat_minor": 2
}