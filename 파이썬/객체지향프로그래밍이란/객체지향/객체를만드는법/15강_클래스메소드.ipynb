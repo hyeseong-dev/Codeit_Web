{
 "nbformat": 4,
 "nbformat_minor": 2,
 "metadata": {
  "language_info": {
   "name": "python",
   "codemirror_mode": {
    "name": "ipython",
    "version": 3
   },
   "version": "3.8.1-final"
  },
  "orig_nbformat": 2,
  "file_extension": ".py",
  "mimetype": "text/x-python",
  "name": "python",
  "npconvert_exporter": "python",
  "pygments_lexer": "ipython3",
  "version": 3,
  "kernelspec": {
   "name": "python38164bitpytorchcondae2e836418e8f4945879c9669572061e2",
   "display_name": "Python 3.8.1 64-bit ('pytorch': conda)"
  }
 },
 "cells": [
  {
   "cell_type": "code",
   "execution_count": 21,
   "metadata": {},
   "outputs": [
    {
     "output_type": "error",
     "ename": "TypeError",
     "evalue": "number_of_users() missing 1 required positional argument: 'para'",
     "traceback": [
      "\u001b[1;31m---------------------------------------------------------------------------\u001b[0m",
      "\u001b[1;31mTypeError\u001b[0m                                 Traceback (most recent call last)",
      "\u001b[1;32m<ipython-input-21-88a184018887>\u001b[0m in \u001b[0;36m<module>\u001b[1;34m\u001b[0m\n\u001b[0;32m     23\u001b[0m \u001b[0muser3\u001b[0m \u001b[1;33m=\u001b[0m \u001b[0mUser\u001b[0m\u001b[1;33m(\u001b[0m\u001b[1;34m'd'\u001b[0m\u001b[1;33m,\u001b[0m\u001b[1;34m'd'\u001b[0m\u001b[1;33m,\u001b[0m\u001b[1;34m'd'\u001b[0m\u001b[1;33m)\u001b[0m\u001b[1;33m\u001b[0m\u001b[1;33m\u001b[0m\u001b[0m\n\u001b[0;32m     24\u001b[0m \u001b[1;33m\u001b[0m\u001b[0m\n\u001b[1;32m---> 25\u001b[1;33m \u001b[0mUser\u001b[0m\u001b[1;33m.\u001b[0m\u001b[0mnumber_of_users\u001b[0m\u001b[1;33m(\u001b[0m\u001b[1;33m)\u001b[0m\u001b[1;33m\u001b[0m\u001b[1;33m\u001b[0m\u001b[0m\n\u001b[0m\u001b[0;32m     26\u001b[0m \u001b[0muser1\u001b[0m\u001b[1;33m.\u001b[0m\u001b[0mnumber_of_users\u001b[0m\u001b[1;33m(\u001b[0m\u001b[1;33m)\u001b[0m\u001b[1;33m\u001b[0m\u001b[1;33m\u001b[0m\u001b[0m\n\u001b[0;32m     27\u001b[0m \u001b[0muser3\u001b[0m\u001b[1;33m.\u001b[0m\u001b[0mnumber_of_users\u001b[0m\u001b[1;33m(\u001b[0m\u001b[1;34m'반가워'\u001b[0m\u001b[1;33m)\u001b[0m\u001b[1;33m\u001b[0m\u001b[1;33m\u001b[0m\u001b[0m\n",
      "\u001b[1;31mTypeError\u001b[0m: number_of_users() missing 1 required positional argument: 'para'"
     ]
    }
   ],
   "source": [
    "class User:\n",
    "    count = 0 \n",
    "\n",
    "    def __init__(self, name, email, pw):\n",
    "        self.name = name\n",
    "        self.email = email\n",
    "        self.pw =  pw\n",
    "\n",
    "        User.count += 1\n",
    "\n",
    "    def say_hllo(self):\n",
    "        print('hello. I\\'m {}'.format(self.name))\n",
    "    \n",
    "    def __str__(self):\n",
    "        return '사용자: {}, 이메일, 비밀번호:****'.format(self.name,self.email)\n",
    "    \n",
    "    @classmethod #데코레이터 \n",
    "    def number_of_users(cls,para): # 다른 단어 가능(O) but, cls는 약속\n",
    "       print('총 유저 수: {},{}'.format(cls.count,para))  # 여기서 cls.count == User.count임!!!\n",
    "\n",
    "user1 = User('강영훈','younghoon@code.kr','12345')\n",
    "user2 = User('이윤수','yoonsoo@codeit.kr','1q2w3e4r')\n",
    "user3 = User('d','d','d')\n",
    "\n",
    "User.number_of_users()\n",
    "user1.number_of_users()\n",
    "user3.number_of_users('반가워')"
   ]
  },
  {
   "cell_type": "markdown",
   "metadata": {},
   "source": [
    "## 인스턴스 메소드 사용 V.S. 클래스 메소드 사용\n",
    "\n",
    "User.say_hello(user1) VS User.number_of_users()   \n",
    "user1.say_hello()     VS user1.number_of_users()\n",
    "\n"
   ]
  },
  {
   "cell_type": "markdown",
   "metadata": {},
   "source": [
    "클래스 메소드 사용의 경우 첫 번째 파라미터로 클래스 자동전달이 됨!"
   ]
  }
 ]
}