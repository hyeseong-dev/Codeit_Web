{
 "nbformat": 4,
 "nbformat_minor": 2,
 "metadata": {
  "language_info": {
   "name": "python",
   "codemirror_mode": {
    "name": "ipython",
    "version": 3
   }
  },
  "orig_nbformat": 2,
  "file_extension": ".py",
  "mimetype": "text/x-python",
  "name": "python",
  "npconvert_exporter": "python",
  "pygments_lexer": "ipython3",
  "version": 3
 },
 "cells": [
  {
   "cell_type": "markdown",
   "metadata": {},
   "source": [
    "파이썬에서는 인스턴스를 메소드를 만들시 첫번째 파라미터에 self라는 단어를 넣어줄것을 권장하고 있습니다."
   ]
  },
  {
   "cell_type": "code",
   "execution_count": null,
   "metadata": {},
   "outputs": [],
   "source": [
    "class User:/n",
    "    def say_hello(self):/n",
    "        #인사 메세지 출력 메소드/n",
    "        print('안녕하세요! 저는{}입니다'.format(some_user.name))/n",
    "/n",
    "    def login(self, my_email, my_password):/n",
    "        # 로그인 메소드/n",
    "        if (self.email == my_email and self.password == my_password):/n",
    "            print('로그인 성공, 환영해요.')/n",
    "            User.say_hello(self)/n",
    "        else:/n",
    "            print('로그인 실패.')/n"
   ]
  }
 ]
}