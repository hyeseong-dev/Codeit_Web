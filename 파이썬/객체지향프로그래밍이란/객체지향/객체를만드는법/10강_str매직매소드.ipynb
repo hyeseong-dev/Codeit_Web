{
 "nbformat": 4,
 "nbformat_minor": 2,
 "metadata": {
  "language_info": {
   "name": "python",
   "codemirror_mode": {
    "name": "ipython",
    "version": 3
   },
   "version": "3.8.1-final"
  },
  "orig_nbformat": 2,
  "file_extension": ".py",
  "mimetype": "text/x-python",
  "name": "python",
  "npconvert_exporter": "python",
  "pygments_lexer": "ipython3",
  "version": 3,
  "kernelspec": {
   "name": "python38164bitpytorchcondae2e836418e8f4945879c9669572061e2",
   "display_name": "Python 3.8.1 64-bit ('pytorch': conda)"
  }
 },
 "cells": [
  {
   "cell_type": "markdown",
   "metadata": {},
   "source": [
    "```\n",
    " __str__\n",
    "double unerbar -> dunder method라고도 합니다.\n",
    "\n",
    "!!! 던더str 메소드는 print메소드를 호출 할 때 자동으로 호출된다.\n",
    "즉, 어떤 인스턴스를 출력하면, __str__메소드의 return값이 출력된다!\n"
   ],
   "execution_count": null,
   "outputs": []
  },
  {
   "cell_type": "code",
   "execution_count": null,
   "metadata": {},
   "outputs": [],
   "source": [
    "class User:\n",
    "    def __init__(self, name, email, pw):\n",
    "        # 유저 인스턴스의 모든 변수를 지정해주는 메소드\n",
    "        self.name= name\n",
    "        self.email= email\n",
    "        self.pw= pw\n",
    "    \n",
    "    def say_hello(self):\n",
    "        print('안녕하세요! 저는 {}입니다.'.format(self.name))\n",
    " \n",
    "    def __repr__(self):\n",
    "        return '사용자: {}, 이메일: {}, 비밀번호: 1234'.format(self.name,self.email)    \n",
    "\n",
    "    def __str__(self):\n",
    "        return '사용자: {}, 이메일: {}, 비밀번호: ******'.format(self.name,self.email)\n",
    "\n",
    "user1 = User('강영훈','younghoon@code.kr','12345')\n",
    "user2 = User('이윤수','yoonsoo@codeit.kr','1q2w3e4r')\n",
    "\n",
    "print(user1)\n",
    "print(user2)"
   ]
  },
  {
   "cell_type": "markdown",
   "metadata": {},
   "source": [
    "#### 인스턴스를 출력할때 우리가 원하는 정보를 출력하기 위해선 \n",
    "던더str 메소드를 정의하면 된다."
   ],
   "execution_count": null,
   "outputs": []
  },
  {
   "cell_type": "markdown",
   "metadata": {},
   "source": [
    "## <던더str> 90%흡사한 던더repr이 존재한다. \n",
    "차이점은    \n",
    "1. 소수점의 경우 str은 간략화하여 몇개 줄인다면 repr은 다보여줌.   \n",
    "   \n",
    "2. class 내에 정의된 순서와 상관없이(둘다 있다면) 던더str이 먼저 실행됨.      \n",
    "<실제 해본결과 2번 True>"
   ],
   "execution_count": null,
   "outputs": []
  },
  {
   "cell_type": "markdown",
   "metadata": {},
   "source": [
    "던더 str 던더나 던더 init 던더 등 매직메소드들은 최상위 클래스인 object 에 이미 정의되어 있다고\n",
    "\n",
    "보시면 될 것 같습니당. 필요에 따라 이 매직메소드들을 오버로드하여 사용을 하게 되는 것이죵"
   ],
   "execution_count": null,
   "outputs": []
  },
  {
   "cell_type": "code",
   "execution_count": null,
   "metadata": {},
   "outputs": [],
   "source": [
    "dir(object)"
   ]
  },
  {
   "cell_type": "markdown",
   "metadata": {},
   "source": [],
   "execution_count": null,
   "outputs": []
  }
 ]
}