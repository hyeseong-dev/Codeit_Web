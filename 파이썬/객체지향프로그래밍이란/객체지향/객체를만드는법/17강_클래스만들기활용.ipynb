{
 "cells": [
  {
   "cell_type": "markdown",
   "metadata": {},
   "source": [
    "# 실습과제  \n",
    "인스턴스를 생성할 때 필요한 정보들이 항상 우리가 원하는 형태로 존재할까요? 우리는 다양한 형태의 정보에서 필요한 부분을 뽑아내서 인스턴스를 생성할 수 있어야 합니다. 예를 들어 유저 인스턴스 생성에 필요한 정보가 문자열일 수도 있고 리스트일 수도 있습니다. 어떻게 각각의 형태에 대응할 수 있을까요? 아래와 같은 User 클래스가 있다고 해보죠."
   ]
  },
  {
   "cell_type": "code",
   "execution_count": 5,
   "metadata": {},
   "outputs": [
    {
     "output_type": "stream",
     "name": "stdout",
     "text": "강영훈 younghoon@codeit.kr 123456\n이윤수 yoonsoo@codeit.kr asbder\n"
    }
   ],
   "source": [
    "class User:\n",
    "\n",
    "    def __init__(self, name, email, password):\n",
    "        self.name = name\n",
    "        self.email = email\n",
    "        self.password = password\n",
    "\n",
    "info_string = '강영훈, younghoon@codeit.kr, 123456'\n",
    "info_list = ['이윤수','yoonsoo@codeit.kr','asbder']\n",
    "\n",
    "parameter_list = info_string.split(', ')\n",
    "\n",
    "# 각 변수에 분리된 문자열 각각 저장\n",
    "younghoon_name = parameter_list[0]\n",
    "younghoon_email = parameter_list[1]\n",
    "younghoon_password = parameter_list[2]\n",
    "\n",
    "younghoon = User(younghoon_name, younghoon_email, younghoon_password)\n",
    "\n",
    "yoonsoo_name = info_list[0]\n",
    "yoonsoo_email = info_list[1]\n",
    "yoonsoo_password = info_list[2]\n",
    "\n",
    "yoonsoo = User(yoonsoo_name, yoonsoo_email, yoonsoo_password)\n",
    "\n",
    "print(younghoon.name, younghoon.email, younghoon.password)\n",
    "print(yoonsoo.name, yoonsoo.email, yoonsoo.password)"
   ]
  },
  {
   "cell_type": "code",
   "execution_count": null,
   "metadata": {},
   "outputs": [],
   "source": []
  },
  {
   "cell_type": "code",
   "execution_count": 14,
   "metadata": {},
   "outputs": [
    {
     "output_type": "stream",
     "name": "stdout",
     "text": "강영훈 younghoon@codeit.kr 123456\n이윤수 yoonsoo@codeit.kr abcdef\n"
    }
   ],
   "source": [
    "class User:\n",
    "\n",
    "    def __init__(self, name, email, password):\n",
    "        self.name = name\n",
    "        self.email = email\n",
    "        self.password = password\n",
    "\n",
    "    @classmethod\n",
    "    def from_string(cls, string_params):\n",
    "        param_list = string_params.split(',')\n",
    "\n",
    "        name = param_list[0]\n",
    "        email = param_list[1]\n",
    "        password = param_list[2]\n",
    "\n",
    "        return cls(name, email, password)\n",
    "    @classmethod\n",
    "    def from_list(cls, list_params):\n",
    "        param_list = list_params\n",
    "        name = param_list[0]\n",
    "        email = param_list[1]\n",
    "        password = param_list[2]\n",
    "\n",
    "        return cls(name, email, password)                \n",
    "\n",
    "# 유저 생성 및 초기값 설정\n",
    "younghoon = User.from_string(\"강영훈,younghoon@codeit.kr,123456\")\n",
    "yoonsoo = User.from_list([\"이윤수\", \"yoonsoo@codeit.kr\", \"abcdef\"])\n",
    "\n",
    "print(younghoon.name, younghoon.email, younghoon.password)\n",
    "print(yoonsoo.name, yoonsoo.email, yoonsoo.password)"
   ]
  },
  {
   "cell_type": "code",
   "execution_count": null,
   "metadata": {},
   "outputs": [],
   "source": []
  },
  {
   "cell_type": "code",
   "execution_count": 16,
   "metadata": {},
   "outputs": [
    {
     "output_type": "stream",
     "name": "stdout",
     "text": "강영훈 younghoon@codeit.kr 123456\n이윤수 yoonsoo@codeit.kr abcdef\n"
    }
   ],
   "source": [
    "class User:\n",
    "\n",
    "    def __init__(self, name, email, password):\n",
    "        self.name = name\n",
    "        self.email = email\n",
    "        self.password = password\n",
    "\n",
    "\n",
    "    @classmethod\n",
    "    def from_string(cls, string_params):\n",
    "        param_list = string_params.split(',')\n",
    "        return User(param_list[0], param_list[1], param_list[2]) #User ==cls \n",
    "\n",
    "\n",
    "    @classmethod\n",
    "    def from_list(cls, list_params):\n",
    "        return User(list_params[0], list_params[1], list_params[2])                \n",
    "\n",
    "# 유저 생성 및 초기값 설정\n",
    "younghoon = User.from_string(\"강영훈,younghoon@codeit.kr,123456\")\n",
    "yoonsoo = User.from_list([\"이윤수\", \"yoonsoo@codeit.kr\", \"abcdef\"])\n",
    "\n",
    "print(younghoon.name, younghoon.email, younghoon.password)\n",
    "print(yoonsoo.name, yoonsoo.email, yoonsoo.password)"
   ]
  },
  {
   "cell_type": "code",
   "execution_count": null,
   "metadata": {},
   "outputs": [],
   "source": []
  }
 ],
 "metadata": {
  "language_info": {
   "codemirror_mode": {
    "name": "ipython",
    "version": 3
   },
   "file_extension": ".py",
   "mimetype": "text/x-python",
   "name": "python",
   "nbconvert_exporter": "python",
   "pygments_lexer": "ipython3",
   "version": "3.8.1-final"
  },
  "orig_nbformat": 2,
  "kernelspec": {
   "name": "python38164bitpytorchcondae2e836418e8f4945879c9669572061e2",
   "display_name": "Python 3.8.1 64-bit ('pytorch': conda)"
  }
 },
 "nbformat": 4,
 "nbformat_minor": 2
}