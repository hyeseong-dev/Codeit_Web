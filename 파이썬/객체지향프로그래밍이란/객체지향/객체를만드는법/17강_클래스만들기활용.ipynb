{
 "nbformat": 4,
 "nbformat_minor": 2,
 "metadata": {
  "language_info": {
   "name": "python",
   "codemirror_mode": {
    "name": "ipython",
    "version": 3
   },
   "version": "3.8.1-final"
  },
  "orig_nbformat": 2,
  "file_extension": ".py",
  "mimetype": "text/x-python",
  "name": "python",
  "npconvert_exporter": "python",
  "pygments_lexer": "ipython3",
  "version": 3,
  "kernelspec": {
   "name": "python38164bitpytorchcondae2e836418e8f4945879c9669572061e2",
   "display_name": "Python 3.8.1 64-bit ('pytorch': conda)"
  }
 },
 "cells": [
  {
   "cell_type": "markdown",
   "metadata": {},
   "source": [
    "실습과제\n",
    "\n",
    "인스턴스를 생성할 때 필요한 정보들이 항상 우리가 원하는 형태로 존재할까요? 우리는 다양한 형태의 정보에서 필요한 부분을 뽑아내서 인스턴스를 생성할 수 있어야 합니다. 예를 들어 유저 인스턴스 생성에 필요한 정보가 문자열일 수도 있고 리스트일 수도 있습니다. 어떻게 각각의 형태에 대응할 수 있을까요? 아래와 같은 User 클래스가 있다고 해보죠."
   ]
  },
  {
   "cell_type": "code",
   "execution_count": 28,
   "metadata": {},
   "outputs": [],
   "source": [
    "class User:\n",
    "\n",
    "    def __init__(self, name, email, password):\n",
    "        self.name = name\n",
    "        self.email = email\n",
    "        self.password = password\n",
    "    \n",
    "    @classmethod\n",
    "    def from_string(cls, string_params):\n",
    "        cls.param_list = string_params.split(',')\n",
    "\n",
    "        name = cls.param_list[0]\n",
    "        email = cls.param_list[1]\n",
    "        password = cls.param_list[2]\n",
    "\n",
    "        return cls(name, email, password)\n",
    "    @classmethod\n",
    "    def from_list(cls, list_params):\n",
    "        name = cls.param_list[0]\n",
    "        email = cls.param_list[1]\n",
    "        password = cls.param_list[2]\n",
    "\n",
    "        return cls(name, email, password)"
   ]
  },
  {
   "cell_type": "code",
   "execution_count": 30,
   "metadata": {},
   "outputs": [],
   "source": [
    "info_string = \"강영훈,younghoon@codeit.kr,123456\"\n",
    "info_list = [\"이윤수\", \"yoonsoo@codeit.kr\", \"abcdef\"]"
   ]
  },
  {
   "cell_type": "markdown",
   "metadata": {},
   "source": [
    "1. 문자열은 쉼표(,)를 기준으로 분리하면 되겠고\n",
    "2. 리스트는 각 인덱스의 요소를 가져오면 되겠죠?\n",
    "\n",
    "아래 코드를 볼까요?"
   ]
  },
  {
   "cell_type": "code",
   "execution_count": 31,
   "metadata": {},
   "outputs": [
    {
     "output_type": "stream",
     "name": "stdout",
     "text": "강영훈 younghoon@codeit.kr 123456\n이윤수 yoonsoo@codeit.kr abcdef\n"
    }
   ],
   "source": [
    "# 유저 인스턴스 만들기 (1): 문자열로 인스턴스 만들기\n",
    "# parameter_list = info_string.split(\",\") # split 메소드를 사용해서 쉼표(,)를 기준으로 문자열을 리스트로 분리한다\n",
    "\n",
    "# 각 변수에 분리된 문자열 각각 저장\n",
    "# younghoon_name = parameter_list[0]\n",
    "# younghoon_email = parameter_list[1]\n",
    "# younghoon_password = parameter_list[2]\n",
    "\n",
    "# younghoon = User(younghoon_name, younghoon_email, younghoon_password)\n",
    "\n",
    "# 유저 인스턴스 만들기 (2): 리스트로 인스턴스 만들기\n",
    "# yoonsoo_name = info_list[0]\n",
    "# yoonsoo_email = info_list[1]\n",
    "# yoonsoo_password = info_list[2]\n",
    "\n",
    "# yoonsoo = User(yoonsoo_name, yoonsoo_email, yoonsoo_password)\n",
    "\n",
    "# 인스턴스가 제대로 생성되었는지 확인\n",
    "print(younghoon.name, younghoon.email, younghoon.password)\n",
    "print(yoonsoo.name, yoonsoo.email, yoonsoo.password)"
   ]
  },
  {
   "cell_type": "markdown",
   "metadata": {},
   "source": [
    "잘 출력되네요, 이번 과제처럼 인스턴스를 생성하는 클래스 메소드를 클래스 속에 작성하는 것은 실제로 개발자들이 자주 사용하는 방식입니다. 깔끔한 코드로 인스턴스를 생성할 수 있는 방식이니까 기억해두세요."
   ]
  },
  {
   "cell_type": "code",
   "execution_count": 54,
   "metadata": {},
   "outputs": [
    {
     "output_type": "stream",
     "name": "stdout",
     "text": "강영훈 younghoon@codeit.kr 123456\n이윤수 yoonsoo@codeit.kr abcdef\n"
    }
   ],
   "source": [
    "class User:\n",
    "\n",
    "    def __init__(self, name, email, password):\n",
    "        self.name = name\n",
    "        self.email = email\n",
    "        self.password = password\n",
    "\n",
    "    @classmethod\n",
    "    def from_string(cls, string_params):\n",
    "        param_list = string_params.split(',')\n",
    "\n",
    "        name = param_list[0]\n",
    "        email = param_list[1]\n",
    "        password = param_list[2]\n",
    "\n",
    "        return cls(name, email, password)\n",
    "    @classmethod\n",
    "    def from_list(cls, list_params):\n",
    "        cls.param_list = list_params\n",
    "        name = cls.param_list[0]\n",
    "        email = cls.param_list[1]\n",
    "        password = cls.param_list[2]\n",
    "\n",
    "        return cls(name, email, password)              \n",
    "\n",
    "# 유저 생성 및 초기값 설정\n",
    "younghoon = User.from_string(\"강영훈,younghoon@codeit.kr,123456\")\n",
    "yoonsoo = User.from_list([\"이윤수\", \"yoonsoo@codeit.kr\", \"abcdef\"])\n",
    "\n",
    "print(younghoon.name, younghoon.email, younghoon.password)\n",
    "print(yoonsoo.name, yoonsoo.email, yoonsoo.password)"
   ]
  },
  {
   "cell_type": "code",
   "execution_count": 56,
   "metadata": {},
   "outputs": [
    {
     "output_type": "stream",
     "name": "stdout",
     "text": "강영훈 younghoon@codeit.kr 123456\n이윤수 yoonsoo@codeit.kr abcdef\n"
    }
   ],
   "source": [
    "# 다른 코드 작성 방법\n",
    "class User:\n",
    "\n",
    "    def __init__(self, name, email, password):\n",
    "        self.name = name\n",
    "        self.email = email\n",
    "        self.password = password\n",
    "\n",
    "    @classmethod\n",
    "    def from_string(cls, string_params):\n",
    "        param_list = string_params.split(',')\n",
    "        return cls(param_list[0],param_list[1],param_list[2]) # cls() -> User()로 바꿔도 됨\n",
    "\n",
    "    @classmethod\n",
    "    def from_list(cls, list_params):\n",
    "        param_list = list_params\n",
    "        return cls(param_list[0],param_list[1],param_list[2]) # cls() -> User()로 바꿔도 됨\n",
    "\n",
    "# 유저 생성 및 초기값 설정\n",
    "younghoon = User.from_string(\"강영훈,younghoon@codeit.kr,123456\")\n",
    "yoonsoo = User.from_list([\"이윤수\", \"yoonsoo@codeit.kr\", \"abcdef\"])\n",
    "\n",
    "print(younghoon.name, younghoon.email, younghoon.password)\n",
    "print(yoonsoo.name, yoonsoo.email, yoonsoo.password)"
   ]
  },
  {
   "cell_type": "code",
   "execution_count": null,
   "metadata": {},
   "outputs": [],
   "source": []
  }
 ]
}