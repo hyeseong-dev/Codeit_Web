{
 "cells": [
  {
   "cell_type": "markdown",
   "metadata": {},
   "source": [
    "이때까지 \n",
    "\n",
    " - [인스턴스 메소드]\n",
    " - [클래스 메소드]\n",
    "를 배웠습니다. 메소드의 종류는 총 3가지라고 했조? 아직 하나가 더 있습니다.  \n",
    "\n",
    "바로 정적 메소드(static method)입니다. 정적메소드는 인스턴스 변수, 클래스 변수를 전혀 다루지 않는 메소드입니다.     \n",
    "아래 코드를 봅시다.     \n"
   ]
  },
  {
   "cell_type": "code",
   "execution_count": 1,
   "metadata": {},
   "outputs": [],
   "source": [
    "class User:\n",
    "    count = 0\n",
    "    \n",
    "    def __init__(self, name, email, pw):\n",
    "        self.name = name\n",
    "        self.email = email\n",
    "        self.pw = pw\n",
    "    \n",
    "        User.count += 1\n",
    "    \n",
    "    def say_hello(self):\n",
    "        print(f\"안녕하세요! 저는 {self.name}입니다!\")\n",
    "    \n",
    "    #인스턴스 메소드 \n",
    "    def __str__(self):\n",
    "        return f\"사용자: {self.name}, 이메일: {self.email}, 비밀번호: ******\"\n",
    "    \n",
    "    #클래스메소드\n",
    "    @classmethod\n",
    "    def number_of_users(cls):\n",
    "        print(f\"총 유저 수는: {cls.count}입니다\")\n",
    "    \n",
    "    @staticmethod\n",
    "    def is_valid_email(email_address):\n",
    "        return \"@\" in email_address"
   ]
  },
  {
   "cell_type": "code",
   "execution_count": 5,
   "metadata": {},
   "outputs": [
    {
     "output_type": "stream",
     "name": "stdout",
     "text": "<bound method User.number_of_users of <class '__main__.User'>>\n"
    }
   ],
   "source": [
    "user1 = User('김명호','kim@gmail.com','1234')\n",
    "print(user1.number_of_users)"
   ]
  },
  {
   "cell_type": "code",
   "execution_count": 8,
   "metadata": {},
   "outputs": [
    {
     "output_type": "stream",
     "name": "stdout",
     "text": "False\nTrue\nFalse\nTrue\n"
    }
   ],
   "source": [
    "print(User.is_valid_email('taehosung'))\n",
    "print(User.is_valid_email('taehosung@gmail.com'))\n",
    "\n",
    "print(user1.is_valid_email('taehosung'))\n",
    "print(user1.is_valid_email('taehosung@gmail.com'))"
   ]
  },
  {
   "cell_type": "code",
   "execution_count": 11,
   "metadata": {},
   "outputs": [
    {
     "output_type": "error",
     "ename": "NameError",
     "evalue": "name 'self' is not defined",
     "traceback": [
      "\u001b[1;31m---------------------------------------------------------------------------\u001b[0m",
      "\u001b[1;31mNameError\u001b[0m                                 Traceback (most recent call last)",
      "\u001b[1;32m<ipython-input-11-d6ad8b510c2f>\u001b[0m in \u001b[0;36m<module>\u001b[1;34m\u001b[0m\n\u001b[0;32m      2\u001b[0m \u001b[1;31m# 해당 인스턴스의 변수이름만 사용하면  될 것으로 생각되었지만,\u001b[0m\u001b[1;33m\u001b[0m\u001b[1;33m\u001b[0m\u001b[1;33m\u001b[0m\u001b[0m\n\u001b[0;32m      3\u001b[0m \u001b[1;31m# not defined 에러가 나네요.\u001b[0m\u001b[1;33m\u001b[0m\u001b[1;33m\u001b[0m\u001b[1;33m\u001b[0m\u001b[0m\n\u001b[1;32m----> 4\u001b[1;33m \u001b[0mprint\u001b[0m\u001b[1;33m(\u001b[0m\u001b[0muser1\u001b[0m\u001b[1;33m.\u001b[0m\u001b[0mis_valid_email\u001b[0m\u001b[1;33m(\u001b[0m\u001b[0mself\u001b[0m\u001b[1;33m.\u001b[0m\u001b[0memail\u001b[0m\u001b[1;33m)\u001b[0m\u001b[1;33m)\u001b[0m\u001b[1;33m\u001b[0m\u001b[1;33m\u001b[0m\u001b[0m\n\u001b[0m",
      "\u001b[1;31mNameError\u001b[0m: name 'self' is not defined"
     ]
    }
   ],
   "source": [
    "# 아래 코드처럼 instance이름으로 접근하는 경우 \n",
    "# 해당 인스턴스의 변수이름만 사용하면  될 것으로 생각되었지만,\n",
    "# not defined 에러가 나네요.\n",
    "print(user1.is_valid_email(email))"
   ]
  },
  {
   "cell_type": "code",
   "execution_count": 9,
   "metadata": {},
   "outputs": [
    {
     "output_type": "stream",
     "name": "stdout",
     "text": "True\n"
    }
   ],
   "source": [
    "print(user1.is_valid_email(user1.email)) "
   ]
  }
 ],
 "metadata": {
  "language_info": {
   "codemirror_mode": {
    "name": "ipython",
    "version": 3
   },
   "file_extension": ".py",
   "mimetype": "text/x-python",
   "name": "python",
   "nbconvert_exporter": "python",
   "pygments_lexer": "ipython3",
   "version": "3.8.1-final"
  },
  "orig_nbformat": 2,
  "kernelspec": {
   "name": "python38164bitpytorchcondae2e836418e8f4945879c9669572061e2",
   "display_name": "Python 3.8.1 64-bit ('pytorch': conda)"
  }
 },
 "nbformat": 4,
 "nbformat_minor": 2
}