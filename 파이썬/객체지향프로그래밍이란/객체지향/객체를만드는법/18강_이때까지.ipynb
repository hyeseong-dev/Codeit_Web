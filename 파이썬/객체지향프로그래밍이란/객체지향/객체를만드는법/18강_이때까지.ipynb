{
 "nbformat": 4,
 "nbformat_minor": 2,
 "metadata": {
  "language_info": {
   "name": "python",
   "codemirror_mode": {
    "name": "ipython",
    "version": 3
   },
   "version": "3.8.1-final"
  },
  "orig_nbformat": 2,
  "file_extension": ".py",
  "mimetype": "text/x-python",
  "name": "python",
  "npconvert_exporter": "python",
  "pygments_lexer": "ipython3",
  "version": 3,
  "kernelspec": {
   "name": "python38164bitpytorchcondae2e836418e8f4945879c9669572061e2",
   "display_name": "Python 3.8.1 64-bit ('pytorch': conda)"
  }
 },
 "cells": [
  {
   "cell_type": "markdown",
   "metadata": {},
   "source": [
    "> 인스턴스 메소드   \n",
    "클래스 메소드\n",
    "\n",
    "하나더?! 바로!! 정적 메소드\n"
   ]
  },
  {
   "cell_type": "code",
   "execution_count": 5,
   "metadata": {},
   "outputs": [],
   "source": [
    "class User:\n",
    "    count = 0\n",
    "    \n",
    "    def __init__(self, name, email, pw):\n",
    "        self.name = name\n",
    "        self.email = email\n",
    "        self.pw = pw\n",
    "    \n",
    "        User.count += 1\n",
    "    \n",
    "    def say_hello(self):\n",
    "        print(\"안녕하세요! 저는 {}입니다!\".format(self.name))\n",
    "    \n",
    "    def __str__(self):\n",
    "        return \"사용자: {}, 이메일: {}, 비밀번호: ******\".format(self.name, self.email)\n",
    "    \n",
    "    @classmethod\n",
    "    def number_of_users(cls):\n",
    "        print(\"총 유저 수는: {}입니다\".format(cls.count))\n",
    "    \n",
    "    @staticmethod\n",
    "    def is_valid_email(email_address):\n",
    "        return \"@\" in email_address"
   ]
  },
  {
   "cell_type": "markdown",
   "metadata": {},
   "source": [
    "지금 User 클래스에서 is_valid_email 메소드가 정적 메소드입니다. 정적 메소드는 메소드 정의 위에  @staticmethod 데코레이터를 표시해야 합니다. is_valid_email 메소드는 파라미터 email_address로 받은 문자열에  @가 들어있는지 체크합니다."
   ]
  },
  {
   "cell_type": "markdown",
   "metadata": {},
   "source": [
    "정적 메소드는\n",
    "\n",
    ">인스턴스 메소드의 self   \n",
    "클래스 메소드의 cls\n",
    "\n",
    "같은 자동 전달되는 파라미터가 없습니다.\n"
   ]
  },
  {
   "cell_type": "markdown",
   "metadata": {},
   "source": [
    "그리고 정적 메소드는 아래 코드처럼 인스턴스, 클래스 두 가지 모두를 통해 사용 가능합니다."
   ]
  },
  {
   "cell_type": "code",
   "execution_count": 6,
   "metadata": {},
   "outputs": [
    {
     "output_type": "stream",
     "name": "stdout",
     "text": "False\nTrue\n"
    },
    {
     "output_type": "error",
     "ename": "NameError",
     "evalue": "name 'user1' is not defined",
     "traceback": [
      "\u001b[1;31m---------------------------------------------------------------------------\u001b[0m",
      "\u001b[1;31mNameError\u001b[0m                                 Traceback (most recent call last)",
      "\u001b[1;32m<ipython-input-6-391457415c20>\u001b[0m in \u001b[0;36m<module>\u001b[1;34m\u001b[0m\n\u001b[0;32m      2\u001b[0m \u001b[0mprint\u001b[0m\u001b[1;33m(\u001b[0m\u001b[0mUser\u001b[0m\u001b[1;33m.\u001b[0m\u001b[0mis_valid_email\u001b[0m\u001b[1;33m(\u001b[0m\u001b[1;34m\"taehosung@codeit.kr\"\u001b[0m\u001b[1;33m)\u001b[0m\u001b[1;33m)\u001b[0m\u001b[1;33m\u001b[0m\u001b[1;33m\u001b[0m\u001b[0m\n\u001b[0;32m      3\u001b[0m \u001b[1;33m\u001b[0m\u001b[0m\n\u001b[1;32m----> 4\u001b[1;33m \u001b[0mprint\u001b[0m\u001b[1;33m(\u001b[0m\u001b[0muser1\u001b[0m\u001b[1;33m.\u001b[0m\u001b[0mis_valid_email\u001b[0m\u001b[1;33m(\u001b[0m\u001b[1;34m\"taehosung\"\u001b[0m\u001b[1;33m)\u001b[0m\u001b[1;33m)\u001b[0m\u001b[1;33m\u001b[0m\u001b[1;33m\u001b[0m\u001b[0m\n\u001b[0m\u001b[0;32m      5\u001b[0m \u001b[0mprint\u001b[0m\u001b[1;33m(\u001b[0m\u001b[0muser1\u001b[0m\u001b[1;33m.\u001b[0m\u001b[0mis_valid_email\u001b[0m\u001b[1;33m(\u001b[0m\u001b[1;34m\"taehosung@codeit.kr\"\u001b[0m\u001b[1;33m)\u001b[0m\u001b[1;33m)\u001b[0m\u001b[1;33m\u001b[0m\u001b[1;33m\u001b[0m\u001b[0m\n",
      "\u001b[1;31mNameError\u001b[0m: name 'user1' is not defined"
     ]
    }
   ],
   "source": [
    "print(User.is_valid_email(\"taehosung\"))\n",
    "print(User.is_valid_email(\"taehosung@codeit.kr\"))\n",
    "    \n",
    "print(user1.is_valid_email(\"taehosung\"))\n",
    "print(user1.is_valid_email(\"taehosung@codeit.kr\"))"
   ]
  },
  {
   "cell_type": "markdown",
   "metadata": {},
   "source": [
    "정적 메소드는 언제 사용할까요?"
   ]
  },
  {
   "cell_type": "code",
   "execution_count": 7,
   "metadata": {},
   "outputs": [],
   "source": [
    "# 인스턴스 메소드\n",
    "def __str__(self):\n",
    "    return \"사용자: {}, 이메일: {}, 비밀번호: ******\".format(self.name, self.email)\n",
    "\n",
    "# 클래스 메소드    \n",
    "@classmethod\n",
    "def number_of_users(cls):\n",
    "    print(\"총 유저 수는: {}입니다\".format(cls.count))\n",
    "\n",
    "# 정적 메소드    \n",
    "@staticmethod\n",
    "def is_valid_email(email_address):\n",
    "    return \"@\" in email_address"
   ]
  },
  {
   "cell_type": "markdown",
   "metadata": {},
   "source": [
    "User 클래스에는 인스턴스 메소드, 클래스 메소드, 정적 메소드가 있습니다.\n",
    "\n",
    "인스턴스 메소드 __str__는 인스턴스 변수인 self.name, self.email을 사용하고,\n",
    "클래스 메소드 number_of_user는 클래스 변수인 cls.count를 사용합니다.\n",
    "하지만 is_valid_email 메소드에선 아무 변수도 사용하고 있지 않네요.\n",
    "\n",
    "인스턴스 변수나 클래스 변수 중 아무것도 사용하지 않을 메소드라면 정적 메소드로 만들면 됩니다. 그러니까 어떤 속성을 다루지 않고, 단지 기능(행동)적인 역할만 하는 메소드를 정의할 때 정적 메소드로 정의하면 됩니다. 이제 여러분은 메소드의 종류에는\n",
    "\n",
    " - 인스턴스 메소드\n",
    " - 클래스 메소드\n",
    " - 정적 메소드\n",
    "\n",
    "이 3가지가 있다는 것을 기억해주세요."
   ]
  }
 ]
}