{
 "nbformat": 4,
 "nbformat_minor": 2,
 "metadata": {
  "language_info": {
   "name": "python",
   "codemirror_mode": {
    "name": "ipython",
    "version": 3
   },
   "version": "3.8.1-final"
  },
  "orig_nbformat": 2,
  "file_extension": ".py",
  "mimetype": "text/x-python",
  "name": "python",
  "npconvert_exporter": "python",
  "pygments_lexer": "ipython3",
  "version": 3,
  "kernelspec": {
   "name": "python38164bitpytorchcondae2e836418e8f4945879c9669572061e2",
   "display_name": "Python 3.8.1 64-bit ('pytorch': conda)"
  }
 },
 "cells": [
  {
   "cell_type": "markdown",
   "metadata": {},
   "source": [
    "## 매직메소드,스페셜메소드,특수메소드 중 \n",
    "__init__ 메소드를 알아봅시다. \n",
    "\n",
    "__init__메소드는 다른 언어에서는 생성자라고도 불린다. \n",
    "인스턴스가 생성되자마자 실행되는 특징이 있습니다. "
   ]
  },
  {
   "cell_type": "code",
   "execution_count": 3,
   "metadata": {},
   "outputs": [],
   "source": [
    "class User: # 클래스에선 __init__메소드의 편리성때문에 꼭 작성한다.\n",
    "    def __init__(self, name, email,password): # 인스턴스 변수 초깃값 설정\n",
    "        self.name = name\n",
    "        self.email = email\n",
    "        self.password = password\n",
    "\n",
    "user1 = User('이민호', 'minho@codeit.kr', '12345')\n",
    "user2 = User('김말자', 'malja@codeit.kr','2345')\n",
    "user3 = User('오복순', 'bokson@codeit.kr','!@#$dd')\n",
    "user4 = User('김똑똑', 'dokdok@codeit.kr','32323')\n",
    "# 클래스의 매개변수3개에 각각 인스턴스 고유의 정보를 넣어준다. \n"
   ]
  },
  {
   "cell_type": "code",
   "execution_count": null,
   "metadata": {},
   "outputs": [],
   "source": [
    "user1 = User('이민호', 'minho@codeit.kr', '12345')\n",
    "# 첫째, User 인스턴스가 생성된다. \n",
    "# 둘째, __init__메소드 자동 호출"
   ]
  },
  {
   "cell_type": "code",
   "execution_count": 4,
   "metadata": {},
   "outputs": [
    {
     "output_type": "stream",
     "name": "stdout",
     "text": "minho@codeit.kr\n김말자\n!@#$dd\n32323\n"
    }
   ],
   "source": [
    "print(user1.email)\n",
    "print(user2.name)\n",
    "print(user3.password)\n",
    "print(user4.password)"
   ]
  },
  {
   "cell_type": "code",
   "execution_count": null,
   "metadata": {},
   "outputs": [],
   "source": []
  }
 ]
}