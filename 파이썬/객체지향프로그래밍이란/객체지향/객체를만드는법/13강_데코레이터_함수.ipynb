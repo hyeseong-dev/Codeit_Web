{
 "cells": [
  {
   "cell_type": "markdown",
   "metadata": {},
   "source": [
    "# 데코레이터?! -> 뭐를 꾸미겟다?!"
   ]
  },
  {
   "cell_type": "code",
   "execution_count": 14,
   "metadata": {},
   "outputs": [
    {
     "output_type": "stream",
     "name": "stdout",
     "text": "hello\n"
    },
    {
     "output_type": "execute_result",
     "data": {
      "text/plain": "<function __main__.add_print_to.<locals>.wrapper()>"
     },
     "metadata": {},
     "execution_count": 14
    }
   ],
   "source": [
    "def print_hello():\n",
    "    print('hello')\n",
    "\n",
    "def add_print_to(original): # original의 원래 이름은 print_hello()\n",
    "    def wrapper():\n",
    "        print('함수 시작')\n",
    "        original()\n",
    "        print('함수 끝')\n",
    "    return wrapper\n",
    "\n",
    "add_print_to(print_hello()) #근데 뭔가 실행된게 없네?!"
   ]
  },
  {
   "cell_type": "markdown",
   "metadata": {},
   "source": [
    "### 첫째, add_print_to(print_hello)   \n",
    "매개변수로 print_hello를 넣어줍니다.(여기서 ()는 빼줍니다. )\n",
    "원래 print_hello라는 함수가 --> original이라는 매개변수(add_print_to)에 쏙 들어가서 original이라는 가명을쓴 함수가 만들어짐.(add_print_to 함수 안에서) \n",
    "\n",
    "즉, original()함수<원래는 print_hello함수>를 wrapper()함수에 넣어 양옆에 print메소드로 데코레이팅 한 식이다."
   ]
  },
  {
   "cell_type": "code",
   "execution_count": null,
   "metadata": {},
   "outputs": [],
   "source": [
    "아래는 마지막 호출문에 () 닫아서 실행된다는 사실을 앞수 있다. "
   ]
  },
  {
   "cell_type": "code",
   "execution_count": 13,
   "metadata": {},
   "outputs": [
    {
     "output_type": "stream",
     "name": "stdout",
     "text": "함수 시작\nhello\n함수 끝\n"
    }
   ],
   "source": [
    "def print_hello():\n",
    "    print('hello')\n",
    "\n",
    "def add_print_to(original):\n",
    "    def wrapper():\n",
    "        print('함수 시작')\n",
    "        original()\n",
    "        print('함수 끝')\n",
    "    return wrapper\n",
    "\n",
    "add_print_to(print_hello)()"
   ]
  },
  {
   "cell_type": "markdown",
   "metadata": {},
   "source": [
    "### 위의 소스코드의 다른 방법을 바로 아래서 볼 수 있다. "
   ]
  },
  {
   "cell_type": "code",
   "execution_count": 15,
   "metadata": {},
   "outputs": [
    {
     "output_type": "stream",
     "name": "stdout",
     "text": "함수 시작\nhello\n함수 끝\n"
    }
   ],
   "source": [
    "def print_hello():\n",
    "    print('hello')\n",
    "\n",
    "def add_print_to(original): #데코레이터 함수\n",
    "    def wrapper():\n",
    "        print('함수 시작')\n",
    "        original()\n",
    "        print('함수 끝')\n",
    "    return wrapper\n",
    "\n",
    "print_hello = add_print_to(print_hello)\n",
    "print_hello()"
   ]
  },
  {
   "cell_type": "code",
   "execution_count": null,
   "metadata": {},
   "outputs": [],
   "source": []
  },
  {
   "cell_type": "markdown",
   "metadata": {},
   "source": [
    "데코레이터의 소괄호를 붙여주는 기준은?!\n",
    "print_hello를 parameter로 넣는 것과 print_hello()를 parameter로 넣는 것은 다릅니다. \n",
    "\n",
    "1. 값을 넘길수 있다.    \n",
    "2. 함수 그 자체를 넘길 수 있다. \n",
    "\n",
    " - print_hello를 parameter 위치에 주었을 땐 그 함수 자체가 넘어간것\n",
    " wrapper 함수 안에서 다시 ()를 이용해 함수처럼 사용했음. \n",
    "\n",
    " 이후 wrapper함수를 다시 돌려주었고 add_print_to(print_hello)의 return값으로 wrapper가 나왔기에 wrapper 함수를 실행시키기 위한 ()가 뒤에 붙으면서 wrapper 함수가 실행됨. \n",
    "\n",
    " print_hello()를 parameter위치에 주었을땐 print_hello함수가 그냥 호출 되었고 paprameter로는 None이 들어가게됩니다. \n",
    " \n",
    " 이때, None이 들어가고 add_print_to 함수에서는 에러를 가지고 있는 wrapper함수를 return합니다. \n",
    "\n",
    " 하지만 오류가 발생하지 않았던 이유는 add_print_to함수의 return값인 wrapper함수를 실행시키지 않았기 때문이다. \n",
    " 즉, '함수시작'과 '함수끝'이라는 문자열이 출력되지 않았으며 None값이 파라미터로 들어가면서 add_print_to 함수의 return 함수를 실행할 경우 에러가 발생할 예정이다. \n",
    "\n",
    " ### 핵심은 Python의 함수가 값처럼 parameter로 들어가기도 하며 return되기도 하기에 어떤 값이 들어가고 나오는지 잘 봐야 한다는것이다."
   ]
  },
  {
   "cell_type": "code",
   "execution_count": 15,
   "metadata": {},
   "outputs": [
    {
     "output_type": "error",
     "ename": "TypeError",
     "evalue": "'NoneType' object is not callable",
     "traceback": [
      "/u001b[1;31m---------------------------------------------------------------------------/u001b[0m",
      "/u001b[1;31mTypeError/u001b[0m                                 Traceback (most recent call last)",
      "/u001b[1;32m<ipython-input-15-a844c59015a4>/u001b[0m in /u001b[0;36m<module>/u001b[1;34m/u001b[0m/n/u001b[0;32m     10/u001b[0m /u001b[1;33m/u001b[0m/u001b[0m/n/u001b[0;32m     11/u001b[0m /u001b[0mprint_hello/u001b[0m /u001b[1;33m=/u001b[0m /u001b[0madd_print_to/u001b[0m/u001b[1;33m(/u001b[0m/u001b[0mprint_hello/u001b[0m/u001b[1;33m)/u001b[0m/u001b[1;33m/u001b[0m/u001b[1;33m/u001b[0m/u001b[0m/n/u001b[1;32m---> 12/u001b[1;33m /u001b[0mprint_hello/u001b[0m/u001b[1;33m(/u001b[0m/u001b[1;33m)/u001b[0m/u001b[1;33m/u001b[0m/u001b[1;33m/u001b[0m/u001b[0m/n/u001b[0m",
      "/u001b[1;31mTypeError/u001b[0m: 'NoneType' object is not callable"
     ]
    }
   ],
   "source": [
    "def print_hello():\n",
    "    print('hello')\n",
    "\n",
    "def add_print_to(original): #데코레이터 함수\n",
    "    def wrapper():\n",
    "        print('함수 시작')\n",
    "        original()\n",
    "        print('함수 끝')\n",
    "    # return wrapper()\n",
    "\n",
    "print_hello = add_print_to(print_hello)\n",
    "print_hello()"
   ]
  },
  {
   "cell_type": "code",
   "execution_count": 13,
   "metadata": {},
   "outputs": [
    {
     "output_type": "stream",
     "name": "stdout",
     "text": "함수 시작/nhello/n함수 끝/n"
    }
   ],
   "source": [
    "# 출력 가능 1\n",
    "def print_hello():\n",
    "    print('hello')\n",
    "\n",
    "def add_print_to(original): #데코레이터 함수\n",
    "    # def wrapper():\n",
    "    print('함수 시작')\n",
    "    original()\n",
    "    print('함수 끝')\n",
    "    # return wrapper()\n",
    "\n",
    "add_print_to(print_hello)"
   ]
  },
  {
   "cell_type": "code",
   "execution_count": 12,
   "metadata": {},
   "outputs": [
    {
     "output_type": "stream",
     "name": "stdout",
     "text": "함수 시작/nhello/n함수 끝/n"
    }
   ],
   "source": [
    "# 출력 가능 2\n",
    "def print_hello():\n",
    "    print('hello')\n",
    "\n",
    "def add_print_to(original): #데코레이터 함수\n",
    "    def wrapper():\n",
    "        print('함수 시작')\n",
    "        original()\n",
    "        print('함수 끝')\n",
    "    return wrapper()\n",
    "\n",
    "add_print_to(print_hello)"
   ]
  }
 ],
 "metadata": {
  "language_info": {
   "name": "python",
   "codemirror_mode": {
    "name": "ipython",
    "version": 3
   },
   "version": "3.8.1-final"
  },
  "orig_nbformat": 2,
  "file_extension": ".py",
  "mimetype": "text/x-python",
  "name": "python",
  "npconvert_exporter": "python",
  "pygments_lexer": "ipython3",
  "version": 3,
  "kernelspec": {
   "name": "python38164bitpytorchcondae2e836418e8f4945879c9669572061e2",
   "display_name": "Python 3.8.1 64-bit ('pytorch': conda)"
  }
 },
 "nbformat": 4,
 "nbformat_minor": 2
}