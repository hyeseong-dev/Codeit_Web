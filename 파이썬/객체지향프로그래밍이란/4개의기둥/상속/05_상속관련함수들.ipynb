{
 "cells": [
  {
   "cell_type": "markdown",
   "metadata": {},
   "source": [
    "상속과 관련해서 꼭 알아두어야 할 메소드나 파이썬 함수들이 있습니다. 앞으로 자주 사용하게될 것이니 잘 기억하세요. \n",
    "\n"
   ]
  },
  {
   "cell_type": "markdown",
   "metadata": {},
   "source": [
    "## mro(Method Resolution Order) 메소드\n",
    "\n",
    " mro 메소드\n",
    "\n",
    "이전 영상에서 help 함수의 실행 결과 중 Method resolution order:라는 부분을 보았습니다. 이 부분에 있던 결과는 해당 인스턴스의 클래스가 어떤 부모 클래스를 가지는지 보여주는데요. 이 결과를 다른 방법으로도 볼 수 있습니다. 바로 모든 클래스가 갖고 있는 mro라는 메소드를 호출하면 됩니다. 아래 코드에서 Cashier 클래스로 mro 메소드를 호출해 보면"
   ]
  },
  {
   "cell_type": "code",
   "execution_count": 1,
   "metadata": {},
   "outputs": [],
   "source": [
    "class Employee:\n",
    "    \"\"\"직원 클래스\"\"\"\n",
    "    raise_percentage = 1.03\n",
    "    company_name = \"코드잇 버거\"\n",
    "\n",
    "    \n",
    "    def __init__(self, name, wage):\n",
    "        \"\"\"인스턴스 변수 설정\"\"\"\n",
    "        self.name = name\n",
    "        self.wage = wage\n",
    "\n",
    "\n",
    "    def raise_pay(self):\n",
    "        \"\"\"직원 시급을 인상하는 메소드\"\"\"\n",
    "        self.wage *= Employee.raise_percentage\n",
    "\n",
    "\n",
    "    def __str__(self):\n",
    "        \"\"\"직원 정보를 문자열로 리턴하는 메소드\"\"\"\n",
    "        return Employee.company_name + \" 직원: \" + self.name\n",
    "\n",
    "\n",
    "class Cashier(Employee):\n",
    "    pass\n",
    "\n",
    "\n",
    "class Manager(Employee):\n",
    "    pass\n"
   ]
  },
  {
   "cell_type": "code",
   "execution_count": 2,
   "metadata": {},
   "outputs": [
    {
     "output_type": "execute_result",
     "data": {
      "text/plain": "[__main__.Cashier, __main__.Employee, object]"
     },
     "metadata": {},
     "execution_count": 2
    }
   ],
   "source": [
    "Cashier.mro()"
   ]
  },
  {
   "cell_type": "markdown",
   "metadata": {},
   "source": [
    "이렇게 하면 Cashier 클래스가 상속하는 부모 클래스를 볼 수 있습니다. 이 경우에 object 클래스는 Cashier클래스의 입장에서 부모 클래스의 부모 클래스입니다. \n",
    "\n",
    "우리가 자주 쓰는 파이썬의 기본 클래스 중 하나인 list 클래스의 mro 메소드의 실행 결과를 살펴 볼까요?"
   ]
  },
  {
   "cell_type": "code",
   "execution_count": 3,
   "metadata": {},
   "outputs": [
    {
     "output_type": "execute_result",
     "data": {
      "text/plain": "[list, object]"
     },
     "metadata": {},
     "execution_count": 3
    }
   ],
   "source": [
    "list.mro()"
   ]
  },
  {
   "cell_type": "markdown",
   "metadata": {},
   "source": [
    "결과를 보니 상속받는 클래스가 최상위 클래스 object 하나밖에 없네요. \n",
    "\n",
    "이번에는 파이썬의 들여쓰기를 잘못했을 때 나오는 에러를 나타내는 IndentationError 클래스를 보겠습니다. \n"
   ]
  },
  {
   "cell_type": "code",
   "execution_count": 4,
   "metadata": {},
   "outputs": [
    {
     "output_type": "execute_result",
     "data": {
      "text/plain": "[IndentationError, SyntaxError, Exception, BaseException, object]"
     },
     "metadata": {},
     "execution_count": 4
    }
   ],
   "source": [
    "IndentationError.mro()"
   ]
  },
  {
   "cell_type": "markdown",
   "metadata": {},
   "source": [
    "Indentation Error 클래스는 부모, 부모의 부모, 부모의 부모의 부모, 부모의 부모의 부모의 부모도 있군요. 최상위 클래스인 object 클래스부터, 파이썬 문법 위반 시 발생하는 SyntaxError 클래스까지 IndentationError 클래스의 집안 내력(?)을 순서대로 한 번에 파악할 수 있습니다."
   ]
  },
  {
   "cell_type": "code",
   "execution_count": null,
   "metadata": {},
   "outputs": [],
   "source": []
  },
  {
   "cell_type": "markdown",
   "metadata": {},
   "source": [
    "## isinstance 함수\n",
    "\n",
    "isinstance 함수는 어떤 인스턴스가 주어진 클래스의 인스턴스인지를 알려줍니다. \n",
    "isinstance함수의 \n",
    "\n",
    "1. 첫 번째 파라미터에는 검사할 인스턴스의 이름  \n",
    "2. 두 번째 파라미터에는 기준 클래스의 이름  \n",
    "을 넣고 실행하면 되는데요. 이렇게 하면 그 인스턴스가 해당 클래스의 인스턴스인지를 불린 값(True or False)으로 리턴합니다. \n",
    "\n",
    "아래 코드를 봅시다.     "
   ]
  },
  {
   "cell_type": "code",
   "execution_count": 9,
   "metadata": {},
   "outputs": [
    {
     "output_type": "stream",
     "name": "stdout",
     "text": "True\nTrue\nTrue\n"
    }
   ],
   "source": [
    "young = Cashier('강영훈',8900)\n",
    "print(isinstance(young, Cashier))\n",
    "# print(isinstance(young, DeliveryMan)) # 해당 클래스 정의가 되지 않아 오류가 발생함.  \n",
    "print(isinstance(young, Employee))\n"
   ]
  },
  {
   "cell_type": "code",
   "execution_count": null,
   "metadata": {},
   "outputs": [],
   "source": [
    "young 인스턴스는 Cashier 클래스의 인스턴스니까 True를 리턴. 하지만 DeliveryMan 클래스의 인스턴스는 아니기 때문에 False(클래스 생성안하면 정의안했다고 오류뜸)\n",
    "\n",
    "여기서 중요한 것은 마지막 줄에서 isinstance(young, Employee)가 True를 리턴한다는 사실입니다. \n",
    "Cashier 클래스는 Employee 클래스를 상속받는 자식 클래스입니다.  \n",
    "\n",
    "이 점이 아주아주 중요한데요. \n",
    "즉, 상속 관계에 있는 두 클래스가 있을때, 자식 클래스로 만든 인스턴스는 부모 클래스의 인스턴스이기도 하다는 점을 뜻합니다. \n",
    "\n",
    "이 점은 나중에 '다형성'이라는 것을 설명할 때 핵심이 되는 원리입니다. 잊지 말아요.\n",
    "\n"
   ]
  },
  {
   "cell_type": "code",
   "execution_count": null,
   "metadata": {},
   "outputs": [],
   "source": []
  },
  {
   "cell_type": "code",
   "execution_count": null,
   "metadata": {},
   "outputs": [],
   "source": [
    "issubclass 함수 \n",
    "\n",
    "issubclass 함수는 한 클래스가 다른 클래스의 자식 클래스인지를 알려주는 함수입니다. \n",
    "\n",
    "1. 첫 번째 파라미터로 검사할 클래스의 이름\n",
    "2. 두 번째 파라미터에는 기준이 되는 부모 클래스의 이름\n",
    "을 넣고 실행하면 됩니다. "
   ]
  },
  {
   "cell_type": "code",
   "execution_count": 10,
   "metadata": {},
   "outputs": [
    {
     "output_type": "stream",
     "name": "stdout",
     "text": "True\nTrue\nTrue\nFalse\n"
    }
   ],
   "source": [
    "print(issubclass(Cashier, Employee))\n",
    "print(issubclass(Cashier, object))\n",
    "print(issubclass(Manager, Employee))\n",
    "print(issubclass(Employee, list))"
   ]
  },
  {
   "cell_type": "code",
   "execution_count": null,
   "metadata": {},
   "outputs": [],
   "source": [
    "상속 관계가 있는 경우에는 모두 True를 리턴했네요. 마지막 줄에서 Employee 클래스는 list 클래스와 아무런 관련이 없으니까. False를 리턴했습니다."
   ]
  },
  {
   "cell_type": "code",
   "execution_count": null,
   "metadata": {},
   "outputs": [],
   "source": []
  },
  {
   "cell_type": "code",
   "execution_count": null,
   "metadata": {},
   "outputs": [],
   "source": []
  },
  {
   "cell_type": "code",
   "execution_count": null,
   "metadata": {},
   "outputs": [],
   "source": []
  },
  {
   "cell_type": "code",
   "execution_count": null,
   "metadata": {},
   "outputs": [],
   "source": []
  },
  {
   "cell_type": "code",
   "execution_count": null,
   "metadata": {},
   "outputs": [],
   "source": []
  },
  {
   "cell_type": "code",
   "execution_count": null,
   "metadata": {},
   "outputs": [],
   "source": []
  },
  {
   "cell_type": "code",
   "execution_count": null,
   "metadata": {},
   "outputs": [],
   "source": []
  },
  {
   "cell_type": "code",
   "execution_count": null,
   "metadata": {},
   "outputs": [],
   "source": []
  },
  {
   "cell_type": "code",
   "execution_count": null,
   "metadata": {},
   "outputs": [],
   "source": []
  }
 ],
 "metadata": {
  "language_info": {
   "codemirror_mode": {
    "name": "ipython",
    "version": 3
   },
   "file_extension": ".py",
   "mimetype": "text/x-python",
   "name": "python",
   "nbconvert_exporter": "python",
   "pygments_lexer": "ipython3",
   "version": "3.8.1-final"
  },
  "orig_nbformat": 2,
  "kernelspec": {
   "name": "python38164bitpytorchcondae2e836418e8f4945879c9669572061e2",
   "display_name": "Python 3.8.1 64-bit ('pytorch': conda)"
  }
 },
 "nbformat": 4,
 "nbformat_minor": 2
}