{
 "cells": [
  {
   "cell_type": "markdown",
   "metadata": {},
   "source": [
    "# OOP 4가지 기둥이란 "
   ]
  },
  {
   "cell_type": "markdown",
   "metadata": {},
   "source": [
    "이제부터는 객체 지향 프로그래밍을 하기 위해 알아야할 4가지 기본 개념들을 배워볼게요. \"객체 지향 프로그래밍의 4가지 기둥\" 이라고도 부르는 이 4가지 개념을 제대로 알아야 객체 지향 프로그래밍을 잘 할 수 있습니다.    \n",
    "\n",
    "추상화(Abstraction) \n",
    "캡슐화(Encapsulation)   \n",
    "상속(Inheritance)   \n",
    "다형성(Polymorphism)    \n"
   ]
  }
 ],
 "metadata": {
  "language_info": {
   "codemirror_mode": {
    "name": "ipython",
    "version": 3
   },
   "file_extension": ".py",
   "mimetype": "text/x-python",
   "name": "python",
   "nbconvert_exporter": "python",
   "pygments_lexer": "ipython3",
   "version": 3
  },
  "orig_nbformat": 2
 },
 "nbformat": 4,
 "nbformat_minor": 2
}