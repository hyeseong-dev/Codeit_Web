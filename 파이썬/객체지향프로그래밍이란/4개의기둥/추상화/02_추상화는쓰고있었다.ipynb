{
 "cells": [
  {
   "cell_type": "markdown",
   "metadata": {},
   "source": [
    "추상화는 우리가 이때까지 쓰고 있었다고 한다.    \n",
    "그 이유는   \n",
    "첫째, 변수를 사용하기 때문이다 \n",
    "    변수를 사용하게 되면 그 이후에 값을 몰라도 변수 이름만 알아도 되니깐. \n",
    "    함수의 파라미터에 변수를 사용해서 추상적인 관념을 실체화 시키기도 한다. \n",
    "    그리고 클래스를 사용해서 객체화 시키는 것 역시 추상화이다."
   ]
  },
  {
   "cell_type": "code",
   "execution_count": 1,
   "metadata": {},
   "outputs": [
    {
     "output_type": "stream",
     "name": "stdout",
     "text": "626.3048016600001\n1252.6096033200001\n1878.91440498\nHello, 영휸\nWelcome to Codeit!\nHello, 규식\nWelcome to Codeit!\nHello, 대위\nWelcome to Codeit!\n3\n2\n6\n"
    }
   ],
   "source": [
    "# 우사인 볼트의 평균속도 \n",
    "bolt_spd = 10.438413361\n",
    "minute = 60\n",
    "\n",
    "print(bolt_spd * minute)     # 1분(60초) 동안 간 거리\n",
    "print(bolt_spd * 2 * minute) # 2분(120초 ) 동안 간 거리 \n",
    "print(bolt_spd * 3 * minute) # 3분(180초 ) 동안 간 거리 \n",
    "\n",
    "# 함수 추상화 \n",
    "def welcome(name): \n",
    "    print('Hello, '+name )\n",
    "    print('Welcome to Codeit!' )\n",
    "\n",
    "welcome('영휸')\n",
    "welcome('규식')\n",
    "welcome('대위')\n",
    "\n",
    "# []를 이용해서 빈 리스트 인스턴스를 정의한다.\n",
    "example_list = []\n",
    "example_list.append(3) \n",
    "example_list.append(2) \n",
    "example_list.append(6) \n",
    "print(example_list[0])\n",
    "print(example_list[1])\n",
    "print(example_list[2])"
   ]
  }
 ],
 "metadata": {
  "language_info": {
   "codemirror_mode": {
    "name": "ipython",
    "version": 3
   },
   "file_extension": ".py",
   "mimetype": "text/x-python",
   "name": "python",
   "nbconvert_exporter": "python",
   "pygments_lexer": "ipython3",
   "version": "3.8.1-final"
  },
  "orig_nbformat": 2,
  "kernelspec": {
   "name": "python38164bitpytorchcondae2e836418e8f4945879c9669572061e2",
   "display_name": "Python 3.8.1 64-bit ('pytorch': conda)"
  }
 },
 "nbformat": 4,
 "nbformat_minor": 2
}