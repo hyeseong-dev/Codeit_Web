{
 "cells": [
  {
   "cell_type": "markdown",
   "metadata": {},
   "source": [
    "# 추상클래스와 추상화\n",
    "\n",
    "우리는 지금 '객체 지향 프로그래밍의 4가지 기둥' 중 마지막에 해당하는 다형성을 배우고 있습니다. 혹시 첫 번째로 배웠던 '추상화'가 기억나시나요? 추상화는 변수, 함수, 클래스를 사요해 사용자가 꼭 알아야만 하는 부분만 겉으로 드러내는 것이라고 배웠습니다. 이번에 배운 추상 클래스도 이러한 추상화의 한 예시입니다. \n",
    "\n",
    "추상 클래스는 서로 관련있는 클래스들의 공통 부분을 묶어서 추상화합니다. 무슨 말인지 예시를 통해 차근차근 이해해보죠. 다음 코드는 이전 영상의 그림판 프로그램 클래스입니다. "
   ]
  },
  {
   "cell_type": "code",
   "execution_count": 6,
   "metadata": {},
   "outputs": [],
   "source": [
    "class Paint:\n",
    "    \"\"\"그림판 프로그램 클래스\"\"\"\n",
    "    def __init__(self):\n",
    "        self.shapes = []\n",
    "\n",
    "    def add_shape(self, shape):\n",
    "        \"\"\"도형 인스턴스만 그림판에 추가한다\"\"\"\n",
    "        if isinstance(shape, Shape):\n",
    "            self.shapes.append(shape)\n",
    "        else:\n",
    "            print(\"도형 클래스가 아닌 인스턴스는 추가할 수 없습니다!\")\n",
    "\n",
    "    def total_area_of_shapes(self):\n",
    "        \"\"\"그림판에 있는 모든 도형의 넓이의 합을 구한다\"\"\"\n",
    "        return sum([shape.area() for shape in self.shapes])\n",
    "\n",
    "    def total_perimeter_of_shapes(self):\n",
    "        \"\"\"그림판에 있는 모든 도형의 둘레의 합을 구한다\"\"\"\n",
    "        return sum([shape.perimeter() for shape in self.shapes])\n",
    "\n",
    "    def __str__(self):\n",
    "        \"\"\"그림판에 있는 각 도형들의 정보를 문자열로 리턴한다\"\"\"\n",
    "        res_str = \"그림판 안에 있는 도형들:\\n\\n\"\n",
    "        for shape in self.shapes:\n",
    "            res_str += str(shape) + \"\\n\"\n",
    "        return res_str"
   ]
  },
  {
   "cell_type": "markdown",
   "metadata": {},
   "source": [
    "1. Paint 클래스를 사용하는 개발자는 add_shape 메소드에서 파라미터 shape으로 들어오는 인스턴스의 타입이 Shape 클래스일 때만 그 인스턴스를 추가합니다. 이는 해당 인스턴스가 구체적으로 무슨 도형의 인스턴스인지는 관심이 없고 Shape클래스의 인스턴스에만 해당하면 된다는 뜻입니다.        \n",
    "\n",
    "2. 여기서 Shape 클래스는 추상 클래스입니다. 따라서 Shape 클래스의 인스턴스라는 것은 그 인스턴스의 클래스가 Shape클래스를 상속받은 자식 클래스로, 추상 메소드 area와 perimeter를 오버라이딩한 클래스여야한다는 뜻임.     \n",
    "\n",
    "3. 정리하자면 도형을 나타내는 클래스라면 가질 수 밖에 없는 공통점을 Shape클래스로 추상화 한 것입니다. \n",
    "\n",
    "이렇게 하면 Paint 클래스의 코드를 작성하는 개발자는 추상 클래스로 추상화된 수준(Shape클래스)까지만 고려하고 개발을 진행할 수 있습니다. 그러니까 개발자는 추가된 각 도형 인스턴스가 구체적으로 무슨 클래스의 인스턴스인지 확인할 필요없이, 일단 area, perimeter 메소드를 가지는 인스턴스라고 생각하고 개발할 수 있는 것입니다. \n",
    "\n",
    "이 상황에서 좀더 추가하자면 add_shape 메소드에 Shape 타입을 가지는 인스턴스가 shape 파라미터로 들어와야 한다는 것을 알려주기 위해 다음과 같이 파이썬의 type hinting 기능을 사용할 수 있습니다. "
   ]
  },
  {
   "cell_type": "code",
   "execution_count": null,
   "metadata": {},
   "outputs": [],
   "source": [
    "def add_shape(self, shape: Shape): \n",
    "    ## 타입 힌팅 쓰니깐 오류 나는데?"
   ]
  },
  {
   "cell_type": "markdown",
   "metadata": {},
   "source": [
    "#### 2. 추상 클래스에도 일반 메소드를 추가할 수 있어요!     \n",
    "\n",
    "추상 클래스에 꼭 추상 메소드만 있어야 하는 것은 아닙니다. @abstractmethod 데코레이터가 없는 일반적인 메소드가 있어도 상관없습니다. 이 메소드들 또한 자식 클래스가 물려받아 그대로 사용하거나 오버라이딩하여 사용할 수 있습니다. "
   ]
  },
  {
   "cell_type": "code",
   "execution_count": 9,
   "metadata": {},
   "outputs": [],
   "source": [
    "from abc import ABC, abstractmethod\n",
    "from math import pi\n",
    "class Shape(ABC):\n",
    "    \"\"\"도형 클래스\"\"\"\n",
    "    @abstractmethod\n",
    "    def area(self) -> float:\n",
    "        \"\"\"도형의 넓이를 리턴한다: 자식 클래스가 오버라이딩할 것\"\"\"\n",
    "        pass\n",
    "\n",
    "    @abstractmethod\n",
    "    def perimeter(self) -> float:\n",
    "        \"\"\"도형의 둘레를 리턴한다: 자식 클래스가 오버라이딩할 것\"\"\"\n",
    "        pass\n",
    "  \n",
    "    def larger_than(self, shape):\n",
    "        \"\"\"해당 인스턴스의 넓이가 파라미터 인스턴스의 넓이보다 큰지를 불린으로 나타낸다\"\"\"\n",
    "        return self.area() > shape.area()"
   ]
  },
  {
   "cell_type": "markdown",
   "metadata": {},
   "source": [
    "Shape 클래스 중 larger_than 메소드가 일반 메소드입니다. 이 메소드는 파라미터로 전달된 다른 도형 인스턴스의 넓이와 자신의 넓이를 비교합니다. \n",
    "\n",
    "Shape 클래스를 상속받는 원(Circle)클래스를 만들고 원 인스턴스로 일반 메소드 larger_than을 호출해보면 "
   ]
  },
  {
   "cell_type": "code",
   "execution_count": 10,
   "metadata": {},
   "outputs": [
    {
     "output_type": "stream",
     "name": "stdout",
     "text": "True\n"
    }
   ],
   "source": [
    "class Circle(Shape):\n",
    "    \"\"\"원 클래스\"\"\"\n",
    "    def __init__(self, radius):\n",
    "        self.radius = radius\n",
    "\n",
    "    def area(self):\n",
    "        \"\"\"원의 넓이를 리턴한다\"\"\"\n",
    "        return pi * self.radius * self.radius\n",
    "\n",
    "    def perimeter(self):\n",
    "        \"\"\"원의 둘레를 리턴한다\"\"\"\n",
    "        return 2 * pi * self.radius\n",
    "        \n",
    "class Rectangle(Shape): \n",
    "\n",
    "    def __init__(self, width, height):\n",
    "        self.width = width\n",
    "        self.height = height\n",
    "    def area(self):\n",
    "        return self.width * self.height\n",
    "    def perimeter(self):\n",
    "        return 2*(self.width + self.height)\n",
    "    def __str__(self):\n",
    "        return f'밑변 {self.width}, 높이 {self.height}인 직사각형'\n",
    "\n",
    "circle = Circle(6)\n",
    "rectangle = Rectangle(3, 4)\n",
    "print(circle.larger_than(rectangle)) # 출력: True"
   ]
  },
  {
   "cell_type": "markdown",
   "metadata": {},
   "source": [
    "제대로 작동합니다. 즉, 추상 클래스에는 꼭 추상 메소드 뿐만 아니라 일반 메소드도 정의할 수 있고 이것도 똑같이 자식 클래스가 물려받습니다. 하지만 차이점이 있다면 \n",
    "\n",
    "> 1. 반드시 오버라이딩해야하는 추상 메소드와 달리 \n",
    "\n",
    "> 2. 일반 메소드는 물려받은 그대로 사용할지, 오버라이딩할 지를 자식 클래스에서 결정하는 것임. "
   ]
  },
  {
   "cell_type": "markdown",
   "metadata": {},
   "source": [
    "#### 3. 추상 메소드에도 내용을 채울 수 있습니다. \n"
   ]
  },
  {
   "cell_type": "code",
   "execution_count": 11,
   "metadata": {},
   "outputs": [],
   "source": [
    "from abc import ABC, abstractmethod\n",
    "\n",
    "class Shape(ABC):\n",
    "    \"\"\"도형 클래스\"\"\"\n",
    "    @abstractmethod\n",
    "    def area(self) -> float:\n",
    "        \"\"\"도형의 넓이를 리턴한다: 자식 클래스가 오버라이딩할 것\"\"\"\n",
    "        pass\n",
    "\n",
    "    @abstractmethod\n",
    "    def perimeter(self) -> float:\n",
    "        \"\"\"도형의 둘레를 리턴한다: 자식 클래스가 오버라이딩할 것\"\"\"\n",
    "        pass"
   ]
  },
  {
   "cell_type": "markdown",
   "metadata": {},
   "source": [
    "지금까지 추상 메소드의 내용으로 그냥 pass만 써줬습니다. 하지만 사실 추상 메소드 안에는 다른 내용을 써도 됩니다.     \n",
    "아래 코드 처럼 말이지요.    "
   ]
  },
  {
   "cell_type": "code",
   "execution_count": 12,
   "metadata": {},
   "outputs": [],
   "source": [
    "from abc import ABC, abstractmethod\n",
    "\n",
    "class Shape(ABC):\n",
    "    \"\"\"도형 클래스\"\"\"\n",
    "    @abstractmethod\n",
    "    def area(self) -> float:\n",
    "        \"\"\"도형의 넓이를 리턴한다: 자식 클래스가 오버라이딩할 것\"\"\"\n",
    "        print(\"도형의 넓이 계산 중!\")   # ---------------- 추가된 코드\n",
    "\n",
    "    @abstractmethod\n",
    "    def perimeter(self) -> float:\n",
    "        \"\"\"도형의 둘레를 리턴한다: 자식 클래스가 오버라이딩할 것\"\"\"\n",
    "        pass"
   ]
  },
  {
   "cell_type": "markdown",
   "metadata": {},
   "source": [
    "그런데 좀 이상하조? 어차피 추상 클래스를 상속받는 자식 클래스에서 이 추상 메소드들은 반드시 오버라이딩해야 합니다. 그래서 이렇게 어차피 무시될 추상 메소드의 내용이 왜 필요한지 모르겠군요.\n",
    "\n",
    "하지만 사실 이 내용은 경우에 따라 유용할 때가 있습니다. 보통 추상 메소드에 내용을쓸 때는 모든 자식 클래스에 해당하는 공통 내용을 써줍니다. 그리고 자식 클래스에서 추상 메소드를 오버라이딩하더라도 이렇게 미리 채워진 내용을 가져와서 재활용할 수 있습니다. 이는 [super]함수를 사용하면 가능합니다."
   ]
  },
  {
   "cell_type": "code",
   "execution_count": 13,
   "metadata": {},
   "outputs": [
    {
     "output_type": "stream",
     "name": "stdout",
     "text": "도형의 넓이 계산 중!\n12\n"
    }
   ],
   "source": [
    "class Rectangle(Shape):\n",
    "    \"\"\"직사각형 클래스\"\"\"\n",
    "    def __init__(self, width, height):\n",
    "        self.width = width\n",
    "        self.height = height\n",
    "\n",
    "    def area(self):\n",
    "        \"\"\"직사각형의 넓이를 리턴한다\"\"\"\n",
    "        super().area() # ---------------- 부모의 메소드를 가져다 씀\n",
    "        return self.width * self.height\n",
    "\n",
    "    def perimeter(self):\n",
    "        \"\"\"직사각형의 둘레를 리턴한다\"\"\"\n",
    "        return 2*self.width + 2*self.height\n",
    "\n",
    "\n",
    "rectangle = Rectangle(3, 4)\n",
    "print(rectangle.area())# 출력: 도형의 넓이 계산 중! 12"
   ]
  },
  {
   "cell_type": "markdown",
   "metadata": {},
   "source": [
    "예전에 부모 클래스의 __init__ 메소드를 사용할 때 자식 클래스에서 super 함수로 부모 클래스의 내용에 접근할 수 있다고 설명한 적이 있는데 혹시 기억하시나요?   \n",
    "\n",
    "super함수를 사용하면 부모 클래스에 접근할 수 있습니다. 이 코드 중 area 메소드를 보세요. 부모 클래스인 Shape 클래스의 area메소드를 실행하는 부분이 있습니다. \n",
    "\n",
    "즉, 물려받은 추상 메소드를 오버라이딩하는데, \n",
    "\n",
    ">    1. super 함수를 통ㅎ새 추상 메소드의 기존내용 print('도형 넓이 계산 중!')을 포함함과 동시에        \n",
    "    \n",
    ">    2. 이와 별도로 자신만의 내용을 또 추가한거조. \n",
    "        return self.width * self.height\n",
    "\n",
    "이렇게 모든 자식 클래스에서 공통적으로 사용할 부분을 추상 메소드의 내용으로 써주고 자식 클래스에서 이를 super 함수로 접근하는 방법은 꽤 자주 쓰는 방법입니다. 이번 기회에 꼭 기억해요.  \n",
    "\n"
   ]
  },
  {
   "cell_type": "markdown",
   "metadata": {},
   "source": [
    "#### 4. 자식 클래스가 특정 변수를 갖도록 유도할 수 있어요.\n",
    "\n",
    "추상 클래스를 사용하면 자식 클래스가 추상 클래스의 추상 메소드를 오버라이딩 즉, 해당 메소드를 갖도록 강제할 수 있습니다 .하지만 이밖에도 추상 클래스로 자식 클래스가 특정 변수를 갖도록 유도할 수 있는 방법이 있습니다. 예시를 통해 알아볼까요? 이 부분이 이노트의 4가지 내용 중 가장 어려운데요. 하나씩 살펴 봅시다.   \n",
    "\n",
    "그림판에서 사용할 모든 도형 클래스는 좌표를 나타내는 인스턴스 변수 x와 y를 반드시 가져야한다고 가정합시다. 어떻게하면 추상 클래스를 사용해 각 자식 클래스가 이 변수를 갖도록 유도할 수 있을까요? "
   ]
  },
  {
   "cell_type": "code",
   "execution_count": 21,
   "metadata": {},
   "outputs": [],
   "source": [
    "from abc import ABC, abstractmethod\n",
    "\n",
    "class Shape(ABC):\n",
    "    \"\"\"도형 클래스\"\"\"\n",
    "    @abstractmethod\n",
    "    def area(self) -> float:\n",
    "        \"\"\"도형의 넓이를 리턴한다: 자식 클래스가 오버라이딩할 것\"\"\"\n",
    "        print(\"도형 넓이 계산 중!\")\n",
    "\n",
    "    @abstractmethod\n",
    "    def perimeter(self) -> float:\n",
    "        \"\"\"도형의 둘레를 리턴한다: 자식 클래스가 오버라이딩할 것\"\"\"\n",
    "        pass\n",
    "\n",
    "    def __str__(self):\n",
    "        return \"추상 클래스라고 해서 모든 메소드가 추상 메소드일 필요는 없습니다!\"\n",
    "\n",
    "    @property\n",
    "    @abstractmethod\n",
    "    def x(self):\n",
    "        \"\"\"도형의 x 좌표 getter 메소드\"\"\"\n",
    "        pass\n",
    "\n",
    "    @property\n",
    "    @abstractmethod\n",
    "    def y(self):\n",
    "        \"\"\"도형의 y 좌표 getter 메소드\"\"\"\n",
    "        pass"
   ]
  },
  {
   "cell_type": "markdown",
   "metadata": {},
   "source": [
    "위 코드를 보세요. 이 Shape 클래스는 지금 x 메소드와 y 메소드를 getter메소드이자 추상메소드로 갖고 있습니다. @property는 파이썬스럽게 getter/setter 메소드를 정의하는 방법에서 배웠던 데코레이터입니다. 기억나조?\n",
    "\n",
    "이렇게 @property와 @abstractedmethod 데코레이터를 메소드 이름 위에 연달아 적어주면 이 메소드는 getter메소드이자 추상메소드가 됩니다. 즉, 어떤 변수에 대한 getter 메소드를 뜻하지만 아직 내용이 비어있어 어떤 변수를 리턴하는지는 결정되지 않은 것이조. 이때 Shape클래스를 상속받는 자식클래스에서 어떤 변수를 리턴하는지 즉, 이 getter 메소드가 어떤 변수에 대한 것인지를 나타내도록 오버라이딩해야하는 것입니다. \n",
    "\n",
    "일단 Shape클래스를 상속받는 정삼각형 클래스은 EquliateralTriangle클래스를 정의했습니다. getter메소들을 오버라이딩하지 않으면 다음과 같은 에러가 뜹니다.     \n",
    "\n",
    "\n"
   ]
  },
  {
   "cell_type": "code",
   "execution_count": 17,
   "metadata": {},
   "outputs": [
    {
     "output_type": "error",
     "ename": "TypeError",
     "evalue": "Can't instantiate abstract class EquilateralTriangle with abstract methods x, y",
     "traceback": [
      "\u001b[1;31m---------------------------------------------------------------------------\u001b[0m",
      "\u001b[1;31mTypeError\u001b[0m                                 Traceback (most recent call last)",
      "\u001b[1;32m<ipython-input-17-c100e37fc2e5>\u001b[0m in \u001b[0;36m<module>\u001b[1;34m\u001b[0m\n\u001b[0;32m     12\u001b[0m         \u001b[1;32mreturn\u001b[0m \u001b[1;36m3\u001b[0m \u001b[1;33m*\u001b[0m \u001b[0mself\u001b[0m\u001b[1;33m.\u001b[0m\u001b[0mside\u001b[0m\u001b[1;33m\u001b[0m\u001b[1;33m\u001b[0m\u001b[0m\n\u001b[0;32m     13\u001b[0m \u001b[1;33m\u001b[0m\u001b[0m\n\u001b[1;32m---> 14\u001b[1;33m \u001b[0mequilateral_triangle\u001b[0m \u001b[1;33m=\u001b[0m \u001b[0mEquilateralTriangle\u001b[0m\u001b[1;33m(\u001b[0m\u001b[1;36m4\u001b[0m\u001b[1;33m)\u001b[0m \u001b[1;31m# 에러 발생: TypeError: Can't instantiate abstract class EquilateralTriangle with abstract methods x, y\u001b[0m\u001b[1;33m\u001b[0m\u001b[1;33m\u001b[0m\u001b[0m\n\u001b[0m",
      "\u001b[1;31mTypeError\u001b[0m: Can't instantiate abstract class EquilateralTriangle with abstract methods x, y"
     ]
    }
   ],
   "source": [
    "class EquilateralTriangle(Shape):\n",
    "    \"\"\"정삼각형을 나타내는 클래스\"\"\"\n",
    "    def __init__(self, side):\n",
    "        self.side = side\n",
    "\n",
    "    def area(self):\n",
    "        \"\"\"정삼각형의 넓이를 리턴한다\"\"\"\n",
    "        return sqrt(3) * self.side * self.side / 4\n",
    "\n",
    "    def perimeter(self):\n",
    "        \"\"\"정삼각형의 둘레를 리턴한다\"\"\"\n",
    "        return 3 * self.side\n",
    "\n",
    "equilateral_triangle = EquilateralTriangle(4) # 에러 발생: TypeError: Can't instantiate abstract class EquilateralTriangle with abstract methods x, y"
   ]
  },
  {
   "cell_type": "markdown",
   "metadata": {},
   "source": [
    "추상 메서드 x,y를 오버라이딩 하지 않아서 생긴 에러입니다. \n",
    "그렇다면 각 getter 메소드는 어떻게 오버라이딩 하면 될까요?\n",
    "\n",
    "보통     \n",
    "1. 인스턴스 변수의 이름은 예를들어 _apple처럼 캡슐화를 적용한 것으로 나타내고   \n",
    "2. getter 메서드의 이름은 apple 처럼 캡슐화된 변수 이름 앞에서 밑줄을 뺀 이름\n",
    "\n",
    "으로 한다고 배웠습니다. 이 경우에 적용한다면 x는 인스턴스 변수 _x의 getter메서드로, y는 인스턴스 변수 _y의 getter 메서드로 해주면 좋을 것 같네요.   \n"
   ]
  },
  {
   "cell_type": "code",
   "execution_count": 18,
   "metadata": {},
   "outputs": [
    {
     "output_type": "error",
     "ename": "IndentationError",
     "evalue": "unexpected indent (<ipython-input-18-9a199369b75f>, line 2)",
     "traceback": [
      "\u001b[1;36m  File \u001b[1;32m\"<ipython-input-18-9a199369b75f>\"\u001b[1;36m, line \u001b[1;32m2\u001b[0m\n\u001b[1;33m    def x(self):\u001b[0m\n\u001b[1;37m    ^\u001b[0m\n\u001b[1;31mIndentationError\u001b[0m\u001b[1;31m:\u001b[0m unexpected indent\n"
     ]
    }
   ],
   "source": [
    "@property\n",
    "    def x(self):\n",
    "        \"\"\"_x getter 메소드\"\"\"\n",
    "        return self._x\n",
    "\n",
    "@x.setter\n",
    "    def x(self, value):\n",
    "        \"\"\"_x setter 메소드\"\"\"\n",
    "        self._x = value"
   ]
  },
  {
   "cell_type": "markdown",
   "metadata": {},
   "source": [
    "혹시 @property 데코레이터의 기능이 잘 생각나지 않는 분을 위해 설명하자면 이 코드의 의미는 이 클래스의 인스턴스에 대해 self.x, 인스턴스 이름.x와 같은 부분을 실행할 때, getter 메소드 x를 실행한다는 의미입니다. 즉, @property가 붙으면 이런 구문들이 인스턴스 변수 x의 값을 직접 읽는다는 원래의 뜻이 아니라 getter 메서드 x를 실행한다는 의미로 바뀌는 거조.   \n",
    "\n",
    "그 아래 @x.setter가 붙은 메소드는 이 클래스의 인스턴에 대해서 self.x = 3, 인스턴스 이름.x = 3과 같은 부분을 실행할때 setter 메서드 x를 실행한다는 의미입니다.   \n",
    "즉, @x.setter가 붙으면 이런 구문들이 인스턴스 변수 x에 어떤 값을 설정한다는 원래의 뜻이 아니라 setter 메서드 x를 실행한다는 의미로 바뀌는 것이구요. \n",
    "\n",
    "그럼 이때까지 설명한 조건에 부합하는 EquilateralTriangle 클래스를 완성한 결과를 봐요.   "
   ]
  },
  {
   "cell_type": "code",
   "execution_count": 24,
   "metadata": {},
   "outputs": [
    {
     "output_type": "error",
     "ename": "IndentationError",
     "evalue": "unindent does not match any outer indentation level (<tokenize>, line 3)",
     "traceback": [
      "\u001b[1;36m  File \u001b[1;32m\"<tokenize>\"\u001b[1;36m, line \u001b[1;32m3\u001b[0m\n\u001b[1;33m    def __init__(self, x, y, side):\u001b[0m\n\u001b[1;37m    ^\u001b[0m\n\u001b[1;31mIndentationError\u001b[0m\u001b[1;31m:\u001b[0m unindent does not match any outer indentation level\n"
     ]
    }
   ],
   "source": [
    "class EquilateralTriangle(Shape):\n",
    "     \"\"\"정삼각형 클래스\"\"\"\n",
    "    def __init__(self, x, y, side):\n",
    "        self._x = x\n",
    "        self._y = y\n",
    "        self.side = side\n",
    "\n",
    "    def area(self):\n",
    "        \"\"\"정삼각형의 넓이를 리턴한다\"\"\"\n",
    "        return sqrt(3) * self.side * self.side / 4\n",
    "\n",
    "    def perimeter(self):\n",
    "        \"\"\"정삼각형의 둘레를 리턴한다\"\"\"\n",
    "        return 3 * self.side\n",
    "\n",
    "    @property\n",
    "    def x(self):\n",
    "        \"\"\"_x getter 메소드\"\"\"\n",
    "        return self._x\n",
    "\n",
    "    @x.setter\n",
    "    def x(self, value):\n",
    "        \"\"\"_x setter 메소드\"\"\"\n",
    "        self._x = value\n",
    "\n",
    "    @property\n",
    "    def y(self):\n",
    "        \"\"\"_y getter 메소드\"\"\"\n",
    "        return self._y\n",
    "\n",
    "    @y.setter\n",
    "    def y(self, value):\n",
    "        \"\"\"_y setter 메소드\"\"\"\n",
    "        self._y = value\n",
    "\n",
    "equilateral_triangle = EquilateralTriangle(5, 6, 4) # 에러가 나지 않는다\n",
    "equilateral_triangle.x = 10\n",
    "print(equilateral_triangle.x) # 출력: 10\n",
    "\n",
    "equilateral_triangle.y = 5 \n",
    "print(equilateral_triangle.y) # 출력: 5"
   ]
  },
  {
   "cell_type": "markdown",
   "metadata": {},
   "source": [
    "이 코드는 잘 실행됩니다.  물론 Shape 클래스에서 자식 클래스에 getter 메소드를 오버라이딩하도록 강제한다고 해도 자식 클래스에서 이 메소드를 변수의 내용을 가져오는 getter 메소드로서의 내용이 아닌 아예 엉뚱한 내용으로 오버라이딩할 수도 있습니다. 하지만 파이썬의 문화를 잘 따르는 개발자라면 getter/setter 메소드의 내용이 되도록 오버라이딩할 것입니다. 이처럼 부모 클래스에서 추상 메소드인 getter 메소드를 만들어서 자식 클래스가 그 getter 메소드의 대상이 되는 인스턴스 변수를 갖도록 유도할 수 있는 것입니다!"
   ]
  }
 ],
 "metadata": {
  "language_info": {
   "codemirror_mode": {
    "name": "ipython",
    "version": 3
   },
   "file_extension": ".py",
   "mimetype": "text/x-python",
   "name": "python",
   "nbconvert_exporter": "python",
   "pygments_lexer": "ipython3",
   "version": "3.8.1-final"
  },
  "orig_nbformat": 2,
  "kernelspec": {
   "name": "python38164bitpytorchcondae2e836418e8f4945879c9669572061e2",
   "display_name": "Python 3.8.1 64-bit ('pytorch': conda)"
  }
 },
 "nbformat": 4,
 "nbformat_minor": 2
}