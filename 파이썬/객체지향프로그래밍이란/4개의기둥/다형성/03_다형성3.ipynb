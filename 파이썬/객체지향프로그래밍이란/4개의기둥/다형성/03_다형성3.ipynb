{
 "cells": [
  {
   "cell_type": "markdown",
   "metadata": {},
   "source": [
    "# 원통 (Cylinder)클래스 \n",
    "\n",
    "이번에는 입체 도형 중 하나인 원통을 나타내는 클래스를 지난 영상에서 작성한 코드에 추가해봅시다. 도형이라서 Rectangle 클래스, Circle 클래스와 달리 넓이, 둘레를 구하는 메소드를 두지 않겠습니다."
   ]
  },
  {
   "cell_type": "code",
   "execution_count": 9,
   "metadata": {},
   "outputs": [],
   "source": [
    "class Rectangle: \n",
    "\n",
    "    def __init__(self, width, height):\n",
    "        self.width = width\n",
    "        self.height = height\n",
    "    def area(self):\n",
    "        return self.width * self.height\n",
    "    def perimeter(self):\n",
    "        return 2*(self.width + self.height)\n",
    "    def __str__(self):\n",
    "        return f'밑변 {self.width}, 높이 {self.height}인 직사각형'\n",
    "from math import pi\n",
    "class Circle:\n",
    "    def __init__(self, radius):\n",
    "        self.radius = radius\n",
    "    def area(self):\n",
    "        return pi * self.radius * self.radius\n",
    "    def perimeter(self):\n",
    "        return 2*pi * self.radius\n",
    "    def __str__(self):\n",
    "        return f'반지름 {self.radius}인 원'\n",
    "\n",
    "class Cylinder:\n",
    "\n",
    "    def __init__(self, radius, height):\n",
    "        self.radius = radius \n",
    "        self.height = height \n",
    "    def __str__(self):\n",
    "        return f'밑면 반지름 {self.radius}, 높이 {self.height}인 원기둥'\n",
    "\n",
    "\n",
    "class Paint: \n",
    "   \n",
    "    def __init__(self):\n",
    "        self.shapes = []\n",
    "    \n",
    "    \n",
    "    def add_shape(self,shape):\n",
    "        if isinstance(shape,Circle) or isinstance(shape, Rectangle):\n",
    "            self.shapes.append(shape)\n",
    "        else:\n",
    "            print('넓이와 둘레를 구하는 메소드가 없는 도형입니다.')\n",
    "    \n",
    "    \n",
    "    def total_area_of_shapes(self):\n",
    "        return sum([shape.area() for shape in self.shapes])\n",
    "    def total_perimeter_of_shapes(self):\n",
    "        return sum([shape.perimeter() for shape in self.shapes])\n",
    "    def __str__(self):\n",
    "        res_str = '그림판 안에 있는 도형들:\\n\\n'\n",
    "        for shape in self.shapes: \n",
    "            res_str += str(shape) +'\\n'\n",
    "        return res_str\n"
   ]
  },
  {
   "cell_type": "code",
   "execution_count": 8,
   "metadata": {},
   "outputs": [
    {
     "output_type": "stream",
     "name": "stdout",
     "text": "<bound method Paint.total_area_of_shapes of <__main__.Paint object at 0x000001E3C3B94AC0>>\n"
    }
   ],
   "source": [
    "# 이번에는 그림판 프로그램에 원통 인스턴스도 추가해 볼까요??\n",
    "cylinder = Cylinder(7,4)\n",
    "rectangle = Rectangle(3,7)\n",
    "circle = Circle(4)\n",
    "paint_program = Paint()\n",
    "\n",
    "paint_program.add_shape(cylinder)\n",
    "paint_program.add_shape(circle)\n",
    "paint_program.add_shape(rectangle)\n",
    "\n",
    "\n",
    "print(paint_program.total_area_of_shapes)\n",
    "# print(paint_program.total_perimeter_of_shapes()) #에러발생"
   ]
  },
  {
   "cell_type": "markdown",
   "metadata": {},
   "source": [
    "위 코드의 오류 이유는 Cylinder클래스에는 perimeter 메소드가 없기 때문입니다. 당연한 결과죠? Rectangle 클래스, Circle 클래스에는 있는 함수를 아까 Cylinder 클래스는 두지 않았으니까요! \n",
    "\n",
    "이 문제를 한번 해결해 봅시다. 상속에서 배웠던 isinstance 함수가 혹시 기억나시나요? 이 함수를 사용해 봅시다. 리스트 shapes에 도형을 추가하기 전에 그 인스턴스가 Rectangle 클래스의 인스턴스 혹은 Circle 클래스의 인스턴스가 맞는지 확인하고 마즌ㄴ 경우에만 추가하면 어떨까요? 이렇게 하면 shapes에 추가되는 모든 인스턴스가 area와 perimeter 메소드를 갖고 있을 테니 에러가 생기는 일은 없겠지요?"
   ]
  },
  {
   "cell_type": "code",
   "execution_count": null,
   "metadata": {},
   "outputs": [],
   "source": [
    "class Paint:\n",
    "    \"\"\"그림판 프로그램 클래스\"\"\"\n",
    "    def __init__(self):\n",
    "        self.shapes = []\n",
    "\n",
    "    def add_shape(self, shape):\n",
    "        \"\"\"그림판에 도형을 추가한다\"\"\"\n",
    "        if isinstance(shape, Circle) or isintance(shape, Rectangle):\n",
    "            self.shapes.append(shape)\n",
    "        else:\n",
    "            print(\"넓이, 둘레를 구하는 메소드가 없는 도형은 추가할 수 없습니다!\")\n",
    "\n",
    "    def total_area_of_shapes(self):\n",
    "        \"\"\"그림판에 있는 모든 도형의 넓이의 합을 구한다\"\"\"\n",
    "        return sum([shape.area() for shape in self.shapes])\n",
    "\n",
    "    def total_perimeter_of_shapes(self):\n",
    "        \"\"\"그림판에 있는 모든 도형의 둘레의 합을 구한다\"\"\"\n",
    "        return sum([shape.perimeter() for shape in self.shapes])"
   ]
  },
  {
   "cell_type": "markdown",
   "metadata": {},
   "source": [
    "다행히 이런 방식으로 문제는 해결됐지만 앞으로 그림판 프로그램이 발전하면서 삼각형, 별 모양 등과 같은 새 도형이 추가된다면 문제가 생깁니다. 즉, 새로운 도형 클래스를 만들 때마다 add_shape 메소드에 방금과 같이 area 메소드와 perimeter메소드를 가진 클래스인지를 확인하는 코드, 그러니까 isinstance함수를 추가해야 합니다. 그리고 지금이야 도형 클래스 종류가 적지만 도형 종류가 100개이상으로 넘어간다면 실수로 어떤 클래스에 대한 isinstance함수는 빠뜨릴 수도 있는데요. \n",
    "\n",
    "좀 더 효율적이고 안전하게 다형성을 적용할 방법이 없을까요?"
   ]
  },
  {
   "cell_type": "code",
   "execution_count": null,
   "metadata": {},
   "outputs": [],
   "source": []
  },
  {
   "cell_type": "code",
   "execution_count": null,
   "metadata": {},
   "outputs": [],
   "source": []
  },
  {
   "cell_type": "code",
   "execution_count": null,
   "metadata": {},
   "outputs": [],
   "source": []
  },
  {
   "cell_type": "code",
   "execution_count": null,
   "metadata": {},
   "outputs": [],
   "source": []
  },
  {
   "cell_type": "code",
   "execution_count": null,
   "metadata": {},
   "outputs": [],
   "source": []
  },
  {
   "cell_type": "code",
   "execution_count": null,
   "metadata": {},
   "outputs": [],
   "source": []
  },
  {
   "cell_type": "code",
   "execution_count": null,
   "metadata": {},
   "outputs": [],
   "source": []
  },
  {
   "cell_type": "code",
   "execution_count": null,
   "metadata": {},
   "outputs": [],
   "source": []
  },
  {
   "cell_type": "code",
   "execution_count": null,
   "metadata": {},
   "outputs": [],
   "source": []
  },
  {
   "cell_type": "code",
   "execution_count": null,
   "metadata": {},
   "outputs": [],
   "source": []
  },
  {
   "cell_type": "code",
   "execution_count": null,
   "metadata": {},
   "outputs": [],
   "source": []
  },
  {
   "cell_type": "code",
   "execution_count": null,
   "metadata": {},
   "outputs": [],
   "source": []
  },
  {
   "cell_type": "code",
   "execution_count": null,
   "metadata": {},
   "outputs": [],
   "source": []
  },
  {
   "cell_type": "code",
   "execution_count": null,
   "metadata": {},
   "outputs": [],
   "source": []
  },
  {
   "cell_type": "code",
   "execution_count": null,
   "metadata": {},
   "outputs": [],
   "source": []
  },
  {
   "cell_type": "code",
   "execution_count": null,
   "metadata": {},
   "outputs": [],
   "source": []
  },
  {
   "cell_type": "code",
   "execution_count": null,
   "metadata": {},
   "outputs": [],
   "source": []
  },
  {
   "cell_type": "code",
   "execution_count": null,
   "metadata": {},
   "outputs": [],
   "source": []
  },
  {
   "cell_type": "code",
   "execution_count": null,
   "metadata": {},
   "outputs": [],
   "source": []
  },
  {
   "cell_type": "code",
   "execution_count": null,
   "metadata": {},
   "outputs": [],
   "source": []
  },
  {
   "cell_type": "code",
   "execution_count": null,
   "metadata": {},
   "outputs": [],
   "source": []
  },
  {
   "cell_type": "code",
   "execution_count": null,
   "metadata": {},
   "outputs": [],
   "source": []
  },
  {
   "cell_type": "code",
   "execution_count": null,
   "metadata": {},
   "outputs": [],
   "source": []
  },
  {
   "cell_type": "code",
   "execution_count": null,
   "metadata": {},
   "outputs": [],
   "source": []
  },
  {
   "cell_type": "code",
   "execution_count": null,
   "metadata": {},
   "outputs": [],
   "source": []
  },
  {
   "cell_type": "code",
   "execution_count": null,
   "metadata": {},
   "outputs": [],
   "source": []
  },
  {
   "cell_type": "code",
   "execution_count": null,
   "metadata": {},
   "outputs": [],
   "source": []
  },
  {
   "cell_type": "code",
   "execution_count": null,
   "metadata": {},
   "outputs": [],
   "source": []
  },
  {
   "cell_type": "code",
   "execution_count": null,
   "metadata": {},
   "outputs": [],
   "source": []
  },
  {
   "cell_type": "code",
   "execution_count": null,
   "metadata": {},
   "outputs": [],
   "source": []
  },
  {
   "cell_type": "code",
   "execution_count": null,
   "metadata": {},
   "outputs": [],
   "source": []
  },
  {
   "cell_type": "code",
   "execution_count": null,
   "metadata": {},
   "outputs": [],
   "source": []
  },
  {
   "cell_type": "code",
   "execution_count": null,
   "metadata": {},
   "outputs": [],
   "source": []
  },
  {
   "cell_type": "code",
   "execution_count": null,
   "metadata": {},
   "outputs": [],
   "source": []
  },
  {
   "cell_type": "code",
   "execution_count": null,
   "metadata": {},
   "outputs": [],
   "source": []
  }
 ],
 "metadata": {
  "language_info": {
   "codemirror_mode": {
    "name": "ipython",
    "version": 3
   },
   "file_extension": ".py",
   "mimetype": "text/x-python",
   "name": "python",
   "nbconvert_exporter": "python",
   "pygments_lexer": "ipython3",
   "version": "3.8.1-final"
  },
  "orig_nbformat": 2,
  "kernelspec": {
   "name": "python38164bitpytorchcondae2e836418e8f4945879c9669572061e2",
   "display_name": "Python 3.8.1 64-bit ('pytorch': conda)"
  }
 },
 "nbformat": 4,
 "nbformat_minor": 2
}