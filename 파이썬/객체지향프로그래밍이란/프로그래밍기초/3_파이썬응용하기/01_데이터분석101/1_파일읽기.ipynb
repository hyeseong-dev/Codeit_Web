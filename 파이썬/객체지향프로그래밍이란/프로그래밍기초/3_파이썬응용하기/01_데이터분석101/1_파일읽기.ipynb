{
 "nbformat": 4,
 "nbformat_minor": 2,
 "metadata": {
  "language_info": {
   "name": "python",
   "codemirror_mode": {
    "name": "ipython",
    "version": 3
   },
   "version": "3.8.1-final"
  },
  "orig_nbformat": 2,
  "file_extension": ".py",
  "mimetype": "text/x-python",
  "name": "python",
  "npconvert_exporter": "python",
  "pygments_lexer": "ipython3",
  "version": 3,
  "kernelspec": {
   "name": "python38164bitpytorchcondae2e836418e8f4945879c9669572061e2",
   "display_name": "Python 3.8.1 64-bit ('pytorch': conda)"
  }
 },
 "cells": [
  {
   "cell_type": "code",
   "execution_count": 2,
   "metadata": {},
   "outputs": [],
   "source": [
    "in_file = open('chicken.txt','r',encoding='utf-8')\n",
    "# encoding = 'utf-8'을 해줘서 한글이 저장된 파일을 잘 읽어오게함."
   ]
  },
  {
   "cell_type": "code",
   "execution_count": 3,
   "metadata": {},
   "outputs": [
    {
     "output_type": "stream",
     "name": "stdout",
     "text": "<class '_io.TextIOWrapper'>\n"
    }
   ],
   "source": [
    "print(type(in_file))"
   ]
  },
  {
   "cell_type": "code",
   "execution_count": 4,
   "metadata": {},
   "outputs": [
    {
     "output_type": "stream",
     "name": "stdout",
     "text": "1일 6071460\n\n2일 3359255\n\n3일 4594779\n\n4일 4733985\n\n5일 8385849\n\n6일 8744430\n\n7일 8899418\n\n8일 3905785\n\n9일 5616918\n\n10일 3890527\n\n11일 6871321\n\n12일 7274477\n\n13일 2290481\n\n14일 5514971\n\n15일 4456733\n\n16일 6965809\n\n17일 1997014\n\n18일 5399424\n\n19일 4245780\n\n20일 1023692\n\n21일 3388889\n\n22일 3218884\n\n23일 4757256\n\n24일 6070381\n\n25일 2059932\n\n26일 6971719\n\n27일 7261403\n\n28일 5785911\n\n29일 6746583\n\n30일 5040428\n\n31일 5716497\n\n32일 5664854\n\n33일 6339230\n\n34일 8227613\n\n35일 6616979\n\n36일 8745565\n\n37일 1542542\n\n38일 3312067\n\n39일 4333022\n\n40일 2840841\n\n41일 1636425\n\n42일 8178529\n\n43일 6093461\n\n44일 8083429\n\n45일 2303879\n\n46일 6468353\n\n47일 2379038\n\n48일 1040199\n\n49일 1900352\n\n50일 6812663\n\n51일 7703777\n\n52일 5197876\n\n53일 3787192\n\n54일 1056313\n\n55일 8788334\n\n56일 3345365\n\n57일 6958896\n\n58일 4153244\n\n59일 3660648\n\n60일 4850034\n\n61일 3582031\n\n62일 1922051\n\n63일 8410435\n\n64일 2187602\n\n65일 5048008\n\n66일 2004627\n\n67일 5742761\n\n68일 6447352\n\n69일 7207379\n\n70일 7902505\n\n71일 8916113\n\n72일 5770374\n\n73일 3900284\n\n74일 8842026\n\n75일 3130842\n\n76일 8173243\n\n77일 8234513\n\n78일 4021124\n\n79일 1230819\n\n80일 1175050\n\n81일 7073440\n\n82일 5348594\n\n83일 5660480\n\n84일 6541551\n\n85일 4748260\n\n86일 2638609\n\n87일 8913033\n\n88일 6894060\n\n89일 7886439\n\n90일 8138762\n\n91일 1985440\n\n92일 8216871\n\n93일 5495664\n\n94일 6574713\n\n95일 7859586\n\n96일 8065024\n\n97일 1783169\n\n98일 6956386\n\n99일 7249980\n\n100일 2587215\n"
    }
   ],
   "source": [
    "\"\"\" 파일을 한 줄씩 불러온다.\"\"\"\n",
    "for line in in_file:\n",
    "    print(line)"
   ]
  },
  {
   "cell_type": "code",
   "execution_count": 5,
   "metadata": {},
   "outputs": [
    {
     "output_type": "execute_result",
     "data": {
      "text/plain": "' 파일을 한방에 다 불러온다. 하지만 파일이 큰 경우 메모리 문제가 발생 할 수 있음.'"
     },
     "metadata": {},
     "execution_count": 5
    }
   ],
   "source": [
    "\"\"\" 파일을 한방에 다 불러온다. 하지만 파일이 큰 경우 메모리 문제가 발생 할 수 있음.\"\"\""
   ]
  },
  {
   "cell_type": "code",
   "execution_count": 8,
   "metadata": {},
   "outputs": [
    {
     "output_type": "stream",
     "name": "stdout",
     "text": "1일 6071460\n2일 3359255\n3일 4594779\n4일 4733985\n5일 8385849\n6일 8744430\n7일 8899418\n8일 3905785\n9일 5616918\n10일 3890527\n11일 6871321\n12일 7274477\n13일 2290481\n14일 5514971\n15일 4456733\n16일 6965809\n17일 1997014\n18일 5399424\n19일 4245780\n20일 1023692\n21일 3388889\n22일 3218884\n23일 4757256\n24일 6070381\n25일 2059932\n26일 6971719\n27일 7261403\n28일 5785911\n29일 6746583\n30일 5040428\n31일 5716497\n32일 5664854\n33일 6339230\n34일 8227613\n35일 6616979\n36일 8745565\n37일 1542542\n38일 3312067\n39일 4333022\n40일 2840841\n41일 1636425\n42일 8178529\n43일 6093461\n44일 8083429\n45일 2303879\n46일 6468353\n47일 2379038\n48일 1040199\n49일 1900352\n50일 6812663\n51일 7703777\n52일 5197876\n53일 3787192\n54일 1056313\n55일 8788334\n56일 3345365\n57일 6958896\n58일 4153244\n59일 3660648\n60일 4850034\n61일 3582031\n62일 1922051\n63일 8410435\n64일 2187602\n65일 5048008\n66일 2004627\n67일 5742761\n68일 6447352\n69일 7207379\n70일 7902505\n71일 8916113\n72일 5770374\n73일 3900284\n74일 8842026\n75일 3130842\n76일 8173243\n77일 8234513\n78일 4021124\n79일 1230819\n80일 1175050\n81일 7073440\n82일 5348594\n83일 5660480\n84일 6541551\n85일 4748260\n86일 2638609\n87일 8913033\n88일 6894060\n89일 7886439\n90일 8138762\n91일 1985440\n92일 8216871\n93일 5495664\n94일 6574713\n95일 7859586\n96일 8065024\n97일 1783169\n98일 6956386\n99일 7249980\n100일 2587215\n"
    }
   ],
   "source": [
    "f = open('chicken.txt','r',encoding = 'utf-8')\n",
    "print(f.read())\n",
    "f.close()\n",
    "# readline() VS readlines() 함수의 차이점을 인식하세요.(실행하3)"
   ]
  },
  {
   "cell_type": "code",
   "execution_count": null,
   "metadata": {},
   "outputs": [],
   "source": []
  },
  {
   "cell_type": "code",
   "execution_count": null,
   "metadata": {},
   "outputs": [],
   "source": []
  },
  {
   "cell_type": "code",
   "execution_count": null,
   "metadata": {},
   "outputs": [],
   "source": []
  },
  {
   "cell_type": "code",
   "execution_count": null,
   "metadata": {},
   "outputs": [],
   "source": []
  },
  {
   "cell_type": "code",
   "execution_count": null,
   "metadata": {},
   "outputs": [],
   "source": []
  },
  {
   "cell_type": "code",
   "execution_count": null,
   "metadata": {},
   "outputs": [],
   "source": []
  }
 ]
}