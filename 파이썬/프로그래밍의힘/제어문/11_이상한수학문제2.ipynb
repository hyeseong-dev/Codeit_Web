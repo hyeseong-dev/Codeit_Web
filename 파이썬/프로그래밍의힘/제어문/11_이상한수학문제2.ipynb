{
 "nbformat": 4,
 "nbformat_minor": 2,
 "metadata": {
  "language_info": {
   "name": "python",
   "codemirror_mode": {
    "name": "ipython",
    "version": 3
   },
   "version": "3.7.4-final"
  },
  "orig_nbformat": 2,
  "file_extension": ".py",
  "mimetype": "text/x-python",
  "name": "python",
  "npconvert_exporter": "python",
  "pygments_lexer": "ipython3",
  "version": 3,
  "kernelspec": {
   "name": "python37464bitanacondaconda7a410613194842c7b8b263458edf01ce",
   "display_name": "Python 3.7.4 64-bit ('Anaconda': conda)"
  }
 },
 "cells": [
  {
   "cell_type": "code",
   "execution_count": null,
   "metadata": {},
   "outputs": [],
   "source": [
    "# 풀이 1번 for문/n",
    "i = 1/n",
    "result = 0/n",
    "for i in range(1,1000):/n",
    "    if i%2 == 0 or i%3 == 0:/n",
    "        result += i/n",
    "print(result)"
   ]
  },
  {
   "cell_type": "code",
   "execution_count": null,
   "metadata": {},
   "outputs": [],
   "source": [
    "# 풀이 2번 while문/n"
   ]
  },
  {
   "cell_type": "code",
   "execution_count": null,
   "metadata": {},
   "outputs": [],
   "source": [
    "#리스트 컴프리헨션/n",
    "print(sum([i for i in range(1,1000) if i%2 == 0 or i%3 == 0]))/n"
   ]
  },
  {
   "cell_type": "code",
   "execution_count": 1,
   "metadata": {},
   "outputs": [
    {
     "output_type": "execute_result",
     "data": {
      "text/plain": "333167"
     },
     "metadata": {},
     "execution_count": 1
    }
   ],
   "source": [
    "# 함수로 표현하기/n",
    "def sum_(num):/n",
    "    i = 1/n",
    "    result = 0/n",
    "    for i in range(1,num):/n",
    "        if i%2 == 0 or i%3 == 0:/n",
    "            result += i/n",
    "    return result/n",
    "/n",
    "sum_(1000)"
   ]
  },
  {
   "cell_type": "code",
   "execution_count": null,
   "metadata": {},
   "outputs": [],
   "source": [
    "# 람다로 표현하기/n",
    "/n",
    "sum_ =  lambda x : i%2 == 0 or i%3 == 0"
   ]
  },
  {
   "cell_type": "code",
   "execution_count": 6,
   "metadata": {},
   "outputs": [
    {
     "output_type": "error",
     "ename": "SyntaxError",
     "evalue": "invalid syntax (<ipython-input-6-c878c4d269e0>, line 4)",
     "traceback": [
      "/u001b[1;36m  File /u001b[1;32m/"<ipython-input-6-c878c4d269e0>/"/u001b[1;36m, line /u001b[1;32m4/u001b[0m/n/u001b[1;33m    result2 = list(map(lambda x : str(x) if x % 2 == 0 or x%3==0 else pass, for i in range(1,1000))) # 짝수인 것은 string 타입으로 cast 아니면 단순히 반환/u001b[0m/n/u001b[1;37m                                                                         ^/u001b[0m/n/u001b[1;31mSyntaxError/u001b[0m/u001b[1;31m:/u001b[0m invalid syntax/n"
     ]
    }
   ],
   "source": [
    "a = [1, 6, 2, 5, 2, 7, 2, 8, 9, 11, 5, 26] /n",
    "result = list(map(lambda x : x**2, a)) # 제곱시키기 /n",
    "print(result) /n",
    "result2 = list(map(lambda x : str(x) if x % 2 == 0 or x%3==0 else pass, for i in range(1,1000))) # 짝수인 것은 string 타입으로 cast 아니면 단순히 반환/n",
    "print(sum(result2))/n",
    ""
   ]
  },
  {
   "cell_type": "code",
   "execution_count": null,
   "metadata": {},
   "outputs": [],
   "source": []
  },
  {
   "cell_type": "code",
   "execution_count": null,
   "metadata": {},
   "outputs": [],
   "source": []
  }
 ]
}