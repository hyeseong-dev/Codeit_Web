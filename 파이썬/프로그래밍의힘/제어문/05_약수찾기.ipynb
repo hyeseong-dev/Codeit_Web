{
 "cells": [
  {
   "cell_type": "code",
   "execution_count": 1,
   "metadata": {},
   "outputs": [
    {
     "output_type": "stream",
     "name": "stdout",
     "text": "1/n2/n3/n4/n5/n6/n8/n10/n12/n15/n20/n24/n30/n40/n60/n120/n120의 약수는 총 16개입니다./n<class 'int'>/n"
    }
   ],
   "source": [
    "i = 0/n",
    "count = 0/n",
    "/n",
    "while i <= 120:/n",
    "    i = i + 1/n",
    "    if 120 % i == 0:/n",
    "        count = count + 1/n",
    "        print(i)/n",
    "print('120의 약수는 총 %s개입니다.' % (count))/n",
    "print(type(count))"
   ]
  }
 ],
 "metadata": {
  "language_info": {
   "codemirror_mode": {
    "name": "ipython",
    "version": 3
   },
   "file_extension": ".py",
   "mimetype": "text/x-python",
   "name": "python",
   "nbconvert_exporter": "python",
   "pygments_lexer": "ipython3",
   "version": "3.8.2-final"
  },
  "orig_nbformat": 2,
  "kernelspec": {
   "name": "python38264bitmymythonenvconda1f36fd18157f4376a30b6173fcd0cb3f",
   "display_name": "Python 3.8.2 64-bit ('my_mython_env': conda)"
  }
 },
 "nbformat": 4,
 "nbformat_minor": 2
}