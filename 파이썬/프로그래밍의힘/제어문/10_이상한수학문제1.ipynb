{
 "nbformat": 4,
 "nbformat_minor": 2,
 "metadata": {
  "language_info": {
   "name": "python",
   "codemirror_mode": {
    "name": "ipython",
    "version": 3
   },
   "version": "3.7.4-final"
  },
  "orig_nbformat": 2,
  "file_extension": ".py",
  "mimetype": "text/x-python",
  "name": "python",
  "npconvert_exporter": "python",
  "pygments_lexer": "ipython3",
  "version": 3,
  "kernelspec": {
   "name": "python37464bitanacondaconda7a410613194842c7b8b263458edf01ce",
   "display_name": "Python 3.7.4 64-bit ('Anaconda': conda)"
  }
 },
 "cells": [
  {
   "cell_type": "code",
   "execution_count": 1,
   "metadata": {},
   "outputs": [
    {
     "output_type": "stream",
     "name": "stdout",
     "text": "8\n16\n32\n40\n56\n64\n80\n88\n"
    }
   ],
   "source": [
    "# 풀이 방법 1\n",
    "i = 1\n",
    "while i<=100:\n",
    "    if i%8==0 and i%12 !=0: print(i)\n",
    "    i+=1\n",
    "\n",
    "\n",
    ""
   ]
  },
  {
   "cell_type": "code",
   "execution_count": 2,
   "metadata": {},
   "outputs": [
    {
     "output_type": "stream",
     "name": "stdout",
     "text": "8\n16\n32\n40\n56\n64\n80\n88\n"
    }
   ],
   "source": [
    "# 풀이방법 2\n",
    "i = 1\n",
    "while 1:\n",
    "    if i%8==0 and i%12 !=0:\n",
    "        print(i)\n",
    "    elif i > 100:\n",
    "        break\n",
    "    else:\n",
    "        pass\n",
    "    i+=1\n",
    ""
   ]
  },
  {
   "cell_type": "code",
   "execution_count": 8,
   "metadata": {},
   "outputs": [
    {
     "output_type": "stream",
     "name": "stdout",
     "text": "1\n2\n3\n4\n5\n6\n7\n"
    }
   ],
   "source": [
    "# 풀이방법 3\n",
    "i = 1\n",
    "while 1:\n",
    "    if i%8==0 and i%12 !=0:\n",
    "        print(i)\n",
    "    elif i > 100:\n",
    "        break\n",
    "    else:\n",
    "        pass\n",
    "    i+=1\n"
   ]
  }
 ]
}