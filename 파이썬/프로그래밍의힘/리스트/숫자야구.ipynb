{
 "cells": [
  {
   "cell_type": "code",
   "execution_count": 2,
   "metadata": {},
   "outputs": [
    {
     "output_type": "stream",
     "name": "stdout",
     "text": "0과 9 사이의 서로 다른 세 숫자를 랜덤한 순서로 뽑았습니다.\n[3]\n[3, 4]\n[3, 4, 5]\n세 수를 하나씩 차례대로 입력하세요.\n[1]\n중복되는 수 입니다. 다시 입력해주세요.\n[1, 1]\n[1, 1, 5]\n1S 0B \n\n세 수를 하나씩 차례대로 입력하세요.\n[1]\n[1, 5]\n[1, 5, 3]\n0S 2B \n\n세 수를 하나씩 차례대로 입력하세요.\n[2]\n[2, 3]\n[2, 3, 6]\n0S 1B \n\n세 수를 하나씩 차례대로 입력하세요.\n[4]\n범위를 벗어나는 수입니다. 다시 입력해주세요.\n[4, 56]\n[4, 56, 6]\n0S 1B \n\n세 수를 하나씩 차례대로 입력하세요.\n[7]\n[7, 8]\n중복되는 수 입니다. 다시 입력해주세요.\n[7, 8, 8]\n0S 0B \n\n세 수를 하나씩 차례대로 입력하세요.\n범위를 벗어나는 수입니다. 다시 입력해주세요.\n[41]\n[41, 8]\n[41, 8, 1]\n0S 0B \n\n세 수를 하나씩 차례대로 입력하세요.\n"
    },
    {
     "output_type": "error",
     "ename": "ValueError",
     "evalue": "invalid literal for int() with base 10: ''",
     "traceback": [
      "\u001b[1;31m---------------------------------------------------------------------------\u001b[0m",
      "\u001b[1;31mValueError\u001b[0m                                Traceback (most recent call last)",
      "\u001b[1;32m<ipython-input-2-496ea4ab2577>\u001b[0m in \u001b[0;36m<module>\u001b[1;34m\u001b[0m\n\u001b[0;32m     18\u001b[0m     \u001b[0mprint\u001b[0m\u001b[1;33m(\u001b[0m\u001b[1;34m\"세 수를 하나씩 차례대로 입력하세요.\"\u001b[0m\u001b[1;33m)\u001b[0m\u001b[1;33m\u001b[0m\u001b[1;33m\u001b[0m\u001b[0m\n\u001b[0;32m     19\u001b[0m     \u001b[1;32mwhile\u001b[0m \u001b[0mlen\u001b[0m\u001b[1;33m(\u001b[0m\u001b[0muser\u001b[0m\u001b[1;33m)\u001b[0m \u001b[1;33m<\u001b[0m \u001b[1;36m3\u001b[0m\u001b[1;33m:\u001b[0m\u001b[1;33m\u001b[0m\u001b[1;33m\u001b[0m\u001b[0m\n\u001b[1;32m---> 20\u001b[1;33m         \u001b[0muser_numbers\u001b[0m \u001b[1;33m=\u001b[0m \u001b[0mint\u001b[0m\u001b[1;33m(\u001b[0m\u001b[0minput\u001b[0m\u001b[1;33m(\u001b[0m\u001b[1;34m\"%d번째 수를 입력하세요: \"\u001b[0m \u001b[1;33m%\u001b[0m \u001b[0mint\u001b[0m\u001b[1;33m(\u001b[0m\u001b[0mlen\u001b[0m\u001b[1;33m(\u001b[0m\u001b[0muser\u001b[0m\u001b[1;33m)\u001b[0m \u001b[1;33m+\u001b[0m \u001b[1;36m1\u001b[0m\u001b[1;33m)\u001b[0m\u001b[1;33m)\u001b[0m\u001b[1;33m)\u001b[0m\u001b[1;33m\u001b[0m\u001b[1;33m\u001b[0m\u001b[0m\n\u001b[0m\u001b[0;32m     21\u001b[0m         \u001b[1;32mif\u001b[0m \u001b[0muser_numbers\u001b[0m \u001b[1;32min\u001b[0m \u001b[0muser\u001b[0m\u001b[1;33m:\u001b[0m\u001b[1;33m\u001b[0m\u001b[1;33m\u001b[0m\u001b[0m\n\u001b[0;32m     22\u001b[0m             \u001b[0mprint\u001b[0m\u001b[1;33m(\u001b[0m\u001b[1;34m\"중복되는 수 입니다. 다시 입력해주세요.\"\u001b[0m\u001b[1;33m)\u001b[0m\u001b[1;33m\u001b[0m\u001b[1;33m\u001b[0m\u001b[0m\n",
      "\u001b[1;31mValueError\u001b[0m: invalid literal for int() with base 10: ''"
     ]
    }
   ],
   "source": [
    "from random import randint\n",
    "\n",
    "# 랜덤하게 입력되는 3자리수\n",
    "numbers = []\n",
    "print(\"0과 9 사이의 서로 다른 세 숫자를 랜덤한 순서로 뽑았습니다.\")\n",
    "while len(numbers) < 3:\n",
    "    new_numbers = randint(0,9)\n",
    "    if new_numbers in numbers:\n",
    "        new_numbers = randint(0, 9)\n",
    "    numbers.append(new_numbers)\n",
    "    print(numbers)\n",
    "\n",
    "# 사용자가 값을 정확하게 맞출때까지 무한반복\n",
    "count = 0\n",
    "while True:\n",
    "    # 사용자가 입력하는 3자리수\n",
    "    user = []\n",
    "    print(\"세 수를 하나씩 차례대로 입력하세요.\")\n",
    "    while len(user) < 3:\n",
    "        user_numbers = int(input(\"%d번째 수를 입력하세요: \" % int(len(user) + 1)))\n",
    "        if user_numbers in user:\n",
    "            print(\"중복되는 수 입니다. 다시 입력해주세요.\")\n",
    "        elif user_numbers > 9:\n",
    "            print(\"범위를 벗어나는 수입니다. 다시 입력해주세요.\")\n",
    "        user.append(user_numbers)\n",
    "        print(user)\n",
    "\n",
    "    # 스트라이크인지 볼인지 판별\n",
    "    i = 0\n",
    "    s = 0\n",
    "    b = 0\n",
    "    while i < len(numbers):\n",
    "        if numbers[i] == user[i]:\n",
    "            s = s + 1\n",
    "        elif user[i] in numbers:\n",
    "            b = b + 1\n",
    "        i += 1\n",
    "    print(\"%dS %dB \\n\" % (s, b))\n",
    "    count += 1\n",
    "    if s == 3:\n",
    "        print(\"축하합니다. %d번만에 세 숫자의 갑과 위치를 모두 맞추셨습니다.\" % count)\n",
    "        break\n"
   ]
  }
 ],
 "metadata": {
  "language_info": {
   "codemirror_mode": {
    "name": "ipython",
    "version": 3
   },
   "file_extension": ".py",
   "mimetype": "text/x-python",
   "name": "python",
   "nbconvert_exporter": "python",
   "pygments_lexer": "ipython3",
   "version": "3.7.4-final"
  },
  "orig_nbformat": 2,
  "kernelspec": {
   "name": "python37464bitanacondaconda7a410613194842c7b8b263458edf01ce",
   "display_name": "Python 3.7.4 64-bit ('Anaconda': conda)"
  }
 },
 "nbformat": 4,
 "nbformat_minor": 2
}