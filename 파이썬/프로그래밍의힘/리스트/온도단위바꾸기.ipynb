{
 "cells": [
  {
   "cell_type": "markdown",
   "metadata": {},
   "source": [
    " 화씨 온도를 섭씨 온도로 바꾸어주는 프로그램을 만들려고 합니다. /n",
    "섭씨와 화씨의 관계식은 다음과 같습니다. °C = (°F - 32) x 5 / 9/n",
    "/n",
    "아래의 코드에 이어서 정수형 fahrenheit을 파라미터로 받는 fahrenheit_to_celsius 함수를 써보세요. fahrenheit_to_celsius는 화씨 온도 fahrenheit를 섭씨 온도로 바꿔서 리턴합니다."
   ]
  },
  {
   "cell_type": "code",
   "execution_count": 9,
   "metadata": {},
   "outputs": [
    {
     "output_type": "stream",
     "name": "stdout",
     "text": "화씨 온도 리스트: [40, 15, 32, 64, -4, 11]/n섭씨 온도 리스트[4.44, -9.44, 0.0, 17.78, -20.0, -11.67]/n"
    }
   ],
   "source": [
    "# 화씨 온도에서 섭씨 온도로 바꿔주는 함수 /n",
    "def f_2_c(fhr):/n",
    "    return round((fhr - 32)*5 / 9,2)/n",
    "/n",
    "sam_tem_li = [40,15,32,64,-4,11] /n",
    "print('화씨 온도 리스트: ' + str(sam_tem_li))/n",
    "/n",
    "i = 0 /n",
    "while i<len(sam_tem_li):/n",
    "    sam_tem_li[i] = f_2_c(sam_tem_li[i])/n",
    "    i+=1/n",
    "print('섭씨 온도 리스트'+str(sam_tem_li))/n",
    "/n"
   ]
  },
  {
   "cell_type": "code",
   "execution_count": 1,
   "metadata": {},
   "outputs": [
    {
     "output_type": "execute_result",
     "data": {
      "text/plain": "'[40, 15, 32, 64, -4, 11]'"
     },
     "metadata": {},
     "execution_count": 1
    }
   ],
   "source": []
  },
  {
   "cell_type": "code",
   "execution_count": null,
   "metadata": {},
   "outputs": [],
   "source": []
  },
  {
   "cell_type": "code",
   "execution_count": null,
   "metadata": {},
   "outputs": [],
   "source": []
  },
  {
   "cell_type": "code",
   "execution_count": null,
   "metadata": {},
   "outputs": [],
   "source": []
  },
  {
   "cell_type": "code",
   "execution_count": null,
   "metadata": {},
   "outputs": [],
   "source": []
  }
 ],
 "metadata": {
  "language_info": {
   "codemirror_mode": {
    "name": "ipython",
    "version": 3
   },
   "file_extension": ".py",
   "mimetype": "text/x-python",
   "name": "python",
   "nbconvert_exporter": "python",
   "pygments_lexer": "ipython3",
   "version": "3.8.2-final"
  },
  "orig_nbformat": 2,
  "kernelspec": {
   "name": "python38264bitmymythonenvconda1f36fd18157f4376a30b6173fcd0cb3f",
   "display_name": "Python 3.8.2 64-bit ('my_mython_env': conda)"
  }
 },
 "nbformat": 4,
 "nbformat_minor": 2
}