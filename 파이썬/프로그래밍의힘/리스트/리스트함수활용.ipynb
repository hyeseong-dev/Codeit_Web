{
 "cells": [
  {
   "cell_type": "code",
   "execution_count": 162,
   "metadata": {},
   "outputs": [
    {
     "output_type": "stream",
     "name": "stdout",
     "text": "[1, 2, 3, 4, 5, 6, 7, 8, 9, 10]/n"
    }
   ],
   "source": [
    "# numbers라는 빈 리스트를 만든다./n",
    "numbers1 = []/n",
    "/n",
    "for i in range(1,11):/n",
    "    numbers1.append(i)/n",
    "print(numbers1)"
   ]
  },
  {
   "cell_type": "code",
   "execution_count": 163,
   "metadata": {},
   "outputs": [
    {
     "output_type": "stream",
     "name": "stdout",
     "text": "[1, 2, 3, 4, 5, 6, 7, 8, 9, 10]/n[2, 4, 6, 8, 10]/n[20, 2, 4, 6, 8, 10]/n[2, 4, 6, 8, 10, 20]/n"
    }
   ],
   "source": [
    "# numbers라는 빈 리스트를 만든다./n",
    "numbers1 = []/n",
    "/n",
    "for i in range(1,11):/n",
    "    numbers1.append(i)/n",
    "print(numbers1)/n",
    "/n",
    "numbers=[]/n",
    "for i in range(1,11):/n",
    "    numbers.append(i)/n",
    "    if i%2 != 0: /n",
    "        numbers.remove(i)/n",
    "print(numbers)/n",
    "numbers.insert(0,20)/n",
    "print(numbers)/n",
    "numbers = sorted(numbers)/n",
    "print(numbers)"
   ]
  },
  {
   "cell_type": "code",
   "execution_count": 125,
   "metadata": {},
   "outputs": [
    {
     "output_type": "stream",
     "name": "stdout",
     "text": "[1, 2, 3, 4, 5, 6, 7, 8, 9, 10]/n[2, 4, 6, 8, 10]/n[20, 2, 4, 6, 8, 10]/n[2, 4, 6, 8, 10, 20]/n"
    }
   ],
   "source": [
    "numbers = []/n",
    "/n",
    "i=0/n",
    "while i < 10:/n",
    "    numbers.append(i+1)/n",
    "    i+=1/n",
    "print(numbers)/n",
    "/n",
    "i=0/n",
    "while i<len(numbers):/n",
    "    if numbers[i]%3==0 or numbers[3] !=0:/n",
    "        del numbers[i]/n",
    "        i+=1/n",
    "print(numbers)/n",
    "/n",
    "numbers.insert(0,20)/n",
    "print(numbers)/n",
    "/n",
    "numbers = sorted(numbers)/n",
    "print(numbers)"
   ]
  },
  {
   "cell_type": "code",
   "execution_count": null,
   "metadata": {},
   "outputs": [],
   "source": []
  }
 ],
 "metadata": {
  "language_info": {
   "codemirror_mode": {
    "name": "ipython",
    "version": 3
   },
   "file_extension": ".py",
   "mimetype": "text/x-python",
   "name": "python",
   "nbconvert_exporter": "python",
   "pygments_lexer": "ipython3",
   "version": "3.7.4-final"
  },
  "orig_nbformat": 2,
  "kernelspec": {
   "name": "python37464bitanacondaconda7a410613194842c7b8b263458edf01ce",
   "display_name": "Python 3.7.4 64-bit ('Anaconda': conda)"
  }
 },
 "nbformat": 4,
 "nbformat_minor": 2
}