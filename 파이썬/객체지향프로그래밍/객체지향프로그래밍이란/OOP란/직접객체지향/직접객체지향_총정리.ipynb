{
 "cells": [
  {
   "cell_type": "code",
   "execution_count": 6,
   "metadata": {},
   "outputs": [
    {
     "output_type": "stream",
     "name": "stdout",
     "text": "1부터 5까지 카운트 하기\n01\n02\n03\n04\n05\n카운터 값 0으로 바꾼다.\n00\n카운터 값이 30이 되면 0으로 바뀝니다.\n01\n02\n03\n04\n05\n06\n07\n08\n09\n10\n11\n12\n13\n14\n15\n16\n17\n18\n19\n20\n21\n22\n23\n24\n25\n26\n27\n28\n29\n00\n"
    }
   ],
   "source": [
    "class Counter: \n",
    "    \"\"\"\n",
    "    시계 클래스의 시, 분, 초를 각각 나타내는데 사용될 카운터 클래스\n",
    "    \"\"\"\n",
    "\n",
    "    def __init__(self,limit): \n",
    "        \"\"\" \n",
    "        인스턴스 변수 limit(최대값), value(현재까지 카운트한 값)을 설정.\n",
    "        인스턴스를 생성할 때 인스턴스 변수 limit만 파라미터로 받고 , value는 초깃값으로 설정\n",
    "        \"\"\"\n",
    "        self.limit = limit\n",
    "        self.value = 0 \n",
    "\n",
    "    def set(self, new_value):\n",
    "        \"\"\"\n",
    "        파라미터가 0 이상, 최댓값 미만이면 value에 설정한다. \n",
    "        아닐 경우 value에 0을 설정. \n",
    "        \"\"\" \n",
    "        if new_value >=0:\n",
    "            if new_value < self.limit: \n",
    "                self.value = new_value\n",
    "                # new_value == self.value # #37과 차이\n",
    "            else : \n",
    "                self.value = 0\n",
    "    \n",
    "    def tick(self):\n",
    "        \"\"\"\n",
    "        value를 1 증가시킨다. \n",
    "        카운터의 값 value가 limit에 도달하면 value를 0으로 바꾸 뒤 True를 리턴한다. \n",
    "        \"\"\"\n",
    "        self.value += 1\n",
    "\n",
    "        if self.value == self.limit: \n",
    "        # if self.value <= self.limit: # 50과의 차이는?\n",
    "            self.value = 0\n",
    "            return True\n",
    "\n",
    "        elif self.value < self.limit: \n",
    "            return False\n",
    "    \n",
    "    def __str__(self):\n",
    "        \"\"\"\n",
    "        value를 최소 두 자릿수 이상의 문자열로 리턴한다. \n",
    "        일단 str 함수로 숫자형 변수인 value를 문자열로 변환하고 zfill 메소드를 호출한다. \n",
    "        \"\"\"\n",
    "        return str(self.value).zfill(2)\n",
    "\n",
    "# 최대 30까지 셀 수 있는 카운터 인스턴스 생성\n",
    "counter = Counter(30)\n",
    "\n",
    "# 0부터 5까지 센다. \n",
    "print('1부터 5까지 카운트 하기')\n",
    "for i in range(5):\n",
    "    counter.tick()\n",
    "    print(counter)\n",
    "\n",
    "# 타이머 값을 0으로 바꾼다. \n",
    "print('카운터 값 0으로 바꾼다.')\n",
    "counter.set(0)\n",
    "print(counter)\n",
    "\n",
    "# 카운터 값이 30이 되면 0으로 바뀌는지 확인 \n",
    "print('카운터 값이 30이 되면 0으로 바뀝니다.')\n",
    "for i in range(30):\n",
    "    counter.tick()\n",
    "    print(counter)"
   ]
  }
 ],
 "metadata": {
  "language_info": {
   "codemirror_mode": {
    "name": "ipython",
    "version": 3
   },
   "file_extension": ".py",
   "mimetype": "text/x-python",
   "name": "python",
   "nbconvert_exporter": "python",
   "pygments_lexer": "ipython3",
   "version": "3.8.1-final"
  },
  "orig_nbformat": 2,
  "kernelspec": {
   "name": "python38164bitpytorchcondae2e836418e8f4945879c9669572061e2",
   "display_name": "Python 3.8.1 64-bit ('pytorch': conda)"
  }
 },
 "nbformat": 4,
 "nbformat_minor": 2
}