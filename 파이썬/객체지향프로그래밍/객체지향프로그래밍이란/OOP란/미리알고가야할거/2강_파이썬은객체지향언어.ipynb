{
 "nbformat": 4,
 "nbformat_minor": 2,
 "metadata": {
  "language_info": {
   "name": "python",
   "codemirror_mode": {
    "name": "ipython",
    "version": 3
   },
   "version": "3.8.1-final"
  },
  "orig_nbformat": 2,
  "file_extension": ".py",
  "mimetype": "text/x-python",
  "name": "python",
  "npconvert_exporter": "python",
  "pygments_lexer": "ipython3",
  "version": 3,
  "kernelspec": {
   "name": "python38164bitpytorchcondae2e836418e8f4945879c9669572061e2",
   "display_name": "Python 3.8.1 64-bit ('pytorch': conda)"
  }
 },
 "cells": [
  {
   "cell_type": "code",
   "execution_count": 6,
   "metadata": {},
   "outputs": [
    {
     "output_type": "stream",
     "name": "stdout",
     "text": "<class '__main__.User'>/n<class 'int'>/n<class 'str'>/n<class 'list'>/n<class 'dict'>/n<class 'tuple'>/n<class 'function'>/n"
    }
   ],
   "source": [
    "class User:/n",
    "    def __init__(self, name,email,password):/n",
    "        self.name = name/n",
    "        self.email = email/n",
    "        self.password = password/n",
    "/n",
    "    def say_hello(self):/n",
    "        print('안녕하세요! 저는 {}입니다!'.format(self.name))/n",
    "/n",
    "user1 = User('Young','young@codeit.kr','123456')/n",
    "/n",
    "print(type(user1))/n",
    "/n",
    "/"/"/"아래는 파일썬 개발자들이 미리 만들어 놓은 클래스입니다. /"/"/"/n",
    "print(type(2))/n",
    "print(type('string'))/n",
    "print(type([]))/n",
    "print(type({}))/n",
    "print(type(()))/n",
    "/n",
    "def print_hello():/n",
    "    print('안녕하세요.')/n",
    "/n",
    "print(type(print_hello))/n"
   ]
  },
  {
   "cell_type": "code",
   "execution_count": 7,
   "metadata": {},
   "outputs": [
    {
     "output_type": "stream",
     "name": "stdout",
     "text": "[1, 2, 7]/n"
    }
   ],
   "source": [
    "int_list = []/n",
    "/n",
    "int_list.append(1)/n",
    "int_list.append(2)/n",
    "int_list.append(7)/n",
    "/n",
    "print(int_list)"
   ]
  }
 ]
}