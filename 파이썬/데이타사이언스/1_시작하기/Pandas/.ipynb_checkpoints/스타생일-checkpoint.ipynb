{
 "cells": [
  {
   "cell_type": "code",
   "execution_count": 2,
   "metadata": {},
   "outputs": [],
   "source": [
    "import pandas as pd"
   ]
  },
  {
   "cell_type": "code",
   "execution_count": 7,
   "metadata": {},
   "outputs": [],
   "source": [
    "names = ['Taylor Swift','Aaron Sorkin','Harry Potter','Ji-Sung Park']\n",
    "birthday = ['December 13, 1989','June 9, 1961','July 31, 1980','February 25, 1981']\n",
    "occupation = ['Singer-songwriter','Screenwriter','Wizard','Footballer']\n",
    "\n",
    "\n",
    "#리스트로 dataframe만든 방법 1\n",
    "dict1 = {\n",
    "    'name': pd.Series(names), \n",
    "    'birthday': pd.Series(birthday), \n",
    "    'occupation': pd.Series(occupation)\n",
    "}\n",
    "\n",
    "pd.DataFrame(dict1)"
   ]
  },
  {
   "cell_type": "markdown",
   "metadata": {},
   "source": [
    "## 다른 방법 2\n",
    "    \n",
    "#### 오히려 행과 열의 위치가 일치하기 때문에 더 직관적임. "
   ]
  },
  {
   "cell_type": "code",
   "execution_count": 2,
   "metadata": {},
   "outputs": [
    {
     "data": {
      "text/html": [
       "<div>\n",
       "<style scoped>\n",
       "    .dataframe tbody tr th:only-of-type {\n",
       "        vertical-align: middle;\n",
       "    }\n",
       "\n",
       "    .dataframe tbody tr th {\n",
       "        vertical-align: top;\n",
       "    }\n",
       "\n",
       "    .dataframe thead th {\n",
       "        text-align: right;\n",
       "    }\n",
       "</style>\n",
       "<table border=\"1\" class=\"dataframe\">\n",
       "  <thead>\n",
       "    <tr style=\"text-align: right;\">\n",
       "      <th></th>\n",
       "      <th>name</th>\n",
       "      <th>birthday</th>\n",
       "      <th>occupation</th>\n",
       "    </tr>\n",
       "  </thead>\n",
       "  <tbody>\n",
       "    <tr>\n",
       "      <th>0</th>\n",
       "      <td>Taylor Swift</td>\n",
       "      <td>December 13, 1989</td>\n",
       "      <td>Singer-songwriter</td>\n",
       "    </tr>\n",
       "    <tr>\n",
       "      <th>1</th>\n",
       "      <td>Aaron Sorkin</td>\n",
       "      <td>June 9, 1961</td>\n",
       "      <td>Screenwriter</td>\n",
       "    </tr>\n",
       "    <tr>\n",
       "      <th>2</th>\n",
       "      <td>Harry Potter</td>\n",
       "      <td>July 31, 1980</td>\n",
       "      <td>Wizard</td>\n",
       "    </tr>\n",
       "    <tr>\n",
       "      <th>3</th>\n",
       "      <td>Ji-Sung Park</td>\n",
       "      <td>February 25, 1981</td>\n",
       "      <td>Footballer</td>\n",
       "    </tr>\n",
       "  </tbody>\n",
       "</table>\n",
       "</div>"
      ],
      "text/plain": [
       "           name           birthday         occupation\n",
       "0  Taylor Swift  December 13, 1989  Singer-songwriter\n",
       "1  Aaron Sorkin       June 9, 1961       Screenwriter\n",
       "2  Harry Potter      July 31, 1980             Wizard\n",
       "3  Ji-Sung Park  February 25, 1981         Footballer"
      ]
     },
     "execution_count": 2,
     "metadata": {},
     "output_type": "execute_result"
    }
   ],
   "source": [
    "import pandas as pd \n",
    "\n",
    "list1 = [\n",
    "    ['Taylor Swift', 'December 13, 1989', 'Singer-songwriter'],\n",
    "    ['Aaron Sorkin', 'June 9, 1961', 'Screenwriter'],\n",
    "    ['Harry Potter', 'July 31, 1980', 'Wizard'],\n",
    "    ['Ji-Sung Park', 'February 25, 1981', 'Footballer']\n",
    "]\n",
    "\n",
    "df = pd.DataFrame(list1, columns=('name','birthday','occupation'))\n",
    "df"
   ]
  },
  {
   "cell_type": "markdown",
   "metadata": {},
   "source": [
    "### 셀안의 값들의 왼쪽,오른쪽, 중앙 정렬 방법!\n",
    "### 테이블의 headers 정렬 방법!!"
   ]
  },
  {
   "cell_type": "code",
   "execution_count": 12,
   "metadata": {},
   "outputs": [
    {
     "data": {
      "text/html": [
       "<style  type=\"text/css\" >\n",
       "    #T_9daddb23_884c_11ea_87d2_708bcd9ffc76row0_col0 {\n",
       "            text-align:  center;\n",
       "        }    #T_9daddb23_884c_11ea_87d2_708bcd9ffc76row0_col1 {\n",
       "            text-align:  center;\n",
       "        }    #T_9daddb23_884c_11ea_87d2_708bcd9ffc76row0_col2 {\n",
       "            text-align:  center;\n",
       "        }    #T_9daddb23_884c_11ea_87d2_708bcd9ffc76row1_col0 {\n",
       "            text-align:  center;\n",
       "        }    #T_9daddb23_884c_11ea_87d2_708bcd9ffc76row1_col1 {\n",
       "            text-align:  center;\n",
       "        }    #T_9daddb23_884c_11ea_87d2_708bcd9ffc76row1_col2 {\n",
       "            text-align:  center;\n",
       "        }    #T_9daddb23_884c_11ea_87d2_708bcd9ffc76row2_col0 {\n",
       "            text-align:  center;\n",
       "        }    #T_9daddb23_884c_11ea_87d2_708bcd9ffc76row2_col1 {\n",
       "            text-align:  center;\n",
       "        }    #T_9daddb23_884c_11ea_87d2_708bcd9ffc76row2_col2 {\n",
       "            text-align:  center;\n",
       "        }    #T_9daddb23_884c_11ea_87d2_708bcd9ffc76row3_col0 {\n",
       "            text-align:  center;\n",
       "        }    #T_9daddb23_884c_11ea_87d2_708bcd9ffc76row3_col1 {\n",
       "            text-align:  center;\n",
       "        }    #T_9daddb23_884c_11ea_87d2_708bcd9ffc76row3_col2 {\n",
       "            text-align:  center;\n",
       "        }</style><table id=\"T_9daddb23_884c_11ea_87d2_708bcd9ffc76\" ><thead>    <tr>        <th class=\"blank level0\" ></th>        <th class=\"col_heading level0 col0\" >name</th>        <th class=\"col_heading level0 col1\" >birthday</th>        <th class=\"col_heading level0 col2\" >occupation</th>    </tr></thead><tbody>\n",
       "                <tr>\n",
       "                        <th id=\"T_9daddb23_884c_11ea_87d2_708bcd9ffc76level0_row0\" class=\"row_heading level0 row0\" >0</th>\n",
       "                        <td id=\"T_9daddb23_884c_11ea_87d2_708bcd9ffc76row0_col0\" class=\"data row0 col0\" >Taylor Swift</td>\n",
       "                        <td id=\"T_9daddb23_884c_11ea_87d2_708bcd9ffc76row0_col1\" class=\"data row0 col1\" >December 13, 1989</td>\n",
       "                        <td id=\"T_9daddb23_884c_11ea_87d2_708bcd9ffc76row0_col2\" class=\"data row0 col2\" >Singer-songwriter</td>\n",
       "            </tr>\n",
       "            <tr>\n",
       "                        <th id=\"T_9daddb23_884c_11ea_87d2_708bcd9ffc76level0_row1\" class=\"row_heading level0 row1\" >1</th>\n",
       "                        <td id=\"T_9daddb23_884c_11ea_87d2_708bcd9ffc76row1_col0\" class=\"data row1 col0\" >Aaron Sorkin</td>\n",
       "                        <td id=\"T_9daddb23_884c_11ea_87d2_708bcd9ffc76row1_col1\" class=\"data row1 col1\" >June 9, 1961</td>\n",
       "                        <td id=\"T_9daddb23_884c_11ea_87d2_708bcd9ffc76row1_col2\" class=\"data row1 col2\" >Screenwriter</td>\n",
       "            </tr>\n",
       "            <tr>\n",
       "                        <th id=\"T_9daddb23_884c_11ea_87d2_708bcd9ffc76level0_row2\" class=\"row_heading level0 row2\" >2</th>\n",
       "                        <td id=\"T_9daddb23_884c_11ea_87d2_708bcd9ffc76row2_col0\" class=\"data row2 col0\" >Harry Potter</td>\n",
       "                        <td id=\"T_9daddb23_884c_11ea_87d2_708bcd9ffc76row2_col1\" class=\"data row2 col1\" >July 31, 1980</td>\n",
       "                        <td id=\"T_9daddb23_884c_11ea_87d2_708bcd9ffc76row2_col2\" class=\"data row2 col2\" >Wizard</td>\n",
       "            </tr>\n",
       "            <tr>\n",
       "                        <th id=\"T_9daddb23_884c_11ea_87d2_708bcd9ffc76level0_row3\" class=\"row_heading level0 row3\" >3</th>\n",
       "                        <td id=\"T_9daddb23_884c_11ea_87d2_708bcd9ffc76row3_col0\" class=\"data row3 col0\" >Ji-Sung Park</td>\n",
       "                        <td id=\"T_9daddb23_884c_11ea_87d2_708bcd9ffc76row3_col1\" class=\"data row3 col1\" >February 25, 1981</td>\n",
       "                        <td id=\"T_9daddb23_884c_11ea_87d2_708bcd9ffc76row3_col2\" class=\"data row3 col2\" >Footballer</td>\n",
       "            </tr>\n",
       "    </tbody></table>"
      ],
      "text/plain": [
       "<pandas.io.formats.style.Styler at 0x2de15271c10>"
      ]
     },
     "execution_count": 12,
     "metadata": {},
     "output_type": "execute_result"
    }
   ],
   "source": [
    "df.style.set_properties(**{'text-align': 'center'})"
   ]
  },
  {
   "cell_type": "code",
   "execution_count": 9,
   "metadata": {},
   "outputs": [
    {
     "ename": "AttributeError",
     "evalue": "'DataFrame' object has no attribute 'set_table_styles'",
     "output_type": "error",
     "traceback": [
      "\u001b[1;31m--------------------------------------------------\u001b[0m",
      "\u001b[1;31mAttributeError\u001b[0m   Traceback (most recent call last)",
      "\u001b[1;32m<ipython-input-9-bd34c540a17e>\u001b[0m in \u001b[0;36m<module>\u001b[1;34m\u001b[0m\n\u001b[1;32m----> 1\u001b[1;33m \u001b[0mdf\u001b[0m\u001b[1;33m.\u001b[0m\u001b[0mset_table_styles\u001b[0m\u001b[1;33m(\u001b[0m\u001b[1;33m[\u001b[0m\u001b[0mdict\u001b[0m\u001b[1;33m(\u001b[0m\u001b[0mselector\u001b[0m\u001b[1;33m=\u001b[0m\u001b[1;34m'th'\u001b[0m\u001b[1;33m,\u001b[0m \u001b[0mprops\u001b[0m\u001b[1;33m=\u001b[0m\u001b[1;33m[\u001b[0m\u001b[1;33m(\u001b[0m\u001b[1;34m'text-align'\u001b[0m\u001b[1;33m,\u001b[0m \u001b[1;34m'left'\u001b[0m\u001b[1;33m)\u001b[0m\u001b[1;33m]\u001b[0m\u001b[1;33m)\u001b[0m\u001b[1;33m]\u001b[0m\u001b[1;33m)\u001b[0m\u001b[1;33m\u001b[0m\u001b[1;33m\u001b[0m\u001b[0m\n\u001b[0m",
      "\u001b[1;32m~\\Anaconda3\\envs\\my_mython_env\\lib\\site-packages\\pandas\\core\\generic.py\u001b[0m in \u001b[0;36m__getattr__\u001b[1;34m(self, name)\u001b[0m\n\u001b[0;32m   5272\u001b[0m             \u001b[1;32mif\u001b[0m \u001b[0mself\u001b[0m\u001b[1;33m.\u001b[0m\u001b[0m_info_axis\u001b[0m\u001b[1;33m.\u001b[0m\u001b[0m_can_hold_identifiers_and_holds_name\u001b[0m\u001b[1;33m(\u001b[0m\u001b[0mname\u001b[0m\u001b[1;33m)\u001b[0m\u001b[1;33m:\u001b[0m\u001b[1;33m\u001b[0m\u001b[1;33m\u001b[0m\u001b[0m\n\u001b[0;32m   5273\u001b[0m                 \u001b[1;32mreturn\u001b[0m \u001b[0mself\u001b[0m\u001b[1;33m[\u001b[0m\u001b[0mname\u001b[0m\u001b[1;33m]\u001b[0m\u001b[1;33m\u001b[0m\u001b[1;33m\u001b[0m\u001b[0m\n\u001b[1;32m-> 5274\u001b[1;33m             \u001b[1;32mreturn\u001b[0m \u001b[0mobject\u001b[0m\u001b[1;33m.\u001b[0m\u001b[0m__getattribute__\u001b[0m\u001b[1;33m(\u001b[0m\u001b[0mself\u001b[0m\u001b[1;33m,\u001b[0m \u001b[0mname\u001b[0m\u001b[1;33m)\u001b[0m\u001b[1;33m\u001b[0m\u001b[1;33m\u001b[0m\u001b[0m\n\u001b[0m\u001b[0;32m   5275\u001b[0m \u001b[1;33m\u001b[0m\u001b[0m\n\u001b[0;32m   5276\u001b[0m     \u001b[1;32mdef\u001b[0m \u001b[0m__setattr__\u001b[0m\u001b[1;33m(\u001b[0m\u001b[0mself\u001b[0m\u001b[1;33m,\u001b[0m \u001b[0mname\u001b[0m\u001b[1;33m:\u001b[0m \u001b[0mstr\u001b[0m\u001b[1;33m,\u001b[0m \u001b[0mvalue\u001b[0m\u001b[1;33m)\u001b[0m \u001b[1;33m->\u001b[0m \u001b[1;32mNone\u001b[0m\u001b[1;33m:\u001b[0m\u001b[1;33m\u001b[0m\u001b[1;33m\u001b[0m\u001b[0m\n",
      "\u001b[1;31mAttributeError\u001b[0m: 'DataFrame' object has no attribute 'set_table_styles'"
     ]
    }
   ],
   "source": [
    "df.set_table_styles([dict(selector='th', props=[('text-align', 'left')])])"
   ]
  },
  {
   "cell_type": "code",
   "execution_count": null,
   "metadata": {},
   "outputs": [],
   "source": []
  }
 ],
 "metadata": {
  "kernelspec": {
   "display_name": "Python 3.8.2 64-bit ('my_mython_env': conda)",
   "language": "python",
   "name": "python38264bitmymythonenvconda1f36fd18157f4376a30b6173fcd0cb3f"
  },
  "language_info": {
   "codemirror_mode": {
    "name": "ipython",
    "version": 3
   },
   "file_extension": ".py",
   "mimetype": "text/x-python",
   "name": "python",
   "nbconvert_exporter": "python",
   "pygments_lexer": "ipython3",
   "version": "3.8.2"
  }
 },
 "nbformat": 4,
 "nbformat_minor": 4
}
