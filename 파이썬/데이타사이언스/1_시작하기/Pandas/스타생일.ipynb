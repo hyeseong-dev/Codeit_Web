{
 "cells": [
  {
   "cell_type": "code",
   "execution_count": 2,
   "metadata": {},
   "outputs": [],
   "source": [
    "import pandas as pd"
   ]
  },
  {
   "cell_type": "code",
   "execution_count": 7,
   "metadata": {},
   "outputs": [],
   "source": [
    "names = ['Taylor Swift','Aaron Sorkin','Harry Potter','Ji-Sung Park']\n",
    "birthday = ['December 13, 1989','June 9, 1961','July 31, 1980','February 25, 1981']\n",
    "occupation = ['Singer-songwriter','Screenwriter','Wizard','Footballer']\n"
   ]
  },
  {
   "cell_type": "code",
   "execution_count": 12,
   "metadata": {},
   "outputs": [],
   "source": [
    "#리스트로 dataframe만든 방법 1\n",
    "dict1 = {\n",
    "    'name': pd.Series(names), \n",
    "    'birthday': pd.Series(birthday), \n",
    "    'occupation': pd.Series(occupation)\n",
    "}"
   ]
  },
  {
   "cell_type": "code",
   "execution_count": 13,
   "metadata": {},
   "outputs": [
    {
     "output_type": "execute_result",
     "data": {
      "text/plain": "           name           birthday         occupation\n0  Taylor Swift  December 13, 1989  Singer-songwriter\n1  Aaron Sorkin       June 9, 1961       Screenwriter\n2  Harry Potter      July 31, 1980             Wizard\n3  Ji-Sung Park  February 25, 1981         Footballer",
      "text/html": "<div>\n<style scoped>\n    .dataframe tbody tr th:only-of-type {\n        vertical-align: middle;\n    }\n\n    .dataframe tbody tr th {\n        vertical-align: top;\n    }\n\n    .dataframe thead th {\n        text-align: right;\n    }\n</style>\n<table border=\"1\" class=\"dataframe\">\n  <thead>\n    <tr style=\"text-align: right;\">\n      <th></th>\n      <th>name</th>\n      <th>birthday</th>\n      <th>occupation</th>\n    </tr>\n  </thead>\n  <tbody>\n    <tr>\n      <th>0</th>\n      <td>Taylor Swift</td>\n      <td>December 13, 1989</td>\n      <td>Singer-songwriter</td>\n    </tr>\n    <tr>\n      <th>1</th>\n      <td>Aaron Sorkin</td>\n      <td>June 9, 1961</td>\n      <td>Screenwriter</td>\n    </tr>\n    <tr>\n      <th>2</th>\n      <td>Harry Potter</td>\n      <td>July 31, 1980</td>\n      <td>Wizard</td>\n    </tr>\n    <tr>\n      <th>3</th>\n      <td>Ji-Sung Park</td>\n      <td>February 25, 1981</td>\n      <td>Footballer</td>\n    </tr>\n  </tbody>\n</table>\n</div>"
     },
     "metadata": {},
     "execution_count": 13
    }
   ],
   "source": [
    "pd.DataFrame(dict1)"
   ]
  },
  {
   "cell_type": "code",
   "execution_count": null,
   "metadata": {},
   "outputs": [],
   "source": []
  }
 ],
 "metadata": {
  "kernelspec": {
   "display_name": "Python 3.8.2 64-bit ('my_mython_env': conda)",
   "language": "python",
   "name": "python38264bitmymythonenvconda1f36fd18157f4376a30b6173fcd0cb3f"
  },
  "language_info": {
   "codemirror_mode": {
    "name": "ipython",
    "version": 3
   },
   "file_extension": ".py",
   "mimetype": "text/x-python",
   "name": "python",
   "nbconvert_exporter": "python",
   "pygments_lexer": "ipython3",
   "version": "3.8.2-final"
  }
 },
 "nbformat": 4,
 "nbformat_minor": 4
}