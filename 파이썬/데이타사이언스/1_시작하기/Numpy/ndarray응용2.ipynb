{
 "cells": [
  {
   "cell_type": "markdown",
   "metadata": {},
   "source": [
    "엔화 리스트와 달러 리스트 둘을 모두 한국원으로 바꾼 다음 2개의 원화 numpy.array를 하나로 합친다. \n"
   ]
  },
  {
   "cell_type": "code",
   "execution_count": 2,
   "metadata": {},
   "outputs": [],
   "source": [
    "import numpy as np\n",
    "\n",
    "revenue_in_yen = [\n",
    "    300000, 340000, 320000, 360000, \n",
    "    440000, 140000, 180000, 340000, \n",
    "    330000, 290000, 280000, 380000, \n",
    "    170000, 140000, 230000, 390000, \n",
    "    400000, 350000, 380000, 150000, \n",
    "    110000, 240000, 380000, 380000, \n",
    "    340000, 420000, 150000, 130000, \n",
    "    360000, 320000, 250000\n",
    "]\n",
    "\n",
    "revenue_in_dollar = [\n",
    "    1200, 1600, 1400, 1300, \n",
    "    2100, 1400, 1500, 2100, \n",
    "    1500, 1500, 2300, 2100, \n",
    "    2800, 2600, 1700, 1400, \n",
    "    2100, 2300, 1600, 1800, \n",
    "    2200, 2400, 2100, 2800, \n",
    "    1900, 2100, 1800, 2200, \n",
    "    2100, 1600, 1800\n",
    "]\n",
    "\n",
    "# 코드를 작성하세요.\n",
    "\n",
    "# 정답 출력\n",
    "# won_array"
   ]
  },
  {
   "cell_type": "code",
   "execution_count": 4,
   "metadata": {},
   "outputs": [],
   "source": [
    "# 첫째. numpy 모듈의 배열로 형변환과 동시에 엔화->원화로 바꿈.\n",
    "revenue_yen_2_won = np.array(revenue_in_yen) * 10.08"
   ]
  },
  {
   "cell_type": "code",
   "execution_count": 8,
   "metadata": {},
   "outputs": [
    {
     "output_type": "execute_result",
     "data": {
      "text/plain": "array([3024000., 3427200., 3225600., 3628800., 4435200., 1411200.,\n       1814400., 3427200., 3326400., 2923200., 2822400., 3830400.,\n       1713600., 1411200., 2318400., 3931200., 4032000., 3528000.,\n       3830400., 1512000., 1108800., 2419200., 3830400., 3830400.,\n       3427200., 4233600., 1512000., 1310400., 3628800., 3225600.,\n       2520000.])"
     },
     "metadata": {},
     "execution_count": 8
    }
   ],
   "source": [
    "revenue_yen_2_won"
   ]
  },
  {
   "cell_type": "code",
   "execution_count": 11,
   "metadata": {},
   "outputs": [],
   "source": [
    "# 둘째. numpy 모듈의 배열로 형변환과 동시에 달러->원화로 바꿈.\n",
    "revenue_dol_2_won = np.array(revenue_in_dollar) * 1138"
   ]
  },
  {
   "cell_type": "code",
   "execution_count": 12,
   "metadata": {},
   "outputs": [
    {
     "output_type": "execute_result",
     "data": {
      "text/plain": "array([1365600, 1820800, 1593200, 1479400, 2389800, 1593200, 1707000,\n       2389800, 1707000, 1707000, 2617400, 2389800, 3186400, 2958800,\n       1934600, 1593200, 2389800, 2617400, 1820800, 2048400, 2503600,\n       2731200, 2389800, 3186400, 2162200, 2389800, 2048400, 2503600,\n       2389800, 1820800, 2048400])"
     },
     "metadata": {},
     "execution_count": 12
    }
   ],
   "source": [
    "revenue_dol_2_won"
   ]
  },
  {
   "cell_type": "code",
   "execution_count": 13,
   "metadata": {},
   "outputs": [],
   "source": [
    "total_rev_in_won = revenue_yen_2_won + revenue_dol_2_won"
   ]
  },
  {
   "cell_type": "code",
   "execution_count": 14,
   "metadata": {},
   "outputs": [
    {
     "output_type": "execute_result",
     "data": {
      "text/plain": "array([31847520., 36366976., 34107248., 38057704., 47096616., 15818096.,\n       19996152., 36935976., 35237112., 31172856., 31067192., 41000232.,\n       20459488., 17183696., 25304072., 41219696., 43032360., 38179640.,\n       40431232., 17289360., 13680304., 27116736., 41000232., 41796832.,\n       36708376., 45064488., 17289360., 15712432., 38968104., 34334848.,\n       27450000.])"
     },
     "metadata": {},
     "execution_count": 14
    }
   ],
   "source": [
    "total_rev_in_won"
   ]
  },
  {
   "cell_type": "code",
   "execution_count": null,
   "metadata": {},
   "outputs": [],
   "source": []
  }
 ],
 "metadata": {
  "kernelspec": {
   "display_name": "Python 3.8.2 64-bit ('my_mython_env': conda)",
   "language": "python",
   "name": "python38264bitmymythonenvconda1f36fd18157f4376a30b6173fcd0cb3f"
  },
  "language_info": {
   "codemirror_mode": {
    "name": "ipython",
    "version": 3
   },
   "file_extension": ".py",
   "mimetype": "text/x-python",
   "name": "python",
   "nbconvert_exporter": "python",
   "pygments_lexer": "ipython3",
   "version": "3.8.2-final"
  }
 },
 "nbformat": 4,
 "nbformat_minor": 4
}