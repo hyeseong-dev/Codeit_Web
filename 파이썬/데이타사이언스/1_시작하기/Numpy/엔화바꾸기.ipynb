{
 "cells": [
  {
   "cell_type": "code",
   "execution_count": 3,
   "metadata": {},
   "outputs": [],
   "source": [
    "import numpy as np # 넘파이 alias지정을 한다. np로"
   ]
  },
  {
   "cell_type": "markdown",
   "metadata": {},
   "source": [
    "tip. 기존의 list 데이터 타입으로는 numpy에서 제공하는 기능들을 구현하는데는 한계가 있습니다. 이를 해결하기 위해서는 numpy의 데이터 타입 모델로 변환해야 합니다. \n",
    "\n",
    "즉, list ->np.array형태로 변경해야함. "
   ]
  },
  {
   "cell_type": "markdown",
   "metadata": {},
   "source": [
    "## 소수점 꼴보기 싫으면?\n",
    "### numpy.array().astype(int)"
   ]
  },
  {
   "cell_type": "code",
   "execution_count": 5,
   "metadata": {},
   "outputs": [],
   "source": [
    "revenue_in_yen = [\n",
    "    300000, 340000, 320000, 360000, \n",
    "    440000, 140000, 180000, 340000, \n",
    "    330000, 290000, 280000, 380000, \n",
    "    170000, 140000, 230000, 390000, \n",
    "    400000, 350000, 380000, 150000, \n",
    "    110000, 240000, 380000, 380000, \n",
    "    340000, 420000, 150000, 130000, \n",
    "    360000, 320000, 250000\n",
    "]"
   ]
  },
  {
   "cell_type": "code",
   "execution_count": 6,
   "metadata": {},
   "outputs": [
    {
     "output_type": "execute_result",
     "data": {
      "text/plain": "array([300000, 340000, 320000, 360000, 440000, 140000, 180000, 340000,\n       330000, 290000, 280000, 380000, 170000, 140000, 230000, 390000,\n       400000, 350000, 380000, 150000, 110000, 240000, 380000, 380000,\n       340000, 420000, 150000, 130000, 360000, 320000, 250000])"
     },
     "metadata": {},
     "execution_count": 6
    }
   ],
   "source": [
    "# 기존 데이터를 list-> array형태로 변경함.\n",
    "revenue_in_yen = np.array(revenue_in_yen)\n",
    "revenue_in_yen"
   ]
  },
  {
   "cell_type": "code",
   "execution_count": 7,
   "metadata": {},
   "outputs": [
    {
     "output_type": "execute_result",
     "data": {
      "text/plain": "numpy.ndarray"
     },
     "metadata": {},
     "execution_count": 7
    }
   ],
   "source": [
    "# ndarray형태로 바뀐걸 확인 할 수 있음. \n",
    "type(revenue_in_yen)"
   ]
  },
  {
   "cell_type": "code",
   "execution_count": 10,
   "metadata": {},
   "outputs": [],
   "source": [
    "# ndarray 타입으로 바꿔놔야 배열 자체에 * 1.08을 이요해서 element마다 곱하기를 각각 적용 할 수 있다. \n",
    "won_array = revenue_in_yen.astype(int)"
   ]
  },
  {
   "cell_type": "code",
   "execution_count": 15,
   "metadata": {},
   "outputs": [
    {
     "output_type": "stream",
     "name": "stdout",
     "text": "[30481920 34546176 32514048 36578304 44706816 14224896 18289152 34546176\n 33530112 29465856 28449792 38610432 17273088 14224896 23369472 39626496\n 40642560 35562240 38610432 15240960 11176704 24385536 38610432 38610432\n 34546176 42674688 15240960 13208832 36578304 32514048 25401600] <class 'numpy.ndarray'>\n"
    }
   ],
   "source": [
    "won_array = (won_array * 10.08).astype(int)\n",
    "print(won_array, type(won_array))"
   ]
  },
  {
   "cell_type": "code",
   "execution_count": null,
   "metadata": {},
   "outputs": [],
   "source": []
  }
 ],
 "metadata": {
  "kernelspec": {
   "display_name": "Python 3.8.2 64-bit ('my_mython_env': conda)",
   "language": "python",
   "name": "python38264bitmymythonenvconda1f36fd18157f4376a30b6173fcd0cb3f"
  },
  "language_info": {
   "codemirror_mode": {
    "name": "ipython",
    "version": 3
   },
   "file_extension": ".py",
   "mimetype": "text/x-python",
   "name": "python",
   "nbconvert_exporter": "python",
   "pygments_lexer": "ipython3",
   "version": "3.8.2-final"
  }
 },
 "nbformat": 4,
 "nbformat_minor": 4
}