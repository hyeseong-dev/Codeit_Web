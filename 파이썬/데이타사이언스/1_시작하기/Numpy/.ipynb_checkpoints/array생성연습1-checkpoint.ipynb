{
 "cells": [
  {
   "cell_type": "markdown",
   "metadata": {},
   "source": [
    "\n",
    "1부터 100까지(1과 100 포함) 담겨 있는 numpy array를 생성하고 출력해 주세요.\n",
    "\n",
    "\n",
    "주의: 자동 채점 과제입니다. 정답 출력 코드는 print(arr)이 아닌 arr로 작성해 주세요."
   ]
  },
  {
   "cell_type": "code",
   "execution_count": 2,
   "metadata": {},
   "outputs": [],
   "source": [
    "import numpy as np\n",
    "\n",
    "arr = np.full(100,np.arange(1,101))\n",
    "\n",
    "arr"
   ]
  },
  {
   "cell_type": "code",
   "execution_count": null,
   "metadata": {},
   "outputs": [],
   "source": []
  }
 ],
 "metadata": {
  "kernelspec": {
   "display_name": "Python 3.8.2 64-bit ('my_mython_env': conda)",
   "language": "python",
   "name": "python38264bitmymythonenvconda1f36fd18157f4376a30b6173fcd0cb3f"
  },
  "language_info": {
   "codemirror_mode": {
    "name": "ipython",
    "version": 3
   },
   "file_extension": ".py",
   "mimetype": "text/x-python",
   "name": "python",
   "nbconvert_exporter": "python",
   "pygments_lexer": "ipython3",
   "version": "3.8.2"
  }
 },
 "nbformat": 4,
 "nbformat_minor": 4
}
