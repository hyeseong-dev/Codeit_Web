{
 "cells": [
  {
   "cell_type": "code",
   "execution_count": null,
   "metadata": {},
   "outputs": [],
   "source": []
  },
  {
   "cell_type": "markdown",
   "metadata": {},
   "source": [
    "## 최댓값, 최솟값\n",
    "\n",
    "max 메소드와 min 메소드를 사용하면 numpy array의 최대값과 최솟값 구하기 가능. "
   ]
  },
  {
   "cell_type": "code",
   "execution_count": 1,
   "metadata": {},
   "outputs": [],
   "source": [
    "import numpy as np"
   ]
  },
  {
   "cell_type": "code",
   "execution_count": 5,
   "metadata": {},
   "outputs": [
    {
     "output_type": "stream",
     "name": "stdout",
     "text": "31\n5\n"
    }
   ],
   "source": [
    "array1 = np.array([14,6,13,21,23,31,9,5])\n",
    "print(array1.max())\n",
    "print(array1.min())"
   ]
  },
  {
   "cell_type": "code",
   "execution_count": 13,
   "metadata": {},
   "outputs": [
    {
     "output_type": "stream",
     "name": "stdout",
     "text": "31\n5\n"
    }
   ],
   "source": [
    "# np.argmax와 np.argmin을 통해서 최대값과 최솟값 역시 구하는 방법이 있음. 하지만 졸라 번거로움. \n",
    "arr1_max_index = np.argmax(array1)# index 위치값을 둘려준다.\n",
    "arr1_min_index = np.argmin(array1)# index 위치값을 둘려준다.\n",
    "\n",
    "print(array1[arr1_max_index])\n",
    "print(array1[arr1_min_index])"
   ]
  },
  {
   "cell_type": "markdown",
   "metadata": {},
   "source": [
    "# 평균값 \n",
    "\n",
    "mean 메소드를 사용하면 numpy array의 평균값을 구할 수 있습니다. \n",
    "\n"
   ]
  },
  {
   "cell_type": "code",
   "execution_count": 23,
   "metadata": {},
   "outputs": [
    {
     "output_type": "stream",
     "name": "stdout",
     "text": "15.375\n"
    }
   ],
   "source": [
    "import numpy as np \n",
    "\n",
    "array1 = np.array([15,6,13,21,23,31,9,5])\n",
    "\n",
    "print(array1.mean()) # 평균값\n"
   ]
  },
  {
   "cell_type": "markdown",
   "metadata": {},
   "source": [
    "# 중앙값(median)\n",
    "\n",
    "median은    \n",
    "1) numpy array의 메소드(X)       \n",
    "2) numpy의 메소드(O)"
   ]
  },
  {
   "cell_type": "code",
   "execution_count": 24,
   "metadata": {},
   "outputs": [
    {
     "output_type": "stream",
     "name": "stdout",
     "text": "5.0\n89.0\n"
    }
   ],
   "source": [
    "array1 = np.array([1,2,3,4,5,6,7,8,10])\n",
    "array2 = np.array([123,555,222,333333,55,6,-23,0.234])\n",
    "\n",
    "print(np.median(array1)) # array1의 중앙값\n",
    "print(np.median(array2)) # array2의 중앙값"
   ]
  },
  {
   "cell_type": "code",
   "execution_count": null,
   "metadata": {},
   "outputs": [],
   "source": []
  },
  {
   "cell_type": "markdown",
   "metadata": {},
   "source": [
    "# 표준편차, 분산\n",
    "\n",
    "표준 편차와 분산은 값들이 평균에서 얼마나 떨어져 있는지 나타내는 지표입니다. 잘 모르신다면 일단 넘어가셔도 좋습니다."
   ]
  },
  {
   "cell_type": "code",
   "execution_count": 25,
   "metadata": {},
   "outputs": [
    {
     "output_type": "stream",
     "name": "stdout",
     "text": "8.496322733983215\n72.1875\n"
    }
   ],
   "source": [
    "array1 = np.array([14,6,13,21,23,31,9,5])\n",
    "\n",
    "print(array1.std())\n",
    "# 표준편차 : 평균과 떨어진 정도 \n",
    "\n",
    "print(array1.var())#분산 변수의 흩어진 정도를 나타냄"
   ]
  },
  {
   "cell_type": "code",
   "execution_count": null,
   "metadata": {},
   "outputs": [],
   "source": []
  },
  {
   "cell_type": "code",
   "execution_count": null,
   "metadata": {},
   "outputs": [],
   "source": []
  },
  {
   "cell_type": "code",
   "execution_count": null,
   "metadata": {},
   "outputs": [],
   "source": []
  },
  {
   "cell_type": "code",
   "execution_count": null,
   "metadata": {},
   "outputs": [],
   "source": []
  },
  {
   "cell_type": "code",
   "execution_count": null,
   "metadata": {},
   "outputs": [],
   "source": []
  },
  {
   "cell_type": "code",
   "execution_count": null,
   "metadata": {},
   "outputs": [],
   "source": []
  }
 ],
 "metadata": {
  "language_info": {
   "codemirror_mode": {
    "name": "ipython",
    "version": 3
   },
   "file_extension": ".py",
   "mimetype": "text/x-python",
   "name": "python",
   "nbconvert_exporter": "python",
   "pygments_lexer": "ipython3",
   "version": "3.8.2-final"
  },
  "orig_nbformat": 2,
  "kernelspec": {
   "name": "python38264bitmymythonenvconda1f36fd18157f4376a30b6173fcd0cb3f",
   "display_name": "Python 3.8.2 64-bit ('my_mython_env': conda)"
  }
 },
 "nbformat": 4,
 "nbformat_minor": 2
}