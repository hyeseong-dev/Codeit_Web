{
 "cells": [
  {
   "cell_type": "code",
   "execution_count": 1,
   "metadata": {},
   "outputs": [],
   "source": [
    "import numpy as np"
   ]
  },
  {
   "cell_type": "code",
   "execution_count": 2,
   "metadata": {},
   "outputs": [],
   "source": [
    "array1 = np.array([2,3,5,7,11,13,17,19,23,29,31])"
   ]
  },
  {
   "cell_type": "code",
   "execution_count": 3,
   "metadata": {},
   "outputs": [
    {
     "output_type": "execute_result",
     "data": {
      "text/plain": "(11,)"
     },
     "metadata": {},
     "execution_count": 3
    }
   ],
   "source": [
    "array1.shape"
   ]
  },
  {
   "cell_type": "code",
   "execution_count": 4,
   "metadata": {},
   "outputs": [
    {
     "output_type": "execute_result",
     "data": {
      "text/plain": "array([False, False,  True,  True,  True,  True,  True,  True,  True,\n        True,  True])"
     },
     "metadata": {},
     "execution_count": 4
    }
   ],
   "source": [
    "array1 > 4"
   ]
  },
  {
   "cell_type": "code",
   "execution_count": 5,
   "metadata": {},
   "outputs": [
    {
     "output_type": "execute_result",
     "data": {
      "text/plain": "array([ True, False, False, False, False, False, False, False, False,\n       False, False])"
     },
     "metadata": {},
     "execution_count": 5
    }
   ],
   "source": [
    "array1 % 2 == 0"
   ]
  },
  {
   "cell_type": "code",
   "execution_count": 9,
   "metadata": {},
   "outputs": [
    {
     "output_type": "execute_result",
     "data": {
      "text/plain": "array([ True, False, False, False, False, False, False, False, False,\n       False, False])"
     },
     "metadata": {},
     "execution_count": 9
    }
   ],
   "source": [
    "booleans = np.array([ True, False, False, False, False, False, False, False, False,\n",
    "       False, False])\n",
    "booleans"
   ]
  },
  {
   "cell_type": "code",
   "execution_count": 7,
   "metadata": {},
   "outputs": [
    {
     "output_type": "execute_result",
     "data": {
      "text/plain": "(array([0], dtype=int64),)"
     },
     "metadata": {},
     "execution_count": 7
    }
   ],
   "source": [
    "np.where(booleans)"
   ]
  },
  {
   "cell_type": "code",
   "execution_count": 13,
   "metadata": {},
   "outputs": [
    {
     "output_type": "stream",
     "name": "stdout",
     "text": "[ 2  3  5  7 11 13 17 19 23 29 31] [False False  True  True  True  True  True  True  True  True  True]\n"
    }
   ],
   "source": [
    "array1 > 4\n",
    "print(array1,array1>4)"
   ]
  },
  {
   "cell_type": "code",
   "execution_count": 11,
   "metadata": {},
   "outputs": [
    {
     "output_type": "execute_result",
     "data": {
      "text/plain": "(array([ 2,  3,  4,  5,  6,  7,  8,  9, 10], dtype=int64),)"
     },
     "metadata": {},
     "execution_count": 11
    }
   ],
   "source": [
    "np.where(array1>4)"
   ]
  },
  {
   "cell_type": "code",
   "execution_count": 17,
   "metadata": {},
   "outputs": [
    {
     "output_type": "stream",
     "name": "stdout",
     "text": "[ 2  3  5  7 11 13 17 19 23 29 31] (11,)\n(array([ 2,  3,  4,  5,  6,  7,  8,  9, 10], dtype=int64),)\n"
    }
   ],
   "source": [
    "print(array1,array1.shape)\n",
    "filter = np.where(array1 > 4) #여기서where은 어디?index위치를return\n",
    "print(filter)"
   ]
  },
  {
   "cell_type": "code",
   "execution_count": 20,
   "metadata": {},
   "outputs": [
    {
     "output_type": "stream",
     "name": "stdout",
     "text": "(array([ 2,  3,  4,  5,  6,  7,  8,  9, 10], dtype=int64),) <class 'tuple'>\n[ 5  7 11 13 17 19 23 29 31] <class 'numpy.ndarray'>\n"
    },
    {
     "output_type": "execute_result",
     "data": {
      "text/plain": "array([ 5,  7, 11, 13, 17, 19, 23, 29, 31])"
     },
     "metadata": {},
     "execution_count": 20
    }
   ],
   "source": [
    "print(filter,type(filter))\n",
    "print(array1[filter],type(array1[filter]))\n",
    "array1[filter]"
   ]
  },
  {
   "cell_type": "code",
   "execution_count": null,
   "metadata": {},
   "outputs": [],
   "source": []
  }
 ],
 "metadata": {
  "language_info": {
   "codemirror_mode": {
    "name": "ipython",
    "version": 3
   },
   "file_extension": ".py",
   "mimetype": "text/x-python",
   "name": "python",
   "nbconvert_exporter": "python",
   "pygments_lexer": "ipython3",
   "version": "3.8.2-final"
  },
  "orig_nbformat": 2,
  "kernelspec": {
   "name": "python38264bitmymythonenvconda1f36fd18157f4376a30b6173fcd0cb3f",
   "display_name": "Python 3.8.2 64-bit ('my_mython_env': conda)"
  }
 },
 "nbformat": 4,
 "nbformat_minor": 2
}