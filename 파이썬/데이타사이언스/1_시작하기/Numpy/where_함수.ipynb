{
 "cells": [
  {
   "cell_type": "code",
   "execution_count": 1,
   "metadata": {},
   "outputs": [],
   "source": [
    "import numpy as np"
   ]
  },
  {
   "cell_type": "code",
   "execution_count": 2,
   "metadata": {},
   "outputs": [],
   "source": [
    "a = np.array([1,2,3,10,20,30,0.1,0.2])"
   ]
  },
  {
   "cell_type": "code",
   "execution_count": 4,
   "metadata": {},
   "outputs": [],
   "source": [
    "# 자동으로 tuple로 잡혀서 처리 한다. \n",
    "# argmin은 최소값의 인덱스 위치를 보여준다.\n",
    "np.min(a), np.argmin(a)"
   ]
  },
  {
   "cell_type": "code",
   "execution_count": 7,
   "metadata": {},
   "outputs": [
    {
     "output_type": "execute_result",
     "data": {
      "text/plain": "(30.0, 5)"
     },
     "metadata": {},
     "execution_count": 7
    }
   ],
   "source": [
    "# argmin은 최소값의 인덱스 위치를 보여준다\n",
    "np.max(a), np.argmax(a)"
   ]
  },
  {
   "cell_type": "code",
   "execution_count": 11,
   "metadata": {},
   "outputs": [
    {
     "output_type": "execute_result",
     "data": {
      "text/plain": "((8,), (array([6, 7], dtype=int64),))"
     },
     "metadata": {},
     "execution_count": 11
    }
   ],
   "source": [
    "a.shape,np.where(a<1)\n",
    "# 요소값의 수는 총 8개이고\n",
    "# 1보다 작은 요소 값의 인덱스 위치는 6,7해당.(index)"
   ]
  },
  {
   "cell_type": "code",
   "execution_count": 15,
   "metadata": {},
   "outputs": [
    {
     "output_type": "execute_result",
     "data": {
      "text/plain": "array([0.1, 0.2])"
     },
     "metadata": {},
     "execution_count": 15
    }
   ],
   "source": [
    "a[np.where(a<1)]"
   ]
  },
  {
   "cell_type": "code",
   "execution_count": 20,
   "metadata": {},
   "outputs": [
    {
     "output_type": "execute_result",
     "data": {
      "text/plain": "array([1. , 2. , 3. , 0. , 0. , 0. , 0.1, 0.2])"
     },
     "metadata": {},
     "execution_count": 20
    }
   ],
   "source": [
    "np.where(a>=10, 0, a)\n",
    "# 10보다 크거나 같은 값을 찾아서, 0으로 바꾸고, 아닌것은 그대로 두라는 조건문도 가능.  파이썬의 for문보다 빠름. \n",
    "\n",
    "# 즉 where메소드의 첫번째, 파라미터는 조건문이고\n",
    "#                  두번째, True일 때 그걸로 변환시킴.\n",
    "#                  세번째, False일 때 a의 상태로 두는 조건 \n",
    "# 여기서 a는 배열 상태 그대로 둔다는말. 변경 시키지말고 그대로 둬~!"
   ]
  },
  {
   "cell_type": "code",
   "execution_count": 25,
   "metadata": {},
   "outputs": [
    {
     "output_type": "execute_result",
     "data": {
      "text/plain": "array([1. , 2. , 3. , 1. , 2. , 3. , 0.1, 0.2])"
     },
     "metadata": {},
     "execution_count": 25
    }
   ],
   "source": [
    "np.where(a>=10, a*0.1, a)"
   ]
  },
  {
   "cell_type": "code",
   "execution_count": null,
   "metadata": {},
   "outputs": [],
   "source": []
  }
 ],
 "metadata": {
  "language_info": {
   "codemirror_mode": {
    "name": "ipython",
    "version": 3
   },
   "file_extension": ".py",
   "mimetype": "text/x-python",
   "name": "python",
   "nbconvert_exporter": "python",
   "pygments_lexer": "ipython3",
   "version": "3.8.2-final"
  },
  "orig_nbformat": 2,
  "kernelspec": {
   "name": "python38264bitmymythonenvconda1f36fd18157f4376a30b6173fcd0cb3f",
   "display_name": "Python 3.8.2 64-bit ('my_mython_env': conda)"
  }
 },
 "nbformat": 4,
 "nbformat_minor": 2
}