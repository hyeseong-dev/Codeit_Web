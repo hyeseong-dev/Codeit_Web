{
 "cells": [
  {
   "cell_type": "code",
   "execution_count": 11,
   "metadata": {},
   "outputs": [
    {
     "output_type": "execute_result",
     "data": {
      "text/plain": "    요일     식비   교통비  문화생활비    기타\n0  MON  19420  2560   4308  3541\n1  TUE  16970  2499   7644  2903\n2  WED  15091  2511   5674  2015\n3  THU  17880  2545   8621  3012\n4  FRI  27104  2993  23052  2508\n5  SAT  29055  2803  15330  4901\n6  SUN  23509  1760  19030  4230",
      "text/html": "<div>\n<style scoped>\n    .dataframe tbody tr th:only-of-type {\n        vertical-align: middle;\n    }\n\n    .dataframe tbody tr th {\n        vertical-align: top;\n    }\n\n    .dataframe thead th {\n        text-align: right;\n    }\n</style>\n<table border=\"1\" class=\"dataframe\">\n  <thead>\n    <tr style=\"text-align: right;\">\n      <th></th>\n      <th>요일</th>\n      <th>식비</th>\n      <th>교통비</th>\n      <th>문화생활비</th>\n      <th>기타</th>\n    </tr>\n  </thead>\n  <tbody>\n    <tr>\n      <th>0</th>\n      <td>MON</td>\n      <td>19420</td>\n      <td>2560</td>\n      <td>4308</td>\n      <td>3541</td>\n    </tr>\n    <tr>\n      <th>1</th>\n      <td>TUE</td>\n      <td>16970</td>\n      <td>2499</td>\n      <td>7644</td>\n      <td>2903</td>\n    </tr>\n    <tr>\n      <th>2</th>\n      <td>WED</td>\n      <td>15091</td>\n      <td>2511</td>\n      <td>5674</td>\n      <td>2015</td>\n    </tr>\n    <tr>\n      <th>3</th>\n      <td>THU</td>\n      <td>17880</td>\n      <td>2545</td>\n      <td>8621</td>\n      <td>3012</td>\n    </tr>\n    <tr>\n      <th>4</th>\n      <td>FRI</td>\n      <td>27104</td>\n      <td>2993</td>\n      <td>23052</td>\n      <td>2508</td>\n    </tr>\n    <tr>\n      <th>5</th>\n      <td>SAT</td>\n      <td>29055</td>\n      <td>2803</td>\n      <td>15330</td>\n      <td>4901</td>\n    </tr>\n    <tr>\n      <th>6</th>\n      <td>SUN</td>\n      <td>23509</td>\n      <td>1760</td>\n      <td>19030</td>\n      <td>4230</td>\n    </tr>\n  </tbody>\n</table>\n</div>"
     },
     "metadata": {},
     "execution_count": 11
    }
   ],
   "source": [
    "import pandas as pd\n",
    "\n",
    "samsong_df = pd.read_csv('data/samsong.csv', delimiter='\\t')\n",
    "hyundee_df = pd.read_csv('data/hyundee.csv', delimiter='\\t')\n",
    "\n",
    "# 코드를 작성하세요.\n",
    "samsong_df"
   ]
  },
  {
   "cell_type": "code",
   "execution_count": null,
   "metadata": {},
   "outputs": [],
   "source": []
  },
  {
   "cell_type": "code",
   "execution_count": 22,
   "metadata": {},
   "outputs": [
    {
     "output_type": "execute_result",
     "data": {
      "text/plain": "{'day':     요일\n 0  MON\n 1  TUE\n 2  WED\n 3  THU\n 4  FRI\n 5  SAT\n 6  SUN,\n 'samong':    문화생활비\n 0   4308\n 1   7644\n 2   5674\n 3   8621\n 4  23052\n 5  15330\n 6  19030,\n 'hyundee':    문화생활비\n 0   5339\n 1   3524\n 2   5364\n 3   9942\n 4  33511\n 5  19397}"
     },
     "metadata": {},
     "execution_count": 22
    }
   ],
   "source": [
    "days = samsong_df[['요일']]\n",
    "culture1 = samsong_df[['문화생활비']]\n",
    "culture2 = hyundee_df[['문화생활비']]\n",
    "\n",
    "new_df = {\n",
    "            'day':days,\n",
    "            'samong':culture1,\n",
    "            'hyundee': culture2 \n",
    "}\n",
    "\n",
    "new_df"
   ]
  },
  {
   "cell_type": "code",
   "execution_count": null,
   "metadata": {},
   "outputs": [],
   "source": []
  },
  {
   "cell_type": "code",
   "execution_count": null,
   "metadata": {},
   "outputs": [],
   "source": []
  },
  {
   "cell_type": "code",
   "execution_count": null,
   "metadata": {},
   "outputs": [],
   "source": []
  },
  {
   "cell_type": "code",
   "execution_count": null,
   "metadata": {},
   "outputs": [],
   "source": []
  }
 ],
 "metadata": {
  "language_info": {
   "codemirror_mode": {
    "name": "ipython",
    "version": 3
   },
   "file_extension": ".py",
   "mimetype": "text/x-python",
   "name": "python",
   "nbconvert_exporter": "python",
   "pygments_lexer": "ipython3",
   "version": "3.8.2-final"
  },
  "orig_nbformat": 2,
  "kernelspec": {
   "name": "python38264bitmymythonenvconda1f36fd18157f4376a30b6173fcd0cb3f",
   "display_name": "Python 3.8.2 64-bit ('my_mython_env': conda)"
  }
 },
 "nbformat": 4,
 "nbformat_minor": 2
}