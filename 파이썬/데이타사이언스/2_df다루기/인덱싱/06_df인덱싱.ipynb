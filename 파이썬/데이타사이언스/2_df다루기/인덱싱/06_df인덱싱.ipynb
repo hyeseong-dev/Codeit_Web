{
 "cells": [
  {
   "cell_type": "code",
   "execution_count": 3,
   "metadata": {},
   "outputs": [],
   "source": [
    "import pandas as pd"
   ]
  },
  {
   "cell_type": "code",
   "execution_count": 4,
   "metadata": {},
   "outputs": [
    {
     "output_type": "execute_result",
     "data": {
      "text/plain": "                   A         B         C         D\n2013-01-01 -0.444717 -0.460442 -1.097580 -0.596984\n2013-01-02  0.012550 -0.112970 -1.020440  1.036641\n2013-01-03  1.216600  1.550895  0.957431  0.871923\n2013-01-04  0.374882 -0.727793  1.897956  0.818088\n2013-01-05  1.169364 -0.361508 -0.286520 -0.671125\n2013-01-06  0.530921  1.064864 -0.200874 -1.053632",
      "text/html": "<div>\n<style scoped>\n    .dataframe tbody tr th:only-of-type {\n        vertical-align: middle;\n    }\n\n    .dataframe tbody tr th {\n        vertical-align: top;\n    }\n\n    .dataframe thead th {\n        text-align: right;\n    }\n</style>\n<table border=\"1\" class=\"dataframe\">\n  <thead>\n    <tr style=\"text-align: right;\">\n      <th></th>\n      <th>A</th>\n      <th>B</th>\n      <th>C</th>\n      <th>D</th>\n    </tr>\n  </thead>\n  <tbody>\n    <tr>\n      <th>2013-01-01</th>\n      <td>-0.444717</td>\n      <td>-0.460442</td>\n      <td>-1.097580</td>\n      <td>-0.596984</td>\n    </tr>\n    <tr>\n      <th>2013-01-02</th>\n      <td>0.012550</td>\n      <td>-0.112970</td>\n      <td>-1.020440</td>\n      <td>1.036641</td>\n    </tr>\n    <tr>\n      <th>2013-01-03</th>\n      <td>1.216600</td>\n      <td>1.550895</td>\n      <td>0.957431</td>\n      <td>0.871923</td>\n    </tr>\n    <tr>\n      <th>2013-01-04</th>\n      <td>0.374882</td>\n      <td>-0.727793</td>\n      <td>1.897956</td>\n      <td>0.818088</td>\n    </tr>\n    <tr>\n      <th>2013-01-05</th>\n      <td>1.169364</td>\n      <td>-0.361508</td>\n      <td>-0.286520</td>\n      <td>-0.671125</td>\n    </tr>\n    <tr>\n      <th>2013-01-06</th>\n      <td>0.530921</td>\n      <td>1.064864</td>\n      <td>-0.200874</td>\n      <td>-1.053632</td>\n    </tr>\n  </tbody>\n</table>\n</div>"
     },
     "metadata": {},
     "execution_count": 4
    }
   ],
   "source": [
    "import pandas as pd\n",
    "import numpy as np\n",
    "import matplotlib.pyplot as plt\n",
    "\n",
    "dates = pd.date_range('20130101', periods = 6 )\n",
    "df = pd.DataFrame(np.random.randn(6,4), index=dates, columns=list('ABCD'))\n",
    "df"
   ]
  },
  {
   "cell_type": "code",
   "execution_count": 6,
   "metadata": {},
   "outputs": [
    {
     "output_type": "execute_result",
     "data": {
      "text/plain": "                   A         B         C         D   E\n2013-01-01  0.256486 -0.533594  1.826092 -2.244006 NaN\n2013-01-02 -0.592481  1.484267  1.828588  0.222084 NaN\n2013-01-03  0.940211  1.039060 -0.761085 -0.897477 NaN\n2013-01-04 -0.528017  0.645251 -1.971659 -1.265498 NaN",
      "text/html": "<div>\n<style scoped>\n    .dataframe tbody tr th:only-of-type {\n        vertical-align: middle;\n    }\n\n    .dataframe tbody tr th {\n        vertical-align: top;\n    }\n\n    .dataframe thead th {\n        text-align: right;\n    }\n</style>\n<table border=\"1\" class=\"dataframe\">\n  <thead>\n    <tr style=\"text-align: right;\">\n      <th></th>\n      <th>A</th>\n      <th>B</th>\n      <th>C</th>\n      <th>D</th>\n      <th>E</th>\n    </tr>\n  </thead>\n  <tbody>\n    <tr>\n      <th>2013-01-01</th>\n      <td>0.256486</td>\n      <td>-0.533594</td>\n      <td>1.826092</td>\n      <td>-2.244006</td>\n      <td>NaN</td>\n    </tr>\n    <tr>\n      <th>2013-01-02</th>\n      <td>-0.592481</td>\n      <td>1.484267</td>\n      <td>1.828588</td>\n      <td>0.222084</td>\n      <td>NaN</td>\n    </tr>\n    <tr>\n      <th>2013-01-03</th>\n      <td>0.940211</td>\n      <td>1.039060</td>\n      <td>-0.761085</td>\n      <td>-0.897477</td>\n      <td>NaN</td>\n    </tr>\n    <tr>\n      <th>2013-01-04</th>\n      <td>-0.528017</td>\n      <td>0.645251</td>\n      <td>-1.971659</td>\n      <td>-1.265498</td>\n      <td>NaN</td>\n    </tr>\n  </tbody>\n</table>\n</div>"
     },
     "metadata": {},
     "execution_count": 6
    }
   ],
   "source": [
    "df1 = df.reindex(index=dates[0:4], columns=list(df.columns) + ['E'])\n",
    "df1"
   ]
  },
  {
   "cell_type": "code",
   "execution_count": null,
   "metadata": {},
   "outputs": [],
   "source": []
  },
  {
   "cell_type": "code",
   "execution_count": null,
   "metadata": {},
   "outputs": [],
   "source": [
    "df1."
   ]
  },
  {
   "cell_type": "code",
   "execution_count": null,
   "metadata": {},
   "outputs": [],
   "source": []
  },
  {
   "cell_type": "code",
   "execution_count": 6,
   "metadata": {},
   "outputs": [
    {
     "output_type": "execute_result",
     "data": {
      "text/plain": "                      출시일  디스플레이  메모리     출시 버전 Face ID\niPhone 7 Plus  2016-09-16    5.5  3GB  iOS 10.0      No\niPhone 8       2017-09-22    4.7  2GB  iOS 11.0      No\niPhone 8 Plus  2017-09-22    5.5  3GB  iOS 11.0      No\niPhone X       2017-11-03    5.8  3GB  iOS 11.1     Yes\niPhone XS      2018-09-21    5.8  4GB  iOS 12.0     Yes\niPhone XS Max  2018-09-21    6.5  4GB  iOS 12.0     Yes",
      "text/html": "<div>\n<style scoped>\n    .dataframe tbody tr th:only-of-type {\n        vertical-align: middle;\n    }\n\n    .dataframe tbody tr th {\n        vertical-align: top;\n    }\n\n    .dataframe thead th {\n        text-align: right;\n    }\n</style>\n<table border=\"1\" class=\"dataframe\">\n  <thead>\n    <tr style=\"text-align: right;\">\n      <th></th>\n      <th>출시일</th>\n      <th>디스플레이</th>\n      <th>메모리</th>\n      <th>출시 버전</th>\n      <th>Face ID</th>\n    </tr>\n  </thead>\n  <tbody>\n    <tr>\n      <th>iPhone 7 Plus</th>\n      <td>2016-09-16</td>\n      <td>5.5</td>\n      <td>3GB</td>\n      <td>iOS 10.0</td>\n      <td>No</td>\n    </tr>\n    <tr>\n      <th>iPhone 8</th>\n      <td>2017-09-22</td>\n      <td>4.7</td>\n      <td>2GB</td>\n      <td>iOS 11.0</td>\n      <td>No</td>\n    </tr>\n    <tr>\n      <th>iPhone 8 Plus</th>\n      <td>2017-09-22</td>\n      <td>5.5</td>\n      <td>3GB</td>\n      <td>iOS 11.0</td>\n      <td>No</td>\n    </tr>\n    <tr>\n      <th>iPhone X</th>\n      <td>2017-11-03</td>\n      <td>5.8</td>\n      <td>3GB</td>\n      <td>iOS 11.1</td>\n      <td>Yes</td>\n    </tr>\n    <tr>\n      <th>iPhone XS</th>\n      <td>2018-09-21</td>\n      <td>5.8</td>\n      <td>4GB</td>\n      <td>iOS 12.0</td>\n      <td>Yes</td>\n    </tr>\n    <tr>\n      <th>iPhone XS Max</th>\n      <td>2018-09-21</td>\n      <td>6.5</td>\n      <td>4GB</td>\n      <td>iOS 12.0</td>\n      <td>Yes</td>\n    </tr>\n  </tbody>\n</table>\n</div>"
     },
     "metadata": {},
     "execution_count": 6
    }
   ],
   "source": [
    "# 두번째 parameter가 각로우에 인덱스 넘버를 매겨준다. \n",
    "iphone_df = pd.read_csv('data/iphone.csv',index_col=0)\n",
    "# 테이블의 0번째 컬럼에 인덱스가 설정된다. \n",
    "iphone_df"
   ]
  },
  {
   "cell_type": "code",
   "execution_count": 7,
   "metadata": {},
   "outputs": [
    {
     "output_type": "execute_result",
     "data": {
      "text/plain": "                      출시일  디스플레이  메모리     출시 버전 Face ID\niPhone 8 Plus  2017-09-22    5.5  3GB  iOS 11.0      No\niPhone 7 Plus  2016-09-16    5.5  3GB  iOS 10.0      No",
      "text/html": "<div>\n<style scoped>\n    .dataframe tbody tr th:only-of-type {\n        vertical-align: middle;\n    }\n\n    .dataframe tbody tr th {\n        vertical-align: top;\n    }\n\n    .dataframe thead th {\n        text-align: right;\n    }\n</style>\n<table border=\"1\" class=\"dataframe\">\n  <thead>\n    <tr style=\"text-align: right;\">\n      <th></th>\n      <th>출시일</th>\n      <th>디스플레이</th>\n      <th>메모리</th>\n      <th>출시 버전</th>\n      <th>Face ID</th>\n    </tr>\n  </thead>\n  <tbody>\n    <tr>\n      <th>iPhone 8 Plus</th>\n      <td>2017-09-22</td>\n      <td>5.5</td>\n      <td>3GB</td>\n      <td>iOS 11.0</td>\n      <td>No</td>\n    </tr>\n    <tr>\n      <th>iPhone 7 Plus</th>\n      <td>2016-09-16</td>\n      <td>5.5</td>\n      <td>3GB</td>\n      <td>iOS 10.0</td>\n      <td>No</td>\n    </tr>\n  </tbody>\n</table>\n</div>"
     },
     "metadata": {},
     "execution_count": 7
    }
   ],
   "source": [
    "iphone_df.loc[['iPhone 8 Plus','iPhone 7 Plus']] \n",
    "# 조회하기 원하는 index의 명칭을 리스트로 넘기면 된다. "
   ]
  },
  {
   "cell_type": "code",
   "execution_count": 8,
   "metadata": {},
   "outputs": [
    {
     "output_type": "execute_result",
     "data": {
      "text/plain": "pandas.core.frame.DataFrame"
     },
     "metadata": {},
     "execution_count": 8
    }
   ],
   "source": [
    "type(iphone_df.loc[['iPhone 8 Plus','iPhone 7 Plus']])\n"
   ]
  },
  {
   "cell_type": "code",
   "execution_count": 58,
   "metadata": {},
   "outputs": [
    {
     "output_type": "execute_result",
     "data": {
      "text/plain": "              Face ID         출시일     출시 버전\niPhone 7 Plus      No  2016-09-16  iOS 10.0\niPhone 8           No  2017-09-22  iOS 11.0\niPhone 8 Plus      No  2017-09-22  iOS 11.0\niPhone X          Yes  2017-11-03  iOS 11.1\niPhone XS         Yes  2018-09-21  iOS 12.0\niPhone XS Max     Yes  2018-09-21  iOS 12.0",
      "text/html": "<div>\n<style scoped>\n    .dataframe tbody tr th:only-of-type {\n        vertical-align: middle;\n    }\n\n    .dataframe tbody tr th {\n        vertical-align: top;\n    }\n\n    .dataframe thead th {\n        text-align: right;\n    }\n</style>\n<table border=\"1\" class=\"dataframe\">\n  <thead>\n    <tr style=\"text-align: right;\">\n      <th></th>\n      <th>Face ID</th>\n      <th>출시일</th>\n      <th>출시 버전</th>\n    </tr>\n  </thead>\n  <tbody>\n    <tr>\n      <th>iPhone 7 Plus</th>\n      <td>No</td>\n      <td>2016-09-16</td>\n      <td>iOS 10.0</td>\n    </tr>\n    <tr>\n      <th>iPhone 8</th>\n      <td>No</td>\n      <td>2017-09-22</td>\n      <td>iOS 11.0</td>\n    </tr>\n    <tr>\n      <th>iPhone 8 Plus</th>\n      <td>No</td>\n      <td>2017-09-22</td>\n      <td>iOS 11.0</td>\n    </tr>\n    <tr>\n      <th>iPhone X</th>\n      <td>Yes</td>\n      <td>2017-11-03</td>\n      <td>iOS 11.1</td>\n    </tr>\n    <tr>\n      <th>iPhone XS</th>\n      <td>Yes</td>\n      <td>2018-09-21</td>\n      <td>iOS 12.0</td>\n    </tr>\n    <tr>\n      <th>iPhone XS Max</th>\n      <td>Yes</td>\n      <td>2018-09-21</td>\n      <td>iOS 12.0</td>\n    </tr>\n  </tbody>\n</table>\n</div>"
     },
     "metadata": {},
     "execution_count": 58
    }
   ],
   "source": [
    "# 원하는 컬럼을 조회하고 싶은 경우\n",
    "iphone_df[['Face ID','출시일','출시 버전']]"
   ]
  },
  {
   "cell_type": "markdown",
   "metadata": {},
   "source": [
    "# 슬라이싱 하는 방법은?\n"
   ]
  },
  {
   "cell_type": "code",
   "execution_count": 9,
   "metadata": {},
   "outputs": [
    {
     "output_type": "execute_result",
     "data": {
      "text/plain": "                      출시일  디스플레이  메모리     출시 버전 Face ID\niPhone 7 Plus  2016-09-16    5.5  3GB  iOS 10.0      No\niPhone 8       2017-09-22    4.7  2GB  iOS 11.0      No\niPhone 8 Plus  2017-09-22    5.5  3GB  iOS 11.0      No\niPhone X       2017-11-03    5.8  3GB  iOS 11.1     Yes",
      "text/html": "<div>\n<style scoped>\n    .dataframe tbody tr th:only-of-type {\n        vertical-align: middle;\n    }\n\n    .dataframe tbody tr th {\n        vertical-align: top;\n    }\n\n    .dataframe thead th {\n        text-align: right;\n    }\n</style>\n<table border=\"1\" class=\"dataframe\">\n  <thead>\n    <tr style=\"text-align: right;\">\n      <th></th>\n      <th>출시일</th>\n      <th>디스플레이</th>\n      <th>메모리</th>\n      <th>출시 버전</th>\n      <th>Face ID</th>\n    </tr>\n  </thead>\n  <tbody>\n    <tr>\n      <th>iPhone 7 Plus</th>\n      <td>2016-09-16</td>\n      <td>5.5</td>\n      <td>3GB</td>\n      <td>iOS 10.0</td>\n      <td>No</td>\n    </tr>\n    <tr>\n      <th>iPhone 8</th>\n      <td>2017-09-22</td>\n      <td>4.7</td>\n      <td>2GB</td>\n      <td>iOS 11.0</td>\n      <td>No</td>\n    </tr>\n    <tr>\n      <th>iPhone 8 Plus</th>\n      <td>2017-09-22</td>\n      <td>5.5</td>\n      <td>3GB</td>\n      <td>iOS 11.0</td>\n      <td>No</td>\n    </tr>\n    <tr>\n      <th>iPhone X</th>\n      <td>2017-11-03</td>\n      <td>5.8</td>\n      <td>3GB</td>\n      <td>iOS 11.1</td>\n      <td>Yes</td>\n    </tr>\n  </tbody>\n</table>\n</div>"
     },
     "metadata": {},
     "execution_count": 9
    }
   ],
   "source": [
    "iphone_df['iPhone 7 Plus':'iPhone X']       # 방법1\n",
    "# iphone_df.loc['iPhone 7 Plus':'iPhone X']   # 방법2 둘다 결과는 동일함\n",
    "# 0번째 row 인덱스 방향부터 조회가 가능함. 역방향은 안됨."
   ]
  },
  {
   "cell_type": "code",
   "execution_count": 12,
   "metadata": {},
   "outputs": [],
   "source": [
    "# iphone_df[:,'출시일':'메모리']  #오류발생함.\n"
   ]
  },
  {
   "cell_type": "code",
   "execution_count": 22,
   "metadata": {},
   "outputs": [
    {
     "output_type": "execute_result",
     "data": {
      "text/plain": "Index(['출시일', '디스플레이', '메모리', '출시 버전', 'Face ID'], dtype='object')"
     },
     "metadata": {},
     "execution_count": 22
    }
   ],
   "source": [
    "# index_col=1로 잡을 경우,\n",
    "iphone_df = pd.read_csv('data/iphone.csv',index_col=0)\n",
    "iphone_df\n",
    "iphone_df.columns"
   ]
  },
  {
   "cell_type": "code",
   "execution_count": 40,
   "metadata": {},
   "outputs": [
    {
     "output_type": "execute_result",
     "data": {
      "text/plain": "               메모리  디스플레이\niPhone 7 Plus  3GB    5.5\niPhone 8       2GB    4.7\niPhone 8 Plus  3GB    5.5\niPhone X       3GB    5.8\niPhone XS      4GB    5.8\niPhone XS Max  4GB    6.5",
      "text/html": "<div>\n<style scoped>\n    .dataframe tbody tr th:only-of-type {\n        vertical-align: middle;\n    }\n\n    .dataframe tbody tr th {\n        vertical-align: top;\n    }\n\n    .dataframe thead th {\n        text-align: right;\n    }\n</style>\n<table border=\"1\" class=\"dataframe\">\n  <thead>\n    <tr style=\"text-align: right;\">\n      <th></th>\n      <th>메모리</th>\n      <th>디스플레이</th>\n    </tr>\n  </thead>\n  <tbody>\n    <tr>\n      <th>iPhone 7 Plus</th>\n      <td>3GB</td>\n      <td>5.5</td>\n    </tr>\n    <tr>\n      <th>iPhone 8</th>\n      <td>2GB</td>\n      <td>4.7</td>\n    </tr>\n    <tr>\n      <th>iPhone 8 Plus</th>\n      <td>3GB</td>\n      <td>5.5</td>\n    </tr>\n    <tr>\n      <th>iPhone X</th>\n      <td>3GB</td>\n      <td>5.8</td>\n    </tr>\n    <tr>\n      <th>iPhone XS</th>\n      <td>4GB</td>\n      <td>5.8</td>\n    </tr>\n    <tr>\n      <th>iPhone XS Max</th>\n      <td>4GB</td>\n      <td>6.5</td>\n    </tr>\n  </tbody>\n</table>\n</div>"
     },
     "metadata": {},
     "execution_count": 40
    }
   ],
   "source": [
    "# 특정 셀안의 값 하나만 보고 싶을때 사용\n",
    "# iphone_df['메모리']\n",
    "# 특정 셀안의 값 하나만 보고 싶을때 사용\n",
    "# iphone_df['메모리']\n",
    "iphone_df.loc[:,{'메모리','디스플레이'}]\n",
    "# 첫번째 인자에 숫자 넣음 오류 \n",
    "# 현재 객체들이 str으로 되어있기에 str으로 첫번째 인자를 잡아야함.\n",
    "# iphone_df[['Face ID','출시일','출시 버전']]\n"
   ]
  },
  {
   "cell_type": "code",
   "execution_count": null,
   "metadata": {},
   "outputs": [],
   "source": []
  }
 ],
 "metadata": {
  "language_info": {
   "codemirror_mode": {
    "name": "ipython",
    "version": 3
   },
   "file_extension": ".py",
   "mimetype": "text/x-python",
   "name": "python",
   "nbconvert_exporter": "python",
   "pygments_lexer": "ipython3",
   "version": "3.8.1-final"
  },
  "orig_nbformat": 2,
  "kernelspec": {
   "name": "python38164bitpytorchcondae2e836418e8f4945879c9669572061e2",
   "display_name": "Python 3.8.1 64-bit ('pytorch': conda)"
  }
 },
 "nbformat": 4,
 "nbformat_minor": 2
}