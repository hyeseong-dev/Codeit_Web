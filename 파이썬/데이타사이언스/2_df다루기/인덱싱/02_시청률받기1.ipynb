{
 "cells": [
  {
   "cell_type": "code",
   "execution_count": 3,
   "metadata": {},
   "outputs": [
    {
     "output_type": "execute_result",
     "data": {
      "text/plain": "         KBS     MBC     SBS  TV CHOSUN   JTBC  Channel A    MBN\n2011  35.951  18.374  11.173      9.102  7.380      3.771  2.809\n2012  36.163  16.022  11.408      8.785  7.878      5.874  3.310\n2013  31.989  16.778   9.673      9.026  7.810      5.350  3.825\n2014  31.210  15.663   9.108      9.440  7.490      5.776  4.572\n2015  27.777  16.573   9.099      9.940  7.267      6.678  5.520\n2016  27.583  14.982   8.669      9.829  7.727      6.624  5.477\n2017  26.890  12.465   8.661      8.886  9.453      6.056  5.215",
      "text/html": "<div>\n<style scoped>\n    .dataframe tbody tr th:only-of-type {\n        vertical-align: middle;\n    }\n\n    .dataframe tbody tr th {\n        vertical-align: top;\n    }\n\n    .dataframe thead th {\n        text-align: right;\n    }\n</style>\n<table border=\"1\" class=\"dataframe\">\n  <thead>\n    <tr style=\"text-align: right;\">\n      <th></th>\n      <th>KBS</th>\n      <th>MBC</th>\n      <th>SBS</th>\n      <th>TV CHOSUN</th>\n      <th>JTBC</th>\n      <th>Channel A</th>\n      <th>MBN</th>\n    </tr>\n  </thead>\n  <tbody>\n    <tr>\n      <th>2011</th>\n      <td>35.951</td>\n      <td>18.374</td>\n      <td>11.173</td>\n      <td>9.102</td>\n      <td>7.380</td>\n      <td>3.771</td>\n      <td>2.809</td>\n    </tr>\n    <tr>\n      <th>2012</th>\n      <td>36.163</td>\n      <td>16.022</td>\n      <td>11.408</td>\n      <td>8.785</td>\n      <td>7.878</td>\n      <td>5.874</td>\n      <td>3.310</td>\n    </tr>\n    <tr>\n      <th>2013</th>\n      <td>31.989</td>\n      <td>16.778</td>\n      <td>9.673</td>\n      <td>9.026</td>\n      <td>7.810</td>\n      <td>5.350</td>\n      <td>3.825</td>\n    </tr>\n    <tr>\n      <th>2014</th>\n      <td>31.210</td>\n      <td>15.663</td>\n      <td>9.108</td>\n      <td>9.440</td>\n      <td>7.490</td>\n      <td>5.776</td>\n      <td>4.572</td>\n    </tr>\n    <tr>\n      <th>2015</th>\n      <td>27.777</td>\n      <td>16.573</td>\n      <td>9.099</td>\n      <td>9.940</td>\n      <td>7.267</td>\n      <td>6.678</td>\n      <td>5.520</td>\n    </tr>\n    <tr>\n      <th>2016</th>\n      <td>27.583</td>\n      <td>14.982</td>\n      <td>8.669</td>\n      <td>9.829</td>\n      <td>7.727</td>\n      <td>6.624</td>\n      <td>5.477</td>\n    </tr>\n    <tr>\n      <th>2017</th>\n      <td>26.890</td>\n      <td>12.465</td>\n      <td>8.661</td>\n      <td>8.886</td>\n      <td>9.453</td>\n      <td>6.056</td>\n      <td>5.215</td>\n    </tr>\n  </tbody>\n</table>\n</div>"
     },
     "metadata": {},
     "execution_count": 3
    }
   ],
   "source": [
    "import pandas as pd\n",
    "\n",
    "df = pd.read_csv('data/broadcast.csv', index_col=0, delimiter='\\t')\n",
    "df\n",
    "# 코드를 작성하세요."
   ]
  },
  {
   "cell_type": "markdown",
   "metadata": {},
   "source": [
    "인덱싱을 하기위해서는 loc[] 메소드 즉, location 메소드를 사용해야함\n",
    "\n",
    "구조 : loc\\[row,column\\]  "
   ]
  },
  {
   "cell_type": "code",
   "execution_count": 4,
   "metadata": {},
   "outputs": [
    {
     "output_type": "execute_result",
     "data": {
      "text/plain": "27.583"
     },
     "metadata": {},
     "execution_count": 4
    }
   ],
   "source": [
    "round(df.loc[2016,'KBS'],3)"
   ]
  },
  {
   "cell_type": "code",
   "execution_count": 6,
   "metadata": {},
   "outputs": [
    {
     "output_type": "execute_result",
     "data": {
      "text/plain": "         KBS     MBC     SBS  TV CHOSUN   JTBC  Channel A    MBN\n2011     NaN  18.374  11.173      9.102  7.380      3.771  2.809\n2012  36.163  16.022  11.408      8.785  7.878      5.874  3.310\n2013  31.989  16.778   9.673      9.026  7.810      5.350  3.825\n2014  31.210  15.663   9.108      9.440  7.490      5.776  4.572\n2015  27.777  16.573   9.099      9.940  7.267      6.678  5.520\n2016     NaN  14.982   8.669      9.829  7.727      6.624  5.477\n2017  26.890  12.465   8.661      8.886  9.453      6.056  5.215",
      "text/html": "<div>\n<style scoped>\n    .dataframe tbody tr th:only-of-type {\n        vertical-align: middle;\n    }\n\n    .dataframe tbody tr th {\n        vertical-align: top;\n    }\n\n    .dataframe thead th {\n        text-align: right;\n    }\n</style>\n<table border=\"1\" class=\"dataframe\">\n  <thead>\n    <tr style=\"text-align: right;\">\n      <th></th>\n      <th>KBS</th>\n      <th>MBC</th>\n      <th>SBS</th>\n      <th>TV CHOSUN</th>\n      <th>JTBC</th>\n      <th>Channel A</th>\n      <th>MBN</th>\n    </tr>\n  </thead>\n  <tbody>\n    <tr>\n      <th>2011</th>\n      <td>NaN</td>\n      <td>18.374</td>\n      <td>11.173</td>\n      <td>9.102</td>\n      <td>7.380</td>\n      <td>3.771</td>\n      <td>2.809</td>\n    </tr>\n    <tr>\n      <th>2012</th>\n      <td>36.163</td>\n      <td>16.022</td>\n      <td>11.408</td>\n      <td>8.785</td>\n      <td>7.878</td>\n      <td>5.874</td>\n      <td>3.310</td>\n    </tr>\n    <tr>\n      <th>2013</th>\n      <td>31.989</td>\n      <td>16.778</td>\n      <td>9.673</td>\n      <td>9.026</td>\n      <td>7.810</td>\n      <td>5.350</td>\n      <td>3.825</td>\n    </tr>\n    <tr>\n      <th>2014</th>\n      <td>31.210</td>\n      <td>15.663</td>\n      <td>9.108</td>\n      <td>9.440</td>\n      <td>7.490</td>\n      <td>5.776</td>\n      <td>4.572</td>\n    </tr>\n    <tr>\n      <th>2015</th>\n      <td>27.777</td>\n      <td>16.573</td>\n      <td>9.099</td>\n      <td>9.940</td>\n      <td>7.267</td>\n      <td>6.678</td>\n      <td>5.520</td>\n    </tr>\n    <tr>\n      <th>2016</th>\n      <td>NaN</td>\n      <td>14.982</td>\n      <td>8.669</td>\n      <td>9.829</td>\n      <td>7.727</td>\n      <td>6.624</td>\n      <td>5.477</td>\n    </tr>\n    <tr>\n      <th>2017</th>\n      <td>26.890</td>\n      <td>12.465</td>\n      <td>8.661</td>\n      <td>8.886</td>\n      <td>9.453</td>\n      <td>6.056</td>\n      <td>5.215</td>\n    </tr>\n  </tbody>\n</table>\n</div>"
     },
     "metadata": {},
     "execution_count": 6
    }
   ],
   "source": [
    "df.loc[[2016,2011],'KBS'] = None\n",
    "df\n"
   ]
  },
  {
   "cell_type": "code",
   "execution_count": 6,
   "metadata": {},
   "outputs": [
    {
     "data": {
      "text/plain": [
       "Int64Index([2011, 2012, 2013, 2014, 2015, 2016, 2017], dtype='int64')"
      ]
     },
     "execution_count": 6,
     "metadata": {},
     "output_type": "execute_result"
    }
   ],
   "source": [
    "df.index"
   ]
  },
  {
   "cell_type": "code",
   "execution_count": 9,
   "metadata": {},
   "outputs": [
    {
     "data": {
      "text/plain": [
       "dtype('int64')"
      ]
     },
     "execution_count": 9,
     "metadata": {},
     "output_type": "execute_result"
    }
   ],
   "source": [
    "df.index.dtype"
   ]
  },
  {
   "cell_type": "code",
   "execution_count": null,
   "metadata": {},
   "outputs": [],
   "source": []
  }
 ],
 "metadata": {
  "kernelspec": {
   "display_name": "Python 3.8.1 64-bit ('pytorch': conda)",
   "language": "python",
   "name": "python38164bitpytorchcondae2e836418e8f4945879c9669572061e2"
  },
  "language_info": {
   "codemirror_mode": {
    "name": "ipython",
    "version": 3
   },
   "file_extension": ".py",
   "mimetype": "text/x-python",
   "name": "python",
   "nbconvert_exporter": "python",
   "pygments_lexer": "ipython3",
   "version": "3.8.1-final"
  }
 },
 "nbformat": 4,
 "nbformat_minor": 4
}