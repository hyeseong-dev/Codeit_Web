{
 "cells": [
  {
   "cell_type": "code",
   "execution_count": 1,
   "metadata": {},
   "outputs": [
    {
     "output_type": "execute_result",
     "data": {
      "text/plain": "         KBS     MBC     SBS  TV CHOSUN   JTBC  Channel A    MBN\n2011  35.951  18.374  11.173      9.102  7.380      3.771  2.809\n2012  36.163  16.022  11.408      8.785  7.878      5.874  3.310\n2013  31.989  16.778   9.673      9.026  7.810      5.350  3.825\n2014  31.210  15.663   9.108      9.440  7.490      5.776  4.572\n2015  27.777  16.573   9.099      9.940  7.267      6.678  5.520\n2016  27.583  14.982   8.669      9.829  7.727      6.624  5.477\n2017  26.890  12.465   8.661      8.886  9.453      6.056  5.215",
      "text/html": "<div>\n<style scoped>\n    .dataframe tbody tr th:only-of-type {\n        vertical-align: middle;\n    }\n\n    .dataframe tbody tr th {\n        vertical-align: top;\n    }\n\n    .dataframe thead th {\n        text-align: right;\n    }\n</style>\n<table border=\"1\" class=\"dataframe\">\n  <thead>\n    <tr style=\"text-align: right;\">\n      <th></th>\n      <th>KBS</th>\n      <th>MBC</th>\n      <th>SBS</th>\n      <th>TV CHOSUN</th>\n      <th>JTBC</th>\n      <th>Channel A</th>\n      <th>MBN</th>\n    </tr>\n  </thead>\n  <tbody>\n    <tr>\n      <th>2011</th>\n      <td>35.951</td>\n      <td>18.374</td>\n      <td>11.173</td>\n      <td>9.102</td>\n      <td>7.380</td>\n      <td>3.771</td>\n      <td>2.809</td>\n    </tr>\n    <tr>\n      <th>2012</th>\n      <td>36.163</td>\n      <td>16.022</td>\n      <td>11.408</td>\n      <td>8.785</td>\n      <td>7.878</td>\n      <td>5.874</td>\n      <td>3.310</td>\n    </tr>\n    <tr>\n      <th>2013</th>\n      <td>31.989</td>\n      <td>16.778</td>\n      <td>9.673</td>\n      <td>9.026</td>\n      <td>7.810</td>\n      <td>5.350</td>\n      <td>3.825</td>\n    </tr>\n    <tr>\n      <th>2014</th>\n      <td>31.210</td>\n      <td>15.663</td>\n      <td>9.108</td>\n      <td>9.440</td>\n      <td>7.490</td>\n      <td>5.776</td>\n      <td>4.572</td>\n    </tr>\n    <tr>\n      <th>2015</th>\n      <td>27.777</td>\n      <td>16.573</td>\n      <td>9.099</td>\n      <td>9.940</td>\n      <td>7.267</td>\n      <td>6.678</td>\n      <td>5.520</td>\n    </tr>\n    <tr>\n      <th>2016</th>\n      <td>27.583</td>\n      <td>14.982</td>\n      <td>8.669</td>\n      <td>9.829</td>\n      <td>7.727</td>\n      <td>6.624</td>\n      <td>5.477</td>\n    </tr>\n    <tr>\n      <th>2017</th>\n      <td>26.890</td>\n      <td>12.465</td>\n      <td>8.661</td>\n      <td>8.886</td>\n      <td>9.453</td>\n      <td>6.056</td>\n      <td>5.215</td>\n    </tr>\n  </tbody>\n</table>\n</div>"
     },
     "metadata": {},
     "execution_count": 1
    }
   ],
   "source": [
    "import pandas as pd\n",
    "\n",
    "df = pd.read_csv('data/broadcast.csv', index_col=0, delimiter='\\t')\n",
    "df\n",
    "# 코드를 작성하세요."
   ]
  },
  {
   "cell_type": "code",
   "execution_count": 2,
   "metadata": {},
   "outputs": [
    {
     "output_type": "execute_result",
     "data": {
      "text/plain": "             2011    2012    2013    2014    2015    2016    2017\nKBS        35.951  36.163  31.989  31.210  27.777  27.583  26.890\nMBC        18.374  16.022  16.778  15.663  16.573  14.982  12.465\nSBS        11.173  11.408   9.673   9.108   9.099   8.669   8.661\nTV CHOSUN   9.102   8.785   9.026   9.440   9.940   9.829   8.886\nJTBC        7.380   7.878   7.810   7.490   7.267   7.727   9.453\nChannel A   3.771   5.874   5.350   5.776   6.678   6.624   6.056\nMBN         2.809   3.310   3.825   4.572   5.520   5.477   5.215",
      "text/html": "<div>\n<style scoped>\n    .dataframe tbody tr th:only-of-type {\n        vertical-align: middle;\n    }\n\n    .dataframe tbody tr th {\n        vertical-align: top;\n    }\n\n    .dataframe thead th {\n        text-align: right;\n    }\n</style>\n<table border=\"1\" class=\"dataframe\">\n  <thead>\n    <tr style=\"text-align: right;\">\n      <th></th>\n      <th>2011</th>\n      <th>2012</th>\n      <th>2013</th>\n      <th>2014</th>\n      <th>2015</th>\n      <th>2016</th>\n      <th>2017</th>\n    </tr>\n  </thead>\n  <tbody>\n    <tr>\n      <th>KBS</th>\n      <td>35.951</td>\n      <td>36.163</td>\n      <td>31.989</td>\n      <td>31.210</td>\n      <td>27.777</td>\n      <td>27.583</td>\n      <td>26.890</td>\n    </tr>\n    <tr>\n      <th>MBC</th>\n      <td>18.374</td>\n      <td>16.022</td>\n      <td>16.778</td>\n      <td>15.663</td>\n      <td>16.573</td>\n      <td>14.982</td>\n      <td>12.465</td>\n    </tr>\n    <tr>\n      <th>SBS</th>\n      <td>11.173</td>\n      <td>11.408</td>\n      <td>9.673</td>\n      <td>9.108</td>\n      <td>9.099</td>\n      <td>8.669</td>\n      <td>8.661</td>\n    </tr>\n    <tr>\n      <th>TV CHOSUN</th>\n      <td>9.102</td>\n      <td>8.785</td>\n      <td>9.026</td>\n      <td>9.440</td>\n      <td>9.940</td>\n      <td>9.829</td>\n      <td>8.886</td>\n    </tr>\n    <tr>\n      <th>JTBC</th>\n      <td>7.380</td>\n      <td>7.878</td>\n      <td>7.810</td>\n      <td>7.490</td>\n      <td>7.267</td>\n      <td>7.727</td>\n      <td>9.453</td>\n    </tr>\n    <tr>\n      <th>Channel A</th>\n      <td>3.771</td>\n      <td>5.874</td>\n      <td>5.350</td>\n      <td>5.776</td>\n      <td>6.678</td>\n      <td>6.624</td>\n      <td>6.056</td>\n    </tr>\n    <tr>\n      <th>MBN</th>\n      <td>2.809</td>\n      <td>3.310</td>\n      <td>3.825</td>\n      <td>4.572</td>\n      <td>5.520</td>\n      <td>5.477</td>\n      <td>5.215</td>\n    </tr>\n  </tbody>\n</table>\n</div>"
     },
     "metadata": {},
     "execution_count": 2
    }
   ],
   "source": [
    "# 여기서 T는 Transpose의 앞 글자이며, 뒤바뀌다라는 의미를 갖고 있음\n",
    "df.T"
   ]
  },
  {
   "cell_type": "markdown",
   "metadata": {},
   "source": [
    "sbs와 jtbc의 시청률만 보고 싶다면?! 당신의 선택은!?\n"
   ]
  },
  {
   "cell_type": "markdown",
   "metadata": {},
   "source": [
    "# \\[\\[\\]\\]가 두개 들어 가는 이유는? \n",
    "리스트가 안에 삽입 되기 때문임."
   ]
  },
  {
   "cell_type": "code",
   "execution_count": 6,
   "metadata": {},
   "outputs": [
    {
     "output_type": "execute_result",
     "data": {
      "text/plain": "         SBS   JTBC\n2011  11.173  7.380\n2012  11.408  7.878\n2013   9.673  7.810\n2014   9.108  7.490\n2015   9.099  7.267\n2016   8.669  7.727\n2017   8.661  9.453",
      "text/html": "<div>\n<style scoped>\n    .dataframe tbody tr th:only-of-type {\n        vertical-align: middle;\n    }\n\n    .dataframe tbody tr th {\n        vertical-align: top;\n    }\n\n    .dataframe thead th {\n        text-align: right;\n    }\n</style>\n<table border=\"1\" class=\"dataframe\">\n  <thead>\n    <tr style=\"text-align: right;\">\n      <th></th>\n      <th>SBS</th>\n      <th>JTBC</th>\n    </tr>\n  </thead>\n  <tbody>\n    <tr>\n      <th>2011</th>\n      <td>11.173</td>\n      <td>7.380</td>\n    </tr>\n    <tr>\n      <th>2012</th>\n      <td>11.408</td>\n      <td>7.878</td>\n    </tr>\n    <tr>\n      <th>2013</th>\n      <td>9.673</td>\n      <td>7.810</td>\n    </tr>\n    <tr>\n      <th>2014</th>\n      <td>9.108</td>\n      <td>7.490</td>\n    </tr>\n    <tr>\n      <th>2015</th>\n      <td>9.099</td>\n      <td>7.267</td>\n    </tr>\n    <tr>\n      <th>2016</th>\n      <td>8.669</td>\n      <td>7.727</td>\n    </tr>\n    <tr>\n      <th>2017</th>\n      <td>8.661</td>\n      <td>9.453</td>\n    </tr>\n  </tbody>\n</table>\n</div>"
     },
     "metadata": {},
     "execution_count": 6
    }
   ],
   "source": [
    "df[['SBS','JTBC']]"
   ]
  },
  {
   "cell_type": "code",
   "execution_count": 5,
   "metadata": {},
   "outputs": [
    {
     "output_type": "execute_result",
     "data": {
      "text/plain": "         SBS   JTBC\n2011  11.173  7.380\n2012  11.408  7.878\n2013   9.673  7.810\n2014   9.108  7.490\n2015   9.099  7.267\n2016   8.669  7.727\n2017   8.661  9.453",
      "text/html": "<div>\n<style scoped>\n    .dataframe tbody tr th:only-of-type {\n        vertical-align: middle;\n    }\n\n    .dataframe tbody tr th {\n        vertical-align: top;\n    }\n\n    .dataframe thead th {\n        text-align: right;\n    }\n</style>\n<table border=\"1\" class=\"dataframe\">\n  <thead>\n    <tr style=\"text-align: right;\">\n      <th></th>\n      <th>SBS</th>\n      <th>JTBC</th>\n    </tr>\n  </thead>\n  <tbody>\n    <tr>\n      <th>2011</th>\n      <td>11.173</td>\n      <td>7.380</td>\n    </tr>\n    <tr>\n      <th>2012</th>\n      <td>11.408</td>\n      <td>7.878</td>\n    </tr>\n    <tr>\n      <th>2013</th>\n      <td>9.673</td>\n      <td>7.810</td>\n    </tr>\n    <tr>\n      <th>2014</th>\n      <td>9.108</td>\n      <td>7.490</td>\n    </tr>\n    <tr>\n      <th>2015</th>\n      <td>9.099</td>\n      <td>7.267</td>\n    </tr>\n    <tr>\n      <th>2016</th>\n      <td>8.669</td>\n      <td>7.727</td>\n    </tr>\n    <tr>\n      <th>2017</th>\n      <td>8.661</td>\n      <td>9.453</td>\n    </tr>\n  </tbody>\n</table>\n</div>"
     },
     "metadata": {},
     "execution_count": 5
    }
   ],
   "source": [
    "columns = {'SBS','JTBC'}\n",
    "df[columns]"
   ]
  },
  {
   "cell_type": "code",
   "execution_count": null,
   "metadata": {},
   "outputs": [],
   "source": []
  },
  {
   "cell_type": "markdown",
   "metadata": {},
   "source": [
    "## 슬라이스를 사용한 다른 범위\n"
   ]
  },
  {
   "cell_type": "code",
   "execution_count": 7,
   "metadata": {},
   "outputs": [
    {
     "output_type": "execute_result",
     "data": {
      "text/plain": "         SBS   JTBC\n2011  11.173  7.380\n2012  11.408  7.878\n2013   9.673  7.810\n2014   9.108  7.490\n2015   9.099  7.267\n2016   8.669  7.727\n2017   8.661  9.453",
      "text/html": "<div>\n<style scoped>\n    .dataframe tbody tr th:only-of-type {\n        vertical-align: middle;\n    }\n\n    .dataframe tbody tr th {\n        vertical-align: top;\n    }\n\n    .dataframe thead th {\n        text-align: right;\n    }\n</style>\n<table border=\"1\" class=\"dataframe\">\n  <thead>\n    <tr style=\"text-align: right;\">\n      <th></th>\n      <th>SBS</th>\n      <th>JTBC</th>\n    </tr>\n  </thead>\n  <tbody>\n    <tr>\n      <th>2011</th>\n      <td>11.173</td>\n      <td>7.380</td>\n    </tr>\n    <tr>\n      <th>2012</th>\n      <td>11.408</td>\n      <td>7.878</td>\n    </tr>\n    <tr>\n      <th>2013</th>\n      <td>9.673</td>\n      <td>7.810</td>\n    </tr>\n    <tr>\n      <th>2014</th>\n      <td>9.108</td>\n      <td>7.490</td>\n    </tr>\n    <tr>\n      <th>2015</th>\n      <td>9.099</td>\n      <td>7.267</td>\n    </tr>\n    <tr>\n      <th>2016</th>\n      <td>8.669</td>\n      <td>7.727</td>\n    </tr>\n    <tr>\n      <th>2017</th>\n      <td>8.661</td>\n      <td>9.453</td>\n    </tr>\n  </tbody>\n</table>\n</div>"
     },
     "metadata": {},
     "execution_count": 7
    }
   ],
   "source": [
    "df.loc[: , ['SBS','JTBC']]"
   ]
  },
  {
   "cell_type": "markdown",
   "metadata": {},
   "source": [
    "### Tip, row와 column의 위치 변경 방법\n"
   ]
  },
  {
   "cell_type": "code",
   "execution_count": 24,
   "metadata": {},
   "outputs": [
    {
     "output_type": "execute_result",
     "data": {
      "text/plain": "        2011    2012   2013   2014   2015   2016   2017\nSBS   11.173  11.408  9.673  9.108  9.099  8.669  8.661\nJTBC   7.380   7.878  7.810  7.490  7.267  7.727  9.453",
      "text/html": "<div>\n<style scoped>\n    .dataframe tbody tr th:only-of-type {\n        vertical-align: middle;\n    }\n\n    .dataframe tbody tr th {\n        vertical-align: top;\n    }\n\n    .dataframe thead th {\n        text-align: right;\n    }\n</style>\n<table border=\"1\" class=\"dataframe\">\n  <thead>\n    <tr style=\"text-align: right;\">\n      <th></th>\n      <th>2011</th>\n      <th>2012</th>\n      <th>2013</th>\n      <th>2014</th>\n      <th>2015</th>\n      <th>2016</th>\n      <th>2017</th>\n    </tr>\n  </thead>\n  <tbody>\n    <tr>\n      <th>SBS</th>\n      <td>11.173</td>\n      <td>11.408</td>\n      <td>9.673</td>\n      <td>9.108</td>\n      <td>9.099</td>\n      <td>8.669</td>\n      <td>8.661</td>\n    </tr>\n    <tr>\n      <th>JTBC</th>\n      <td>7.380</td>\n      <td>7.878</td>\n      <td>7.810</td>\n      <td>7.490</td>\n      <td>7.267</td>\n      <td>7.727</td>\n      <td>9.453</td>\n    </tr>\n  </tbody>\n</table>\n</div>"
     },
     "metadata": {},
     "execution_count": 24
    }
   ],
   "source": [
    "import pandas as pd\n",
    "\n",
    "df = pd.read_csv('data/broadcast.csv', index_col=0, delimiter='\\t')\n",
    "\n",
    "sbs_list = df[\"SBS\"]  \n",
    "jtbc_list = df[\"JTBC\"]\n",
    "\n",
    "list_of_series = [sbs_list, jtbc_list]\n",
    "df = pd.DataFrame(list_of_series)\n",
    "\n",
    "df"
   ]
  },
  {
   "cell_type": "code",
   "execution_count": 30,
   "metadata": {},
   "outputs": [
    {
     "output_type": "execute_result",
     "data": {
      "text/plain": "        2011    2012   2013   2014   2015   2016   2017\nSBS   11.173  11.408  9.673  9.108  9.099  8.669  8.661\nJTBC   7.380   7.878  7.810  7.490  7.267  7.727  9.453",
      "text/html": "<div>\n<style scoped>\n    .dataframe tbody tr th:only-of-type {\n        vertical-align: middle;\n    }\n\n    .dataframe tbody tr th {\n        vertical-align: top;\n    }\n\n    .dataframe thead th {\n        text-align: right;\n    }\n</style>\n<table border=\"1\" class=\"dataframe\">\n  <thead>\n    <tr style=\"text-align: right;\">\n      <th></th>\n      <th>2011</th>\n      <th>2012</th>\n      <th>2013</th>\n      <th>2014</th>\n      <th>2015</th>\n      <th>2016</th>\n      <th>2017</th>\n    </tr>\n  </thead>\n  <tbody>\n    <tr>\n      <th>SBS</th>\n      <td>11.173</td>\n      <td>11.408</td>\n      <td>9.673</td>\n      <td>9.108</td>\n      <td>9.099</td>\n      <td>8.669</td>\n      <td>8.661</td>\n    </tr>\n    <tr>\n      <th>JTBC</th>\n      <td>7.380</td>\n      <td>7.878</td>\n      <td>7.810</td>\n      <td>7.490</td>\n      <td>7.267</td>\n      <td>7.727</td>\n      <td>9.453</td>\n    </tr>\n  </tbody>\n</table>\n</div>"
     },
     "metadata": {},
     "execution_count": 30
    }
   ],
   "source": [
    "df"
   ]
  },
  {
   "cell_type": "code",
   "execution_count": 28,
   "metadata": {},
   "outputs": [
    {
     "output_type": "execute_result",
     "data": {
      "text/plain": "         SBS   JTBC\n2011  11.173  7.380\n2012  11.408  7.878\n2013   9.673  7.810\n2014   9.108  7.490\n2015   9.099  7.267\n2016   8.669  7.727\n2017   8.661  9.453",
      "text/html": "<div>\n<style scoped>\n    .dataframe tbody tr th:only-of-type {\n        vertical-align: middle;\n    }\n\n    .dataframe tbody tr th {\n        vertical-align: top;\n    }\n\n    .dataframe thead th {\n        text-align: right;\n    }\n</style>\n<table border=\"1\" class=\"dataframe\">\n  <thead>\n    <tr style=\"text-align: right;\">\n      <th></th>\n      <th>SBS</th>\n      <th>JTBC</th>\n    </tr>\n  </thead>\n  <tbody>\n    <tr>\n      <th>2011</th>\n      <td>11.173</td>\n      <td>7.380</td>\n    </tr>\n    <tr>\n      <th>2012</th>\n      <td>11.408</td>\n      <td>7.878</td>\n    </tr>\n    <tr>\n      <th>2013</th>\n      <td>9.673</td>\n      <td>7.810</td>\n    </tr>\n    <tr>\n      <th>2014</th>\n      <td>9.108</td>\n      <td>7.490</td>\n    </tr>\n    <tr>\n      <th>2015</th>\n      <td>9.099</td>\n      <td>7.267</td>\n    </tr>\n    <tr>\n      <th>2016</th>\n      <td>8.669</td>\n      <td>7.727</td>\n    </tr>\n    <tr>\n      <th>2017</th>\n      <td>8.661</td>\n      <td>9.453</td>\n    </tr>\n  </tbody>\n</table>\n</div>"
     },
     "metadata": {},
     "execution_count": 28
    }
   ],
   "source": [
    "df.T"
   ]
  },
  {
   "cell_type": "code",
   "execution_count": null,
   "metadata": {},
   "outputs": [],
   "source": []
  }
 ],
 "metadata": {
  "language_info": {
   "codemirror_mode": {
    "name": "ipython",
    "version": 3
   },
   "file_extension": ".py",
   "mimetype": "text/x-python",
   "name": "python",
   "nbconvert_exporter": "python",
   "pygments_lexer": "ipython3",
   "version": "3.8.1-final"
  },
  "orig_nbformat": 2,
  "kernelspec": {
   "name": "python38164bitpytorchcondae2e836418e8f4945879c9669572061e2",
   "display_name": "Python 3.8.1 64-bit ('pytorch': conda)"
  }
 },
 "nbformat": 4,
 "nbformat_minor": 2
}