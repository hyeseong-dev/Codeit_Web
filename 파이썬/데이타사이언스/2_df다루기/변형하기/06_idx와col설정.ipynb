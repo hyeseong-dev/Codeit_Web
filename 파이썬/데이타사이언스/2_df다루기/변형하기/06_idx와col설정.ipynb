{
 "cells": [
  {
   "cell_type": "code",
   "execution_count": 3,
   "metadata": {},
   "outputs": [],
   "source": [
    "import pandas as pd"
   ]
  },
  {
   "cell_type": "code",
   "execution_count": 6,
   "metadata": {},
   "outputs": [
    {
     "output_type": "execute_result",
     "data": {
      "text/plain": "Index(['Roberto Firmino', 'Sadio Mane', 'Mohamed Salah', 'Joe Gomez',\n       'Alisson Becker'],\n      dtype='object')"
     },
     "metadata": {},
     "execution_count": 6
    }
   ],
   "source": [
    "# 여기서 index_col = 0을 넣으면 기본값으로 index값이 생성되었는데 그게 안생기게 만들어줌. 그럼 첫 번째 컬럼이 index값으로 할당됨.\n",
    "liverpool_df = pd.read_csv('data/liverpool.csv', index_col=0)\n",
    "liverpool_df.index"
   ]
  },
  {
   "cell_type": "code",
   "execution_count": null,
   "metadata": {},
   "outputs": [],
   "source": []
  }
 ],
 "metadata": {
  "language_info": {
   "codemirror_mode": {
    "name": "ipython",
    "version": 3
   },
   "file_extension": ".py",
   "mimetype": "text/x-python",
   "name": "python",
   "nbconvert_exporter": "python",
   "pygments_lexer": "ipython3",
   "version": "3.8.1-final"
  },
  "orig_nbformat": 2,
  "kernelspec": {
   "name": "python38164bitpytorchcondae2e836418e8f4945879c9669572061e2",
   "display_name": "Python 3.8.1 64-bit ('pytorch': conda)"
  }
 },
 "nbformat": 4,
 "nbformat_minor": 2
}