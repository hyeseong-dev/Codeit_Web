{
 "cells": [
  {
   "cell_type": "markdown",
   "metadata": {},
   "source": [
    "# 실습과제\n",
    "키와 몸무게가 담겨 있는 한 DataFrame이 있는데요. 몇 가지 잘못된 사항들이 있습니다. 이번 챕터에서 배운 기법들로 DataFrame을 바로잡아 봅시다."
   ]
  },
  {
   "cell_type": "code",
   "execution_count": 69,
   "metadata": {},
   "outputs": [],
   "source": [
    "import pandas as pd"
   ]
  },
  {
   "cell_type": "code",
   "execution_count": 70,
   "metadata": {},
   "outputs": [
    {
     "output_type": "execute_result",
     "data": {
      "text/plain": "    Height (Inch)  Weight (Pound)\nID                               \n0       73.847017      241.893563\n1       70.000000             NaN\n2       74.110105      212.740856\n3       71.730978      220.042470\n4       69.881796      206.349801\n5       67.253016      152.212156\n6       68.785081      183.927889\n7       68.348516      167.971110\n8       67.018950      175.929440\n9       63.456494      156.399676\n10      71.195382      186.604926\n11      62.636675      102.853563\n12      62.077832      138.691680\n13      60.030434       97.687432\n14      59.098250      110.529686\n15      66.172652      136.777454\n16      67.067155      170.867906\n17      63.867992      128.475319\n18      69.034243      163.852461\n19      61.944246      113.649103\n21       0.000000        0.000000",
      "text/html": "<div>\n<style scoped>\n    .dataframe tbody tr th:only-of-type {\n        vertical-align: middle;\n    }\n\n    .dataframe tbody tr th {\n        vertical-align: top;\n    }\n\n    .dataframe thead th {\n        text-align: right;\n    }\n</style>\n<table border=\"1\" class=\"dataframe\">\n  <thead>\n    <tr style=\"text-align: right;\">\n      <th></th>\n      <th>Height (Inch)</th>\n      <th>Weight (Pound)</th>\n    </tr>\n    <tr>\n      <th>ID</th>\n      <th></th>\n      <th></th>\n    </tr>\n  </thead>\n  <tbody>\n    <tr>\n      <th>0</th>\n      <td>73.847017</td>\n      <td>241.893563</td>\n    </tr>\n    <tr>\n      <th>1</th>\n      <td>70.000000</td>\n      <td>NaN</td>\n    </tr>\n    <tr>\n      <th>2</th>\n      <td>74.110105</td>\n      <td>212.740856</td>\n    </tr>\n    <tr>\n      <th>3</th>\n      <td>71.730978</td>\n      <td>220.042470</td>\n    </tr>\n    <tr>\n      <th>4</th>\n      <td>69.881796</td>\n      <td>206.349801</td>\n    </tr>\n    <tr>\n      <th>5</th>\n      <td>67.253016</td>\n      <td>152.212156</td>\n    </tr>\n    <tr>\n      <th>6</th>\n      <td>68.785081</td>\n      <td>183.927889</td>\n    </tr>\n    <tr>\n      <th>7</th>\n      <td>68.348516</td>\n      <td>167.971110</td>\n    </tr>\n    <tr>\n      <th>8</th>\n      <td>67.018950</td>\n      <td>175.929440</td>\n    </tr>\n    <tr>\n      <th>9</th>\n      <td>63.456494</td>\n      <td>156.399676</td>\n    </tr>\n    <tr>\n      <th>10</th>\n      <td>71.195382</td>\n      <td>186.604926</td>\n    </tr>\n    <tr>\n      <th>11</th>\n      <td>62.636675</td>\n      <td>102.853563</td>\n    </tr>\n    <tr>\n      <th>12</th>\n      <td>62.077832</td>\n      <td>138.691680</td>\n    </tr>\n    <tr>\n      <th>13</th>\n      <td>60.030434</td>\n      <td>97.687432</td>\n    </tr>\n    <tr>\n      <th>14</th>\n      <td>59.098250</td>\n      <td>110.529686</td>\n    </tr>\n    <tr>\n      <th>15</th>\n      <td>66.172652</td>\n      <td>136.777454</td>\n    </tr>\n    <tr>\n      <th>16</th>\n      <td>67.067155</td>\n      <td>170.867906</td>\n    </tr>\n    <tr>\n      <th>17</th>\n      <td>63.867992</td>\n      <td>128.475319</td>\n    </tr>\n    <tr>\n      <th>18</th>\n      <td>69.034243</td>\n      <td>163.852461</td>\n    </tr>\n    <tr>\n      <th>19</th>\n      <td>61.944246</td>\n      <td>113.649103</td>\n    </tr>\n    <tr>\n      <th>21</th>\n      <td>0.000000</td>\n      <td>0.000000</td>\n    </tr>\n  </tbody>\n</table>\n</div>"
     },
     "metadata": {},
     "execution_count": 70
    }
   ],
   "source": [
    "df = pd.read_csv('data/body_imperial1.csv', delimiter='\\t')\n",
    "df = df.set_index('ID')\n",
    "df"
   ]
  },
  {
   "cell_type": "code",
   "execution_count": 71,
   "metadata": {},
   "outputs": [
    {
     "output_type": "execute_result",
     "data": {
      "text/plain": "    Height (Inch)  Weight (Pound)\nID                               \n0       73.847017      241.893563\n1       70.000000      200.000000",
      "text/html": "<div>\n<style scoped>\n    .dataframe tbody tr th:only-of-type {\n        vertical-align: middle;\n    }\n\n    .dataframe tbody tr th {\n        vertical-align: top;\n    }\n\n    .dataframe thead th {\n        text-align: right;\n    }\n</style>\n<table border=\"1\" class=\"dataframe\">\n  <thead>\n    <tr style=\"text-align: right;\">\n      <th></th>\n      <th>Height (Inch)</th>\n      <th>Weight (Pound)</th>\n    </tr>\n    <tr>\n      <th>ID</th>\n      <th></th>\n      <th></th>\n    </tr>\n  </thead>\n  <tbody>\n    <tr>\n      <th>0</th>\n      <td>73.847017</td>\n      <td>241.893563</td>\n    </tr>\n    <tr>\n      <th>1</th>\n      <td>70.000000</td>\n      <td>200.000000</td>\n    </tr>\n  </tbody>\n</table>\n</div>"
     },
     "metadata": {},
     "execution_count": 71
    }
   ],
   "source": [
    "df.iloc[1, 1] = 200\n",
    "df.head(2)"
   ]
  },
  {
   "cell_type": "code",
   "execution_count": 31,
   "metadata": {},
   "outputs": [
    {
     "output_type": "execute_result",
     "data": {
      "text/plain": "<pandas.core.indexing._iLocIndexer at 0x16a73d99220>"
     },
     "metadata": {},
     "execution_count": 31
    }
   ],
   "source": [
    "df.drop[df.iloc[]]"
   ]
  },
  {
   "cell_type": "code",
   "execution_count": 72,
   "metadata": {},
   "outputs": [
    {
     "output_type": "execute_result",
     "data": {
      "text/plain": "    Height (Inch)  Weight (Pound)\nID                               \n0       73.847017      241.893563\n1       70.000000      200.000000\n2       74.110105      212.740856\n3       71.730978      220.042470\n4       69.881796      206.349801\n5       67.253016      152.212156\n6       68.785081      183.927889\n7       68.348516      167.971110\n8       67.018950      175.929440\n9       63.456494      156.399676\n10      71.195382      186.604926\n11      62.636675      102.853563\n12      62.077832      138.691680\n13      60.030434       97.687432\n14      59.098250      110.529686\n15      66.172652      136.777454\n16      67.067155      170.867906\n17      63.867992      128.475319\n18      69.034243      163.852461\n19      61.944246      113.649103\n21      70.000000      200.000000",
      "text/html": "<div>\n<style scoped>\n    .dataframe tbody tr th:only-of-type {\n        vertical-align: middle;\n    }\n\n    .dataframe tbody tr th {\n        vertical-align: top;\n    }\n\n    .dataframe thead th {\n        text-align: right;\n    }\n</style>\n<table border=\"1\" class=\"dataframe\">\n  <thead>\n    <tr style=\"text-align: right;\">\n      <th></th>\n      <th>Height (Inch)</th>\n      <th>Weight (Pound)</th>\n    </tr>\n    <tr>\n      <th>ID</th>\n      <th></th>\n      <th></th>\n    </tr>\n  </thead>\n  <tbody>\n    <tr>\n      <th>0</th>\n      <td>73.847017</td>\n      <td>241.893563</td>\n    </tr>\n    <tr>\n      <th>1</th>\n      <td>70.000000</td>\n      <td>200.000000</td>\n    </tr>\n    <tr>\n      <th>2</th>\n      <td>74.110105</td>\n      <td>212.740856</td>\n    </tr>\n    <tr>\n      <th>3</th>\n      <td>71.730978</td>\n      <td>220.042470</td>\n    </tr>\n    <tr>\n      <th>4</th>\n      <td>69.881796</td>\n      <td>206.349801</td>\n    </tr>\n    <tr>\n      <th>5</th>\n      <td>67.253016</td>\n      <td>152.212156</td>\n    </tr>\n    <tr>\n      <th>6</th>\n      <td>68.785081</td>\n      <td>183.927889</td>\n    </tr>\n    <tr>\n      <th>7</th>\n      <td>68.348516</td>\n      <td>167.971110</td>\n    </tr>\n    <tr>\n      <th>8</th>\n      <td>67.018950</td>\n      <td>175.929440</td>\n    </tr>\n    <tr>\n      <th>9</th>\n      <td>63.456494</td>\n      <td>156.399676</td>\n    </tr>\n    <tr>\n      <th>10</th>\n      <td>71.195382</td>\n      <td>186.604926</td>\n    </tr>\n    <tr>\n      <th>11</th>\n      <td>62.636675</td>\n      <td>102.853563</td>\n    </tr>\n    <tr>\n      <th>12</th>\n      <td>62.077832</td>\n      <td>138.691680</td>\n    </tr>\n    <tr>\n      <th>13</th>\n      <td>60.030434</td>\n      <td>97.687432</td>\n    </tr>\n    <tr>\n      <th>14</th>\n      <td>59.098250</td>\n      <td>110.529686</td>\n    </tr>\n    <tr>\n      <th>15</th>\n      <td>66.172652</td>\n      <td>136.777454</td>\n    </tr>\n    <tr>\n      <th>16</th>\n      <td>67.067155</td>\n      <td>170.867906</td>\n    </tr>\n    <tr>\n      <th>17</th>\n      <td>63.867992</td>\n      <td>128.475319</td>\n    </tr>\n    <tr>\n      <th>18</th>\n      <td>69.034243</td>\n      <td>163.852461</td>\n    </tr>\n    <tr>\n      <th>19</th>\n      <td>61.944246</td>\n      <td>113.649103</td>\n    </tr>\n    <tr>\n      <th>21</th>\n      <td>70.000000</td>\n      <td>200.000000</td>\n    </tr>\n  </tbody>\n</table>\n</div>"
     },
     "metadata": {},
     "execution_count": 72
    }
   ],
   "source": [
    "df.iloc[[20], 0:2] = 70, 200\n",
    "df"
   ]
  },
  {
   "cell_type": "code",
   "execution_count": 73,
   "metadata": {},
   "outputs": [],
   "source": [
    "df.rename(index={'':'1번'}, inplace=True)\n"
   ]
  },
  {
   "cell_type": "code",
   "execution_count": 75,
   "metadata": {},
   "outputs": [
    {
     "output_type": "execute_result",
     "data": {
      "text/plain": "    ID  Height (Inch)  Weight (Pound)\n0    0      73.847017      241.893563\n1    1      70.000000      200.000000\n2    2      74.110105      212.740856\n3    3      71.730978      220.042470\n4    4      69.881796      206.349801\n5    5      67.253016      152.212156\n6    6      68.785081      183.927889\n7    7      68.348516      167.971110\n8    8      67.018950      175.929440\n9    9      63.456494      156.399676\n10  10      71.195382      186.604926\n11  11      62.636675      102.853563\n12  12      62.077832      138.691680\n13  13      60.030434       97.687432\n14  14      59.098250      110.529686\n15  15      66.172652      136.777454\n16  16      67.067155      170.867906\n17  17      63.867992      128.475319\n18  18      69.034243      163.852461\n19  19      61.944246      113.649103\n20  21      70.000000      200.000000",
      "text/html": "<div>\n<style scoped>\n    .dataframe tbody tr th:only-of-type {\n        vertical-align: middle;\n    }\n\n    .dataframe tbody tr th {\n        vertical-align: top;\n    }\n\n    .dataframe thead th {\n        text-align: right;\n    }\n</style>\n<table border=\"1\" class=\"dataframe\">\n  <thead>\n    <tr style=\"text-align: right;\">\n      <th></th>\n      <th>ID</th>\n      <th>Height (Inch)</th>\n      <th>Weight (Pound)</th>\n    </tr>\n  </thead>\n  <tbody>\n    <tr>\n      <th>0</th>\n      <td>0</td>\n      <td>73.847017</td>\n      <td>241.893563</td>\n    </tr>\n    <tr>\n      <th>1</th>\n      <td>1</td>\n      <td>70.000000</td>\n      <td>200.000000</td>\n    </tr>\n    <tr>\n      <th>2</th>\n      <td>2</td>\n      <td>74.110105</td>\n      <td>212.740856</td>\n    </tr>\n    <tr>\n      <th>3</th>\n      <td>3</td>\n      <td>71.730978</td>\n      <td>220.042470</td>\n    </tr>\n    <tr>\n      <th>4</th>\n      <td>4</td>\n      <td>69.881796</td>\n      <td>206.349801</td>\n    </tr>\n    <tr>\n      <th>5</th>\n      <td>5</td>\n      <td>67.253016</td>\n      <td>152.212156</td>\n    </tr>\n    <tr>\n      <th>6</th>\n      <td>6</td>\n      <td>68.785081</td>\n      <td>183.927889</td>\n    </tr>\n    <tr>\n      <th>7</th>\n      <td>7</td>\n      <td>68.348516</td>\n      <td>167.971110</td>\n    </tr>\n    <tr>\n      <th>8</th>\n      <td>8</td>\n      <td>67.018950</td>\n      <td>175.929440</td>\n    </tr>\n    <tr>\n      <th>9</th>\n      <td>9</td>\n      <td>63.456494</td>\n      <td>156.399676</td>\n    </tr>\n    <tr>\n      <th>10</th>\n      <td>10</td>\n      <td>71.195382</td>\n      <td>186.604926</td>\n    </tr>\n    <tr>\n      <th>11</th>\n      <td>11</td>\n      <td>62.636675</td>\n      <td>102.853563</td>\n    </tr>\n    <tr>\n      <th>12</th>\n      <td>12</td>\n      <td>62.077832</td>\n      <td>138.691680</td>\n    </tr>\n    <tr>\n      <th>13</th>\n      <td>13</td>\n      <td>60.030434</td>\n      <td>97.687432</td>\n    </tr>\n    <tr>\n      <th>14</th>\n      <td>14</td>\n      <td>59.098250</td>\n      <td>110.529686</td>\n    </tr>\n    <tr>\n      <th>15</th>\n      <td>15</td>\n      <td>66.172652</td>\n      <td>136.777454</td>\n    </tr>\n    <tr>\n      <th>16</th>\n      <td>16</td>\n      <td>67.067155</td>\n      <td>170.867906</td>\n    </tr>\n    <tr>\n      <th>17</th>\n      <td>17</td>\n      <td>63.867992</td>\n      <td>128.475319</td>\n    </tr>\n    <tr>\n      <th>18</th>\n      <td>18</td>\n      <td>69.034243</td>\n      <td>163.852461</td>\n    </tr>\n    <tr>\n      <th>19</th>\n      <td>19</td>\n      <td>61.944246</td>\n      <td>113.649103</td>\n    </tr>\n    <tr>\n      <th>20</th>\n      <td>21</td>\n      <td>70.000000</td>\n      <td>200.000000</td>\n    </tr>\n  </tbody>\n</table>\n</div>"
     },
     "metadata": {},
     "execution_count": 75
    }
   ],
   "source": [
    "df = df.reset_index()\n",
    "df"
   ]
  },
  {
   "cell_type": "code",
   "execution_count": 81,
   "metadata": {},
   "outputs": [],
   "source": [
    "df.drop('ID',axis='columns', inplace=True)"
   ]
  },
  {
   "cell_type": "code",
   "execution_count": 84,
   "metadata": {},
   "outputs": [
    {
     "output_type": "execute_result",
     "data": {
      "text/plain": "    Height (Inch)  Weight (Pound)\nID                               \n0       73.847017      241.893563\n1       70.000000      200.000000\n2       74.110105      212.740856\n3       71.730978      220.042470\n4       69.881796      206.349801\n5       67.253016      152.212156\n6       68.785081      183.927889\n7       68.348516      167.971110\n8       67.018950      175.929440\n9       63.456494      156.399676\n10      71.195382      186.604926\n11      62.636675      102.853563\n12      62.077832      138.691680\n13      60.030434       97.687432\n14      59.098250      110.529686\n15      66.172652      136.777454\n16      67.067155      170.867906\n17      63.867992      128.475319\n18      69.034243      163.852461\n19      61.944246      113.649103\n20      70.000000      200.000000",
      "text/html": "<div>\n<style scoped>\n    .dataframe tbody tr th:only-of-type {\n        vertical-align: middle;\n    }\n\n    .dataframe tbody tr th {\n        vertical-align: top;\n    }\n\n    .dataframe thead th {\n        text-align: right;\n    }\n</style>\n<table border=\"1\" class=\"dataframe\">\n  <thead>\n    <tr style=\"text-align: right;\">\n      <th></th>\n      <th>Height (Inch)</th>\n      <th>Weight (Pound)</th>\n    </tr>\n    <tr>\n      <th>ID</th>\n      <th></th>\n      <th></th>\n    </tr>\n  </thead>\n  <tbody>\n    <tr>\n      <th>0</th>\n      <td>73.847017</td>\n      <td>241.893563</td>\n    </tr>\n    <tr>\n      <th>1</th>\n      <td>70.000000</td>\n      <td>200.000000</td>\n    </tr>\n    <tr>\n      <th>2</th>\n      <td>74.110105</td>\n      <td>212.740856</td>\n    </tr>\n    <tr>\n      <th>3</th>\n      <td>71.730978</td>\n      <td>220.042470</td>\n    </tr>\n    <tr>\n      <th>4</th>\n      <td>69.881796</td>\n      <td>206.349801</td>\n    </tr>\n    <tr>\n      <th>5</th>\n      <td>67.253016</td>\n      <td>152.212156</td>\n    </tr>\n    <tr>\n      <th>6</th>\n      <td>68.785081</td>\n      <td>183.927889</td>\n    </tr>\n    <tr>\n      <th>7</th>\n      <td>68.348516</td>\n      <td>167.971110</td>\n    </tr>\n    <tr>\n      <th>8</th>\n      <td>67.018950</td>\n      <td>175.929440</td>\n    </tr>\n    <tr>\n      <th>9</th>\n      <td>63.456494</td>\n      <td>156.399676</td>\n    </tr>\n    <tr>\n      <th>10</th>\n      <td>71.195382</td>\n      <td>186.604926</td>\n    </tr>\n    <tr>\n      <th>11</th>\n      <td>62.636675</td>\n      <td>102.853563</td>\n    </tr>\n    <tr>\n      <th>12</th>\n      <td>62.077832</td>\n      <td>138.691680</td>\n    </tr>\n    <tr>\n      <th>13</th>\n      <td>60.030434</td>\n      <td>97.687432</td>\n    </tr>\n    <tr>\n      <th>14</th>\n      <td>59.098250</td>\n      <td>110.529686</td>\n    </tr>\n    <tr>\n      <th>15</th>\n      <td>66.172652</td>\n      <td>136.777454</td>\n    </tr>\n    <tr>\n      <th>16</th>\n      <td>67.067155</td>\n      <td>170.867906</td>\n    </tr>\n    <tr>\n      <th>17</th>\n      <td>63.867992</td>\n      <td>128.475319</td>\n    </tr>\n    <tr>\n      <th>18</th>\n      <td>69.034243</td>\n      <td>163.852461</td>\n    </tr>\n    <tr>\n      <th>19</th>\n      <td>61.944246</td>\n      <td>113.649103</td>\n    </tr>\n    <tr>\n      <th>20</th>\n      <td>70.000000</td>\n      <td>200.000000</td>\n    </tr>\n  </tbody>\n</table>\n</div>"
     },
     "metadata": {},
     "execution_count": 84
    }
   ],
   "source": [
    "df.index.name = 'ID'\n",
    "df"
   ]
  },
  {
   "cell_type": "code",
   "execution_count": 87,
   "metadata": {},
   "outputs": [
    {
     "output_type": "execute_result",
     "data": {
      "text/plain": "    Height (Inch)  Weight (Pound)\nID                               \n0       73.847017      241.893563\n1       70.000000      200.000000\n2       74.110105      212.740856\n3       71.730978      220.042470\n4       69.881796      206.349801\n5       67.253016      152.212156\n6       68.785081      183.927889\n7       68.348516      167.971110\n8       67.018950      175.929440\n9       63.456494      156.399676\n10      71.195382      186.604926\n11      62.636675      102.853563\n12      62.077832      138.691680\n13      60.030434       97.687432\n14      59.098250      110.529686\n15      66.172652      136.777454\n16      67.067155      170.867906\n17      63.867992      128.475319\n18      69.034243      163.852461\n19      61.944246      113.649103\n20      70.000000      200.000000",
      "text/html": "<div>\n<style scoped>\n    .dataframe tbody tr th:only-of-type {\n        vertical-align: middle;\n    }\n\n    .dataframe tbody tr th {\n        vertical-align: top;\n    }\n\n    .dataframe thead th {\n        text-align: right;\n    }\n</style>\n<table border=\"1\" class=\"dataframe\">\n  <thead>\n    <tr style=\"text-align: right;\">\n      <th></th>\n      <th>Height (Inch)</th>\n      <th>Weight (Pound)</th>\n    </tr>\n    <tr>\n      <th>ID</th>\n      <th></th>\n      <th></th>\n    </tr>\n  </thead>\n  <tbody>\n    <tr>\n      <th>0</th>\n      <td>73.847017</td>\n      <td>241.893563</td>\n    </tr>\n    <tr>\n      <th>1</th>\n      <td>70.000000</td>\n      <td>200.000000</td>\n    </tr>\n    <tr>\n      <th>2</th>\n      <td>74.110105</td>\n      <td>212.740856</td>\n    </tr>\n    <tr>\n      <th>3</th>\n      <td>71.730978</td>\n      <td>220.042470</td>\n    </tr>\n    <tr>\n      <th>4</th>\n      <td>69.881796</td>\n      <td>206.349801</td>\n    </tr>\n    <tr>\n      <th>5</th>\n      <td>67.253016</td>\n      <td>152.212156</td>\n    </tr>\n    <tr>\n      <th>6</th>\n      <td>68.785081</td>\n      <td>183.927889</td>\n    </tr>\n    <tr>\n      <th>7</th>\n      <td>68.348516</td>\n      <td>167.971110</td>\n    </tr>\n    <tr>\n      <th>8</th>\n      <td>67.018950</td>\n      <td>175.929440</td>\n    </tr>\n    <tr>\n      <th>9</th>\n      <td>63.456494</td>\n      <td>156.399676</td>\n    </tr>\n    <tr>\n      <th>10</th>\n      <td>71.195382</td>\n      <td>186.604926</td>\n    </tr>\n    <tr>\n      <th>11</th>\n      <td>62.636675</td>\n      <td>102.853563</td>\n    </tr>\n    <tr>\n      <th>12</th>\n      <td>62.077832</td>\n      <td>138.691680</td>\n    </tr>\n    <tr>\n      <th>13</th>\n      <td>60.030434</td>\n      <td>97.687432</td>\n    </tr>\n    <tr>\n      <th>14</th>\n      <td>59.098250</td>\n      <td>110.529686</td>\n    </tr>\n    <tr>\n      <th>15</th>\n      <td>66.172652</td>\n      <td>136.777454</td>\n    </tr>\n    <tr>\n      <th>16</th>\n      <td>67.067155</td>\n      <td>170.867906</td>\n    </tr>\n    <tr>\n      <th>17</th>\n      <td>63.867992</td>\n      <td>128.475319</td>\n    </tr>\n    <tr>\n      <th>18</th>\n      <td>69.034243</td>\n      <td>163.852461</td>\n    </tr>\n    <tr>\n      <th>19</th>\n      <td>61.944246</td>\n      <td>113.649103</td>\n    </tr>\n    <tr>\n      <th>20</th>\n      <td>70.000000</td>\n      <td>200.000000</td>\n    </tr>\n  </tbody>\n</table>\n</div>"
     },
     "metadata": {},
     "execution_count": 87
    }
   ],
   "source": [
    "''' 다른 풀이 방식 '''\n",
    "\n",
    "df = pd.read_csv('data/body_imperial1.csv', delimiter='\\t')\n",
    "df = df.set_index('ID')\n",
    "\n",
    "df = df.astype(float)\n",
    "df.loc[1,['Weight (Pound)']] = 200\n",
    "\n",
    "df.drop([21], axis = 'index', inplace = True)\n",
    "df.loc[20] = [70,200]\n",
    "df"
   ]
  },
  {
   "cell_type": "code",
   "execution_count": null,
   "metadata": {},
   "outputs": [],
   "source": []
  }
 ],
 "metadata": {
  "language_info": {
   "codemirror_mode": {
    "name": "ipython",
    "version": 3
   },
   "file_extension": ".py",
   "mimetype": "text/x-python",
   "name": "python",
   "nbconvert_exporter": "python",
   "pygments_lexer": "ipython3",
   "version": "3.8.1-final"
  },
  "orig_nbformat": 2,
  "kernelspec": {
   "name": "python38164bitpytorchcondae2e836418e8f4945879c9669572061e2",
   "display_name": "Python 3.8.1 64-bit ('pytorch': conda)"
  }
 },
 "nbformat": 4,
 "nbformat_minor": 2
}