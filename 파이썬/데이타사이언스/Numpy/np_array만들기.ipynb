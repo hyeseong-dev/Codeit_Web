{
 "cells": [
  {
   "cell_type": "markdown",
   "metadata": {},
   "source": [
    "### 파이썬 리스트를 통해 생성 \n",
    "numpy 모듈의 array 메소드에 파라미터로 파이썬 리스트를 넘겨주면 np array가 리턴됨"
   ]
  },
  {
   "cell_type": "code",
   "execution_count": 2,
   "metadata": {},
   "outputs": [],
   "source": [
    "import numpy"
   ]
  },
  {
   "cell_type": "code",
   "execution_count": 3,
   "metadata": {},
   "outputs": [
    {
     "name": "stdout",
     "output_type": "stream",
     "text": [
      "[ 2  3  5  7 11 13 17 19 23 29 31]\n"
     ]
    }
   ],
   "source": [
    "array1 = numpy.array([2, 3, 5, 7, 11, 13, 17, 19, 23, 29, 31])\n",
    "    \n",
    "print(array1)"
   ]
  },
  {
   "cell_type": "markdown",
   "metadata": {},
   "source": [
    "## 균일한 값으로 생성\n",
    "np 모듈의 full 메소드를 사용하면, 모든값이 같은 np array를 생성할 수 있다. "
   ]
  },
  {
   "cell_type": "code",
   "execution_count": 5,
   "metadata": {},
   "outputs": [
    {
     "name": "stdout",
     "output_type": "stream",
     "text": [
      "[7 7 7 7 7 7]\n"
     ]
    }
   ],
   "source": [
    "array1 = numpy.full(6,7) # 6개의 배열을 만들거고 그 값들은 모두 7! \n",
    "print(array1)"
   ]
  },
  {
   "cell_type": "code",
   "execution_count": 6,
   "metadata": {},
   "outputs": [
    {
     "name": "stdout",
     "output_type": "stream",
     "text": [
      "[0 0 0 0 0 0]\n",
      "\n",
      "[0 0 0 0 0 0]\n"
     ]
    }
   ],
   "source": [
    "# 방법 1. full메소드로 모든 값이 0인 배열 만들기 \n",
    "# 방법 2. 다른 방법으로 만들기 \n",
    "\n",
    "array1 = numpy.full(6,0)\n",
    "array2 = numpy.zeros(6,dtype=int)\n",
    "print(array1)\n",
    "print()\n",
    "print(array2)\n"
   ]
  },
  {
   "cell_type": "code",
   "execution_count": 7,
   "metadata": {},
   "outputs": [
    {
     "name": "stdout",
     "output_type": "stream",
     "text": [
      "[1 1 1 1 1 1]\n",
      "\n",
      "[1 1 1 1 1 1]\n"
     ]
    }
   ],
   "source": [
    "# 방법 1. full메소드로 모든 값이 1인 배열 만들기 \n",
    "# 방법 2. 다른 방법으로 만들기\n",
    "array1 = numpy.full(6,1)\n",
    "array2 = numpy.ones(6,dtype=int)\n",
    "print(array1)\n",
    "print()\n",
    "print(array2)"
   ]
  },
  {
   "cell_type": "markdown",
   "metadata": {},
   "source": [
    "## 랜덤한 값들로 생성\n",
    "어쩔 때는 임의의 값들로 배열을 생성시키고 싶습니다. 그럴 때는 numpy의 random 모듈의 random함수를 사용하면 됩니다. \n",
    "\n",
    "numpy 모듈 안에 random이라는 모듈이 있고, 그 안에 또 random이라는 함수가 있는겁니다. "
   ]
  },
  {
   "cell_type": "code",
   "execution_count": 8,
   "metadata": {},
   "outputs": [
    {
     "name": "stdout",
     "output_type": "stream",
     "text": [
      "[0.58219864 0.32335066 0.39148627 0.82610433 0.67622998 0.81269391]\n",
      "\n",
      "[0.57229294 0.76789559 0.84464095 0.35316739 0.9236172  0.05169039]\n"
     ]
    }
   ],
   "source": [
    "array1 = numpy.random.random(6)\n",
    "array2 = numpy.random.random(6)\n",
    "print(array1)\n",
    "print()\n",
    "print(array2)\n",
    "# 기본 소수점 8자리의 랜덤값 6개가 생성됨."
   ]
  },
  {
   "cell_type": "markdown",
   "metadata": {},
   "source": [
    "## 연속된 값들이 담긴 numpy array 생성\n",
    "numpy 모듈의 arrange함수를 사용하면 연속된 값들이 담겨있는 numpy array를 생성 할 수 있음. \n",
    "\n",
    "arange 함수는 파이썬의 기본 함수인 range와 비슷한 원리임. 파라미터가 1개인 경우, 2개인경우, 3개인 경우 모두 살펴 봅시다. \n",
    "            \n",
    "            \n",
    "### 파라미터가 1개 \n",
    "arange(m)을 하면 0부터 m-1까지의 값들이 담긴 numpy array가 리턴됩니다."
   ]
  },
  {
   "cell_type": "code",
   "execution_count": 11,
   "metadata": {},
   "outputs": [
    {
     "name": "stdout",
     "output_type": "stream",
     "text": [
      "[0 1 2 3 4 5]\n"
     ]
    }
   ],
   "source": [
    "array1 = numpy.arange(6)\n",
    "print(array1)"
   ]
  },
  {
   "cell_type": "code",
   "execution_count": null,
   "metadata": {},
   "outputs": [],
   "source": []
  }
 ],
 "metadata": {
  "kernelspec": {
   "display_name": "Python 3.8.1 64-bit ('pytorch': conda)",
   "language": "python",
   "name": "python38164bitpytorchcondae2e836418e8f4945879c9669572061e2"
  },
  "language_info": {
   "codemirror_mode": {
    "name": "ipython",
    "version": 3
   },
   "file_extension": ".py",
   "mimetype": "text/x-python",
   "name": "python",
   "nbconvert_exporter": "python",
   "pygments_lexer": "ipython3",
   "version": "3.8.1"
  }
 },
 "nbformat": 4,
 "nbformat_minor": 4
}
