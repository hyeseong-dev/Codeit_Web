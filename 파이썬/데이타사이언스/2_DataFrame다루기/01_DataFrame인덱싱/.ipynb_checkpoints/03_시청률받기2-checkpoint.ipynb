{
 "cells": [
  {
   "cell_type": "code",
   "execution_count": 1,
   "metadata": {},
   "outputs": [
    {
     "output_type": "execute_result",
     "data": {
      "text/plain": "         KBS     MBC     SBS  TV CHOSUN   JTBC  Channel A    MBN\n2011  35.951  18.374  11.173      9.102  7.380      3.771  2.809\n2012  36.163  16.022  11.408      8.785  7.878      5.874  3.310\n2013  31.989  16.778   9.673      9.026  7.810      5.350  3.825\n2014  31.210  15.663   9.108      9.440  7.490      5.776  4.572\n2015  27.777  16.573   9.099      9.940  7.267      6.678  5.520\n2016  27.583  14.982   8.669      9.829  7.727      6.624  5.477\n2017  26.890  12.465   8.661      8.886  9.453      6.056  5.215",
      "text/html": "<div>\n<style scoped>\n    .dataframe tbody tr th:only-of-type {\n        vertical-align: middle;\n    }\n\n    .dataframe tbody tr th {\n        vertical-align: top;\n    }\n\n    .dataframe thead th {\n        text-align: right;\n    }\n</style>\n<table border=\"1\" class=\"dataframe\">\n  <thead>\n    <tr style=\"text-align: right;\">\n      <th></th>\n      <th>KBS</th>\n      <th>MBC</th>\n      <th>SBS</th>\n      <th>TV CHOSUN</th>\n      <th>JTBC</th>\n      <th>Channel A</th>\n      <th>MBN</th>\n    </tr>\n  </thead>\n  <tbody>\n    <tr>\n      <th>2011</th>\n      <td>35.951</td>\n      <td>18.374</td>\n      <td>11.173</td>\n      <td>9.102</td>\n      <td>7.380</td>\n      <td>3.771</td>\n      <td>2.809</td>\n    </tr>\n    <tr>\n      <th>2012</th>\n      <td>36.163</td>\n      <td>16.022</td>\n      <td>11.408</td>\n      <td>8.785</td>\n      <td>7.878</td>\n      <td>5.874</td>\n      <td>3.310</td>\n    </tr>\n    <tr>\n      <th>2013</th>\n      <td>31.989</td>\n      <td>16.778</td>\n      <td>9.673</td>\n      <td>9.026</td>\n      <td>7.810</td>\n      <td>5.350</td>\n      <td>3.825</td>\n    </tr>\n    <tr>\n      <th>2014</th>\n      <td>31.210</td>\n      <td>15.663</td>\n      <td>9.108</td>\n      <td>9.440</td>\n      <td>7.490</td>\n      <td>5.776</td>\n      <td>4.572</td>\n    </tr>\n    <tr>\n      <th>2015</th>\n      <td>27.777</td>\n      <td>16.573</td>\n      <td>9.099</td>\n      <td>9.940</td>\n      <td>7.267</td>\n      <td>6.678</td>\n      <td>5.520</td>\n    </tr>\n    <tr>\n      <th>2016</th>\n      <td>27.583</td>\n      <td>14.982</td>\n      <td>8.669</td>\n      <td>9.829</td>\n      <td>7.727</td>\n      <td>6.624</td>\n      <td>5.477</td>\n    </tr>\n    <tr>\n      <th>2017</th>\n      <td>26.890</td>\n      <td>12.465</td>\n      <td>8.661</td>\n      <td>8.886</td>\n      <td>9.453</td>\n      <td>6.056</td>\n      <td>5.215</td>\n    </tr>\n  </tbody>\n</table>\n</div>"
     },
     "metadata": {},
     "execution_count": 1
    }
   ],
   "source": [
    "import pandas as pd\n",
    "\n",
    "df = pd.read_csv('data/broadcast.csv', index_col=0, delimiter='\\t')\n",
    "df\n",
    "# 코드를 작성하세요."
   ]
  },
  {
   "cell_type": "markdown",
   "metadata": {},
   "source": [
    "### 컬럼의 인덱싱 방법은 크게 두가지입니다.     \n",
    "\n",
    "1. 하나는 loc를 쓰는 방법과 \n",
    "2. 다른 하나는 loc안쓰고 하는 거겠조?"
   ]
  },
  {
   "cell_type": "code",
   "execution_count": 19,
   "metadata": {},
   "outputs": [
    {
     "output_type": "execute_result",
     "data": {
      "text/plain": "       JTBC\n2011  7.380\n2012  7.878\n2013  7.810\n2014  7.490\n2015  7.267\n2016  7.727\n2017  9.453",
      "text/html": "<div>\n<style scoped>\n    .dataframe tbody tr th:only-of-type {\n        vertical-align: middle;\n    }\n\n    .dataframe tbody tr th {\n        vertical-align: top;\n    }\n\n    .dataframe thead th {\n        text-align: right;\n    }\n</style>\n<table border=\"1\" class=\"dataframe\">\n  <thead>\n    <tr style=\"text-align: right;\">\n      <th></th>\n      <th>JTBC</th>\n    </tr>\n  </thead>\n  <tbody>\n    <tr>\n      <th>2011</th>\n      <td>7.380</td>\n    </tr>\n    <tr>\n      <th>2012</th>\n      <td>7.878</td>\n    </tr>\n    <tr>\n      <th>2013</th>\n      <td>7.810</td>\n    </tr>\n    <tr>\n      <th>2014</th>\n      <td>7.490</td>\n    </tr>\n    <tr>\n      <th>2015</th>\n      <td>7.267</td>\n    </tr>\n    <tr>\n      <th>2016</th>\n      <td>7.727</td>\n    </tr>\n    <tr>\n      <th>2017</th>\n      <td>9.453</td>\n    </tr>\n  </tbody>\n</table>\n</div>"
     },
     "metadata": {},
     "execution_count": 19
    }
   ],
   "source": [
    "df[{'JTBC'}]"
   ]
  },
  {
   "cell_type": "code",
   "execution_count": 16,
   "metadata": {},
   "outputs": [
    {
     "output_type": "error",
     "ename": "TypeError",
     "evalue": "'Series' objects are mutable, thus they cannot be hashed",
     "traceback": [
      "\u001b[1;31m---------------------------------------------------------------------------\u001b[0m",
      "\u001b[1;31mTypeError\u001b[0m                                 Traceback (most recent call last)",
      "\u001b[1;32m<ipython-input-16-d608434013b8>\u001b[0m in \u001b[0;36m<module>\u001b[1;34m\u001b[0m\n\u001b[1;32m----> 1\u001b[1;33m \u001b[0mdf\u001b[0m\u001b[1;33m.\u001b[0m\u001b[0mloc\u001b[0m\u001b[1;33m(\u001b[0m\u001b[0mdf\u001b[0m\u001b[1;33m.\u001b[0m\u001b[0mJTBC\u001b[0m\u001b[1;33m)\u001b[0m\u001b[1;33m\u001b[0m\u001b[1;33m\u001b[0m\u001b[0m\n\u001b[0m",
      "\u001b[1;32m~\\Anaconda3\\envs\\my_mython_env\\lib\\site-packages\\pandas\\core\\indexing.py\u001b[0m in \u001b[0;36m__call__\u001b[1;34m(self, axis)\u001b[0m\n\u001b[0;32m    576\u001b[0m \u001b[1;33m\u001b[0m\u001b[0m\n\u001b[0;32m    577\u001b[0m         \u001b[1;32mif\u001b[0m \u001b[0maxis\u001b[0m \u001b[1;32mis\u001b[0m \u001b[1;32mnot\u001b[0m \u001b[1;32mNone\u001b[0m\u001b[1;33m:\u001b[0m\u001b[1;33m\u001b[0m\u001b[1;33m\u001b[0m\u001b[0m\n\u001b[1;32m--> 578\u001b[1;33m             \u001b[0maxis\u001b[0m \u001b[1;33m=\u001b[0m \u001b[0mself\u001b[0m\u001b[1;33m.\u001b[0m\u001b[0mobj\u001b[0m\u001b[1;33m.\u001b[0m\u001b[0m_get_axis_number\u001b[0m\u001b[1;33m(\u001b[0m\u001b[0maxis\u001b[0m\u001b[1;33m)\u001b[0m\u001b[1;33m\u001b[0m\u001b[1;33m\u001b[0m\u001b[0m\n\u001b[0m\u001b[0;32m    579\u001b[0m         \u001b[0mnew_self\u001b[0m\u001b[1;33m.\u001b[0m\u001b[0maxis\u001b[0m \u001b[1;33m=\u001b[0m \u001b[0maxis\u001b[0m\u001b[1;33m\u001b[0m\u001b[1;33m\u001b[0m\u001b[0m\n\u001b[0;32m    580\u001b[0m         \u001b[1;32mreturn\u001b[0m \u001b[0mnew_self\u001b[0m\u001b[1;33m\u001b[0m\u001b[1;33m\u001b[0m\u001b[0m\n",
      "\u001b[1;32m~\\Anaconda3\\envs\\my_mython_env\\lib\\site-packages\\pandas\\core\\generic.py\u001b[0m in \u001b[0;36m_get_axis_number\u001b[1;34m(cls, axis)\u001b[0m\n\u001b[0;32m    396\u001b[0m     \u001b[1;33m@\u001b[0m\u001b[0mclassmethod\u001b[0m\u001b[1;33m\u001b[0m\u001b[1;33m\u001b[0m\u001b[0m\n\u001b[0;32m    397\u001b[0m     \u001b[1;32mdef\u001b[0m \u001b[0m_get_axis_number\u001b[0m\u001b[1;33m(\u001b[0m\u001b[0mcls\u001b[0m\u001b[1;33m,\u001b[0m \u001b[0maxis\u001b[0m\u001b[1;33m)\u001b[0m\u001b[1;33m:\u001b[0m\u001b[1;33m\u001b[0m\u001b[1;33m\u001b[0m\u001b[0m\n\u001b[1;32m--> 398\u001b[1;33m         \u001b[0maxis\u001b[0m \u001b[1;33m=\u001b[0m \u001b[0mcls\u001b[0m\u001b[1;33m.\u001b[0m\u001b[0m_AXIS_ALIASES\u001b[0m\u001b[1;33m.\u001b[0m\u001b[0mget\u001b[0m\u001b[1;33m(\u001b[0m\u001b[0maxis\u001b[0m\u001b[1;33m,\u001b[0m \u001b[0maxis\u001b[0m\u001b[1;33m)\u001b[0m\u001b[1;33m\u001b[0m\u001b[1;33m\u001b[0m\u001b[0m\n\u001b[0m\u001b[0;32m    399\u001b[0m         \u001b[1;32mif\u001b[0m \u001b[0mis_integer\u001b[0m\u001b[1;33m(\u001b[0m\u001b[0maxis\u001b[0m\u001b[1;33m)\u001b[0m\u001b[1;33m:\u001b[0m\u001b[1;33m\u001b[0m\u001b[1;33m\u001b[0m\u001b[0m\n\u001b[0;32m    400\u001b[0m             \u001b[1;32mif\u001b[0m \u001b[0maxis\u001b[0m \u001b[1;32min\u001b[0m \u001b[0mcls\u001b[0m\u001b[1;33m.\u001b[0m\u001b[0m_AXIS_NAMES\u001b[0m\u001b[1;33m:\u001b[0m\u001b[1;33m\u001b[0m\u001b[1;33m\u001b[0m\u001b[0m\n",
      "\u001b[1;32m~\\Anaconda3\\envs\\my_mython_env\\lib\\site-packages\\pandas\\core\\generic.py\u001b[0m in \u001b[0;36m__hash__\u001b[1;34m(self)\u001b[0m\n\u001b[0;32m   1796\u001b[0m \u001b[1;33m\u001b[0m\u001b[0m\n\u001b[0;32m   1797\u001b[0m     \u001b[1;32mdef\u001b[0m \u001b[0m__hash__\u001b[0m\u001b[1;33m(\u001b[0m\u001b[0mself\u001b[0m\u001b[1;33m)\u001b[0m\u001b[1;33m:\u001b[0m\u001b[1;33m\u001b[0m\u001b[1;33m\u001b[0m\u001b[0m\n\u001b[1;32m-> 1798\u001b[1;33m         raise TypeError(\n\u001b[0m\u001b[0;32m   1799\u001b[0m             \u001b[1;34mf\"{repr(type(self).__name__)} objects are mutable, \"\u001b[0m\u001b[1;33m\u001b[0m\u001b[1;33m\u001b[0m\u001b[0m\n\u001b[0;32m   1800\u001b[0m             \u001b[1;34mf\"thus they cannot be hashed\"\u001b[0m\u001b[1;33m\u001b[0m\u001b[1;33m\u001b[0m\u001b[0m\n",
      "\u001b[1;31mTypeError\u001b[0m: 'Series' objects are mutable, thus they cannot be hashed"
     ]
    }
   ],
   "source": [
    "df.loc(df.JTBC)"
   ]
  },
  {
   "cell_type": "code",
   "execution_count": 28,
   "metadata": {},
   "outputs": [
    {
     "output_type": "execute_result",
     "data": {
      "text/plain": "         KBS     MBC\n2011  35.951  18.374\n2012  36.163  16.022\n2013  31.989  16.778\n2014  31.210  15.663\n2015  27.777  16.573\n2016  27.583  14.982\n2017  26.890  12.465",
      "text/html": "<div>\n<style scoped>\n    .dataframe tbody tr th:only-of-type {\n        vertical-align: middle;\n    }\n\n    .dataframe tbody tr th {\n        vertical-align: top;\n    }\n\n    .dataframe thead th {\n        text-align: right;\n    }\n</style>\n<table border=\"1\" class=\"dataframe\">\n  <thead>\n    <tr style=\"text-align: right;\">\n      <th></th>\n      <th>KBS</th>\n      <th>MBC</th>\n    </tr>\n  </thead>\n  <tbody>\n    <tr>\n      <th>2011</th>\n      <td>35.951</td>\n      <td>18.374</td>\n    </tr>\n    <tr>\n      <th>2012</th>\n      <td>36.163</td>\n      <td>16.022</td>\n    </tr>\n    <tr>\n      <th>2013</th>\n      <td>31.989</td>\n      <td>16.778</td>\n    </tr>\n    <tr>\n      <th>2014</th>\n      <td>31.210</td>\n      <td>15.663</td>\n    </tr>\n    <tr>\n      <th>2015</th>\n      <td>27.777</td>\n      <td>16.573</td>\n    </tr>\n    <tr>\n      <th>2016</th>\n      <td>27.583</td>\n      <td>14.982</td>\n    </tr>\n    <tr>\n      <th>2017</th>\n      <td>26.890</td>\n      <td>12.465</td>\n    </tr>\n  </tbody>\n</table>\n</div>"
     },
     "metadata": {},
     "execution_count": 28
    }
   ],
   "source": [
    "df[['KBS','MBC']]"
   ]
  },
  {
   "cell_type": "markdown",
   "metadata": {},
   "source": [
    "### filter 메소드를 이용해 조회하기 \n"
   ]
  },
  {
   "cell_type": "code",
   "execution_count": 15,
   "metadata": {},
   "outputs": [
    {
     "output_type": "execute_result",
     "data": {
      "text/plain": "       JTBC\n2011  7.380\n2012  7.878\n2013  7.810\n2014  7.490\n2015  7.267\n2016  7.727\n2017  9.453",
      "text/html": "<div>\n<style scoped>\n    .dataframe tbody tr th:only-of-type {\n        vertical-align: middle;\n    }\n\n    .dataframe tbody tr th {\n        vertical-align: top;\n    }\n\n    .dataframe thead th {\n        text-align: right;\n    }\n</style>\n<table border=\"1\" class=\"dataframe\">\n  <thead>\n    <tr style=\"text-align: right;\">\n      <th></th>\n      <th>JTBC</th>\n    </tr>\n  </thead>\n  <tbody>\n    <tr>\n      <th>2011</th>\n      <td>7.380</td>\n    </tr>\n    <tr>\n      <th>2012</th>\n      <td>7.878</td>\n    </tr>\n    <tr>\n      <th>2013</th>\n      <td>7.810</td>\n    </tr>\n    <tr>\n      <th>2014</th>\n      <td>7.490</td>\n    </tr>\n    <tr>\n      <th>2015</th>\n      <td>7.267</td>\n    </tr>\n    <tr>\n      <th>2016</th>\n      <td>7.727</td>\n    </tr>\n    <tr>\n      <th>2017</th>\n      <td>9.453</td>\n    </tr>\n  </tbody>\n</table>\n</div>"
     },
     "metadata": {},
     "execution_count": 15
    }
   ],
   "source": [
    "df.filter(items = ['JTBC'])"
   ]
  },
  {
   "cell_type": "code",
   "execution_count": null,
   "metadata": {},
   "outputs": [],
   "source": []
  }
 ],
 "metadata": {
  "language_info": {
   "codemirror_mode": {
    "name": "ipython",
    "version": 3
   },
   "file_extension": ".py",
   "mimetype": "text/x-python",
   "name": "python",
   "nbconvert_exporter": "python",
   "pygments_lexer": "ipython3",
   "version": "3.8.2-final"
  },
  "orig_nbformat": 2,
  "kernelspec": {
   "name": "python38264bitmymythonenvconda1f36fd18157f4376a30b6173fcd0cb3f",
   "display_name": "Python 3.8.2 64-bit ('my_mython_env': conda)"
  }
 },
 "nbformat": 4,
 "nbformat_minor": 2
}