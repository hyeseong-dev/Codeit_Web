{
 "cells": [
  {
   "cell_type": "markdown",
   "metadata": {},
   "source": [
    "번 챕터에서 배운 기법들로 DataFrame을 바로잡아 봅시다.\n",
    "\n",
    "\n",
    "해야 할 일이 두 가지 있습니다.\n",
    "\n",
    "\n",
    "'비만도' column을 추가하고, 모든 ID에 대해 '정상'으로 설정해주세요.\n",
    "'Gender' column의 값을 ID 0~10까지는 'Male' 11~20까지는 'Female'로 변경하세요."
   ]
  },
  {
   "cell_type": "markdown",
   "metadata": {},
   "source": [
    "1. 컬럼을 새로 추가하고 거기에 값을 넣는다.     \n",
    "\n",
    "2. 컬럼의 값에서 0~10까지로우는 특정 값으로 바꾸고 11~이후부터 끝까지는 다른 특정값으로 변경함 "
   ]
  },
  {
   "cell_type": "code",
   "execution_count": 35,
   "metadata": {},
   "outputs": [
    {
     "output_type": "execute_result",
     "data": {
      "text/plain": "    Gender  Height (Inch)  Weight (Pound) 비만도\nID                                           \n0     Male      73.847017      241.893563  정상\n1     Male      70.000000             NaN  정상\n2     Male      74.110105      212.740856  정상\n3     Male      71.730978      220.042470  정상\n4     Male      69.881796      206.349801  정상\n5     Male      67.253016      152.212156  정상\n6     Male      68.785081      183.927889  정상\n7     Male      68.348516      167.971110  정상\n8     Male      67.018950      175.929440  정상\n9     Male      63.456494      156.399676  정상\n10    Male      71.195382      186.604926  정상\n11  Female      62.636675      102.853563  정상\n12  Female      62.077832      138.691680  정상\n13  Female      60.030434       97.687432  정상\n14  Female      59.098250      110.529686  정상\n15  Female      66.172652      136.777454  정상\n16  Female      67.067155      170.867906  정상\n17  Female      63.867992      128.475319  정상\n18  Female      69.034243      163.852461  정상\n19  Female      61.944246      113.649103  정상\n20  Female       0.000000        0.000000  정상",
      "text/html": "<div>\n<style scoped>\n    .dataframe tbody tr th:only-of-type {\n        vertical-align: middle;\n    }\n\n    .dataframe tbody tr th {\n        vertical-align: top;\n    }\n\n    .dataframe thead th {\n        text-align: right;\n    }\n</style>\n<table border=\"1\" class=\"dataframe\">\n  <thead>\n    <tr style=\"text-align: right;\">\n      <th></th>\n      <th>Gender</th>\n      <th>Height (Inch)</th>\n      <th>Weight (Pound)</th>\n      <th>비만도</th>\n    </tr>\n    <tr>\n      <th>ID</th>\n      <th></th>\n      <th></th>\n      <th></th>\n      <th></th>\n    </tr>\n  </thead>\n  <tbody>\n    <tr>\n      <th>0</th>\n      <td>Male</td>\n      <td>73.847017</td>\n      <td>241.893563</td>\n      <td>정상</td>\n    </tr>\n    <tr>\n      <th>1</th>\n      <td>Male</td>\n      <td>70.000000</td>\n      <td>NaN</td>\n      <td>정상</td>\n    </tr>\n    <tr>\n      <th>2</th>\n      <td>Male</td>\n      <td>74.110105</td>\n      <td>212.740856</td>\n      <td>정상</td>\n    </tr>\n    <tr>\n      <th>3</th>\n      <td>Male</td>\n      <td>71.730978</td>\n      <td>220.042470</td>\n      <td>정상</td>\n    </tr>\n    <tr>\n      <th>4</th>\n      <td>Male</td>\n      <td>69.881796</td>\n      <td>206.349801</td>\n      <td>정상</td>\n    </tr>\n    <tr>\n      <th>5</th>\n      <td>Male</td>\n      <td>67.253016</td>\n      <td>152.212156</td>\n      <td>정상</td>\n    </tr>\n    <tr>\n      <th>6</th>\n      <td>Male</td>\n      <td>68.785081</td>\n      <td>183.927889</td>\n      <td>정상</td>\n    </tr>\n    <tr>\n      <th>7</th>\n      <td>Male</td>\n      <td>68.348516</td>\n      <td>167.971110</td>\n      <td>정상</td>\n    </tr>\n    <tr>\n      <th>8</th>\n      <td>Male</td>\n      <td>67.018950</td>\n      <td>175.929440</td>\n      <td>정상</td>\n    </tr>\n    <tr>\n      <th>9</th>\n      <td>Male</td>\n      <td>63.456494</td>\n      <td>156.399676</td>\n      <td>정상</td>\n    </tr>\n    <tr>\n      <th>10</th>\n      <td>Male</td>\n      <td>71.195382</td>\n      <td>186.604926</td>\n      <td>정상</td>\n    </tr>\n    <tr>\n      <th>11</th>\n      <td>Female</td>\n      <td>62.636675</td>\n      <td>102.853563</td>\n      <td>정상</td>\n    </tr>\n    <tr>\n      <th>12</th>\n      <td>Female</td>\n      <td>62.077832</td>\n      <td>138.691680</td>\n      <td>정상</td>\n    </tr>\n    <tr>\n      <th>13</th>\n      <td>Female</td>\n      <td>60.030434</td>\n      <td>97.687432</td>\n      <td>정상</td>\n    </tr>\n    <tr>\n      <th>14</th>\n      <td>Female</td>\n      <td>59.098250</td>\n      <td>110.529686</td>\n      <td>정상</td>\n    </tr>\n    <tr>\n      <th>15</th>\n      <td>Female</td>\n      <td>66.172652</td>\n      <td>136.777454</td>\n      <td>정상</td>\n    </tr>\n    <tr>\n      <th>16</th>\n      <td>Female</td>\n      <td>67.067155</td>\n      <td>170.867906</td>\n      <td>정상</td>\n    </tr>\n    <tr>\n      <th>17</th>\n      <td>Female</td>\n      <td>63.867992</td>\n      <td>128.475319</td>\n      <td>정상</td>\n    </tr>\n    <tr>\n      <th>18</th>\n      <td>Female</td>\n      <td>69.034243</td>\n      <td>163.852461</td>\n      <td>정상</td>\n    </tr>\n    <tr>\n      <th>19</th>\n      <td>Female</td>\n      <td>61.944246</td>\n      <td>113.649103</td>\n      <td>정상</td>\n    </tr>\n    <tr>\n      <th>20</th>\n      <td>Female</td>\n      <td>0.000000</td>\n      <td>0.000000</td>\n      <td>정상</td>\n    </tr>\n  </tbody>\n</table>\n</div>"
     },
     "metadata": {},
     "execution_count": 35
    }
   ],
   "source": [
    "import pandas as pd\n",
    "\n",
    "df = pd.read_csv('data/body_imperial2.csv', delimiter='\\t')\n",
    "\n",
    "df.drop('ID', axis=1,inplace=True)\n",
    "df.index.name = 'ID'\n",
    "df.loc[:,'비만도'] = '정상'\n",
    "df.loc[:,'Gender'] = 'Male'\n",
    "df = df.loc[:,['Gender','Height (Inch)','Weight (Pound)','비만도']]\n",
    "df.loc[11:, 'Gender'] = 'Female'\n",
    "df\n",
    "# df.to_csv('data/body_imperial1.csv')\n",
    "# 코드를 작성하세요.\n",
    "\n",
    "# 정답 출력\n",
    "# df['비만도'] = '정상'\n",
    "# df.loc[:11, 'Gender'] = 'Male'\n",
    "# df.loc[11:, 'Gender'] = 'Female'"
   ]
  },
  {
   "cell_type": "code",
   "execution_count": null,
   "metadata": {},
   "outputs": [],
   "source": []
  }
 ],
 "metadata": {
  "language_info": {
   "codemirror_mode": {
    "name": "ipython",
    "version": 3
   },
   "file_extension": ".py",
   "mimetype": "text/x-python",
   "name": "python",
   "nbconvert_exporter": "python",
   "pygments_lexer": "ipython3",
   "version": "3.8.1-final"
  },
  "orig_nbformat": 2,
  "kernelspec": {
   "name": "python38164bitpytorchcondae2e836418e8f4945879c9669572061e2",
   "display_name": "Python 3.8.1 64-bit ('pytorch': conda)"
  }
 },
 "nbformat": 4,
 "nbformat_minor": 2
}