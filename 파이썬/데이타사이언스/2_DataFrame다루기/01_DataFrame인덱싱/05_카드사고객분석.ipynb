{
 "cells": [
  {
   "cell_type": "code",
   "execution_count": 1,
   "metadata": {},
   "outputs": [
    {
     "output_type": "execute_result",
     "data": {
      "text/plain": "    요일     식비   교통비  문화생활비    기타\n0  MON  22420  2574   5339  5546\n1  TUE  19940  2689   3524  2501\n2  WED  18086  2281   5364  2234\n3  THU  18863  2155   9942  3252\n4  FRI  35144  2463  33511  2342\n5  SAT  34952  2812  19397  4324\n6  SUN  28513  2680  19925  4577",
      "text/html": "<div>\n<style scoped>\n    .dataframe tbody tr th:only-of-type {\n        vertical-align: middle;\n    }\n\n    .dataframe tbody tr th {\n        vertical-align: top;\n    }\n\n    .dataframe thead th {\n        text-align: right;\n    }\n</style>\n<table border=\"1\" class=\"dataframe\">\n  <thead>\n    <tr style=\"text-align: right;\">\n      <th></th>\n      <th>요일</th>\n      <th>식비</th>\n      <th>교통비</th>\n      <th>문화생활비</th>\n      <th>기타</th>\n    </tr>\n  </thead>\n  <tbody>\n    <tr>\n      <th>0</th>\n      <td>MON</td>\n      <td>22420</td>\n      <td>2574</td>\n      <td>5339</td>\n      <td>5546</td>\n    </tr>\n    <tr>\n      <th>1</th>\n      <td>TUE</td>\n      <td>19940</td>\n      <td>2689</td>\n      <td>3524</td>\n      <td>2501</td>\n    </tr>\n    <tr>\n      <th>2</th>\n      <td>WED</td>\n      <td>18086</td>\n      <td>2281</td>\n      <td>5364</td>\n      <td>2234</td>\n    </tr>\n    <tr>\n      <th>3</th>\n      <td>THU</td>\n      <td>18863</td>\n      <td>2155</td>\n      <td>9942</td>\n      <td>3252</td>\n    </tr>\n    <tr>\n      <th>4</th>\n      <td>FRI</td>\n      <td>35144</td>\n      <td>2463</td>\n      <td>33511</td>\n      <td>2342</td>\n    </tr>\n    <tr>\n      <th>5</th>\n      <td>SAT</td>\n      <td>34952</td>\n      <td>2812</td>\n      <td>19397</td>\n      <td>4324</td>\n    </tr>\n    <tr>\n      <th>6</th>\n      <td>SUN</td>\n      <td>28513</td>\n      <td>2680</td>\n      <td>19925</td>\n      <td>4577</td>\n    </tr>\n  </tbody>\n</table>\n</div>"
     },
     "metadata": {},
     "execution_count": 1
    }
   ],
   "source": [
    "import pandas as pd\n",
    "\n",
    "samsong_df = pd.read_csv('data/samsong.csv', delimiter='\\t')\n",
    "hyundee_df = pd.read_csv('data/hyundee.csv', delimiter='\\t')\n",
    "\n",
    "# 코드를 작성하세요.\n",
    "samsong_df\n",
    "hyundee_df"
   ]
  },
  {
   "cell_type": "code",
   "execution_count": 2,
   "metadata": {},
   "outputs": [],
   "source": [
    "# 요일을 뜯어오자. \n",
    "days = samsong_df.loc[:,'요일']\n",
    "sam_cul_fee = samsong_df.loc[:,'문화생활비']\n",
    "hyun_cul_fee = hyundee_df.loc[:,'문화생활비']"
   ]
  },
  {
   "cell_type": "code",
   "execution_count": null,
   "metadata": {},
   "outputs": [],
   "source": [
    "daily_cul_fee = {\n",
    "    'day':days,\n",
    "    'samsong':sam_cul_fee,\n",
    "    'hyundee':hyun_cul_fee,\n",
    "}\n",
    "daily_cul_fee = pd.DataFrame(daily_cul_fee)\n",
    "daily_cul_fee"
   ]
  },
  {
   "cell_type": "code",
   "execution_count": null,
   "metadata": {},
   "outputs": [],
   "source": []
  },
  {
   "cell_type": "code",
   "execution_count": null,
   "metadata": {},
   "outputs": [],
   "source": []
  },
  {
   "cell_type": "markdown",
   "metadata": {},
   "source": [
    "## 인덱싱으로 조회하는 방법?! \n"
   ]
  },
  {
   "cell_type": "code",
   "execution_count": null,
   "metadata": {},
   "outputs": [],
   "source": [
    "# 값을 가져오기 \n",
    "samsong_df['요일']\n",
    "samsong_df['문화생활비']\n",
    "hyundee_df['문화생활비']\n",
    "\n",
    "# 딕셔너리를 만들어 보자\n",
    "{\n",
    "    'days': samsong_df['요일'],\n",
    "    'samsong': samsong_df['문화생활비'],\n",
    "    'hyundee': hyundee_df['문화생활비']\n",
    "}\n",
    "\n",
    "# 이젠 데이타 프레임을 만들어 보자 \n",
    "combined_df = pd.DataFrame(\n",
    "    {\n",
    "    'days': samsong_df['요일'],\n",
    "    'samsong': samsong_df['문화생활비'],\n",
    "    'hyundee': hyundee_df['문화생활비']\n",
    "    }\n",
    "    )\n",
    "combined_df"
   ]
  },
  {
   "cell_type": "code",
   "execution_count": null,
   "metadata": {},
   "outputs": [],
   "source": []
  },
  {
   "cell_type": "markdown",
   "metadata": {},
   "source": [
    "## 인덱스를 요일로 설정하는 방법 아래를 참고.\n"
   ]
  },
  {
   "cell_type": "code",
   "execution_count": 2,
   "metadata": {},
   "outputs": [
    {
     "data": {
      "text/html": [
       "<div>\n",
       "<style scoped>\n",
       "    .dataframe tbody tr th:only-of-type {\n",
       "        vertical-align: middle;\n",
       "    }\n",
       "\n",
       "    .dataframe tbody tr th {\n",
       "        vertical-align: top;\n",
       "    }\n",
       "\n",
       "    .dataframe thead th {\n",
       "        text-align: right;\n",
       "    }\n",
       "</style>\n",
       "<table border=\"1\" class=\"dataframe\">\n",
       "  <thead>\n",
       "    <tr style=\"text-align: right;\">\n",
       "      <th></th>\n",
       "      <th>samsong</th>\n",
       "      <th>hyundee</th>\n",
       "    </tr>\n",
       "    <tr>\n",
       "      <th>day</th>\n",
       "      <th></th>\n",
       "      <th></th>\n",
       "    </tr>\n",
       "  </thead>\n",
       "  <tbody>\n",
       "    <tr>\n",
       "      <th>MON</th>\n",
       "      <td>4308</td>\n",
       "      <td>5339</td>\n",
       "    </tr>\n",
       "    <tr>\n",
       "      <th>TUE</th>\n",
       "      <td>7644</td>\n",
       "      <td>3524</td>\n",
       "    </tr>\n",
       "    <tr>\n",
       "      <th>WED</th>\n",
       "      <td>5674</td>\n",
       "      <td>5364</td>\n",
       "    </tr>\n",
       "    <tr>\n",
       "      <th>THU</th>\n",
       "      <td>8621</td>\n",
       "      <td>9942</td>\n",
       "    </tr>\n",
       "    <tr>\n",
       "      <th>FRI</th>\n",
       "      <td>23052</td>\n",
       "      <td>33511</td>\n",
       "    </tr>\n",
       "    <tr>\n",
       "      <th>SAT</th>\n",
       "      <td>15330</td>\n",
       "      <td>19397</td>\n",
       "    </tr>\n",
       "    <tr>\n",
       "      <th>SUN</th>\n",
       "      <td>19030</td>\n",
       "      <td>19925</td>\n",
       "    </tr>\n",
       "  </tbody>\n",
       "</table>\n",
       "</div>"
      ],
      "text/plain": [
       "     samsong  hyundee\n",
       "day                  \n",
       "MON     4308     5339\n",
       "TUE     7644     3524\n",
       "WED     5674     5364\n",
       "THU     8621     9942\n",
       "FRI    23052    33511\n",
       "SAT    15330    19397\n",
       "SUN    19030    19925"
      ]
     },
     "execution_count": 2,
     "metadata": {},
     "output_type": "execute_result"
    }
   ],
   "source": [
    "\n",
    "# df.set_index라는 메소드를 이용해보세요!!\n",
    "\n",
    "# DataFrame.set_index(keys, drop=True, append=False, inplace=False, verify_integrity=False)\n",
    "# list, series 또는 데이터 프레임을 데이터 프레임의 인덱스로 설정하는 방법입니다!!\n",
    "import pandas as pd\n",
    "\n",
    "samsong_df = pd.read_csv('data/samsong.csv', delimiter='\\t')\n",
    "hyundee_df = pd.read_csv('data/hyundee.csv', delimiter='\\t')\n",
    "\n",
    "culture_dic = {'samsong':samsong_df['문화생활비'],\n",
    "               'hyundee':hyundee_df['문화생활비'],\n",
    "               'day' : hyundee_df['요일']}\n",
    "\n",
    "df = pd.DataFrame(culture_dic)\n",
    "df.set_index(\"day\", inplace = True) \n",
    "df"
   ]
  },
  {
   "cell_type": "code",
   "execution_count": 3,
   "metadata": {},
   "outputs": [
    {
     "data": {
      "text/html": [
       "<div>\n",
       "<style scoped>\n",
       "    .dataframe tbody tr th:only-of-type {\n",
       "        vertical-align: middle;\n",
       "    }\n",
       "\n",
       "    .dataframe tbody tr th {\n",
       "        vertical-align: top;\n",
       "    }\n",
       "\n",
       "    .dataframe thead th {\n",
       "        text-align: right;\n",
       "    }\n",
       "</style>\n",
       "<table border=\"1\" class=\"dataframe\">\n",
       "  <thead>\n",
       "    <tr style=\"text-align: right;\">\n",
       "      <th></th>\n",
       "      <th>day</th>\n",
       "      <th>samsung</th>\n",
       "      <th>hyundee</th>\n",
       "    </tr>\n",
       "  </thead>\n",
       "  <tbody>\n",
       "    <tr>\n",
       "      <th>0</th>\n",
       "      <td>MON</td>\n",
       "      <td>4308</td>\n",
       "      <td>5339</td>\n",
       "    </tr>\n",
       "    <tr>\n",
       "      <th>1</th>\n",
       "      <td>TUE</td>\n",
       "      <td>7644</td>\n",
       "      <td>3524</td>\n",
       "    </tr>\n",
       "    <tr>\n",
       "      <th>2</th>\n",
       "      <td>WED</td>\n",
       "      <td>5674</td>\n",
       "      <td>5364</td>\n",
       "    </tr>\n",
       "    <tr>\n",
       "      <th>3</th>\n",
       "      <td>THU</td>\n",
       "      <td>8621</td>\n",
       "      <td>9942</td>\n",
       "    </tr>\n",
       "    <tr>\n",
       "      <th>4</th>\n",
       "      <td>FRI</td>\n",
       "      <td>23052</td>\n",
       "      <td>33511</td>\n",
       "    </tr>\n",
       "    <tr>\n",
       "      <th>5</th>\n",
       "      <td>SAT</td>\n",
       "      <td>15330</td>\n",
       "      <td>19397</td>\n",
       "    </tr>\n",
       "    <tr>\n",
       "      <th>6</th>\n",
       "      <td>SUN</td>\n",
       "      <td>19030</td>\n",
       "      <td>19925</td>\n",
       "    </tr>\n",
       "  </tbody>\n",
       "</table>\n",
       "</div>"
      ],
      "text/plain": [
       "   day  samsung  hyundee\n",
       "0  MON     4308     5339\n",
       "1  TUE     7644     3524\n",
       "2  WED     5674     5364\n",
       "3  THU     8621     9942\n",
       "4  FRI    23052    33511\n",
       "5  SAT    15330    19397\n",
       "6  SUN    19030    19925"
      ]
     },
     "execution_count": 3,
     "metadata": {},
     "output_type": "execute_result"
    }
   ],
   "source": [
    "import pandas as pd\n",
    "\n",
    "samsong_df = pd.read_csv('data/samsong.csv', delimiter='\\t')\n",
    "hyundee_df = pd.read_csv('data/hyundee.csv', delimiter='\\t')\n",
    "\n",
    "# 코드를 작성하세요.\n",
    "\n",
    "dict1 = {\n",
    "    'day' : ['MON', 'TUE', 'WED', 'THU', 'FRI', 'SAT', 'SUN'],\n",
    "    'samsung' : samsong_df['문화생활비'],\n",
    "    'hyundee' : hyundee_df['문화생활비']\n",
    "}\n",
    "\n",
    "pd.DataFrame(dict1)"
   ]
  }
 ],
 "metadata": {
  "kernelspec": {
   "display_name": "Python 3.8.1 64-bit ('pytorch': conda)",
   "language": "python",
   "name": "python38164bitpytorchcondae2e836418e8f4945879c9669572061e2"
  },
  "language_info": {
   "codemirror_mode": {
    "name": "ipython",
    "version": 3
   },
   "file_extension": ".py",
   "mimetype": "text/x-python",
   "name": "python",
   "nbconvert_exporter": "python",
   "pygments_lexer": "ipython3",
   "version": "3.8.1-final"
  }
 },
 "nbformat": 4,
 "nbformat_minor": 4
}