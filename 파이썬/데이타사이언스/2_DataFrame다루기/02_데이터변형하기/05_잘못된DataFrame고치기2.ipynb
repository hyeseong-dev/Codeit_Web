{
 "cells": [
  {
   "cell_type": "code",
   "execution_count": 1,
   "metadata": {},
   "outputs": [],
   "source": [
    "import pandas as pd"
   ]
  },
  {
   "cell_type": "code",
   "execution_count": 20,
   "metadata": {},
   "outputs": [
    {
     "output_type": "execute_result",
     "data": {
      "text/plain": "    Height(Inch)  Weight(Pound)\nID                             \n0      73.847017     241.893563\n1      70.000000     200.000000\n2      74.110105     212.740856\n3      71.730978     220.042470\n4      69.881796     206.349801\n5      67.253016     152.212156\n6      68.785081     183.927889\n7      68.348516     167.971110\n8      67.018950     175.929440\n9      63.456494     156.399676\n10     71.195382     186.604926\n11     62.636675     102.853563\n12     62.077832     138.691680\n13     60.030434      97.687432\n14     59.098250     110.529686\n15     66.172652     136.777454\n16     67.067155     170.867906\n17     63.867992     128.475319\n18     69.034243     163.852461\n19     61.944246     113.649103\n21     70.000000     200.000000",
      "text/html": "<div>\n<style scoped>\n    .dataframe tbody tr th:only-of-type {\n        vertical-align: middle;\n    }\n\n    .dataframe tbody tr th {\n        vertical-align: top;\n    }\n\n    .dataframe thead th {\n        text-align: right;\n    }\n</style>\n<table border=\"1\" class=\"dataframe\">\n  <thead>\n    <tr style=\"text-align: right;\">\n      <th></th>\n      <th>Height(Inch)</th>\n      <th>Weight(Pound)</th>\n    </tr>\n    <tr>\n      <th>ID</th>\n      <th></th>\n      <th></th>\n    </tr>\n  </thead>\n  <tbody>\n    <tr>\n      <th>0</th>\n      <td>73.847017</td>\n      <td>241.893563</td>\n    </tr>\n    <tr>\n      <th>1</th>\n      <td>70.000000</td>\n      <td>200.000000</td>\n    </tr>\n    <tr>\n      <th>2</th>\n      <td>74.110105</td>\n      <td>212.740856</td>\n    </tr>\n    <tr>\n      <th>3</th>\n      <td>71.730978</td>\n      <td>220.042470</td>\n    </tr>\n    <tr>\n      <th>4</th>\n      <td>69.881796</td>\n      <td>206.349801</td>\n    </tr>\n    <tr>\n      <th>5</th>\n      <td>67.253016</td>\n      <td>152.212156</td>\n    </tr>\n    <tr>\n      <th>6</th>\n      <td>68.785081</td>\n      <td>183.927889</td>\n    </tr>\n    <tr>\n      <th>7</th>\n      <td>68.348516</td>\n      <td>167.971110</td>\n    </tr>\n    <tr>\n      <th>8</th>\n      <td>67.018950</td>\n      <td>175.929440</td>\n    </tr>\n    <tr>\n      <th>9</th>\n      <td>63.456494</td>\n      <td>156.399676</td>\n    </tr>\n    <tr>\n      <th>10</th>\n      <td>71.195382</td>\n      <td>186.604926</td>\n    </tr>\n    <tr>\n      <th>11</th>\n      <td>62.636675</td>\n      <td>102.853563</td>\n    </tr>\n    <tr>\n      <th>12</th>\n      <td>62.077832</td>\n      <td>138.691680</td>\n    </tr>\n    <tr>\n      <th>13</th>\n      <td>60.030434</td>\n      <td>97.687432</td>\n    </tr>\n    <tr>\n      <th>14</th>\n      <td>59.098250</td>\n      <td>110.529686</td>\n    </tr>\n    <tr>\n      <th>15</th>\n      <td>66.172652</td>\n      <td>136.777454</td>\n    </tr>\n    <tr>\n      <th>16</th>\n      <td>67.067155</td>\n      <td>170.867906</td>\n    </tr>\n    <tr>\n      <th>17</th>\n      <td>63.867992</td>\n      <td>128.475319</td>\n    </tr>\n    <tr>\n      <th>18</th>\n      <td>69.034243</td>\n      <td>163.852461</td>\n    </tr>\n    <tr>\n      <th>19</th>\n      <td>61.944246</td>\n      <td>113.649103</td>\n    </tr>\n    <tr>\n      <th>21</th>\n      <td>70.000000</td>\n      <td>200.000000</td>\n    </tr>\n  </tbody>\n</table>\n</div>"
     },
     "metadata": {},
     "execution_count": 20
    }
   ],
   "source": [
    "df = pd.read_csv('data/body_imperial1.csv', index_col=0, delimiter='\\t')\n",
    "df = df.astype(float)\n",
    "df.loc[1,['Weight(Pound)']] = 200\n",
    "df.loc[21] = [70,200]\n",
    "\n",
    "\n",
    "df"
   ]
  },
  {
   "cell_type": "code",
   "execution_count": null,
   "metadata": {},
   "outputs": [],
   "source": [
    "'''\n",
    " DataFrame에서 처음부터 n까지의 row를 인덱싱하는 방법은 df.loc[:n, columns],\n",
    "n부터 끝까지 인덱싱하는 방법은 df.loc[n:, columns]\n",
    "문법을 사용하면 됩니다.\n",
    "'''"
   ]
  },
  {
   "cell_type": "code",
   "execution_count": 27,
   "metadata": {},
   "outputs": [],
   "source": [
    "df['Gender'] = None\n",
    "# df[:, ['Gender']]\n"
   ]
  },
  {
   "cell_type": "code",
   "execution_count": 33,
   "metadata": {},
   "outputs": [
    {
     "output_type": "error",
     "ename": "KeyError",
     "evalue": "\"None of [Index(['Gender', 'Height(Inch)', 'Weight(Pound)'], dtype='object', name='ID')] are in the [index]\"",
     "traceback": [
      "\u001b[1;31m---------------------------------------------------------------------------\u001b[0m",
      "\u001b[1;31mKeyError\u001b[0m                                  Traceback (most recent call last)",
      "\u001b[1;32m<ipython-input-33-a670703f8b17>\u001b[0m in \u001b[0;36m<module>\u001b[1;34m\u001b[0m\n\u001b[0;32m      1\u001b[0m \u001b[0mdf\u001b[0m\u001b[1;33m.\u001b[0m\u001b[0mloc\u001b[0m\u001b[1;33m[\u001b[0m\u001b[1;33m:\u001b[0m\u001b[1;36m10\u001b[0m\u001b[1;33m,\u001b[0m \u001b[1;33m[\u001b[0m\u001b[1;34m'Gender'\u001b[0m\u001b[1;33m]\u001b[0m\u001b[1;33m]\u001b[0m \u001b[1;33m=\u001b[0m \u001b[1;34m'Male'\u001b[0m\u001b[1;33m\u001b[0m\u001b[1;33m\u001b[0m\u001b[0m\n\u001b[0;32m      2\u001b[0m \u001b[0mdf\u001b[0m\u001b[1;33m.\u001b[0m\u001b[0mloc\u001b[0m\u001b[1;33m[\u001b[0m\u001b[1;36m11\u001b[0m\u001b[1;33m:\u001b[0m\u001b[1;33m,\u001b[0m \u001b[1;33m[\u001b[0m\u001b[1;34m'Gender'\u001b[0m\u001b[1;33m]\u001b[0m\u001b[1;33m]\u001b[0m \u001b[1;33m=\u001b[0m \u001b[1;34m'Female'\u001b[0m\u001b[1;33m\u001b[0m\u001b[1;33m\u001b[0m\u001b[0m\n\u001b[1;32m----> 3\u001b[1;33m \u001b[0mdf\u001b[0m\u001b[1;33m.\u001b[0m\u001b[0mloc\u001b[0m\u001b[1;33m[\u001b[0m\u001b[1;33m[\u001b[0m\u001b[1;34m'Gender'\u001b[0m\u001b[1;33m,\u001b[0m\u001b[1;34m'Height(Inch)'\u001b[0m\u001b[1;33m,\u001b[0m\u001b[1;34m'Weight(Pound)'\u001b[0m\u001b[1;33m]\u001b[0m\u001b[1;33m]\u001b[0m\u001b[1;33m\u001b[0m\u001b[1;33m\u001b[0m\u001b[0m\n\u001b[0m",
      "\u001b[1;32m~\\Anaconda3\\envs\\my_mython_env\\lib\\site-packages\\pandas\\core\\indexing.py\u001b[0m in \u001b[0;36m__getitem__\u001b[1;34m(self, key)\u001b[0m\n\u001b[0;32m   1766\u001b[0m \u001b[1;33m\u001b[0m\u001b[0m\n\u001b[0;32m   1767\u001b[0m             \u001b[0mmaybe_callable\u001b[0m \u001b[1;33m=\u001b[0m \u001b[0mcom\u001b[0m\u001b[1;33m.\u001b[0m\u001b[0mapply_if_callable\u001b[0m\u001b[1;33m(\u001b[0m\u001b[0mkey\u001b[0m\u001b[1;33m,\u001b[0m \u001b[0mself\u001b[0m\u001b[1;33m.\u001b[0m\u001b[0mobj\u001b[0m\u001b[1;33m)\u001b[0m\u001b[1;33m\u001b[0m\u001b[1;33m\u001b[0m\u001b[0m\n\u001b[1;32m-> 1768\u001b[1;33m             \u001b[1;32mreturn\u001b[0m \u001b[0mself\u001b[0m\u001b[1;33m.\u001b[0m\u001b[0m_getitem_axis\u001b[0m\u001b[1;33m(\u001b[0m\u001b[0mmaybe_callable\u001b[0m\u001b[1;33m,\u001b[0m \u001b[0maxis\u001b[0m\u001b[1;33m=\u001b[0m\u001b[0maxis\u001b[0m\u001b[1;33m)\u001b[0m\u001b[1;33m\u001b[0m\u001b[1;33m\u001b[0m\u001b[0m\n\u001b[0m\u001b[0;32m   1769\u001b[0m \u001b[1;33m\u001b[0m\u001b[0m\n\u001b[0;32m   1770\u001b[0m     \u001b[1;32mdef\u001b[0m \u001b[0m_is_scalar_access\u001b[0m\u001b[1;33m(\u001b[0m\u001b[0mself\u001b[0m\u001b[1;33m,\u001b[0m \u001b[0mkey\u001b[0m\u001b[1;33m:\u001b[0m \u001b[0mTuple\u001b[0m\u001b[1;33m)\u001b[0m\u001b[1;33m:\u001b[0m\u001b[1;33m\u001b[0m\u001b[1;33m\u001b[0m\u001b[0m\n",
      "\u001b[1;32m~\\Anaconda3\\envs\\my_mython_env\\lib\\site-packages\\pandas\\core\\indexing.py\u001b[0m in \u001b[0;36m_getitem_axis\u001b[1;34m(self, key, axis)\u001b[0m\n\u001b[0;32m   1952\u001b[0m                     \u001b[1;32mraise\u001b[0m \u001b[0mValueError\u001b[0m\u001b[1;33m(\u001b[0m\u001b[1;34m\"Cannot index with multidimensional key\"\u001b[0m\u001b[1;33m)\u001b[0m\u001b[1;33m\u001b[0m\u001b[1;33m\u001b[0m\u001b[0m\n\u001b[0;32m   1953\u001b[0m \u001b[1;33m\u001b[0m\u001b[0m\n\u001b[1;32m-> 1954\u001b[1;33m                 \u001b[1;32mreturn\u001b[0m \u001b[0mself\u001b[0m\u001b[1;33m.\u001b[0m\u001b[0m_getitem_iterable\u001b[0m\u001b[1;33m(\u001b[0m\u001b[0mkey\u001b[0m\u001b[1;33m,\u001b[0m \u001b[0maxis\u001b[0m\u001b[1;33m=\u001b[0m\u001b[0maxis\u001b[0m\u001b[1;33m)\u001b[0m\u001b[1;33m\u001b[0m\u001b[1;33m\u001b[0m\u001b[0m\n\u001b[0m\u001b[0;32m   1955\u001b[0m \u001b[1;33m\u001b[0m\u001b[0m\n\u001b[0;32m   1956\u001b[0m             \u001b[1;31m# nested tuple slicing\u001b[0m\u001b[1;33m\u001b[0m\u001b[1;33m\u001b[0m\u001b[1;33m\u001b[0m\u001b[0m\n",
      "\u001b[1;32m~\\Anaconda3\\envs\\my_mython_env\\lib\\site-packages\\pandas\\core\\indexing.py\u001b[0m in \u001b[0;36m_getitem_iterable\u001b[1;34m(self, key, axis)\u001b[0m\n\u001b[0;32m   1593\u001b[0m         \u001b[1;32melse\u001b[0m\u001b[1;33m:\u001b[0m\u001b[1;33m\u001b[0m\u001b[1;33m\u001b[0m\u001b[0m\n\u001b[0;32m   1594\u001b[0m             \u001b[1;31m# A collection of keys\u001b[0m\u001b[1;33m\u001b[0m\u001b[1;33m\u001b[0m\u001b[1;33m\u001b[0m\u001b[0m\n\u001b[1;32m-> 1595\u001b[1;33m             \u001b[0mkeyarr\u001b[0m\u001b[1;33m,\u001b[0m \u001b[0mindexer\u001b[0m \u001b[1;33m=\u001b[0m \u001b[0mself\u001b[0m\u001b[1;33m.\u001b[0m\u001b[0m_get_listlike_indexer\u001b[0m\u001b[1;33m(\u001b[0m\u001b[0mkey\u001b[0m\u001b[1;33m,\u001b[0m \u001b[0maxis\u001b[0m\u001b[1;33m,\u001b[0m \u001b[0mraise_missing\u001b[0m\u001b[1;33m=\u001b[0m\u001b[1;32mFalse\u001b[0m\u001b[1;33m)\u001b[0m\u001b[1;33m\u001b[0m\u001b[1;33m\u001b[0m\u001b[0m\n\u001b[0m\u001b[0;32m   1596\u001b[0m             return self.obj._reindex_with_indexers(\n\u001b[0;32m   1597\u001b[0m                 \u001b[1;33m{\u001b[0m\u001b[0maxis\u001b[0m\u001b[1;33m:\u001b[0m \u001b[1;33m[\u001b[0m\u001b[0mkeyarr\u001b[0m\u001b[1;33m,\u001b[0m \u001b[0mindexer\u001b[0m\u001b[1;33m]\u001b[0m\u001b[1;33m}\u001b[0m\u001b[1;33m,\u001b[0m \u001b[0mcopy\u001b[0m\u001b[1;33m=\u001b[0m\u001b[1;32mTrue\u001b[0m\u001b[1;33m,\u001b[0m \u001b[0mallow_dups\u001b[0m\u001b[1;33m=\u001b[0m\u001b[1;32mTrue\u001b[0m\u001b[1;33m\u001b[0m\u001b[1;33m\u001b[0m\u001b[0m\n",
      "\u001b[1;32m~\\Anaconda3\\envs\\my_mython_env\\lib\\site-packages\\pandas\\core\\indexing.py\u001b[0m in \u001b[0;36m_get_listlike_indexer\u001b[1;34m(self, key, axis, raise_missing)\u001b[0m\n\u001b[0;32m   1550\u001b[0m             \u001b[0mkeyarr\u001b[0m\u001b[1;33m,\u001b[0m \u001b[0mindexer\u001b[0m\u001b[1;33m,\u001b[0m \u001b[0mnew_indexer\u001b[0m \u001b[1;33m=\u001b[0m \u001b[0max\u001b[0m\u001b[1;33m.\u001b[0m\u001b[0m_reindex_non_unique\u001b[0m\u001b[1;33m(\u001b[0m\u001b[0mkeyarr\u001b[0m\u001b[1;33m)\u001b[0m\u001b[1;33m\u001b[0m\u001b[1;33m\u001b[0m\u001b[0m\n\u001b[0;32m   1551\u001b[0m \u001b[1;33m\u001b[0m\u001b[0m\n\u001b[1;32m-> 1552\u001b[1;33m         self._validate_read_indexer(\n\u001b[0m\u001b[0;32m   1553\u001b[0m             \u001b[0mkeyarr\u001b[0m\u001b[1;33m,\u001b[0m \u001b[0mindexer\u001b[0m\u001b[1;33m,\u001b[0m \u001b[0mo\u001b[0m\u001b[1;33m.\u001b[0m\u001b[0m_get_axis_number\u001b[0m\u001b[1;33m(\u001b[0m\u001b[0maxis\u001b[0m\u001b[1;33m)\u001b[0m\u001b[1;33m,\u001b[0m \u001b[0mraise_missing\u001b[0m\u001b[1;33m=\u001b[0m\u001b[0mraise_missing\u001b[0m\u001b[1;33m\u001b[0m\u001b[1;33m\u001b[0m\u001b[0m\n\u001b[0;32m   1554\u001b[0m         )\n",
      "\u001b[1;32m~\\Anaconda3\\envs\\my_mython_env\\lib\\site-packages\\pandas\\core\\indexing.py\u001b[0m in \u001b[0;36m_validate_read_indexer\u001b[1;34m(self, key, indexer, axis, raise_missing)\u001b[0m\n\u001b[0;32m   1638\u001b[0m             \u001b[1;32mif\u001b[0m \u001b[0mmissing\u001b[0m \u001b[1;33m==\u001b[0m \u001b[0mlen\u001b[0m\u001b[1;33m(\u001b[0m\u001b[0mindexer\u001b[0m\u001b[1;33m)\u001b[0m\u001b[1;33m:\u001b[0m\u001b[1;33m\u001b[0m\u001b[1;33m\u001b[0m\u001b[0m\n\u001b[0;32m   1639\u001b[0m                 \u001b[0maxis_name\u001b[0m \u001b[1;33m=\u001b[0m \u001b[0mself\u001b[0m\u001b[1;33m.\u001b[0m\u001b[0mobj\u001b[0m\u001b[1;33m.\u001b[0m\u001b[0m_get_axis_name\u001b[0m\u001b[1;33m(\u001b[0m\u001b[0maxis\u001b[0m\u001b[1;33m)\u001b[0m\u001b[1;33m\u001b[0m\u001b[1;33m\u001b[0m\u001b[0m\n\u001b[1;32m-> 1640\u001b[1;33m                 \u001b[1;32mraise\u001b[0m \u001b[0mKeyError\u001b[0m\u001b[1;33m(\u001b[0m\u001b[1;34mf\"None of [{key}] are in the [{axis_name}]\"\u001b[0m\u001b[1;33m)\u001b[0m\u001b[1;33m\u001b[0m\u001b[1;33m\u001b[0m\u001b[0m\n\u001b[0m\u001b[0;32m   1641\u001b[0m \u001b[1;33m\u001b[0m\u001b[0m\n\u001b[0;32m   1642\u001b[0m             \u001b[1;31m# We (temporarily) allow for some missing keys with .loc, except in\u001b[0m\u001b[1;33m\u001b[0m\u001b[1;33m\u001b[0m\u001b[1;33m\u001b[0m\u001b[0m\n",
      "\u001b[1;31mKeyError\u001b[0m: \"None of [Index(['Gender', 'Height(Inch)', 'Weight(Pound)'], dtype='object', name='ID')] are in the [index]\""
     ]
    }
   ],
   "source": [
    "df.loc[:10, ['Gender']] = 'Male'\n",
    "df.loc[11:, ['Gender']] = 'Female'\n",
    "df.loc[['Gender','Height(Inch)','Weight(Pound)']]\n"
   ]
  },
  {
   "cell_type": "code",
   "execution_count": null,
   "metadata": {},
   "outputs": [],
   "source": []
  },
  {
   "cell_type": "code",
   "execution_count": 35,
   "metadata": {},
   "outputs": [
    {
     "output_type": "execute_result",
     "data": {
      "text/plain": "    Height(Inch)  Weight(Pound)  Gender 비만도\nID                                         \n0      73.847017     241.893563    Male  정상\n1      70.000000     200.000000    Male  정상\n2      74.110105     212.740856    Male  정상\n3      71.730978     220.042470    Male  정상\n4      69.881796     206.349801    Male  정상\n5      67.253016     152.212156    Male  정상\n6      68.785081     183.927889    Male  정상\n7      68.348516     167.971110    Male  정상\n8      67.018950     175.929440    Male  정상\n9      63.456494     156.399676    Male  정상\n10     71.195382     186.604926    Male  정상\n11     62.636675     102.853563  Female  정상\n12     62.077832     138.691680  Female  정상\n13     60.030434      97.687432  Female  정상\n14     59.098250     110.529686  Female  정상\n15     66.172652     136.777454  Female  정상\n16     67.067155     170.867906  Female  정상\n17     63.867992     128.475319  Female  정상\n18     69.034243     163.852461  Female  정상\n19     61.944246     113.649103  Female  정상\n21     70.000000     200.000000  Female  정상",
      "text/html": "<div>\n<style scoped>\n    .dataframe tbody tr th:only-of-type {\n        vertical-align: middle;\n    }\n\n    .dataframe tbody tr th {\n        vertical-align: top;\n    }\n\n    .dataframe thead th {\n        text-align: right;\n    }\n</style>\n<table border=\"1\" class=\"dataframe\">\n  <thead>\n    <tr style=\"text-align: right;\">\n      <th></th>\n      <th>Height(Inch)</th>\n      <th>Weight(Pound)</th>\n      <th>Gender</th>\n      <th>비만도</th>\n    </tr>\n    <tr>\n      <th>ID</th>\n      <th></th>\n      <th></th>\n      <th></th>\n      <th></th>\n    </tr>\n  </thead>\n  <tbody>\n    <tr>\n      <th>0</th>\n      <td>73.847017</td>\n      <td>241.893563</td>\n      <td>Male</td>\n      <td>정상</td>\n    </tr>\n    <tr>\n      <th>1</th>\n      <td>70.000000</td>\n      <td>200.000000</td>\n      <td>Male</td>\n      <td>정상</td>\n    </tr>\n    <tr>\n      <th>2</th>\n      <td>74.110105</td>\n      <td>212.740856</td>\n      <td>Male</td>\n      <td>정상</td>\n    </tr>\n    <tr>\n      <th>3</th>\n      <td>71.730978</td>\n      <td>220.042470</td>\n      <td>Male</td>\n      <td>정상</td>\n    </tr>\n    <tr>\n      <th>4</th>\n      <td>69.881796</td>\n      <td>206.349801</td>\n      <td>Male</td>\n      <td>정상</td>\n    </tr>\n    <tr>\n      <th>5</th>\n      <td>67.253016</td>\n      <td>152.212156</td>\n      <td>Male</td>\n      <td>정상</td>\n    </tr>\n    <tr>\n      <th>6</th>\n      <td>68.785081</td>\n      <td>183.927889</td>\n      <td>Male</td>\n      <td>정상</td>\n    </tr>\n    <tr>\n      <th>7</th>\n      <td>68.348516</td>\n      <td>167.971110</td>\n      <td>Male</td>\n      <td>정상</td>\n    </tr>\n    <tr>\n      <th>8</th>\n      <td>67.018950</td>\n      <td>175.929440</td>\n      <td>Male</td>\n      <td>정상</td>\n    </tr>\n    <tr>\n      <th>9</th>\n      <td>63.456494</td>\n      <td>156.399676</td>\n      <td>Male</td>\n      <td>정상</td>\n    </tr>\n    <tr>\n      <th>10</th>\n      <td>71.195382</td>\n      <td>186.604926</td>\n      <td>Male</td>\n      <td>정상</td>\n    </tr>\n    <tr>\n      <th>11</th>\n      <td>62.636675</td>\n      <td>102.853563</td>\n      <td>Female</td>\n      <td>정상</td>\n    </tr>\n    <tr>\n      <th>12</th>\n      <td>62.077832</td>\n      <td>138.691680</td>\n      <td>Female</td>\n      <td>정상</td>\n    </tr>\n    <tr>\n      <th>13</th>\n      <td>60.030434</td>\n      <td>97.687432</td>\n      <td>Female</td>\n      <td>정상</td>\n    </tr>\n    <tr>\n      <th>14</th>\n      <td>59.098250</td>\n      <td>110.529686</td>\n      <td>Female</td>\n      <td>정상</td>\n    </tr>\n    <tr>\n      <th>15</th>\n      <td>66.172652</td>\n      <td>136.777454</td>\n      <td>Female</td>\n      <td>정상</td>\n    </tr>\n    <tr>\n      <th>16</th>\n      <td>67.067155</td>\n      <td>170.867906</td>\n      <td>Female</td>\n      <td>정상</td>\n    </tr>\n    <tr>\n      <th>17</th>\n      <td>63.867992</td>\n      <td>128.475319</td>\n      <td>Female</td>\n      <td>정상</td>\n    </tr>\n    <tr>\n      <th>18</th>\n      <td>69.034243</td>\n      <td>163.852461</td>\n      <td>Female</td>\n      <td>정상</td>\n    </tr>\n    <tr>\n      <th>19</th>\n      <td>61.944246</td>\n      <td>113.649103</td>\n      <td>Female</td>\n      <td>정상</td>\n    </tr>\n    <tr>\n      <th>21</th>\n      <td>70.000000</td>\n      <td>200.000000</td>\n      <td>Female</td>\n      <td>정상</td>\n    </tr>\n  </tbody>\n</table>\n</div>"
     },
     "metadata": {},
     "execution_count": 35
    }
   ],
   "source": [
    "'''\n",
    "다른 사람 풀이 방법 : \n",
    "출처: https://www.codeit.kr/learn/courses/data-science/1021\n",
    "\n",
    "'''\n",
    "df['비만도'] = '정상'\n",
    "df.loc[df.index <= 10, 'Gender']='Male'\n",
    "df.loc[df.index > 10, 'Gender']='Female'\n",
    "df"
   ]
  },
  {
   "cell_type": "code",
   "execution_count": 37,
   "metadata": {},
   "outputs": [
    {
     "output_type": "execute_result",
     "data": {
      "text/plain": "    Gender  Height(Inch)  Weight(Pound) 비만도\nID                                         \n0     Male     73.847017     241.893563  정상\n1     Male     70.000000     200.000000  정상\n2     Male     74.110105     212.740856  정상\n3     Male     71.730978     220.042470  정상\n4     Male     69.881796     206.349801  정상\n5     Male     67.253016     152.212156  정상\n6     Male     68.785081     183.927889  정상\n7     Male     68.348516     167.971110  정상\n8     Male     67.018950     175.929440  정상\n9     Male     63.456494     156.399676  정상\n10    Male     71.195382     186.604926  정상\n11  Female     62.636675     102.853563  정상\n12  Female     62.077832     138.691680  정상\n13  Female     60.030434      97.687432  정상\n14  Female     59.098250     110.529686  정상\n15  Female     66.172652     136.777454  정상\n16  Female     67.067155     170.867906  정상\n17  Female     63.867992     128.475319  정상\n18  Female     69.034243     163.852461  정상\n19  Female     61.944246     113.649103  정상\n21  Female     70.000000     200.000000  정상",
      "text/html": "<div>\n<style scoped>\n    .dataframe tbody tr th:only-of-type {\n        vertical-align: middle;\n    }\n\n    .dataframe tbody tr th {\n        vertical-align: top;\n    }\n\n    .dataframe thead th {\n        text-align: right;\n    }\n</style>\n<table border=\"1\" class=\"dataframe\">\n  <thead>\n    <tr style=\"text-align: right;\">\n      <th></th>\n      <th>Gender</th>\n      <th>Height(Inch)</th>\n      <th>Weight(Pound)</th>\n      <th>비만도</th>\n    </tr>\n    <tr>\n      <th>ID</th>\n      <th></th>\n      <th></th>\n      <th></th>\n      <th></th>\n    </tr>\n  </thead>\n  <tbody>\n    <tr>\n      <th>0</th>\n      <td>Male</td>\n      <td>73.847017</td>\n      <td>241.893563</td>\n      <td>정상</td>\n    </tr>\n    <tr>\n      <th>1</th>\n      <td>Male</td>\n      <td>70.000000</td>\n      <td>200.000000</td>\n      <td>정상</td>\n    </tr>\n    <tr>\n      <th>2</th>\n      <td>Male</td>\n      <td>74.110105</td>\n      <td>212.740856</td>\n      <td>정상</td>\n    </tr>\n    <tr>\n      <th>3</th>\n      <td>Male</td>\n      <td>71.730978</td>\n      <td>220.042470</td>\n      <td>정상</td>\n    </tr>\n    <tr>\n      <th>4</th>\n      <td>Male</td>\n      <td>69.881796</td>\n      <td>206.349801</td>\n      <td>정상</td>\n    </tr>\n    <tr>\n      <th>5</th>\n      <td>Male</td>\n      <td>67.253016</td>\n      <td>152.212156</td>\n      <td>정상</td>\n    </tr>\n    <tr>\n      <th>6</th>\n      <td>Male</td>\n      <td>68.785081</td>\n      <td>183.927889</td>\n      <td>정상</td>\n    </tr>\n    <tr>\n      <th>7</th>\n      <td>Male</td>\n      <td>68.348516</td>\n      <td>167.971110</td>\n      <td>정상</td>\n    </tr>\n    <tr>\n      <th>8</th>\n      <td>Male</td>\n      <td>67.018950</td>\n      <td>175.929440</td>\n      <td>정상</td>\n    </tr>\n    <tr>\n      <th>9</th>\n      <td>Male</td>\n      <td>63.456494</td>\n      <td>156.399676</td>\n      <td>정상</td>\n    </tr>\n    <tr>\n      <th>10</th>\n      <td>Male</td>\n      <td>71.195382</td>\n      <td>186.604926</td>\n      <td>정상</td>\n    </tr>\n    <tr>\n      <th>11</th>\n      <td>Female</td>\n      <td>62.636675</td>\n      <td>102.853563</td>\n      <td>정상</td>\n    </tr>\n    <tr>\n      <th>12</th>\n      <td>Female</td>\n      <td>62.077832</td>\n      <td>138.691680</td>\n      <td>정상</td>\n    </tr>\n    <tr>\n      <th>13</th>\n      <td>Female</td>\n      <td>60.030434</td>\n      <td>97.687432</td>\n      <td>정상</td>\n    </tr>\n    <tr>\n      <th>14</th>\n      <td>Female</td>\n      <td>59.098250</td>\n      <td>110.529686</td>\n      <td>정상</td>\n    </tr>\n    <tr>\n      <th>15</th>\n      <td>Female</td>\n      <td>66.172652</td>\n      <td>136.777454</td>\n      <td>정상</td>\n    </tr>\n    <tr>\n      <th>16</th>\n      <td>Female</td>\n      <td>67.067155</td>\n      <td>170.867906</td>\n      <td>정상</td>\n    </tr>\n    <tr>\n      <th>17</th>\n      <td>Female</td>\n      <td>63.867992</td>\n      <td>128.475319</td>\n      <td>정상</td>\n    </tr>\n    <tr>\n      <th>18</th>\n      <td>Female</td>\n      <td>69.034243</td>\n      <td>163.852461</td>\n      <td>정상</td>\n    </tr>\n    <tr>\n      <th>19</th>\n      <td>Female</td>\n      <td>61.944246</td>\n      <td>113.649103</td>\n      <td>정상</td>\n    </tr>\n    <tr>\n      <th>21</th>\n      <td>Female</td>\n      <td>70.000000</td>\n      <td>200.000000</td>\n      <td>정상</td>\n    </tr>\n  </tbody>\n</table>\n</div>"
     },
     "metadata": {},
     "execution_count": 37
    }
   ],
   "source": [
    "df = df.loc[:, ['Gender','Height(Inch)','Weight(Pound)','비만도']]\n",
    "df"
   ]
  },
  {
   "cell_type": "code",
   "execution_count": null,
   "metadata": {},
   "outputs": [],
   "source": []
  }
 ],
 "metadata": {
  "language_info": {
   "codemirror_mode": {
    "name": "ipython",
    "version": 3
   },
   "file_extension": ".py",
   "mimetype": "text/x-python",
   "name": "python",
   "nbconvert_exporter": "python",
   "pygments_lexer": "ipython3",
   "version": "3.8.2-final"
  },
  "orig_nbformat": 2,
  "kernelspec": {
   "name": "python38264bitmymythonenvconda1f36fd18157f4376a30b6173fcd0cb3f",
   "display_name": "Python 3.8.2 64-bit ('my_mython_env': conda)"
  }
 },
 "nbformat": 4,
 "nbformat_minor": 2
}