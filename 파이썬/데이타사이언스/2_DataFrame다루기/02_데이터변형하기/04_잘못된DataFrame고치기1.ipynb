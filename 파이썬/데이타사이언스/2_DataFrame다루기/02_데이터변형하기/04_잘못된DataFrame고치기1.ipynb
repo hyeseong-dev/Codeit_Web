{
 "cells": [
  {
   "cell_type": "code",
   "execution_count": 143,
   "metadata": {},
   "outputs": [
    {
     "output_type": "execute_result",
     "data": {
      "text/plain": "    Height(Inch)   Weight(Pound)\nID                              \n0      73.847017      241.893563\n1      70.000000             NaN\n2      74.110105      212.740856\n3      71.730978      220.042470\n4      69.881796      206.349801\n5      67.253016      152.212156\n6      68.785081      183.927889\n7      68.348516      167.971110\n8      67.018950      175.929440\n9      63.456494      156.399676\n10     71.195382      186.604926\n11     62.636675      102.853563\n12     62.077832      138.691680\n13     60.030434       97.687432\n14     59.098250      110.529686\n15     66.172652      136.777454\n16     67.067155      170.867906\n17     63.867992      128.475319\n18     69.034243      163.852461\n19     61.944246      113.649103\n21      0.000000        0.000000",
      "text/html": "<div>\n<style scoped>\n    .dataframe tbody tr th:only-of-type {\n        vertical-align: middle;\n    }\n\n    .dataframe tbody tr th {\n        vertical-align: top;\n    }\n\n    .dataframe thead th {\n        text-align: right;\n    }\n</style>\n<table border=\"1\" class=\"dataframe\">\n  <thead>\n    <tr style=\"text-align: right;\">\n      <th></th>\n      <th>Height(Inch)</th>\n      <th>Weight(Pound)</th>\n    </tr>\n    <tr>\n      <th>ID</th>\n      <th></th>\n      <th></th>\n    </tr>\n  </thead>\n  <tbody>\n    <tr>\n      <th>0</th>\n      <td>73.847017</td>\n      <td>241.893563</td>\n    </tr>\n    <tr>\n      <th>1</th>\n      <td>70.000000</td>\n      <td>NaN</td>\n    </tr>\n    <tr>\n      <th>2</th>\n      <td>74.110105</td>\n      <td>212.740856</td>\n    </tr>\n    <tr>\n      <th>3</th>\n      <td>71.730978</td>\n      <td>220.042470</td>\n    </tr>\n    <tr>\n      <th>4</th>\n      <td>69.881796</td>\n      <td>206.349801</td>\n    </tr>\n    <tr>\n      <th>5</th>\n      <td>67.253016</td>\n      <td>152.212156</td>\n    </tr>\n    <tr>\n      <th>6</th>\n      <td>68.785081</td>\n      <td>183.927889</td>\n    </tr>\n    <tr>\n      <th>7</th>\n      <td>68.348516</td>\n      <td>167.971110</td>\n    </tr>\n    <tr>\n      <th>8</th>\n      <td>67.018950</td>\n      <td>175.929440</td>\n    </tr>\n    <tr>\n      <th>9</th>\n      <td>63.456494</td>\n      <td>156.399676</td>\n    </tr>\n    <tr>\n      <th>10</th>\n      <td>71.195382</td>\n      <td>186.604926</td>\n    </tr>\n    <tr>\n      <th>11</th>\n      <td>62.636675</td>\n      <td>102.853563</td>\n    </tr>\n    <tr>\n      <th>12</th>\n      <td>62.077832</td>\n      <td>138.691680</td>\n    </tr>\n    <tr>\n      <th>13</th>\n      <td>60.030434</td>\n      <td>97.687432</td>\n    </tr>\n    <tr>\n      <th>14</th>\n      <td>59.098250</td>\n      <td>110.529686</td>\n    </tr>\n    <tr>\n      <th>15</th>\n      <td>66.172652</td>\n      <td>136.777454</td>\n    </tr>\n    <tr>\n      <th>16</th>\n      <td>67.067155</td>\n      <td>170.867906</td>\n    </tr>\n    <tr>\n      <th>17</th>\n      <td>63.867992</td>\n      <td>128.475319</td>\n    </tr>\n    <tr>\n      <th>18</th>\n      <td>69.034243</td>\n      <td>163.852461</td>\n    </tr>\n    <tr>\n      <th>19</th>\n      <td>61.944246</td>\n      <td>113.649103</td>\n    </tr>\n    <tr>\n      <th>21</th>\n      <td>0.000000</td>\n      <td>0.000000</td>\n    </tr>\n  </tbody>\n</table>\n</div>"
     },
     "metadata": {},
     "execution_count": 143
    }
   ],
   "source": [
    "import pandas as pd\n",
    "\n",
    "df = pd.read_csv('data/body_imperial1.csv', index_col=0, delimiter='\\t')\n",
    "\n",
    "# 코드를 작성하세요.\n",
    "'''\n",
    "\n",
    "ID 1의 무게를 200으로 변경하세요.\n",
    "ID 21의 row를 삭제하세요.\n",
    "ID 20의 row를 추가하세요. ID 20의 키는 70, 무게는 200입니다.\n",
    "\n",
    "'''\n",
    "# 정답 출력\n",
    "df"
   ]
  },
  {
   "cell_type": "code",
   "execution_count": 144,
   "metadata": {},
   "outputs": [
    {
     "output_type": "execute_result",
     "data": {
      "text/plain": "\"\\n(1) pd.to_numeric() 함수를 이용한 문자열 칼럼의 숫자형 변환\\n예제. df = pd.DataFrame({'col_str': ['1', '2', '3', '4', '5']})\\n      df\\n\\n(2) astype() 메소드를 이용한 문자열 칼럼의 숫자형 변환\\n    df5 = df4.astype(float)\\n    df5\\n\""
     },
     "metadata": {},
     "execution_count": 144
    }
   ],
   "source": [
    "df.dtypes\n",
    "# 컬럼의 데이터 타입을 모두 float으로 바꾸어 봅시다. \n",
    "'''\n",
    "(1) pd.to_numeric() 함수를 이용한 문자열 칼럼의 숫자형 변환\n",
    "예제. df = pd.DataFrame({'col_str': ['1', '2', '3', '4', '5']})\n",
    "      df\n",
    "\n",
    "(2) astype() 메소드를 이용한 문자열 칼럼의 숫자형 변환\n",
    "    df5 = df4.astype(float)\n",
    "    df5\n",
    "'''"
   ]
  },
  {
   "cell_type": "code",
   "execution_count": 145,
   "metadata": {},
   "outputs": [
    {
     "output_type": "execute_result",
     "data": {
      "text/plain": "Height(Inch)     float64\nWeight(Pound)    float64\ndtype: object"
     },
     "metadata": {},
     "execution_count": 145
    }
   ],
   "source": [
    "# astype() 메소드를 이용해서 전체 컬럼을 모두 한번에 형변환 한것.\n",
    "df = df.astype(float)\n",
    "df.dtypes"
   ]
  },
  {
   "cell_type": "code",
   "execution_count": 147,
   "metadata": {},
   "outputs": [
    {
     "output_type": "execute_result",
     "data": {
      "text/plain": "    Height(Inch)  Weight(Pound)\nID                             \n0      73.847017     241.893563\n1      70.000000            NaN\n2      74.110105     212.740856\n3      71.730978     220.042470\n4      69.881796     206.349801\n5      67.253016     152.212156\n6      68.785081     183.927889\n7      68.348516     167.971110\n8      67.018950     175.929440\n9      63.456494     156.399676\n10     71.195382     186.604926\n11     62.636675     102.853563\n12     62.077832     138.691680\n13     60.030434      97.687432\n14     59.098250     110.529686\n15     66.172652     136.777454\n16     67.067155     170.867906\n17     63.867992     128.475319\n18     69.034243     163.852461\n19     61.944246     113.649103\n21      0.000000       0.000000",
      "text/html": "<div>\n<style scoped>\n    .dataframe tbody tr th:only-of-type {\n        vertical-align: middle;\n    }\n\n    .dataframe tbody tr th {\n        vertical-align: top;\n    }\n\n    .dataframe thead th {\n        text-align: right;\n    }\n</style>\n<table border=\"1\" class=\"dataframe\">\n  <thead>\n    <tr style=\"text-align: right;\">\n      <th></th>\n      <th>Height(Inch)</th>\n      <th>Weight(Pound)</th>\n    </tr>\n    <tr>\n      <th>ID</th>\n      <th></th>\n      <th></th>\n    </tr>\n  </thead>\n  <tbody>\n    <tr>\n      <th>0</th>\n      <td>73.847017</td>\n      <td>241.893563</td>\n    </tr>\n    <tr>\n      <th>1</th>\n      <td>70.000000</td>\n      <td>NaN</td>\n    </tr>\n    <tr>\n      <th>2</th>\n      <td>74.110105</td>\n      <td>212.740856</td>\n    </tr>\n    <tr>\n      <th>3</th>\n      <td>71.730978</td>\n      <td>220.042470</td>\n    </tr>\n    <tr>\n      <th>4</th>\n      <td>69.881796</td>\n      <td>206.349801</td>\n    </tr>\n    <tr>\n      <th>5</th>\n      <td>67.253016</td>\n      <td>152.212156</td>\n    </tr>\n    <tr>\n      <th>6</th>\n      <td>68.785081</td>\n      <td>183.927889</td>\n    </tr>\n    <tr>\n      <th>7</th>\n      <td>68.348516</td>\n      <td>167.971110</td>\n    </tr>\n    <tr>\n      <th>8</th>\n      <td>67.018950</td>\n      <td>175.929440</td>\n    </tr>\n    <tr>\n      <th>9</th>\n      <td>63.456494</td>\n      <td>156.399676</td>\n    </tr>\n    <tr>\n      <th>10</th>\n      <td>71.195382</td>\n      <td>186.604926</td>\n    </tr>\n    <tr>\n      <th>11</th>\n      <td>62.636675</td>\n      <td>102.853563</td>\n    </tr>\n    <tr>\n      <th>12</th>\n      <td>62.077832</td>\n      <td>138.691680</td>\n    </tr>\n    <tr>\n      <th>13</th>\n      <td>60.030434</td>\n      <td>97.687432</td>\n    </tr>\n    <tr>\n      <th>14</th>\n      <td>59.098250</td>\n      <td>110.529686</td>\n    </tr>\n    <tr>\n      <th>15</th>\n      <td>66.172652</td>\n      <td>136.777454</td>\n    </tr>\n    <tr>\n      <th>16</th>\n      <td>67.067155</td>\n      <td>170.867906</td>\n    </tr>\n    <tr>\n      <th>17</th>\n      <td>63.867992</td>\n      <td>128.475319</td>\n    </tr>\n    <tr>\n      <th>18</th>\n      <td>69.034243</td>\n      <td>163.852461</td>\n    </tr>\n    <tr>\n      <th>19</th>\n      <td>61.944246</td>\n      <td>113.649103</td>\n    </tr>\n    <tr>\n      <th>21</th>\n      <td>0.000000</td>\n      <td>0.000000</td>\n    </tr>\n  </tbody>\n</table>\n</div>"
     },
     "metadata": {},
     "execution_count": 147
    }
   ],
   "source": [
    "df"
   ]
  },
  {
   "cell_type": "code",
   "execution_count": 148,
   "metadata": {},
   "outputs": [],
   "source": [
    "df.loc[1,['Weight(Pound)']] = 200\n"
   ]
  },
  {
   "cell_type": "code",
   "execution_count": 149,
   "metadata": {},
   "outputs": [],
   "source": [
    "''' 파라미터 axis = \"index\"를 표기해줘야. 칼럼인지 로우인지 구분할 수 있음.  '''\n",
    "df.drop([21], axis = 'index', inplace = True)"
   ]
  },
  {
   "cell_type": "code",
   "execution_count": 150,
   "metadata": {},
   "outputs": [
    {
     "output_type": "execute_result",
     "data": {
      "text/plain": "    Height(Inch)  Weight(Pound)\nID                             \n0      73.847017     241.893563\n1      70.000000     200.000000\n2      74.110105     212.740856\n3      71.730978     220.042470\n4      69.881796     206.349801\n5      67.253016     152.212156\n6      68.785081     183.927889\n7      68.348516     167.971110\n8      67.018950     175.929440\n9      63.456494     156.399676\n10     71.195382     186.604926\n11     62.636675     102.853563\n12     62.077832     138.691680\n13     60.030434      97.687432\n14     59.098250     110.529686\n15     66.172652     136.777454\n16     67.067155     170.867906\n17     63.867992     128.475319\n18     69.034243     163.852461\n19     61.944246     113.649103\n20     70.000000     200.000000",
      "text/html": "<div>\n<style scoped>\n    .dataframe tbody tr th:only-of-type {\n        vertical-align: middle;\n    }\n\n    .dataframe tbody tr th {\n        vertical-align: top;\n    }\n\n    .dataframe thead th {\n        text-align: right;\n    }\n</style>\n<table border=\"1\" class=\"dataframe\">\n  <thead>\n    <tr style=\"text-align: right;\">\n      <th></th>\n      <th>Height(Inch)</th>\n      <th>Weight(Pound)</th>\n    </tr>\n    <tr>\n      <th>ID</th>\n      <th></th>\n      <th></th>\n    </tr>\n  </thead>\n  <tbody>\n    <tr>\n      <th>0</th>\n      <td>73.847017</td>\n      <td>241.893563</td>\n    </tr>\n    <tr>\n      <th>1</th>\n      <td>70.000000</td>\n      <td>200.000000</td>\n    </tr>\n    <tr>\n      <th>2</th>\n      <td>74.110105</td>\n      <td>212.740856</td>\n    </tr>\n    <tr>\n      <th>3</th>\n      <td>71.730978</td>\n      <td>220.042470</td>\n    </tr>\n    <tr>\n      <th>4</th>\n      <td>69.881796</td>\n      <td>206.349801</td>\n    </tr>\n    <tr>\n      <th>5</th>\n      <td>67.253016</td>\n      <td>152.212156</td>\n    </tr>\n    <tr>\n      <th>6</th>\n      <td>68.785081</td>\n      <td>183.927889</td>\n    </tr>\n    <tr>\n      <th>7</th>\n      <td>68.348516</td>\n      <td>167.971110</td>\n    </tr>\n    <tr>\n      <th>8</th>\n      <td>67.018950</td>\n      <td>175.929440</td>\n    </tr>\n    <tr>\n      <th>9</th>\n      <td>63.456494</td>\n      <td>156.399676</td>\n    </tr>\n    <tr>\n      <th>10</th>\n      <td>71.195382</td>\n      <td>186.604926</td>\n    </tr>\n    <tr>\n      <th>11</th>\n      <td>62.636675</td>\n      <td>102.853563</td>\n    </tr>\n    <tr>\n      <th>12</th>\n      <td>62.077832</td>\n      <td>138.691680</td>\n    </tr>\n    <tr>\n      <th>13</th>\n      <td>60.030434</td>\n      <td>97.687432</td>\n    </tr>\n    <tr>\n      <th>14</th>\n      <td>59.098250</td>\n      <td>110.529686</td>\n    </tr>\n    <tr>\n      <th>15</th>\n      <td>66.172652</td>\n      <td>136.777454</td>\n    </tr>\n    <tr>\n      <th>16</th>\n      <td>67.067155</td>\n      <td>170.867906</td>\n    </tr>\n    <tr>\n      <th>17</th>\n      <td>63.867992</td>\n      <td>128.475319</td>\n    </tr>\n    <tr>\n      <th>18</th>\n      <td>69.034243</td>\n      <td>163.852461</td>\n    </tr>\n    <tr>\n      <th>19</th>\n      <td>61.944246</td>\n      <td>113.649103</td>\n    </tr>\n    <tr>\n      <th>20</th>\n      <td>70.000000</td>\n      <td>200.000000</td>\n    </tr>\n  </tbody>\n</table>\n</div>"
     },
     "metadata": {},
     "execution_count": 150
    }
   ],
   "source": [
    "# 새로운 row를 넣어 봅시다.\n",
    "df.loc[20] = [70,200]\n",
    "df"
   ]
  },
  {
   "cell_type": "code",
   "execution_count": null,
   "metadata": {},
   "outputs": [],
   "source": [
    "# id 1의 무게를 200으로 고치기 \n",
    "df.loc[1, ['Weight(Pound)']] = 200\n",
    "df"
   ]
  },
  {
   "cell_type": "code",
   "execution_count": null,
   "metadata": {},
   "outputs": [],
   "source": [
    "# id 21의 로우를 삭제하세요.\n",
    "df.drop([21], axis='index',inplace=True)\n",
    "df"
   ]
  },
  {
   "cell_type": "code",
   "execution_count": null,
   "metadata": {},
   "outputs": [],
   "source": []
  },
  {
   "cell_type": "code",
   "execution_count": null,
   "metadata": {},
   "outputs": [],
   "source": [
    "# ID 20의 row를 추가하세요. ID 20의 키는 70, 무게는 200입니다.\n",
    "df.iloc[20] = [70,200]\n",
    "df"
   ]
  },
  {
   "cell_type": "code",
   "execution_count": 142,
   "metadata": {},
   "outputs": [
    {
     "output_type": "error",
     "ename": "KeyError",
     "evalue": "\"None of [Index(['Weight(Pound)'], dtype='object')] are in the [columns]\"",
     "traceback": [
      "\u001b[1;31m---------------------------------------------------------------------------\u001b[0m",
      "\u001b[1;31mKeyError\u001b[0m                                  Traceback (most recent call last)",
      "\u001b[1;32m<ipython-input-142-988f145673b8>\u001b[0m in \u001b[0;36m<module>\u001b[1;34m\u001b[0m\n\u001b[0;32m      5\u001b[0m \u001b[1;31m# 코드를 작성하세요.\u001b[0m\u001b[1;33m\u001b[0m\u001b[1;33m\u001b[0m\u001b[1;33m\u001b[0m\u001b[0m\n\u001b[0;32m      6\u001b[0m \u001b[0mdf\u001b[0m \u001b[1;33m=\u001b[0m \u001b[0mdf\u001b[0m\u001b[1;33m.\u001b[0m\u001b[0mastype\u001b[0m\u001b[1;33m(\u001b[0m\u001b[0mfloat\u001b[0m\u001b[1;33m)\u001b[0m\u001b[1;33m\u001b[0m\u001b[1;33m\u001b[0m\u001b[0m\n\u001b[1;32m----> 7\u001b[1;33m \u001b[0mdf\u001b[0m\u001b[1;33m.\u001b[0m\u001b[0mloc\u001b[0m\u001b[1;33m[\u001b[0m\u001b[1;36m1\u001b[0m\u001b[1;33m,\u001b[0m\u001b[1;33m[\u001b[0m\u001b[1;34m'Weight(Pound)'\u001b[0m\u001b[1;33m]\u001b[0m\u001b[1;33m]\u001b[0m \u001b[1;33m=\u001b[0m \u001b[1;36m200\u001b[0m\u001b[1;33m\u001b[0m\u001b[1;33m\u001b[0m\u001b[0m\n\u001b[0m\u001b[0;32m      8\u001b[0m \u001b[0mdf\u001b[0m\u001b[1;33m.\u001b[0m\u001b[0mdrop\u001b[0m\u001b[1;33m(\u001b[0m\u001b[1;33m[\u001b[0m\u001b[1;36m21\u001b[0m\u001b[1;33m]\u001b[0m\u001b[1;33m,\u001b[0m \u001b[0maxis\u001b[0m \u001b[1;33m=\u001b[0m \u001b[1;34m'index'\u001b[0m\u001b[1;33m,\u001b[0m \u001b[0minplace\u001b[0m \u001b[1;33m=\u001b[0m \u001b[1;32mTrue\u001b[0m\u001b[1;33m)\u001b[0m\u001b[1;33m\u001b[0m\u001b[1;33m\u001b[0m\u001b[0m\n\u001b[0;32m      9\u001b[0m \u001b[0mdf\u001b[0m\u001b[1;33m.\u001b[0m\u001b[0mloc\u001b[0m\u001b[1;33m[\u001b[0m\u001b[1;36m20\u001b[0m\u001b[1;33m]\u001b[0m \u001b[1;33m=\u001b[0m \u001b[1;33m[\u001b[0m\u001b[1;36m70\u001b[0m\u001b[1;33m,\u001b[0m\u001b[1;36m200\u001b[0m\u001b[1;33m]\u001b[0m\u001b[1;33m\u001b[0m\u001b[1;33m\u001b[0m\u001b[0m\n",
      "\u001b[1;32m~\\Anaconda3\\envs\\my_mython_env\\lib\\site-packages\\pandas\\core\\indexing.py\u001b[0m in \u001b[0;36m__setitem__\u001b[1;34m(self, key, value)\u001b[0m\n\u001b[0;32m    668\u001b[0m         \u001b[1;32melse\u001b[0m\u001b[1;33m:\u001b[0m\u001b[1;33m\u001b[0m\u001b[1;33m\u001b[0m\u001b[0m\n\u001b[0;32m    669\u001b[0m             \u001b[0mkey\u001b[0m \u001b[1;33m=\u001b[0m \u001b[0mcom\u001b[0m\u001b[1;33m.\u001b[0m\u001b[0mapply_if_callable\u001b[0m\u001b[1;33m(\u001b[0m\u001b[0mkey\u001b[0m\u001b[1;33m,\u001b[0m \u001b[0mself\u001b[0m\u001b[1;33m.\u001b[0m\u001b[0mobj\u001b[0m\u001b[1;33m)\u001b[0m\u001b[1;33m\u001b[0m\u001b[1;33m\u001b[0m\u001b[0m\n\u001b[1;32m--> 670\u001b[1;33m         \u001b[0mindexer\u001b[0m \u001b[1;33m=\u001b[0m \u001b[0mself\u001b[0m\u001b[1;33m.\u001b[0m\u001b[0m_get_setitem_indexer\u001b[0m\u001b[1;33m(\u001b[0m\u001b[0mkey\u001b[0m\u001b[1;33m)\u001b[0m\u001b[1;33m\u001b[0m\u001b[1;33m\u001b[0m\u001b[0m\n\u001b[0m\u001b[0;32m    671\u001b[0m         \u001b[0mself\u001b[0m\u001b[1;33m.\u001b[0m\u001b[0m_setitem_with_indexer\u001b[0m\u001b[1;33m(\u001b[0m\u001b[0mindexer\u001b[0m\u001b[1;33m,\u001b[0m \u001b[0mvalue\u001b[0m\u001b[1;33m)\u001b[0m\u001b[1;33m\u001b[0m\u001b[1;33m\u001b[0m\u001b[0m\n\u001b[0;32m    672\u001b[0m \u001b[1;33m\u001b[0m\u001b[0m\n",
      "\u001b[1;32m~\\Anaconda3\\envs\\my_mython_env\\lib\\site-packages\\pandas\\core\\indexing.py\u001b[0m in \u001b[0;36m_get_setitem_indexer\u001b[1;34m(self, key)\u001b[0m\n\u001b[0;32m    646\u001b[0m         \u001b[1;32mif\u001b[0m \u001b[0misinstance\u001b[0m\u001b[1;33m(\u001b[0m\u001b[0mkey\u001b[0m\u001b[1;33m,\u001b[0m \u001b[0mtuple\u001b[0m\u001b[1;33m)\u001b[0m\u001b[1;33m:\u001b[0m\u001b[1;33m\u001b[0m\u001b[1;33m\u001b[0m\u001b[0m\n\u001b[0;32m    647\u001b[0m             \u001b[1;32mtry\u001b[0m\u001b[1;33m:\u001b[0m\u001b[1;33m\u001b[0m\u001b[1;33m\u001b[0m\u001b[0m\n\u001b[1;32m--> 648\u001b[1;33m                 \u001b[1;32mreturn\u001b[0m \u001b[0mself\u001b[0m\u001b[1;33m.\u001b[0m\u001b[0m_convert_tuple\u001b[0m\u001b[1;33m(\u001b[0m\u001b[0mkey\u001b[0m\u001b[1;33m)\u001b[0m\u001b[1;33m\u001b[0m\u001b[1;33m\u001b[0m\u001b[0m\n\u001b[0m\u001b[0;32m    649\u001b[0m             \u001b[1;32mexcept\u001b[0m \u001b[0mIndexingError\u001b[0m\u001b[1;33m:\u001b[0m\u001b[1;33m\u001b[0m\u001b[1;33m\u001b[0m\u001b[0m\n\u001b[0;32m    650\u001b[0m                 \u001b[1;32mpass\u001b[0m\u001b[1;33m\u001b[0m\u001b[1;33m\u001b[0m\u001b[0m\n",
      "\u001b[1;32m~\\Anaconda3\\envs\\my_mython_env\\lib\\site-packages\\pandas\\core\\indexing.py\u001b[0m in \u001b[0;36m_convert_tuple\u001b[1;34m(self, key)\u001b[0m\n\u001b[0;32m    731\u001b[0m                 \u001b[1;32mif\u001b[0m \u001b[0mi\u001b[0m \u001b[1;33m>=\u001b[0m \u001b[0mself\u001b[0m\u001b[1;33m.\u001b[0m\u001b[0mndim\u001b[0m\u001b[1;33m:\u001b[0m\u001b[1;33m\u001b[0m\u001b[1;33m\u001b[0m\u001b[0m\n\u001b[0;32m    732\u001b[0m                     \u001b[1;32mraise\u001b[0m \u001b[0mIndexingError\u001b[0m\u001b[1;33m(\u001b[0m\u001b[1;34m\"Too many indexers\"\u001b[0m\u001b[1;33m)\u001b[0m\u001b[1;33m\u001b[0m\u001b[1;33m\u001b[0m\u001b[0m\n\u001b[1;32m--> 733\u001b[1;33m                 \u001b[0midx\u001b[0m \u001b[1;33m=\u001b[0m \u001b[0mself\u001b[0m\u001b[1;33m.\u001b[0m\u001b[0m_convert_to_indexer\u001b[0m\u001b[1;33m(\u001b[0m\u001b[0mk\u001b[0m\u001b[1;33m,\u001b[0m \u001b[0maxis\u001b[0m\u001b[1;33m=\u001b[0m\u001b[0mi\u001b[0m\u001b[1;33m)\u001b[0m\u001b[1;33m\u001b[0m\u001b[1;33m\u001b[0m\u001b[0m\n\u001b[0m\u001b[0;32m    734\u001b[0m                 \u001b[0mkeyidx\u001b[0m\u001b[1;33m.\u001b[0m\u001b[0mappend\u001b[0m\u001b[1;33m(\u001b[0m\u001b[0midx\u001b[0m\u001b[1;33m)\u001b[0m\u001b[1;33m\u001b[0m\u001b[1;33m\u001b[0m\u001b[0m\n\u001b[0;32m    735\u001b[0m         \u001b[1;32mreturn\u001b[0m \u001b[0mtuple\u001b[0m\u001b[1;33m(\u001b[0m\u001b[0mkeyidx\u001b[0m\u001b[1;33m)\u001b[0m\u001b[1;33m\u001b[0m\u001b[1;33m\u001b[0m\u001b[0m\n",
      "\u001b[1;32m~\\Anaconda3\\envs\\my_mython_env\\lib\\site-packages\\pandas\\core\\indexing.py\u001b[0m in \u001b[0;36m_convert_to_indexer\u001b[1;34m(self, obj, axis, raise_missing)\u001b[0m\n\u001b[0;32m   1730\u001b[0m             \u001b[1;32melse\u001b[0m\u001b[1;33m:\u001b[0m\u001b[1;33m\u001b[0m\u001b[1;33m\u001b[0m\u001b[0m\n\u001b[0;32m   1731\u001b[0m                 \u001b[1;31m# When setting, missing keys are not allowed, even with .loc:\u001b[0m\u001b[1;33m\u001b[0m\u001b[1;33m\u001b[0m\u001b[1;33m\u001b[0m\u001b[0m\n\u001b[1;32m-> 1732\u001b[1;33m                 \u001b[1;32mreturn\u001b[0m \u001b[0mself\u001b[0m\u001b[1;33m.\u001b[0m\u001b[0m_get_listlike_indexer\u001b[0m\u001b[1;33m(\u001b[0m\u001b[0mobj\u001b[0m\u001b[1;33m,\u001b[0m \u001b[0maxis\u001b[0m\u001b[1;33m,\u001b[0m \u001b[0mraise_missing\u001b[0m\u001b[1;33m=\u001b[0m\u001b[1;32mTrue\u001b[0m\u001b[1;33m)\u001b[0m\u001b[1;33m[\u001b[0m\u001b[1;36m1\u001b[0m\u001b[1;33m]\u001b[0m\u001b[1;33m\u001b[0m\u001b[1;33m\u001b[0m\u001b[0m\n\u001b[0m\u001b[0;32m   1733\u001b[0m         \u001b[1;32melse\u001b[0m\u001b[1;33m:\u001b[0m\u001b[1;33m\u001b[0m\u001b[1;33m\u001b[0m\u001b[0m\n\u001b[0;32m   1734\u001b[0m             \u001b[1;32mtry\u001b[0m\u001b[1;33m:\u001b[0m\u001b[1;33m\u001b[0m\u001b[1;33m\u001b[0m\u001b[0m\n",
      "\u001b[1;32m~\\Anaconda3\\envs\\my_mython_env\\lib\\site-packages\\pandas\\core\\indexing.py\u001b[0m in \u001b[0;36m_get_listlike_indexer\u001b[1;34m(self, key, axis, raise_missing)\u001b[0m\n\u001b[0;32m   1550\u001b[0m             \u001b[0mkeyarr\u001b[0m\u001b[1;33m,\u001b[0m \u001b[0mindexer\u001b[0m\u001b[1;33m,\u001b[0m \u001b[0mnew_indexer\u001b[0m \u001b[1;33m=\u001b[0m \u001b[0max\u001b[0m\u001b[1;33m.\u001b[0m\u001b[0m_reindex_non_unique\u001b[0m\u001b[1;33m(\u001b[0m\u001b[0mkeyarr\u001b[0m\u001b[1;33m)\u001b[0m\u001b[1;33m\u001b[0m\u001b[1;33m\u001b[0m\u001b[0m\n\u001b[0;32m   1551\u001b[0m \u001b[1;33m\u001b[0m\u001b[0m\n\u001b[1;32m-> 1552\u001b[1;33m         self._validate_read_indexer(\n\u001b[0m\u001b[0;32m   1553\u001b[0m             \u001b[0mkeyarr\u001b[0m\u001b[1;33m,\u001b[0m \u001b[0mindexer\u001b[0m\u001b[1;33m,\u001b[0m \u001b[0mo\u001b[0m\u001b[1;33m.\u001b[0m\u001b[0m_get_axis_number\u001b[0m\u001b[1;33m(\u001b[0m\u001b[0maxis\u001b[0m\u001b[1;33m)\u001b[0m\u001b[1;33m,\u001b[0m \u001b[0mraise_missing\u001b[0m\u001b[1;33m=\u001b[0m\u001b[0mraise_missing\u001b[0m\u001b[1;33m\u001b[0m\u001b[1;33m\u001b[0m\u001b[0m\n\u001b[0;32m   1554\u001b[0m         )\n",
      "\u001b[1;32m~\\Anaconda3\\envs\\my_mython_env\\lib\\site-packages\\pandas\\core\\indexing.py\u001b[0m in \u001b[0;36m_validate_read_indexer\u001b[1;34m(self, key, indexer, axis, raise_missing)\u001b[0m\n\u001b[0;32m   1638\u001b[0m             \u001b[1;32mif\u001b[0m \u001b[0mmissing\u001b[0m \u001b[1;33m==\u001b[0m \u001b[0mlen\u001b[0m\u001b[1;33m(\u001b[0m\u001b[0mindexer\u001b[0m\u001b[1;33m)\u001b[0m\u001b[1;33m:\u001b[0m\u001b[1;33m\u001b[0m\u001b[1;33m\u001b[0m\u001b[0m\n\u001b[0;32m   1639\u001b[0m                 \u001b[0maxis_name\u001b[0m \u001b[1;33m=\u001b[0m \u001b[0mself\u001b[0m\u001b[1;33m.\u001b[0m\u001b[0mobj\u001b[0m\u001b[1;33m.\u001b[0m\u001b[0m_get_axis_name\u001b[0m\u001b[1;33m(\u001b[0m\u001b[0maxis\u001b[0m\u001b[1;33m)\u001b[0m\u001b[1;33m\u001b[0m\u001b[1;33m\u001b[0m\u001b[0m\n\u001b[1;32m-> 1640\u001b[1;33m                 \u001b[1;32mraise\u001b[0m \u001b[0mKeyError\u001b[0m\u001b[1;33m(\u001b[0m\u001b[1;34mf\"None of [{key}] are in the [{axis_name}]\"\u001b[0m\u001b[1;33m)\u001b[0m\u001b[1;33m\u001b[0m\u001b[1;33m\u001b[0m\u001b[0m\n\u001b[0m\u001b[0;32m   1641\u001b[0m \u001b[1;33m\u001b[0m\u001b[0m\n\u001b[0;32m   1642\u001b[0m             \u001b[1;31m# We (temporarily) allow for some missing keys with .loc, except in\u001b[0m\u001b[1;33m\u001b[0m\u001b[1;33m\u001b[0m\u001b[1;33m\u001b[0m\u001b[0m\n",
      "\u001b[1;31mKeyError\u001b[0m: \"None of [Index(['Weight(Pound)'], dtype='object')] are in the [columns]\""
     ]
    }
   ],
   "source": [
    "import pandas as pd\n",
    "\n",
    "df = pd.read_csv('data/body_imperial1.csv', index_col=0)\n",
    "\n",
    "# 코드를 작성하세요.\n",
    "df = df.astype(float)\n",
    "df.loc[1,['Weight(Pound)']] = 200\n",
    "df.drop([21], axis = 'index', inplace = True)\n",
    "df.loc[20] = [70,200]\n",
    "\n",
    "\n",
    "# 정답 출력\n",
    "df"
   ]
  },
  {
   "cell_type": "code",
   "execution_count": null,
   "metadata": {},
   "outputs": [],
   "source": []
  }
 ],
 "metadata": {
  "language_info": {
   "codemirror_mode": {
    "name": "ipython",
    "version": 3
   },
   "file_extension": ".py",
   "mimetype": "text/x-python",
   "name": "python",
   "nbconvert_exporter": "python",
   "pygments_lexer": "ipython3",
   "version": "3.8.2-final"
  },
  "orig_nbformat": 2,
  "kernelspec": {
   "name": "python38264bitmymythonenvconda1f36fd18157f4376a30b6173fcd0cb3f",
   "display_name": "Python 3.8.2 64-bit ('my_mython_env': conda)"
  }
 },
 "nbformat": 4,
 "nbformat_minor": 2
}