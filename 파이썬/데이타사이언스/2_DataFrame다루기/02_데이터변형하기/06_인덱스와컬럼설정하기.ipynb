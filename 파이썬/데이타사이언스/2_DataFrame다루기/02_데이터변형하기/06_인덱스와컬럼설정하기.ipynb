{
 "cells": [
  {
   "cell_type": "code",
   "execution_count": 2,
   "metadata": {},
   "outputs": [
    {
     "output_type": "execute_result",
     "data": {
      "text/plain": "                position  born  number nationality\nRoberto Firmino       FW  1991   no. 9      Brazil\nSadio Mane            FW  1992  no. 10     Senegal\nMohamed Salah         FW  1992  no. 11       Egypt\nJoe Gomez             DF  1997  no. 12     England\nAlisson Becker        GK  1992  no. 13      Brazil",
      "text/html": "<div>\n<style scoped>\n    .dataframe tbody tr th:only-of-type {\n        vertical-align: middle;\n    }\n\n    .dataframe tbody tr th {\n        vertical-align: top;\n    }\n\n    .dataframe thead th {\n        text-align: right;\n    }\n</style>\n<table border=\"1\" class=\"dataframe\">\n  <thead>\n    <tr style=\"text-align: right;\">\n      <th></th>\n      <th>position</th>\n      <th>born</th>\n      <th>number</th>\n      <th>nationality</th>\n    </tr>\n  </thead>\n  <tbody>\n    <tr>\n      <th>Roberto Firmino</th>\n      <td>FW</td>\n      <td>1991</td>\n      <td>no. 9</td>\n      <td>Brazil</td>\n    </tr>\n    <tr>\n      <th>Sadio Mane</th>\n      <td>FW</td>\n      <td>1992</td>\n      <td>no. 10</td>\n      <td>Senegal</td>\n    </tr>\n    <tr>\n      <th>Mohamed Salah</th>\n      <td>FW</td>\n      <td>1992</td>\n      <td>no. 11</td>\n      <td>Egypt</td>\n    </tr>\n    <tr>\n      <th>Joe Gomez</th>\n      <td>DF</td>\n      <td>1997</td>\n      <td>no. 12</td>\n      <td>England</td>\n    </tr>\n    <tr>\n      <th>Alisson Becker</th>\n      <td>GK</td>\n      <td>1992</td>\n      <td>no. 13</td>\n      <td>Brazil</td>\n    </tr>\n  </tbody>\n</table>\n</div>"
     },
     "metadata": {},
     "execution_count": 2
    }
   ],
   "source": [
    "import pandas as pd \n",
    "liverpool_df = pd.read_csv('data/liverpool.csv', index_col=0)\n",
    "liverpool_df"
   ]
  },
  {
   "cell_type": "code",
   "execution_count": 6,
   "metadata": {},
   "outputs": [
    {
     "output_type": "execute_result",
     "data": {
      "text/plain": "                Position  Born  Number Nationality\nRoberto Firmino       FW  1991   no. 9      Brazil\nSadio Mane            FW  1992  no. 10     Senegal\nMohamed Salah         FW  1992  no. 11       Egypt\nJoe Gomez             DF  1997  no. 12     England\nAlisson Becker        GK  1992  no. 13      Brazil",
      "text/html": "<div>\n<style scoped>\n    .dataframe tbody tr th:only-of-type {\n        vertical-align: middle;\n    }\n\n    .dataframe tbody tr th {\n        vertical-align: top;\n    }\n\n    .dataframe thead th {\n        text-align: right;\n    }\n</style>\n<table border=\"1\" class=\"dataframe\">\n  <thead>\n    <tr style=\"text-align: right;\">\n      <th></th>\n      <th>Position</th>\n      <th>Born</th>\n      <th>Number</th>\n      <th>Nationality</th>\n    </tr>\n  </thead>\n  <tbody>\n    <tr>\n      <th>Roberto Firmino</th>\n      <td>FW</td>\n      <td>1991</td>\n      <td>no. 9</td>\n      <td>Brazil</td>\n    </tr>\n    <tr>\n      <th>Sadio Mane</th>\n      <td>FW</td>\n      <td>1992</td>\n      <td>no. 10</td>\n      <td>Senegal</td>\n    </tr>\n    <tr>\n      <th>Mohamed Salah</th>\n      <td>FW</td>\n      <td>1992</td>\n      <td>no. 11</td>\n      <td>Egypt</td>\n    </tr>\n    <tr>\n      <th>Joe Gomez</th>\n      <td>DF</td>\n      <td>1997</td>\n      <td>no. 12</td>\n      <td>England</td>\n    </tr>\n    <tr>\n      <th>Alisson Becker</th>\n      <td>GK</td>\n      <td>1992</td>\n      <td>no. 13</td>\n      <td>Brazil</td>\n    </tr>\n  </tbody>\n</table>\n</div>"
     },
     "metadata": {},
     "execution_count": 6
    }
   ],
   "source": [
    "# 컬럼 이름 변경시 rename()메서드에 column 파라미터이름을 넣고 dictionary 자료를 집어 넣으면 됨.\n",
    "# 단, 주의할 점이 예전 컬럼 지울때 commit이랑 비슷한 역할을 하는 inplace=True를 넣으라고 했듯이 여기도 넣어야합니다.\n",
    "liverpool_df.rename(columns={'position':'Position','born':'Born','number':'Number','nationality':'Nationality'}, inplace=True)\n",
    "liverpool_df"
   ]
  },
  {
   "cell_type": "code",
   "execution_count": 10,
   "metadata": {},
   "outputs": [
    {
     "output_type": "execute_result",
     "data": {
      "text/plain": "                Position  Born  Number Nationality\nPlayer Name                                       \nRoberto Firmino       FW  1991   no. 9      Brazil\nSadio Mane            FW  1992  no. 10     Senegal\nMohamed Salah         FW  1992  no. 11       Egypt\nJoe Gomez             DF  1997  no. 12     England\nAlisson Becker        GK  1992  no. 13      Brazil",
      "text/html": "<div>\n<style scoped>\n    .dataframe tbody tr th:only-of-type {\n        vertical-align: middle;\n    }\n\n    .dataframe tbody tr th {\n        vertical-align: top;\n    }\n\n    .dataframe thead th {\n        text-align: right;\n    }\n</style>\n<table border=\"1\" class=\"dataframe\">\n  <thead>\n    <tr style=\"text-align: right;\">\n      <th></th>\n      <th>Position</th>\n      <th>Born</th>\n      <th>Number</th>\n      <th>Nationality</th>\n    </tr>\n    <tr>\n      <th>Player Name</th>\n      <th></th>\n      <th></th>\n      <th></th>\n      <th></th>\n    </tr>\n  </thead>\n  <tbody>\n    <tr>\n      <th>Roberto Firmino</th>\n      <td>FW</td>\n      <td>1991</td>\n      <td>no. 9</td>\n      <td>Brazil</td>\n    </tr>\n    <tr>\n      <th>Sadio Mane</th>\n      <td>FW</td>\n      <td>1992</td>\n      <td>no. 10</td>\n      <td>Senegal</td>\n    </tr>\n    <tr>\n      <th>Mohamed Salah</th>\n      <td>FW</td>\n      <td>1992</td>\n      <td>no. 11</td>\n      <td>Egypt</td>\n    </tr>\n    <tr>\n      <th>Joe Gomez</th>\n      <td>DF</td>\n      <td>1997</td>\n      <td>no. 12</td>\n      <td>England</td>\n    </tr>\n    <tr>\n      <th>Alisson Becker</th>\n      <td>GK</td>\n      <td>1992</td>\n      <td>no. 13</td>\n      <td>Brazil</td>\n    </tr>\n  </tbody>\n</table>\n</div>"
     },
     "metadata": {},
     "execution_count": 10
    }
   ],
   "source": [
    "''' 객체의 인덱스이름(str)을 바꾸려면 객체명.index.name = 으로 작성해주어야함.\n",
    "형태가 중간에 붕 떠버리긴 한데, 자주 나오기 땜에 눈에 익혀줘야함.\n",
    "'''\n",
    "liverpool_df.index.name = \"Player Name\"\n",
    "liverpool_df"
   ]
  },
  {
   "cell_type": "code",
   "execution_count": 17,
   "metadata": {},
   "outputs": [
    {
     "output_type": "execute_result",
     "data": {
      "text/plain": "       Position  Born Nationality\nNumber                           \nno. 9        FW  1991      Brazil\nno. 10       FW  1992     Senegal\nno. 11       FW  1992       Egypt\nno. 12       DF  1997     England\nno. 13       GK  1992      Brazil",
      "text/html": "<div>\n<style scoped>\n    .dataframe tbody tr th:only-of-type {\n        vertical-align: middle;\n    }\n\n    .dataframe tbody tr th {\n        vertical-align: top;\n    }\n\n    .dataframe thead th {\n        text-align: right;\n    }\n</style>\n<table border=\"1\" class=\"dataframe\">\n  <thead>\n    <tr style=\"text-align: right;\">\n      <th></th>\n      <th>Position</th>\n      <th>Born</th>\n      <th>Nationality</th>\n    </tr>\n    <tr>\n      <th>Number</th>\n      <th></th>\n      <th></th>\n      <th></th>\n    </tr>\n  </thead>\n  <tbody>\n    <tr>\n      <th>no. 9</th>\n      <td>FW</td>\n      <td>1991</td>\n      <td>Brazil</td>\n    </tr>\n    <tr>\n      <th>no. 10</th>\n      <td>FW</td>\n      <td>1992</td>\n      <td>Senegal</td>\n    </tr>\n    <tr>\n      <th>no. 11</th>\n      <td>FW</td>\n      <td>1992</td>\n      <td>Egypt</td>\n    </tr>\n    <tr>\n      <th>no. 12</th>\n      <td>DF</td>\n      <td>1997</td>\n      <td>England</td>\n    </tr>\n    <tr>\n      <th>no. 13</th>\n      <td>GK</td>\n      <td>1992</td>\n      <td>Brazil</td>\n    </tr>\n  </tbody>\n</table>\n</div>"
     },
     "metadata": {},
     "execution_count": 17
    }
   ],
   "source": [
    "''' 만악 index를 다른 컬럼으로 잡아주고 싶은 경우에는 어떻게 접근해야 할까?\n",
    "참고로, index에는 중복되는 값이 없어야합니다. 축구 선수 이름이나, position, 출생년도,국적등은 중복 값이 발생할 확률이 너무나 높조?\n",
    "'''\n",
    "liverpool_df.set_index('Number')"
   ]
  },
  {
   "cell_type": "code",
   "execution_count": 19,
   "metadata": {},
   "outputs": [
    {
     "output_type": "execute_result",
     "data": {
      "text/plain": "                Position  Born  Number Nationality      Player_Name\nPlayer Name                                                        \nRoberto Firmino       FW  1991   no. 9      Brazil  Roberto Firmino\nSadio Mane            FW  1992  no. 10     Senegal       Sadio Mane\nMohamed Salah         FW  1992  no. 11       Egypt    Mohamed Salah\nJoe Gomez             DF  1997  no. 12     England        Joe Gomez\nAlisson Becker        GK  1992  no. 13      Brazil   Alisson Becker",
      "text/html": "<div>\n<style scoped>\n    .dataframe tbody tr th:only-of-type {\n        vertical-align: middle;\n    }\n\n    .dataframe tbody tr th {\n        vertical-align: top;\n    }\n\n    .dataframe thead th {\n        text-align: right;\n    }\n</style>\n<table border=\"1\" class=\"dataframe\">\n  <thead>\n    <tr style=\"text-align: right;\">\n      <th></th>\n      <th>Position</th>\n      <th>Born</th>\n      <th>Number</th>\n      <th>Nationality</th>\n      <th>Player_Name</th>\n    </tr>\n    <tr>\n      <th>Player Name</th>\n      <th></th>\n      <th></th>\n      <th></th>\n      <th></th>\n      <th></th>\n    </tr>\n  </thead>\n  <tbody>\n    <tr>\n      <th>Roberto Firmino</th>\n      <td>FW</td>\n      <td>1991</td>\n      <td>no. 9</td>\n      <td>Brazil</td>\n      <td>Roberto Firmino</td>\n    </tr>\n    <tr>\n      <th>Sadio Mane</th>\n      <td>FW</td>\n      <td>1992</td>\n      <td>no. 10</td>\n      <td>Senegal</td>\n      <td>Sadio Mane</td>\n    </tr>\n    <tr>\n      <th>Mohamed Salah</th>\n      <td>FW</td>\n      <td>1992</td>\n      <td>no. 11</td>\n      <td>Egypt</td>\n      <td>Mohamed Salah</td>\n    </tr>\n    <tr>\n      <th>Joe Gomez</th>\n      <td>DF</td>\n      <td>1997</td>\n      <td>no. 12</td>\n      <td>England</td>\n      <td>Joe Gomez</td>\n    </tr>\n    <tr>\n      <th>Alisson Becker</th>\n      <td>GK</td>\n      <td>1992</td>\n      <td>no. 13</td>\n      <td>Brazil</td>\n      <td>Alisson Becker</td>\n    </tr>\n  </tbody>\n</table>\n</div>"
     },
     "metadata": {},
     "execution_count": 19
    }
   ],
   "source": [
    "liverpool_df['Player_Name'] = liverpool_df.index\n",
    "liverpool_df"
   ]
  },
  {
   "cell_type": "code",
   "execution_count": 20,
   "metadata": {},
   "outputs": [],
   "source": [
    "liverpool_df.set_index('Number', inplace = True)"
   ]
  },
  {
   "cell_type": "code",
   "execution_count": 21,
   "metadata": {},
   "outputs": [
    {
     "output_type": "execute_result",
     "data": {
      "text/plain": "       Position  Born Nationality      Player_Name\nNumber                                            \nno. 9        FW  1991      Brazil  Roberto Firmino\nno. 10       FW  1992     Senegal       Sadio Mane\nno. 11       FW  1992       Egypt    Mohamed Salah\nno. 12       DF  1997     England        Joe Gomez\nno. 13       GK  1992      Brazil   Alisson Becker",
      "text/html": "<div>\n<style scoped>\n    .dataframe tbody tr th:only-of-type {\n        vertical-align: middle;\n    }\n\n    .dataframe tbody tr th {\n        vertical-align: top;\n    }\n\n    .dataframe thead th {\n        text-align: right;\n    }\n</style>\n<table border=\"1\" class=\"dataframe\">\n  <thead>\n    <tr style=\"text-align: right;\">\n      <th></th>\n      <th>Position</th>\n      <th>Born</th>\n      <th>Nationality</th>\n      <th>Player_Name</th>\n    </tr>\n    <tr>\n      <th>Number</th>\n      <th></th>\n      <th></th>\n      <th></th>\n      <th></th>\n    </tr>\n  </thead>\n  <tbody>\n    <tr>\n      <th>no. 9</th>\n      <td>FW</td>\n      <td>1991</td>\n      <td>Brazil</td>\n      <td>Roberto Firmino</td>\n    </tr>\n    <tr>\n      <th>no. 10</th>\n      <td>FW</td>\n      <td>1992</td>\n      <td>Senegal</td>\n      <td>Sadio Mane</td>\n    </tr>\n    <tr>\n      <th>no. 11</th>\n      <td>FW</td>\n      <td>1992</td>\n      <td>Egypt</td>\n      <td>Mohamed Salah</td>\n    </tr>\n    <tr>\n      <th>no. 12</th>\n      <td>DF</td>\n      <td>1997</td>\n      <td>England</td>\n      <td>Joe Gomez</td>\n    </tr>\n    <tr>\n      <th>no. 13</th>\n      <td>GK</td>\n      <td>1992</td>\n      <td>Brazil</td>\n      <td>Alisson Becker</td>\n    </tr>\n  </tbody>\n</table>\n</div>"
     },
     "metadata": {},
     "execution_count": 21
    }
   ],
   "source": [
    "liverpool_df"
   ]
  },
  {
   "cell_type": "code",
   "execution_count": null,
   "metadata": {},
   "outputs": [],
   "source": []
  }
 ],
 "metadata": {
  "language_info": {
   "codemirror_mode": {
    "name": "ipython",
    "version": 3
   },
   "file_extension": ".py",
   "mimetype": "text/x-python",
   "name": "python",
   "nbconvert_exporter": "python",
   "pygments_lexer": "ipython3",
   "version": "3.8.2-final"
  },
  "orig_nbformat": 2,
  "kernelspec": {
   "name": "python38264bitmymythonenvconda1f36fd18157f4376a30b6173fcd0cb3f",
   "display_name": "Python 3.8.2 64-bit ('my_mython_env': conda)"
  }
 },
 "nbformat": 4,
 "nbformat_minor": 2
}