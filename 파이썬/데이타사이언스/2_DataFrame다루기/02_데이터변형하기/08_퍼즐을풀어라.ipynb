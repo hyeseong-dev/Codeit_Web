{
 "cells": [
  {
   "cell_type": "code",
   "execution_count": 2,
   "metadata": {},
   "outputs": [],
   "source": [
    "import pandas as pd"
   ]
  },
  {
   "cell_type": "code",
   "execution_count": 25,
   "metadata": {},
   "outputs": [
    {
     "output_type": "execute_result",
     "data": {
      "text/plain": "Index(['Unnamed: 0', 'A', 'B', 'C', 'D', 'E', 'F'], dtype='object')"
     },
     "metadata": {},
     "execution_count": 25
    }
   ],
   "source": [
    "df = pd.read_csv('data/puzzel_before.csv', delimiter='\\t')\n",
    "df.drop('Unnamed: 0',axis=1, inplace=True)"
   ]
  },
  {
   "cell_type": "code",
   "execution_count": 26,
   "metadata": {},
   "outputs": [
    {
     "output_type": "execute_result",
     "data": {
      "text/plain": "   A   B   C   D   E   F\n0  1  55  70  87  56  13\n1  2  45  60  99  53  24\n2  3  88  70  94  39  29\n3  4  97  80  24  83  78\n4  5  13  90  26  80  61",
      "text/html": "<div>\n<style scoped>\n    .dataframe tbody tr th:only-of-type {\n        vertical-align: middle;\n    }\n\n    .dataframe tbody tr th {\n        vertical-align: top;\n    }\n\n    .dataframe thead th {\n        text-align: right;\n    }\n</style>\n<table border=\"1\" class=\"dataframe\">\n  <thead>\n    <tr style=\"text-align: right;\">\n      <th></th>\n      <th>A</th>\n      <th>B</th>\n      <th>C</th>\n      <th>D</th>\n      <th>E</th>\n      <th>F</th>\n    </tr>\n  </thead>\n  <tbody>\n    <tr>\n      <th>0</th>\n      <td>1</td>\n      <td>55</td>\n      <td>70</td>\n      <td>87</td>\n      <td>56</td>\n      <td>13</td>\n    </tr>\n    <tr>\n      <th>1</th>\n      <td>2</td>\n      <td>45</td>\n      <td>60</td>\n      <td>99</td>\n      <td>53</td>\n      <td>24</td>\n    </tr>\n    <tr>\n      <th>2</th>\n      <td>3</td>\n      <td>88</td>\n      <td>70</td>\n      <td>94</td>\n      <td>39</td>\n      <td>29</td>\n    </tr>\n    <tr>\n      <th>3</th>\n      <td>4</td>\n      <td>97</td>\n      <td>80</td>\n      <td>24</td>\n      <td>83</td>\n      <td>78</td>\n    </tr>\n    <tr>\n      <th>4</th>\n      <td>5</td>\n      <td>13</td>\n      <td>90</td>\n      <td>26</td>\n      <td>80</td>\n      <td>61</td>\n    </tr>\n  </tbody>\n</table>\n</div>"
     },
     "metadata": {},
     "execution_count": 26
    }
   ],
   "source": [
    "df.drop('Unnamed: 0',axis=1, inplace=True)\n",
    "df"
   ]
  },
  {
   "cell_type": "code",
   "execution_count": 45,
   "metadata": {},
   "outputs": [
    {
     "output_type": "execute_result",
     "data": {
      "text/plain": "   A  B  C  D  E   F\n0  1  0  0  0  0  13\n1  2  0  0  0  0  24\n2  3  0  0  0  0  29\n3  4  0  0  0  0  78\n4  5  0  0  0  0  61",
      "text/html": "<div>\n<style scoped>\n    .dataframe tbody tr th:only-of-type {\n        vertical-align: middle;\n    }\n\n    .dataframe tbody tr th {\n        vertical-align: top;\n    }\n\n    .dataframe thead th {\n        text-align: right;\n    }\n</style>\n<table border=\"1\" class=\"dataframe\">\n  <thead>\n    <tr style=\"text-align: right;\">\n      <th></th>\n      <th>A</th>\n      <th>B</th>\n      <th>C</th>\n      <th>D</th>\n      <th>E</th>\n      <th>F</th>\n    </tr>\n  </thead>\n  <tbody>\n    <tr>\n      <th>0</th>\n      <td>1</td>\n      <td>0</td>\n      <td>0</td>\n      <td>0</td>\n      <td>0</td>\n      <td>13</td>\n    </tr>\n    <tr>\n      <th>1</th>\n      <td>2</td>\n      <td>0</td>\n      <td>0</td>\n      <td>0</td>\n      <td>0</td>\n      <td>24</td>\n    </tr>\n    <tr>\n      <th>2</th>\n      <td>3</td>\n      <td>0</td>\n      <td>0</td>\n      <td>0</td>\n      <td>0</td>\n      <td>29</td>\n    </tr>\n    <tr>\n      <th>3</th>\n      <td>4</td>\n      <td>0</td>\n      <td>0</td>\n      <td>0</td>\n      <td>0</td>\n      <td>78</td>\n    </tr>\n    <tr>\n      <th>4</th>\n      <td>5</td>\n      <td>0</td>\n      <td>0</td>\n      <td>0</td>\n      <td>0</td>\n      <td>61</td>\n    </tr>\n  </tbody>\n</table>\n</div>"
     },
     "metadata": {},
     "execution_count": 45
    }
   ],
   "source": [
    "# A컬럼을 2로 곱하여 전체 값들을 변경시키고 다시 해당 칼럼에 저장함.\n",
    "# df['A'] = df['A']*2\n",
    "# df.iloc[:, 1:4] > df.iloc[:, 1:4] > 80 \n",
    "condition = df.loc[:, 'B':'E'] >= 80\n",
    "df.loc[:, 'B':'E'] = condition * 1\n",
    "df"
   ]
  },
  {
   "cell_type": "code",
   "execution_count": 29,
   "metadata": {},
   "outputs": [
    {
     "output_type": "execute_result",
     "data": {
      "text/plain": "    A      B      C      D      E   F\n0   2  False  False   True  False  13\n1   4  False  False   True  False  24\n2   6   True  False   True  False  29\n3   8   True  False  False   True  78\n4  10  False   True  False  False  61",
      "text/html": "<div>\n<style scoped>\n    .dataframe tbody tr th:only-of-type {\n        vertical-align: middle;\n    }\n\n    .dataframe tbody tr th {\n        vertical-align: top;\n    }\n\n    .dataframe thead th {\n        text-align: right;\n    }\n</style>\n<table border=\"1\" class=\"dataframe\">\n  <thead>\n    <tr style=\"text-align: right;\">\n      <th></th>\n      <th>A</th>\n      <th>B</th>\n      <th>C</th>\n      <th>D</th>\n      <th>E</th>\n      <th>F</th>\n    </tr>\n  </thead>\n  <tbody>\n    <tr>\n      <th>0</th>\n      <td>2</td>\n      <td>False</td>\n      <td>False</td>\n      <td>True</td>\n      <td>False</td>\n      <td>13</td>\n    </tr>\n    <tr>\n      <th>1</th>\n      <td>4</td>\n      <td>False</td>\n      <td>False</td>\n      <td>True</td>\n      <td>False</td>\n      <td>24</td>\n    </tr>\n    <tr>\n      <th>2</th>\n      <td>6</td>\n      <td>True</td>\n      <td>False</td>\n      <td>True</td>\n      <td>False</td>\n      <td>29</td>\n    </tr>\n    <tr>\n      <th>3</th>\n      <td>8</td>\n      <td>True</td>\n      <td>False</td>\n      <td>False</td>\n      <td>True</td>\n      <td>78</td>\n    </tr>\n    <tr>\n      <th>4</th>\n      <td>10</td>\n      <td>False</td>\n      <td>True</td>\n      <td>False</td>\n      <td>False</td>\n      <td>61</td>\n    </tr>\n  </tbody>\n</table>\n</div>"
     },
     "metadata": {},
     "execution_count": 29
    }
   ],
   "source": [
    "\n",
    "# df[df.loc[: , 'B':'E'] < 80] = 0\n",
    "# df[df.loc[: , 'B':'E'] >= 80] = 1\n",
    "df"
   ]
  },
  {
   "cell_type": "markdown",
   "metadata": {},
   "source": [
    "## 다른 풀이방식 replace사용"
   ]
  },
  {
   "cell_type": "code",
   "execution_count": 36,
   "metadata": {},
   "outputs": [
    {
     "output_type": "execute_result",
     "data": {
      "text/plain": "    A  B  C  D  E   F\n0   2  0  0  1  0  13\n1   4  0  0  1  0  24\n2   6  1  0  1  0  99\n3   8  1  0  0  1  78\n4  10  0  1  0  0  61",
      "text/html": "<div>\n<style scoped>\n    .dataframe tbody tr th:only-of-type {\n        vertical-align: middle;\n    }\n\n    .dataframe tbody tr th {\n        vertical-align: top;\n    }\n\n    .dataframe thead th {\n        text-align: right;\n    }\n</style>\n<table border=\"1\" class=\"dataframe\">\n  <thead>\n    <tr style=\"text-align: right;\">\n      <th></th>\n      <th>A</th>\n      <th>B</th>\n      <th>C</th>\n      <th>D</th>\n      <th>E</th>\n      <th>F</th>\n    </tr>\n  </thead>\n  <tbody>\n    <tr>\n      <th>0</th>\n      <td>2</td>\n      <td>0</td>\n      <td>0</td>\n      <td>1</td>\n      <td>0</td>\n      <td>13</td>\n    </tr>\n    <tr>\n      <th>1</th>\n      <td>4</td>\n      <td>0</td>\n      <td>0</td>\n      <td>1</td>\n      <td>0</td>\n      <td>24</td>\n    </tr>\n    <tr>\n      <th>2</th>\n      <td>6</td>\n      <td>1</td>\n      <td>0</td>\n      <td>1</td>\n      <td>0</td>\n      <td>99</td>\n    </tr>\n    <tr>\n      <th>3</th>\n      <td>8</td>\n      <td>1</td>\n      <td>0</td>\n      <td>0</td>\n      <td>1</td>\n      <td>78</td>\n    </tr>\n    <tr>\n      <th>4</th>\n      <td>10</td>\n      <td>0</td>\n      <td>1</td>\n      <td>0</td>\n      <td>0</td>\n      <td>61</td>\n    </tr>\n  </tbody>\n</table>\n</div>"
     },
     "metadata": {},
     "execution_count": 36
    }
   ],
   "source": [
    "df = pd.read_csv('data/puzzel_before.csv', delimiter='\\t')\n",
    "df.drop('Unnamed: 0',axis=1, inplace=True)\n",
    "\n",
    "df[\"A\"] = df[\"A\"] * 2\n",
    "df.loc[:, \"B\":\"E\"] = df.loc[:, \"B\":\"E\"] > 80\n",
    "df.replace(False, \"0\", inplace = True)\n",
    "df.replace(True, \"1\", inplace = True)\n",
    "df.iloc[2, 5] = 99\n",
    "df"
   ]
  },
  {
   "cell_type": "markdown",
   "metadata": {},
   "source": [
    "# 조건 필터링을 통한 값 변경\n"
   ]
  },
  {
   "cell_type": "code",
   "execution_count": 39,
   "metadata": {},
   "outputs": [
    {
     "output_type": "execute_result",
     "data": {
      "text/plain": "   A   B   C   D   E   F\n0  1   0   0  87   0  13\n1  2   0   0  99   0  24\n2  3  88   0  94   0  29\n3  4  97  80   0  83  78\n4  5   0  90   0  80  61",
      "text/html": "<div>\n<style scoped>\n    .dataframe tbody tr th:only-of-type {\n        vertical-align: middle;\n    }\n\n    .dataframe tbody tr th {\n        vertical-align: top;\n    }\n\n    .dataframe thead th {\n        text-align: right;\n    }\n</style>\n<table border=\"1\" class=\"dataframe\">\n  <thead>\n    <tr style=\"text-align: right;\">\n      <th></th>\n      <th>A</th>\n      <th>B</th>\n      <th>C</th>\n      <th>D</th>\n      <th>E</th>\n      <th>F</th>\n    </tr>\n  </thead>\n  <tbody>\n    <tr>\n      <th>0</th>\n      <td>1</td>\n      <td>0</td>\n      <td>0</td>\n      <td>87</td>\n      <td>0</td>\n      <td>13</td>\n    </tr>\n    <tr>\n      <th>1</th>\n      <td>2</td>\n      <td>0</td>\n      <td>0</td>\n      <td>99</td>\n      <td>0</td>\n      <td>24</td>\n    </tr>\n    <tr>\n      <th>2</th>\n      <td>3</td>\n      <td>88</td>\n      <td>0</td>\n      <td>94</td>\n      <td>0</td>\n      <td>29</td>\n    </tr>\n    <tr>\n      <th>3</th>\n      <td>4</td>\n      <td>97</td>\n      <td>80</td>\n      <td>0</td>\n      <td>83</td>\n      <td>78</td>\n    </tr>\n    <tr>\n      <th>4</th>\n      <td>5</td>\n      <td>0</td>\n      <td>90</td>\n      <td>0</td>\n      <td>80</td>\n      <td>61</td>\n    </tr>\n  </tbody>\n</table>\n</div>"
     },
     "metadata": {},
     "execution_count": 39
    }
   ],
   "source": [
    "df = pd.read_csv('data/puzzel_before.csv', delimiter='\\t')\n",
    "df.drop('Unnamed: 0',axis=1, inplace=True)\n",
    "\n",
    "lowers = df.loc[:, 'B':'E'] < 80\n",
    "df[lowers] = 0 \n",
    "df"
   ]
  },
  {
   "cell_type": "markdown",
   "metadata": {},
   "source": [
    "# Codeit 해설 "
   ]
  },
  {
   "cell_type": "code",
   "execution_count": 54,
   "metadata": {},
   "outputs": [
    {
     "output_type": "execute_result",
     "data": {
      "text/plain": "   A   B   C   D   E   F\n0  1  55  70  87  56  13\n1  2  45  60  99  53  24\n2  3  88  70  94  39  29\n3  4  97  80  24  83  78\n4  5  13  90  26  80  61",
      "text/html": "<div>\n<style scoped>\n    .dataframe tbody tr th:only-of-type {\n        vertical-align: middle;\n    }\n\n    .dataframe tbody tr th {\n        vertical-align: top;\n    }\n\n    .dataframe thead th {\n        text-align: right;\n    }\n</style>\n<table border=\"1\" class=\"dataframe\">\n  <thead>\n    <tr style=\"text-align: right;\">\n      <th></th>\n      <th>A</th>\n      <th>B</th>\n      <th>C</th>\n      <th>D</th>\n      <th>E</th>\n      <th>F</th>\n    </tr>\n  </thead>\n  <tbody>\n    <tr>\n      <th>0</th>\n      <td>1</td>\n      <td>55</td>\n      <td>70</td>\n      <td>87</td>\n      <td>56</td>\n      <td>13</td>\n    </tr>\n    <tr>\n      <th>1</th>\n      <td>2</td>\n      <td>45</td>\n      <td>60</td>\n      <td>99</td>\n      <td>53</td>\n      <td>24</td>\n    </tr>\n    <tr>\n      <th>2</th>\n      <td>3</td>\n      <td>88</td>\n      <td>70</td>\n      <td>94</td>\n      <td>39</td>\n      <td>29</td>\n    </tr>\n    <tr>\n      <th>3</th>\n      <td>4</td>\n      <td>97</td>\n      <td>80</td>\n      <td>24</td>\n      <td>83</td>\n      <td>78</td>\n    </tr>\n    <tr>\n      <th>4</th>\n      <td>5</td>\n      <td>13</td>\n      <td>90</td>\n      <td>26</td>\n      <td>80</td>\n      <td>61</td>\n    </tr>\n  </tbody>\n</table>\n</div>"
     },
     "metadata": {},
     "execution_count": 54
    }
   ],
   "source": [
    "df = pd.read_csv('data/puzzel_before.csv', delimiter='\\t')\n",
    "df.drop('Unnamed: 0',axis=1, inplace=True)\n",
    "df"
   ]
  },
  {
   "cell_type": "markdown",
   "metadata": {},
   "source": [
    "## 1. 'A' column이 모두 2배가 되었습니다."
   ]
  },
  {
   "cell_type": "code",
   "execution_count": 55,
   "metadata": {},
   "outputs": [
    {
     "output_type": "execute_result",
     "data": {
      "text/plain": "    A   B   C   D   E   F\n0   2  55  70  87  56  13\n1   4  45  60  99  53  24\n2   6  88  70  94  39  29\n3   8  97  80  24  83  78\n4  10  13  90  26  80  61",
      "text/html": "<div>\n<style scoped>\n    .dataframe tbody tr th:only-of-type {\n        vertical-align: middle;\n    }\n\n    .dataframe tbody tr th {\n        vertical-align: top;\n    }\n\n    .dataframe thead th {\n        text-align: right;\n    }\n</style>\n<table border=\"1\" class=\"dataframe\">\n  <thead>\n    <tr style=\"text-align: right;\">\n      <th></th>\n      <th>A</th>\n      <th>B</th>\n      <th>C</th>\n      <th>D</th>\n      <th>E</th>\n      <th>F</th>\n    </tr>\n  </thead>\n  <tbody>\n    <tr>\n      <th>0</th>\n      <td>2</td>\n      <td>55</td>\n      <td>70</td>\n      <td>87</td>\n      <td>56</td>\n      <td>13</td>\n    </tr>\n    <tr>\n      <th>1</th>\n      <td>4</td>\n      <td>45</td>\n      <td>60</td>\n      <td>99</td>\n      <td>53</td>\n      <td>24</td>\n    </tr>\n    <tr>\n      <th>2</th>\n      <td>6</td>\n      <td>88</td>\n      <td>70</td>\n      <td>94</td>\n      <td>39</td>\n      <td>29</td>\n    </tr>\n    <tr>\n      <th>3</th>\n      <td>8</td>\n      <td>97</td>\n      <td>80</td>\n      <td>24</td>\n      <td>83</td>\n      <td>78</td>\n    </tr>\n    <tr>\n      <th>4</th>\n      <td>10</td>\n      <td>13</td>\n      <td>90</td>\n      <td>26</td>\n      <td>80</td>\n      <td>61</td>\n    </tr>\n  </tbody>\n</table>\n</div>"
     },
     "metadata": {},
     "execution_count": 55
    }
   ],
   "source": [
    "df['A'] = df['A'] * 2\n",
    "df\n"
   ]
  },
  {
   "cell_type": "markdown",
   "metadata": {},
   "source": [
    "## 2. 'B'에서 'E'까지의 column은 80보다 큰 것은 1, 작은 것은 0으로 바뀌었습니다."
   ]
  },
  {
   "cell_type": "code",
   "execution_count": 58,
   "metadata": {},
   "outputs": [
    {
     "output_type": "execute_result",
     "data": {
      "text/plain": "    A  B  C  D  E   F\n0   2  0  0  0  0  13\n1   4  0  0  0  0  24\n2   6  0  0  0  0  29\n3   8  0  0  0  0  78\n4  10  0  0  0  0  61",
      "text/html": "<div>\n<style scoped>\n    .dataframe tbody tr th:only-of-type {\n        vertical-align: middle;\n    }\n\n    .dataframe tbody tr th {\n        vertical-align: top;\n    }\n\n    .dataframe thead th {\n        text-align: right;\n    }\n</style>\n<table border=\"1\" class=\"dataframe\">\n  <thead>\n    <tr style=\"text-align: right;\">\n      <th></th>\n      <th>A</th>\n      <th>B</th>\n      <th>C</th>\n      <th>D</th>\n      <th>E</th>\n      <th>F</th>\n    </tr>\n  </thead>\n  <tbody>\n    <tr>\n      <th>0</th>\n      <td>2</td>\n      <td>0</td>\n      <td>0</td>\n      <td>0</td>\n      <td>0</td>\n      <td>13</td>\n    </tr>\n    <tr>\n      <th>1</th>\n      <td>4</td>\n      <td>0</td>\n      <td>0</td>\n      <td>0</td>\n      <td>0</td>\n      <td>24</td>\n    </tr>\n    <tr>\n      <th>2</th>\n      <td>6</td>\n      <td>0</td>\n      <td>0</td>\n      <td>0</td>\n      <td>0</td>\n      <td>29</td>\n    </tr>\n    <tr>\n      <th>3</th>\n      <td>8</td>\n      <td>0</td>\n      <td>0</td>\n      <td>0</td>\n      <td>0</td>\n      <td>78</td>\n    </tr>\n    <tr>\n      <th>4</th>\n      <td>10</td>\n      <td>0</td>\n      <td>0</td>\n      <td>0</td>\n      <td>0</td>\n      <td>61</td>\n    </tr>\n  </tbody>\n</table>\n</div>"
     },
     "metadata": {},
     "execution_count": 58
    }
   ],
   "source": [
    "# 80보다 작은 값은 0으로 변경\n",
    "lowers = df.loc[:, 'B':'E'] < 80\n",
    "df[lowers] = 0\n",
    "\n",
    "# 80이상의 값은 1로 변경\n",
    "highers = df.loc[:, 'B':'E'] >= 80\n",
    "df[highers] = 1\n",
    "df"
   ]
  },
  {
   "cell_type": "markdown",
   "metadata": {},
   "source": [
    "## 3. 2번 index의 'F' column 값이 29에서 99로 바뀌었습니다."
   ]
  },
  {
   "cell_type": "code",
   "execution_count": 60,
   "metadata": {},
   "outputs": [
    {
     "output_type": "execute_result",
     "data": {
      "text/plain": "    A  B  C  D  E   F\n0   2  0  0  0  0  13\n1   4  0  0  0  0  24\n2   6  0  0  0  0  99\n3   8  0  0  0  0  78\n4  10  0  0  0  0  61",
      "text/html": "<div>\n<style scoped>\n    .dataframe tbody tr th:only-of-type {\n        vertical-align: middle;\n    }\n\n    .dataframe tbody tr th {\n        vertical-align: top;\n    }\n\n    .dataframe thead th {\n        text-align: right;\n    }\n</style>\n<table border=\"1\" class=\"dataframe\">\n  <thead>\n    <tr style=\"text-align: right;\">\n      <th></th>\n      <th>A</th>\n      <th>B</th>\n      <th>C</th>\n      <th>D</th>\n      <th>E</th>\n      <th>F</th>\n    </tr>\n  </thead>\n  <tbody>\n    <tr>\n      <th>0</th>\n      <td>2</td>\n      <td>0</td>\n      <td>0</td>\n      <td>0</td>\n      <td>0</td>\n      <td>13</td>\n    </tr>\n    <tr>\n      <th>1</th>\n      <td>4</td>\n      <td>0</td>\n      <td>0</td>\n      <td>0</td>\n      <td>0</td>\n      <td>24</td>\n    </tr>\n    <tr>\n      <th>2</th>\n      <td>6</td>\n      <td>0</td>\n      <td>0</td>\n      <td>0</td>\n      <td>0</td>\n      <td>99</td>\n    </tr>\n    <tr>\n      <th>3</th>\n      <td>8</td>\n      <td>0</td>\n      <td>0</td>\n      <td>0</td>\n      <td>0</td>\n      <td>78</td>\n    </tr>\n    <tr>\n      <th>4</th>\n      <td>10</td>\n      <td>0</td>\n      <td>0</td>\n      <td>0</td>\n      <td>0</td>\n      <td>61</td>\n    </tr>\n  </tbody>\n</table>\n</div>"
     },
     "metadata": {},
     "execution_count": 60
    }
   ],
   "source": [
    "df.loc[2, 'F'] = 99\n",
    "df"
   ]
  },
  {
   "cell_type": "code",
   "execution_count": null,
   "metadata": {},
   "outputs": [],
   "source": []
  }
 ],
 "metadata": {
  "language_info": {
   "codemirror_mode": {
    "name": "ipython",
    "version": 3
   },
   "file_extension": ".py",
   "mimetype": "text/x-python",
   "name": "python",
   "nbconvert_exporter": "python",
   "pygments_lexer": "ipython3",
   "version": "3.8.2-final"
  },
  "orig_nbformat": 2,
  "kernelspec": {
   "name": "python38264bitmymythonenvconda1f36fd18157f4376a30b6173fcd0cb3f",
   "display_name": "Python 3.8.2 64-bit ('my_mython_env': conda)"
  }
 },
 "nbformat": 4,
 "nbformat_minor": 2
}