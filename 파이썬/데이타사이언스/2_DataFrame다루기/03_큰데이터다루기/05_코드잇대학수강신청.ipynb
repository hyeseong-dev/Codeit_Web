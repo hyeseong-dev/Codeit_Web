{
 "cells": [
  {
   "cell_type": "code",
   "execution_count": null,
   "metadata": {},
   "outputs": [],
   "source": [
    "import pandas as pd \n"
   ]
  },
  {
   "cell_type": "code",
   "execution_count": null,
   "metadata": {},
   "outputs": [],
   "source": [
    "df = pd.read_csv('data/enrolment_1.csv')\n",
    "df"
   ]
  },
  {
   "cell_type": "code",
   "execution_count": null,
   "metadata": {},
   "outputs": [],
   "source": [
    "df['status'] = 'allowed'\n"
   ]
  },
  {
   "cell_type": "markdown",
   "metadata": {},
   "source": [
    "## “information technology” 과목은 심화과목이라 1학년은 수강할 수 없습니다."
   ]
  },
  {
   "cell_type": "code",
   "execution_count": null,
   "metadata": {},
   "outputs": [],
   "source": [
    "조건1 = df['course name'] == 'information technology' # imformation technology 수업이 있는것 전부 True인 Series 데이터임.\n",
    "조건2 = df['year'] == 1   # 1학년인 Series에 전부 True값으로 반환한 Series 데이터임 \n",
    "df.loc[조건1 & 조건2, 'status'] = 'not allowed'\n",
    "# df.loc[조건1 & 조건2, 'status'] = 'not allowed' / 할당 연산자로 처리했기 때문에 'not allowed'값은 저장되었음.\n",
    "\n"
   ]
  },
  {
   "cell_type": "markdown",
   "metadata": {},
   "source": [
    "### 위의 1학년이고 정보기술 수업과정이 배정된걸 전부 허용 안됨으로 처리하기.    \n",
    "<위의 코드 단축하기, 즉 변수 처리 풀어버리기>   "
   ]
  },
  {
   "cell_type": "code",
   "execution_count": null,
   "metadata": {},
   "outputs": [],
   "source": [
    "df.loc[ (df['course name'] == 'information technology') &( df['year'] == 1) , 'status'] == 'not allowed' # \n",
    "df[df.loc[:, 'status'] == 'not allowed'] # status 칼럼의 not allowed값만 조회시킴."
   ]
  },
  {
   "cell_type": "markdown",
   "metadata": {},
   "source": [
    "## “commerce” 과목은 기초과목이고 많은 학생들이 듣는 수업이라 4학년은 수강할 수 없습니다."
   ]
  },
  {
   "cell_type": "code",
   "execution_count": null,
   "metadata": {},
   "outputs": [],
   "source": [
    "\n",
    "조건3 = df.loc[ : , 'course name'] == 'commerce' # 조건3은 course name 컬럼에서 commerce 수업을 듣는 Series 데이터에서 일치하면 True 아니면 False로 반환함. \n",
    "조건4 = df.loc[ : , 'year'] == 1 # 조건4는 year컬럼에서 1학년이면 True 그 이외는 False로 값을 변환해서 return한 Series임. \n",
    "\n",
    "# 위의 조건3과 조건4를 충족해서 status column에 not allowed값을 반영하여 바꾸세요. \n",
    "df.loc[조건3 & 조건4 , 'status'] = 'not allowed'\n",
    "df[df.loc[ : , 'status'] == 'not allowed'] \n",
    "# 바로 위 코드 조건3과 조건4를 충족시키는 값을 조회함. \n"
   ]
  },
  {
   "cell_type": "markdown",
   "metadata": {},
   "source": [
    "## 수강생이 5명이 되지 않으면 강의는 폐강되어 수강할 수 없습니다.\n",
    "\n",
    "여기서 일단 \"course name\" 컬럼을 보면 dtype이 object라는걸 알수 있다.   \n",
    "이를 해결하기 위해서는 각 course가 몇개씩 있는지 파악해야한다.  \n",
    "그걸 해결 할 수 있는게 ~~~~!~!!!~!~!~! value_counts()라는것! "
   ]
  },
  {
   "cell_type": "code",
   "execution_count": 26,
   "metadata": {},
   "outputs": [
    {
     "output_type": "execute_result",
     "data": {
      "text/plain": "arts                         158\nscience                      124\ncommerce                     105\nenglish                       56\neducation                     41\n                            ... \naqua culture                   1\npunjabi                        1\nlib. & info sci                1\narthroscopy                    1\nhome sc. food & nutrition      1\nName: course name, Length: 296, dtype: int64"
     },
     "metadata": {},
     "execution_count": 26
    }
   ],
   "source": [
    "# 조건5라는 변수를 생성 시킴. 수강이 5명인 Series 데이터 타입의 변수를 만들어둡니다. \n",
    "# 하지만 그 전에 \"course name\" 컬럼에 각 과목마다 몇개가 있는지 숫자로 파악해야합니다. \n",
    "# 예를 들자면 science 124, arts 158, ~~~ 요런식의 값들이 나열되어야 합니다. 바로 아래 코드가 그렇게 만들어주는 코드임.\n",
    "df.loc[:, 'course name'].value_counts() < 5  \n",
    "# 조건5 = df.loc[:, 'course name']  \n",
    "\n",
    "# df.loc[조건5, 'status'] = 'not allowed'\n"
   ]
  },
  {
   "cell_type": "code",
   "execution_count": null,
   "metadata": {},
   "outputs": [],
   "source": []
  }
 ],
 "metadata": {
  "language_info": {
   "codemirror_mode": {
    "name": "ipython",
    "version": 3
   },
   "file_extension": ".py",
   "mimetype": "text/x-python",
   "name": "python",
   "nbconvert_exporter": "python",
   "pygments_lexer": "ipython3",
   "version": "3.8.2-final"
  },
  "orig_nbformat": 2,
  "kernelspec": {
   "name": "python38264bitmymythonenvconda1f36fd18157f4376a30b6173fcd0cb3f",
   "display_name": "Python 3.8.2 64-bit ('my_mython_env': conda)"
  }
 },
 "nbformat": 4,
 "nbformat_minor": 2
}