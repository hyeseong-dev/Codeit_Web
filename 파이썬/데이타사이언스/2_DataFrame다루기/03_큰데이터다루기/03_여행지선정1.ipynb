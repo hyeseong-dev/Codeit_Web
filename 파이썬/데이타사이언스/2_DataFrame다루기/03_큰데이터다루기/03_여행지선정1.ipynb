{
 "cells": [
  {
   "cell_type": "markdown",
   "metadata": {},
   "source": [
    "# 여행지 선정하기 1\n",
    "행을 좋아하는 익중이는 여행지를 알아보고 있습니다. 주어진 데이터에는 총 몇 개의 도시와 몇 개의 나라가 있는지 알아맞혀 보세요.\n",
    "\n",
    "\n",
    "답안은 도시/나라 형식으로 숫자만 입력해 주세요. (예시: 156/77)"
   ]
  },
  {
   "cell_type": "code",
   "execution_count": 21,
   "metadata": {},
   "outputs": [
    {
     "output_type": "execute_result",
     "data": {
      "text/plain": "     Unnamed: 0 City / Urban area     Country  Population  Land area (in sqKm)\n0             0      Buenos Aires   Argentina    11200000                 2266\n1             1         Melbourne   Australia     3162000                 2080\n2             2            Sydney   Australia     3502000                 1687\n3             3          Brisbane   Australia     1508000                 1603\n4             4             Perth   Australia     1177000                  964\n..          ...               ...         ...         ...                  ...\n244         245            Canton         USA      267000                  372\n245         246           Spokane         USA      335000                  371\n246         247          Tashkent  Uzbekistan     2200000                  531\n247         248  Ho Chi Minh City     Vietnam     4900000                  518\n248         249            Harare    Zimbabwe     1750000                  712\n\n[249 rows x 5 columns]",
      "text/html": "<div>\n<style scoped>\n    .dataframe tbody tr th:only-of-type {\n        vertical-align: middle;\n    }\n\n    .dataframe tbody tr th {\n        vertical-align: top;\n    }\n\n    .dataframe thead th {\n        text-align: right;\n    }\n</style>\n<table border=\"1\" class=\"dataframe\">\n  <thead>\n    <tr style=\"text-align: right;\">\n      <th></th>\n      <th>Unnamed: 0</th>\n      <th>City / Urban area</th>\n      <th>Country</th>\n      <th>Population</th>\n      <th>Land area (in sqKm)</th>\n    </tr>\n  </thead>\n  <tbody>\n    <tr>\n      <th>0</th>\n      <td>0</td>\n      <td>Buenos Aires</td>\n      <td>Argentina</td>\n      <td>11200000</td>\n      <td>2266</td>\n    </tr>\n    <tr>\n      <th>1</th>\n      <td>1</td>\n      <td>Melbourne</td>\n      <td>Australia</td>\n      <td>3162000</td>\n      <td>2080</td>\n    </tr>\n    <tr>\n      <th>2</th>\n      <td>2</td>\n      <td>Sydney</td>\n      <td>Australia</td>\n      <td>3502000</td>\n      <td>1687</td>\n    </tr>\n    <tr>\n      <th>3</th>\n      <td>3</td>\n      <td>Brisbane</td>\n      <td>Australia</td>\n      <td>1508000</td>\n      <td>1603</td>\n    </tr>\n    <tr>\n      <th>4</th>\n      <td>4</td>\n      <td>Perth</td>\n      <td>Australia</td>\n      <td>1177000</td>\n      <td>964</td>\n    </tr>\n    <tr>\n      <th>...</th>\n      <td>...</td>\n      <td>...</td>\n      <td>...</td>\n      <td>...</td>\n      <td>...</td>\n    </tr>\n    <tr>\n      <th>244</th>\n      <td>245</td>\n      <td>Canton</td>\n      <td>USA</td>\n      <td>267000</td>\n      <td>372</td>\n    </tr>\n    <tr>\n      <th>245</th>\n      <td>246</td>\n      <td>Spokane</td>\n      <td>USA</td>\n      <td>335000</td>\n      <td>371</td>\n    </tr>\n    <tr>\n      <th>246</th>\n      <td>247</td>\n      <td>Tashkent</td>\n      <td>Uzbekistan</td>\n      <td>2200000</td>\n      <td>531</td>\n    </tr>\n    <tr>\n      <th>247</th>\n      <td>248</td>\n      <td>Ho Chi Minh City</td>\n      <td>Vietnam</td>\n      <td>4900000</td>\n      <td>518</td>\n    </tr>\n    <tr>\n      <th>248</th>\n      <td>249</td>\n      <td>Harare</td>\n      <td>Zimbabwe</td>\n      <td>1750000</td>\n      <td>712</td>\n    </tr>\n  </tbody>\n</table>\n<p>249 rows × 5 columns</p>\n</div>"
     },
     "metadata": {},
     "execution_count": 21
    }
   ],
   "source": [
    "import pandas as pd\n",
    "\n",
    "df = pd.read_csv('data/world_cities.csv')\n",
    "df"
   ]
  },
  {
   "cell_type": "code",
   "execution_count": 8,
   "metadata": {},
   "outputs": [
    {
     "output_type": "execute_result",
     "data": {
      "text/plain": "USA            105\nFrance          15\nBrazil          10\nCanada           9\nGermany          8\n              ... \nIndonesia        1\nNetherlands      1\nEcuador          1\nSudan            1\nZimbabwe         1\nName: Country, Length: 61, dtype: int64"
     },
     "metadata": {},
     "execution_count": 8
    }
   ],
   "source": [
    "# value_counts()를 통해서 length에서 61개의 국가가 있는걸 확인 할수 있음!\n",
    "df['Country'].value_counts()\n"
   ]
  },
  {
   "cell_type": "code",
   "execution_count": 10,
   "metadata": {},
   "outputs": [
    {
     "output_type": "execute_result",
     "data": {
      "text/plain": "61"
     },
     "metadata": {},
     "execution_count": 10
    }
   ],
   "source": [
    "# 짧게는 len()메소드 안에 unique()를 함께쓰면 더 짧고 간결하게 표현 가능함.  \n",
    "len(df['Country'].unique())"
   ]
  },
  {
   "cell_type": "code",
   "execution_count": 16,
   "metadata": {},
   "outputs": [
    {
     "output_type": "execute_result",
     "data": {
      "text/plain": "(249,)"
     },
     "metadata": {},
     "execution_count": 16
    }
   ],
   "source": [
    "# 도시의 개수를 짧게 표현할 수 있다. \n",
    "# len(df['City / Urban area'].unique())\n",
    "df['City / Urban area'].unique().shape\n"
   ]
  },
  {
   "cell_type": "code",
   "execution_count": 15,
   "metadata": {},
   "outputs": [
    {
     "output_type": "execute_result",
     "data": {
      "text/plain": "Nashville           1\nFortaleza           1\nOsaka/Kobe/Kyoto    1\nFayetteville        1\nManchester          1\n                   ..\nAtlanta             1\nLancaster           1\nSantiago            1\nSeoul/Incheon       1\nBeirut              1\nName: City / Urban area, Length: 249, dtype: int64"
     },
     "metadata": {},
     "execution_count": 15
    }
   ],
   "source": [
    "# shape 속성을 이용해서도 파악 할 수 있다. 사용 느낌은 해당 리스트의 로우 개수를 파악할수 있음.\n",
    "df['City / Urban area'].value_counts()#.shape\n"
   ]
  },
  {
   "cell_type": "markdown",
   "metadata": {},
   "source": [
    "## 정리하자면 \n",
    "\n",
    "###  .value_counts() \n",
    "###  .unique() \n",
    "###  .shape\n",
    "###  len(df\\['컬럼명'\\].unique()) \n",
    "###  len(df\\['컬럼명'\\].value_counts()) \n",
    "\n",
    "위의 다섯가지를 구분해서 설명 할 줄 알아야 한다. "
   ]
  },
  {
   "cell_type": "code",
   "execution_count": null,
   "metadata": {},
   "outputs": [],
   "source": []
  },
  {
   "cell_type": "markdown",
   "metadata": {},
   "source": [
    "# 질문 230XP\n",
    "사람 만나기를 좋아하는 익중이는 가장 사람이 붐비는 도시로 여행을 가기로 마음 먹었습니다. 주어진 데이터에서, 인구 밀도(명/sqKm) 가 10000 이 넘는 도시는 총 몇 개인지 알아보세요.\n",
    "\n",
    "\n",
    "참고로 인구 밀도는 인구 수 / 땅의 면적 (in sqKm) 로 구할 수 있습니다.\n",
    "\n",
    "\n",
    "답안은 숫자로만 입력해 주세요. (예시: 24)"
   ]
  },
  {
   "cell_type": "code",
   "execution_count": 9,
   "metadata": {},
   "outputs": [
    {
     "output_type": "execute_result",
     "data": {
      "text/plain": "     Unnamed: 0 City / Urban area     Country  Population  \\\n0             0      Buenos Aires   Argentina    11200000   \n1             1         Melbourne   Australia     3162000   \n2             2            Sydney   Australia     3502000   \n3             3          Brisbane   Australia     1508000   \n4             4             Perth   Australia     1177000   \n..          ...               ...         ...         ...   \n244         245            Canton         USA      267000   \n245         246           Spokane         USA      335000   \n246         247          Tashkent  Uzbekistan     2200000   \n247         248  Ho Chi Minh City     Vietnam     4900000   \n248         249            Harare    Zimbabwe     1750000   \n\n     Land area (in sqKm)  인구밀도  \n0                   2266  4942  \n1                   2080  1520  \n2                   1687  2075  \n3                   1603   940  \n4                    964  1220  \n..                   ...   ...  \n244                  372   717  \n245                  371   902  \n246                  531  4143  \n247                  518  9459  \n248                  712  2457  \n\n[249 rows x 6 columns]",
      "text/html": "<div>\n<style scoped>\n    .dataframe tbody tr th:only-of-type {\n        vertical-align: middle;\n    }\n\n    .dataframe tbody tr th {\n        vertical-align: top;\n    }\n\n    .dataframe thead th {\n        text-align: right;\n    }\n</style>\n<table border=\"1\" class=\"dataframe\">\n  <thead>\n    <tr style=\"text-align: right;\">\n      <th></th>\n      <th>Unnamed: 0</th>\n      <th>City / Urban area</th>\n      <th>Country</th>\n      <th>Population</th>\n      <th>Land area (in sqKm)</th>\n      <th>인구밀도</th>\n    </tr>\n  </thead>\n  <tbody>\n    <tr>\n      <th>0</th>\n      <td>0</td>\n      <td>Buenos Aires</td>\n      <td>Argentina</td>\n      <td>11200000</td>\n      <td>2266</td>\n      <td>4942</td>\n    </tr>\n    <tr>\n      <th>1</th>\n      <td>1</td>\n      <td>Melbourne</td>\n      <td>Australia</td>\n      <td>3162000</td>\n      <td>2080</td>\n      <td>1520</td>\n    </tr>\n    <tr>\n      <th>2</th>\n      <td>2</td>\n      <td>Sydney</td>\n      <td>Australia</td>\n      <td>3502000</td>\n      <td>1687</td>\n      <td>2075</td>\n    </tr>\n    <tr>\n      <th>3</th>\n      <td>3</td>\n      <td>Brisbane</td>\n      <td>Australia</td>\n      <td>1508000</td>\n      <td>1603</td>\n      <td>940</td>\n    </tr>\n    <tr>\n      <th>4</th>\n      <td>4</td>\n      <td>Perth</td>\n      <td>Australia</td>\n      <td>1177000</td>\n      <td>964</td>\n      <td>1220</td>\n    </tr>\n    <tr>\n      <th>...</th>\n      <td>...</td>\n      <td>...</td>\n      <td>...</td>\n      <td>...</td>\n      <td>...</td>\n      <td>...</td>\n    </tr>\n    <tr>\n      <th>244</th>\n      <td>245</td>\n      <td>Canton</td>\n      <td>USA</td>\n      <td>267000</td>\n      <td>372</td>\n      <td>717</td>\n    </tr>\n    <tr>\n      <th>245</th>\n      <td>246</td>\n      <td>Spokane</td>\n      <td>USA</td>\n      <td>335000</td>\n      <td>371</td>\n      <td>902</td>\n    </tr>\n    <tr>\n      <th>246</th>\n      <td>247</td>\n      <td>Tashkent</td>\n      <td>Uzbekistan</td>\n      <td>2200000</td>\n      <td>531</td>\n      <td>4143</td>\n    </tr>\n    <tr>\n      <th>247</th>\n      <td>248</td>\n      <td>Ho Chi Minh City</td>\n      <td>Vietnam</td>\n      <td>4900000</td>\n      <td>518</td>\n      <td>9459</td>\n    </tr>\n    <tr>\n      <th>248</th>\n      <td>249</td>\n      <td>Harare</td>\n      <td>Zimbabwe</td>\n      <td>1750000</td>\n      <td>712</td>\n      <td>2457</td>\n    </tr>\n  </tbody>\n</table>\n<p>249 rows × 6 columns</p>\n</div>"
     },
     "metadata": {},
     "execution_count": 9
    }
   ],
   "source": [
    "df"
   ]
  },
  {
   "cell_type": "code",
   "execution_count": 22,
   "metadata": {},
   "outputs": [
    {
     "output_type": "stream",
     "name": "stdout",
     "text": "<class 'pandas.core.frame.DataFrame'>\nRangeIndex: 249 entries, 0 to 248\nData columns (total 5 columns):\n #   Column               Non-Null Count  Dtype \n---  ------               --------------  ----- \n 0   Unnamed: 0           249 non-null    int64 \n 1   City / Urban area    249 non-null    object\n 2   Country              249 non-null    object\n 3   Population           249 non-null    int64 \n 4   Land area (in sqKm)  249 non-null    int64 \ndtypes: int64(3), object(2)\nmemory usage: 9.9+ KB\n"
    }
   ],
   "source": [
    "df.info()"
   ]
  },
  {
   "cell_type": "code",
   "execution_count": 44,
   "metadata": {},
   "outputs": [
    {
     "output_type": "execute_result",
     "data": {
      "text/plain": "     Unnamed: 0 City / Urban area      Country  Population  \\\n32           32           Beijing        China     8614000   \n33           33          Shanghai        China    10000000   \n34           34          Shenzhen        China     8000000   \n36           36           Tianjin        China     4750000   \n38           38            Bogota     Colombia     7000000   \n39           39          Kinshasa        Congo     5000000   \n71           71             Delhi        India    14300000   \n73           73         Bangalore        India     5400000   \n74           74           Kolkata        India    12700000   \n75           75            Mumbai        India    14350000   \n76           76           Chennai        India     5950000   \n77           77           Jakarta    Indonesia    14250000   \n78           78            Tehran         Iran     7250000   \n99           99             Lagos      Nigeria    13400000   \n101         101           Karachi     Pakistan     9800000   \n102         102              Lima         Peru     7000000   \n103         103            Manila  Philippines    14750000   \n123         123     Seoul/Incheon  South Korea    17500000   \n129         129            Taipei       Taiwan     5700000   \n\n     Land area (in sqKm)   인구밀도  \n32                   748  11516  \n33                   746  13404  \n34                   466  17167  \n36                   453  10485  \n38                   518  13513  \n39                   469  10660  \n71                  1295  11042  \n73                   534  10112  \n74                   531  23917  \n75                   484  29648  \n76                   414  14371  \n77                  1360  10477  \n78                   686  10568  \n99                   738  18157  \n101                  518  18918  \n102                  596  11744  \n103                 1399  10543  \n123                 1049  16682  \n129                  376  15159  ",
      "text/html": "<div>\n<style scoped>\n    .dataframe tbody tr th:only-of-type {\n        vertical-align: middle;\n    }\n\n    .dataframe tbody tr th {\n        vertical-align: top;\n    }\n\n    .dataframe thead th {\n        text-align: right;\n    }\n</style>\n<table border=\"1\" class=\"dataframe\">\n  <thead>\n    <tr style=\"text-align: right;\">\n      <th></th>\n      <th>Unnamed: 0</th>\n      <th>City / Urban area</th>\n      <th>Country</th>\n      <th>Population</th>\n      <th>Land area (in sqKm)</th>\n      <th>인구밀도</th>\n    </tr>\n  </thead>\n  <tbody>\n    <tr>\n      <th>32</th>\n      <td>32</td>\n      <td>Beijing</td>\n      <td>China</td>\n      <td>8614000</td>\n      <td>748</td>\n      <td>11516</td>\n    </tr>\n    <tr>\n      <th>33</th>\n      <td>33</td>\n      <td>Shanghai</td>\n      <td>China</td>\n      <td>10000000</td>\n      <td>746</td>\n      <td>13404</td>\n    </tr>\n    <tr>\n      <th>34</th>\n      <td>34</td>\n      <td>Shenzhen</td>\n      <td>China</td>\n      <td>8000000</td>\n      <td>466</td>\n      <td>17167</td>\n    </tr>\n    <tr>\n      <th>36</th>\n      <td>36</td>\n      <td>Tianjin</td>\n      <td>China</td>\n      <td>4750000</td>\n      <td>453</td>\n      <td>10485</td>\n    </tr>\n    <tr>\n      <th>38</th>\n      <td>38</td>\n      <td>Bogota</td>\n      <td>Colombia</td>\n      <td>7000000</td>\n      <td>518</td>\n      <td>13513</td>\n    </tr>\n    <tr>\n      <th>39</th>\n      <td>39</td>\n      <td>Kinshasa</td>\n      <td>Congo</td>\n      <td>5000000</td>\n      <td>469</td>\n      <td>10660</td>\n    </tr>\n    <tr>\n      <th>71</th>\n      <td>71</td>\n      <td>Delhi</td>\n      <td>India</td>\n      <td>14300000</td>\n      <td>1295</td>\n      <td>11042</td>\n    </tr>\n    <tr>\n      <th>73</th>\n      <td>73</td>\n      <td>Bangalore</td>\n      <td>India</td>\n      <td>5400000</td>\n      <td>534</td>\n      <td>10112</td>\n    </tr>\n    <tr>\n      <th>74</th>\n      <td>74</td>\n      <td>Kolkata</td>\n      <td>India</td>\n      <td>12700000</td>\n      <td>531</td>\n      <td>23917</td>\n    </tr>\n    <tr>\n      <th>75</th>\n      <td>75</td>\n      <td>Mumbai</td>\n      <td>India</td>\n      <td>14350000</td>\n      <td>484</td>\n      <td>29648</td>\n    </tr>\n    <tr>\n      <th>76</th>\n      <td>76</td>\n      <td>Chennai</td>\n      <td>India</td>\n      <td>5950000</td>\n      <td>414</td>\n      <td>14371</td>\n    </tr>\n    <tr>\n      <th>77</th>\n      <td>77</td>\n      <td>Jakarta</td>\n      <td>Indonesia</td>\n      <td>14250000</td>\n      <td>1360</td>\n      <td>10477</td>\n    </tr>\n    <tr>\n      <th>78</th>\n      <td>78</td>\n      <td>Tehran</td>\n      <td>Iran</td>\n      <td>7250000</td>\n      <td>686</td>\n      <td>10568</td>\n    </tr>\n    <tr>\n      <th>99</th>\n      <td>99</td>\n      <td>Lagos</td>\n      <td>Nigeria</td>\n      <td>13400000</td>\n      <td>738</td>\n      <td>18157</td>\n    </tr>\n    <tr>\n      <th>101</th>\n      <td>101</td>\n      <td>Karachi</td>\n      <td>Pakistan</td>\n      <td>9800000</td>\n      <td>518</td>\n      <td>18918</td>\n    </tr>\n    <tr>\n      <th>102</th>\n      <td>102</td>\n      <td>Lima</td>\n      <td>Peru</td>\n      <td>7000000</td>\n      <td>596</td>\n      <td>11744</td>\n    </tr>\n    <tr>\n      <th>103</th>\n      <td>103</td>\n      <td>Manila</td>\n      <td>Philippines</td>\n      <td>14750000</td>\n      <td>1399</td>\n      <td>10543</td>\n    </tr>\n    <tr>\n      <th>123</th>\n      <td>123</td>\n      <td>Seoul/Incheon</td>\n      <td>South Korea</td>\n      <td>17500000</td>\n      <td>1049</td>\n      <td>16682</td>\n    </tr>\n    <tr>\n      <th>129</th>\n      <td>129</td>\n      <td>Taipei</td>\n      <td>Taiwan</td>\n      <td>5700000</td>\n      <td>376</td>\n      <td>15159</td>\n    </tr>\n  </tbody>\n</table>\n</div>"
     },
     "metadata": {},
     "execution_count": 44
    }
   ],
   "source": [
    "df['인구밀도']       =    df['Population']  //  df['Land area (in sqKm)']\n",
    "df_high_density     =    df['인구밀도']     >   10000\n",
    "\n",
    "# 방법1 인구밀도가 1만이 넘는 도시의 수 .shape 이용\n",
    "df[df_high_density]#.shape # (19, 6)으로 19개의 도시들이 나타난다. \n",
    "\n",
    "# # 방법2 len()이용\n",
    "# ['인구밀도']       =    df['Population']  //  df['Land area (in sqKm)']\n",
    "# df_high_density     =    df['인구밀도']     >   10000\n",
    "\n",
    "# # 방법1 인구밀도가 1만이 넘는 도시의 수 .shape 이용\n",
    "# df[df_high_density].shape # (19, 6)으로 19개의 도시들이 나타난다. \n",
    "# # 방법2 len()이용\n",
    "# # len(df[df_high_density]) # 19가뜸"
   ]
  },
  {
   "cell_type": "markdown",
   "metadata": {},
   "source": [
    "# 질문 3\n",
    "이번에는 인구 밀도가 가장 높은 도시를 찾아봅시다.\n",
    "\n",
    "\n",
    "답안은 데이터에 적힌 이름을 그대로 입력해 주세요. (예시: Seoul)"
   ]
  },
  {
   "cell_type": "code",
   "execution_count": 56,
   "metadata": {},
   "outputs": [],
   "source": [
    "density_ranks = df.sort_values('인구밀도', ascending=False)"
   ]
  },
  {
   "cell_type": "code",
   "execution_count": 57,
   "metadata": {},
   "outputs": [
    {
     "output_type": "execute_result",
     "data": {
      "text/plain": "75              Mumbai\n74             Kolkata\n101            Karachi\n99               Lagos\n34            Shenzhen\n            ...       \n194        Chattanooga\n223          Asheville\n57                 Pau\n220            Hickory\n196    Barnstable Town\nName: City / Urban area, Length: 249, dtype: object"
     },
     "metadata": {},
     "execution_count": 57
    }
   ],
   "source": [
    "density_ranks['City / Urban area']\n",
    "# 기존 DataFrame에 정렬된 75번째 인덱스가 가장 높은 값을 가진 순위인걸 확인 할 수 있다."
   ]
  },
  {
   "cell_type": "markdown",
   "metadata": {},
   "source": [
    "# 정리하면 \n",
    "\n",
    "<풀었던 부분>\n",
    "\n",
    "첫째, \n",
    "> df\\['인구밀도'\\]       =    df\\['Population'\\]  //  df\\['Land area (in sqKm)'\\]\n",
    "\n",
    "<놓친부분>\n",
    "\n",
    "둘쨰 부분에서 풀지 못했음. 즉, 조건을 상정해서 변수에 담아야 된다는 부분을 Missing\n",
    "> high_density_serial = df\\['인구밀도'\\] > 10000\n",
    "\n",
    "그럼 high_density_serial 변수에는 인구밀도가 1만이 넘는 도시에는 True값을 주고 아닌 곳에는False값이 반영된다. \n",
    "\n",
    "셋째. df[] 에다가 high_density_serial변수를 담아서 DataFrame으로 다시 값을 나타\n"
   ]
  },
  {
   "cell_type": "markdown",
   "metadata": {},
   "source": [
    "## 메서드 정리 \n",
    "### info() 객체의 정보를 구석구석 확인가능.     \n",
    "    - 인덱스, 컬럼, 데이터형등\n",
    "    - .value_counts() \n",
    "    - .unique() \n",
    "    - .shape\n",
    "    - len(df\\['컬럼명'\\].unique()) \n",
    "    - len(df\\['컬럼명'\\].value_counts()) \n",
    "\n",
    "### "
   ]
  },
  {
   "cell_type": "code",
   "execution_count": null,
   "metadata": {},
   "outputs": [],
   "source": []
  },
  {
   "cell_type": "code",
   "execution_count": null,
   "metadata": {},
   "outputs": [],
   "source": []
  }
 ],
 "metadata": {
  "language_info": {
   "codemirror_mode": {
    "name": "ipython",
    "version": 3
   },
   "file_extension": ".py",
   "mimetype": "text/x-python",
   "name": "python",
   "nbconvert_exporter": "python",
   "pygments_lexer": "ipython3",
   "version": "3.8.2-final"
  },
  "orig_nbformat": 2,
  "kernelspec": {
   "name": "python38264bitmymythonenvconda1f36fd18157f4376a30b6173fcd0cb3f",
   "display_name": "Python 3.8.2 64-bit ('my_mython_env': conda)"
  }
 },
 "nbformat": 4,
 "nbformat_minor": 2
}