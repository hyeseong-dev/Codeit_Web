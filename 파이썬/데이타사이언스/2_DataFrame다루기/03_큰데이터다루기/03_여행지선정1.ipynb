{
 "cells": [
  {
   "cell_type": "markdown",
   "metadata": {},
   "source": [
    "# 여행지 선정하기 1\n",
    "행을 좋아하는 익중이는 여행지를 알아보고 있습니다. 주어진 데이터에는 총 몇 개의 도시와 몇 개의 나라가 있는지 알아맞혀 보세요.\n",
    "\n",
    "\n",
    "답안은 도시/나라 형식으로 숫자만 입력해 주세요. (예시: 156/77)"
   ]
  },
  {
   "cell_type": "code",
   "execution_count": 3,
   "metadata": {},
   "outputs": [
    {
     "output_type": "execute_result",
     "data": {
      "text/plain": "     Unnamed: 0 City / Urban area     Country  Population  Land area (in sqKm)\n0             0      Buenos Aires   Argentina    11200000                 2266\n1             1         Melbourne   Australia     3162000                 2080\n2             2            Sydney   Australia     3502000                 1687\n3             3          Brisbane   Australia     1508000                 1603\n4             4             Perth   Australia     1177000                  964\n..          ...               ...         ...         ...                  ...\n244         245            Canton         USA      267000                  372\n245         246           Spokane         USA      335000                  371\n246         247          Tashkent  Uzbekistan     2200000                  531\n247         248  Ho Chi Minh City     Vietnam     4900000                  518\n248         249            Harare    Zimbabwe     1750000                  712\n\n[249 rows x 5 columns]",
      "text/html": "<div>\n<style scoped>\n    .dataframe tbody tr th:only-of-type {\n        vertical-align: middle;\n    }\n\n    .dataframe tbody tr th {\n        vertical-align: top;\n    }\n\n    .dataframe thead th {\n        text-align: right;\n    }\n</style>\n<table border=\"1\" class=\"dataframe\">\n  <thead>\n    <tr style=\"text-align: right;\">\n      <th></th>\n      <th>Unnamed: 0</th>\n      <th>City / Urban area</th>\n      <th>Country</th>\n      <th>Population</th>\n      <th>Land area (in sqKm)</th>\n    </tr>\n  </thead>\n  <tbody>\n    <tr>\n      <th>0</th>\n      <td>0</td>\n      <td>Buenos Aires</td>\n      <td>Argentina</td>\n      <td>11200000</td>\n      <td>2266</td>\n    </tr>\n    <tr>\n      <th>1</th>\n      <td>1</td>\n      <td>Melbourne</td>\n      <td>Australia</td>\n      <td>3162000</td>\n      <td>2080</td>\n    </tr>\n    <tr>\n      <th>2</th>\n      <td>2</td>\n      <td>Sydney</td>\n      <td>Australia</td>\n      <td>3502000</td>\n      <td>1687</td>\n    </tr>\n    <tr>\n      <th>3</th>\n      <td>3</td>\n      <td>Brisbane</td>\n      <td>Australia</td>\n      <td>1508000</td>\n      <td>1603</td>\n    </tr>\n    <tr>\n      <th>4</th>\n      <td>4</td>\n      <td>Perth</td>\n      <td>Australia</td>\n      <td>1177000</td>\n      <td>964</td>\n    </tr>\n    <tr>\n      <th>...</th>\n      <td>...</td>\n      <td>...</td>\n      <td>...</td>\n      <td>...</td>\n      <td>...</td>\n    </tr>\n    <tr>\n      <th>244</th>\n      <td>245</td>\n      <td>Canton</td>\n      <td>USA</td>\n      <td>267000</td>\n      <td>372</td>\n    </tr>\n    <tr>\n      <th>245</th>\n      <td>246</td>\n      <td>Spokane</td>\n      <td>USA</td>\n      <td>335000</td>\n      <td>371</td>\n    </tr>\n    <tr>\n      <th>246</th>\n      <td>247</td>\n      <td>Tashkent</td>\n      <td>Uzbekistan</td>\n      <td>2200000</td>\n      <td>531</td>\n    </tr>\n    <tr>\n      <th>247</th>\n      <td>248</td>\n      <td>Ho Chi Minh City</td>\n      <td>Vietnam</td>\n      <td>4900000</td>\n      <td>518</td>\n    </tr>\n    <tr>\n      <th>248</th>\n      <td>249</td>\n      <td>Harare</td>\n      <td>Zimbabwe</td>\n      <td>1750000</td>\n      <td>712</td>\n    </tr>\n  </tbody>\n</table>\n<p>249 rows × 5 columns</p>\n</div>"
     },
     "metadata": {},
     "execution_count": 3
    }
   ],
   "source": [
    "import pandas as pd\n",
    "\n",
    "df = pd.read_csv('data/world_cities.csv')\n",
    "df"
   ]
  },
  {
   "cell_type": "code",
   "execution_count": 8,
   "metadata": {},
   "outputs": [
    {
     "output_type": "execute_result",
     "data": {
      "text/plain": "USA            105\nFrance          15\nBrazil          10\nCanada           9\nGermany          8\n              ... \nIndonesia        1\nNetherlands      1\nEcuador          1\nSudan            1\nZimbabwe         1\nName: Country, Length: 61, dtype: int64"
     },
     "metadata": {},
     "execution_count": 8
    }
   ],
   "source": [
    "# value_counts()를 통해서 length에서 61개의 국가가 있는걸 확인 할수 있음!\n",
    "df['Country'].value_counts()\n"
   ]
  },
  {
   "cell_type": "code",
   "execution_count": 10,
   "metadata": {},
   "outputs": [
    {
     "output_type": "execute_result",
     "data": {
      "text/plain": "61"
     },
     "metadata": {},
     "execution_count": 10
    }
   ],
   "source": [
    "# 짧게는 len()메소드 안에 unique()를 함께쓰면 더 짧고 간결하게 표현 가능함.  \n",
    "len(df['Country'].unique())"
   ]
  },
  {
   "cell_type": "code",
   "execution_count": 16,
   "metadata": {},
   "outputs": [
    {
     "output_type": "execute_result",
     "data": {
      "text/plain": "(249,)"
     },
     "metadata": {},
     "execution_count": 16
    }
   ],
   "source": [
    "# 도시의 개수를 짧게 표현할 수 있다. \n",
    "# len(df['City / Urban area'].unique())\n",
    "df['City / Urban area'].unique().shape\n"
   ]
  },
  {
   "cell_type": "code",
   "execution_count": 15,
   "metadata": {},
   "outputs": [
    {
     "output_type": "execute_result",
     "data": {
      "text/plain": "Nashville           1\nFortaleza           1\nOsaka/Kobe/Kyoto    1\nFayetteville        1\nManchester          1\n                   ..\nAtlanta             1\nLancaster           1\nSantiago            1\nSeoul/Incheon       1\nBeirut              1\nName: City / Urban area, Length: 249, dtype: int64"
     },
     "metadata": {},
     "execution_count": 15
    }
   ],
   "source": [
    "# shape 속성을 이용해서도 파악 할 수 있다. 사용 느낌은 해당 리스트의 로우 개수를 파악할수 있음.\n",
    "df['City / Urban area'].value_counts()#.shape\n"
   ]
  },
  {
   "cell_type": "markdown",
   "metadata": {},
   "source": [
    "## 정리하자면 \n",
    "\n",
    "###  .value_counts() \n",
    "###  .unique() \n",
    "###  .shape\n",
    "###  len(df\\['컬럼명'\\].unique()) \n",
    "###  len(df\\['컬럼명'\\].value_counts()) \n",
    "\n",
    "위의 다섯가지를 구분해서 설명 할 줄 알아야 한다. "
   ]
  },
  {
   "cell_type": "code",
   "execution_count": null,
   "metadata": {},
   "outputs": [],
   "source": []
  },
  {
   "cell_type": "markdown",
   "metadata": {},
   "source": [
    "# 질문 230XP\n",
    "사람 만나기를 좋아하는 익중이는 가장 사람이 붐비는 도시로 여행을 가기로 마음 먹었습니다. 주어진 데이터에서, 인구 밀도(명/sqKm) 가 10000 이 넘는 도시는 총 몇 개인지 알아보세요.\n",
    "\n",
    "\n",
    "참고로 인구 밀도는 인구 수 / 땅의 면적 (in sqKm) 로 구할 수 있습니다.\n",
    "\n",
    "\n",
    "답안은 숫자로만 입력해 주세요. (예시: 24)"
   ]
  },
  {
   "cell_type": "code",
   "execution_count": 17,
   "metadata": {},
   "outputs": [
    {
     "output_type": "execute_result",
     "data": {
      "text/plain": "     Unnamed: 0 City / Urban area     Country  Population  Land area (in sqKm)\n0             0      Buenos Aires   Argentina    11200000                 2266\n1             1         Melbourne   Australia     3162000                 2080\n2             2            Sydney   Australia     3502000                 1687\n3             3          Brisbane   Australia     1508000                 1603\n4             4             Perth   Australia     1177000                  964\n..          ...               ...         ...         ...                  ...\n244         245            Canton         USA      267000                  372\n245         246           Spokane         USA      335000                  371\n246         247          Tashkent  Uzbekistan     2200000                  531\n247         248  Ho Chi Minh City     Vietnam     4900000                  518\n248         249            Harare    Zimbabwe     1750000                  712\n\n[249 rows x 5 columns]",
      "text/html": "<div>\n<style scoped>\n    .dataframe tbody tr th:only-of-type {\n        vertical-align: middle;\n    }\n\n    .dataframe tbody tr th {\n        vertical-align: top;\n    }\n\n    .dataframe thead th {\n        text-align: right;\n    }\n</style>\n<table border=\"1\" class=\"dataframe\">\n  <thead>\n    <tr style=\"text-align: right;\">\n      <th></th>\n      <th>Unnamed: 0</th>\n      <th>City / Urban area</th>\n      <th>Country</th>\n      <th>Population</th>\n      <th>Land area (in sqKm)</th>\n    </tr>\n  </thead>\n  <tbody>\n    <tr>\n      <th>0</th>\n      <td>0</td>\n      <td>Buenos Aires</td>\n      <td>Argentina</td>\n      <td>11200000</td>\n      <td>2266</td>\n    </tr>\n    <tr>\n      <th>1</th>\n      <td>1</td>\n      <td>Melbourne</td>\n      <td>Australia</td>\n      <td>3162000</td>\n      <td>2080</td>\n    </tr>\n    <tr>\n      <th>2</th>\n      <td>2</td>\n      <td>Sydney</td>\n      <td>Australia</td>\n      <td>3502000</td>\n      <td>1687</td>\n    </tr>\n    <tr>\n      <th>3</th>\n      <td>3</td>\n      <td>Brisbane</td>\n      <td>Australia</td>\n      <td>1508000</td>\n      <td>1603</td>\n    </tr>\n    <tr>\n      <th>4</th>\n      <td>4</td>\n      <td>Perth</td>\n      <td>Australia</td>\n      <td>1177000</td>\n      <td>964</td>\n    </tr>\n    <tr>\n      <th>...</th>\n      <td>...</td>\n      <td>...</td>\n      <td>...</td>\n      <td>...</td>\n      <td>...</td>\n    </tr>\n    <tr>\n      <th>244</th>\n      <td>245</td>\n      <td>Canton</td>\n      <td>USA</td>\n      <td>267000</td>\n      <td>372</td>\n    </tr>\n    <tr>\n      <th>245</th>\n      <td>246</td>\n      <td>Spokane</td>\n      <td>USA</td>\n      <td>335000</td>\n      <td>371</td>\n    </tr>\n    <tr>\n      <th>246</th>\n      <td>247</td>\n      <td>Tashkent</td>\n      <td>Uzbekistan</td>\n      <td>2200000</td>\n      <td>531</td>\n    </tr>\n    <tr>\n      <th>247</th>\n      <td>248</td>\n      <td>Ho Chi Minh City</td>\n      <td>Vietnam</td>\n      <td>4900000</td>\n      <td>518</td>\n    </tr>\n    <tr>\n      <th>248</th>\n      <td>249</td>\n      <td>Harare</td>\n      <td>Zimbabwe</td>\n      <td>1750000</td>\n      <td>712</td>\n    </tr>\n  </tbody>\n</table>\n<p>249 rows × 5 columns</p>\n</div>"
     },
     "metadata": {},
     "execution_count": 17
    }
   ],
   "source": [
    "df"
   ]
  },
  {
   "cell_type": "code",
   "execution_count": 18,
   "metadata": {},
   "outputs": [
    {
     "output_type": "stream",
     "name": "stdout",
     "text": "<class 'pandas.core.frame.DataFrame'>\nRangeIndex: 249 entries, 0 to 248\nData columns (total 5 columns):\n #   Column               Non-Null Count  Dtype \n---  ------               --------------  ----- \n 0   Unnamed: 0           249 non-null    int64 \n 1   City / Urban area    249 non-null    object\n 2   Country              249 non-null    object\n 3   Population           249 non-null    int64 \n 4   Land area (in sqKm)  249 non-null    int64 \ndtypes: int64(3), object(2)\nmemory usage: 9.9+ KB\n"
    }
   ],
   "source": [
    "df.info()"
   ]
  },
  {
   "cell_type": "code",
   "execution_count": 29,
   "metadata": {},
   "outputs": [
    {
     "output_type": "execute_result",
     "data": {
      "text/plain": "     Unnamed: 0 City / Urban area     Country  Population  \\\n0             0      Buenos Aires   Argentina    11200000   \n1             1         Melbourne   Australia     3162000   \n2             2            Sydney   Australia     3502000   \n3             3          Brisbane   Australia     1508000   \n4             4             Perth   Australia     1177000   \n..          ...               ...         ...         ...   \n244         245            Canton         USA      267000   \n245         246           Spokane         USA      335000   \n246         247          Tashkent  Uzbekistan     2200000   \n247         248  Ho Chi Minh City     Vietnam     4900000   \n248         249            Harare    Zimbabwe     1750000   \n\n     Land area (in sqKm)   인구밀도  \n0                   2266  False  \n1                   2080  False  \n2                   1687  False  \n3                   1603  False  \n4                    964  False  \n..                   ...    ...  \n244                  372  False  \n245                  371  False  \n246                  531  False  \n247                  518  False  \n248                  712  False  \n\n[249 rows x 6 columns]",
      "text/html": "<div>\n<style scoped>\n    .dataframe tbody tr th:only-of-type {\n        vertical-align: middle;\n    }\n\n    .dataframe tbody tr th {\n        vertical-align: top;\n    }\n\n    .dataframe thead th {\n        text-align: right;\n    }\n</style>\n<table border=\"1\" class=\"dataframe\">\n  <thead>\n    <tr style=\"text-align: right;\">\n      <th></th>\n      <th>Unnamed: 0</th>\n      <th>City / Urban area</th>\n      <th>Country</th>\n      <th>Population</th>\n      <th>Land area (in sqKm)</th>\n      <th>인구밀도</th>\n    </tr>\n  </thead>\n  <tbody>\n    <tr>\n      <th>0</th>\n      <td>0</td>\n      <td>Buenos Aires</td>\n      <td>Argentina</td>\n      <td>11200000</td>\n      <td>2266</td>\n      <td>False</td>\n    </tr>\n    <tr>\n      <th>1</th>\n      <td>1</td>\n      <td>Melbourne</td>\n      <td>Australia</td>\n      <td>3162000</td>\n      <td>2080</td>\n      <td>False</td>\n    </tr>\n    <tr>\n      <th>2</th>\n      <td>2</td>\n      <td>Sydney</td>\n      <td>Australia</td>\n      <td>3502000</td>\n      <td>1687</td>\n      <td>False</td>\n    </tr>\n    <tr>\n      <th>3</th>\n      <td>3</td>\n      <td>Brisbane</td>\n      <td>Australia</td>\n      <td>1508000</td>\n      <td>1603</td>\n      <td>False</td>\n    </tr>\n    <tr>\n      <th>4</th>\n      <td>4</td>\n      <td>Perth</td>\n      <td>Australia</td>\n      <td>1177000</td>\n      <td>964</td>\n      <td>False</td>\n    </tr>\n    <tr>\n      <th>...</th>\n      <td>...</td>\n      <td>...</td>\n      <td>...</td>\n      <td>...</td>\n      <td>...</td>\n      <td>...</td>\n    </tr>\n    <tr>\n      <th>244</th>\n      <td>245</td>\n      <td>Canton</td>\n      <td>USA</td>\n      <td>267000</td>\n      <td>372</td>\n      <td>False</td>\n    </tr>\n    <tr>\n      <th>245</th>\n      <td>246</td>\n      <td>Spokane</td>\n      <td>USA</td>\n      <td>335000</td>\n      <td>371</td>\n      <td>False</td>\n    </tr>\n    <tr>\n      <th>246</th>\n      <td>247</td>\n      <td>Tashkent</td>\n      <td>Uzbekistan</td>\n      <td>2200000</td>\n      <td>531</td>\n      <td>False</td>\n    </tr>\n    <tr>\n      <th>247</th>\n      <td>248</td>\n      <td>Ho Chi Minh City</td>\n      <td>Vietnam</td>\n      <td>4900000</td>\n      <td>518</td>\n      <td>False</td>\n    </tr>\n    <tr>\n      <th>248</th>\n      <td>249</td>\n      <td>Harare</td>\n      <td>Zimbabwe</td>\n      <td>1750000</td>\n      <td>712</td>\n      <td>False</td>\n    </tr>\n  </tbody>\n</table>\n<p>249 rows × 6 columns</p>\n</div>"
     },
     "metadata": {},
     "execution_count": 29
    }
   ],
   "source": [
    "df['인구밀도']= df['Population']/df['Land area (in sqKm)'] > 10000\n",
    "df"
   ]
  },
  {
   "cell_type": "code",
   "execution_count": null,
   "metadata": {},
   "outputs": [],
   "source": []
  }
 ],
 "metadata": {
  "language_info": {
   "codemirror_mode": {
    "name": "ipython",
    "version": 3
   },
   "file_extension": ".py",
   "mimetype": "text/x-python",
   "name": "python",
   "nbconvert_exporter": "python",
   "pygments_lexer": "ipython3",
   "version": "3.8.2-final"
  },
  "orig_nbformat": 2,
  "kernelspec": {
   "name": "python38264bitmymythonenvconda1f36fd18157f4376a30b6173fcd0cb3f",
   "display_name": "Python 3.8.2 64-bit ('my_mython_env': conda)"
  }
 },
 "nbformat": 4,
 "nbformat_minor": 2
}