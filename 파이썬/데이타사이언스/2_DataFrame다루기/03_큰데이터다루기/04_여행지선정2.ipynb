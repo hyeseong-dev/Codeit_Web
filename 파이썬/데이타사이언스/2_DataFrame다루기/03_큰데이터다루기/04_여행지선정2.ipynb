{
 "cells": [
  {
   "cell_type": "markdown",
   "metadata": {},
   "source": [
    "# 질문 1\n",
    "익중이는 누나에게 여행지를 추천 받으려고 합니다.\n",
    "그런데 나라 이름이 기억나지 않고, 이 데이터에 4개의 도시가 나왔다는 것만 기억이 난다고 하네요.\n",
    "이 나라는 무엇일까요?\n",
    "\n",
    "\n",
    "답안은 데이터에 적힌 이름 그대로 적어 주세요. (예시: France)"
   ]
  },
  {
   "cell_type": "code",
   "execution_count": 5,
   "metadata": {},
   "outputs": [
    {
     "output_type": "execute_result",
     "data": {
      "text/plain": "    City / Urban area     Country  Population  Land area (in sqKm)\n0        Buenos Aires   Argentina    11200000                 2266\n1           Melbourne   Australia     3162000                 2080\n2              Sydney   Australia     3502000                 1687\n3            Brisbane   Australia     1508000                 1603\n4               Perth   Australia     1177000                  964\n..                ...         ...         ...                  ...\n245            Canton         USA      267000                  372\n246           Spokane         USA      335000                  371\n247          Tashkent  Uzbekistan     2200000                  531\n248  Ho Chi Minh City     Vietnam     4900000                  518\n249            Harare    Zimbabwe     1750000                  712\n\n[249 rows x 4 columns]",
      "text/html": "<div>\n<style scoped>\n    .dataframe tbody tr th:only-of-type {\n        vertical-align: middle;\n    }\n\n    .dataframe tbody tr th {\n        vertical-align: top;\n    }\n\n    .dataframe thead th {\n        text-align: right;\n    }\n</style>\n<table border=\"1\" class=\"dataframe\">\n  <thead>\n    <tr style=\"text-align: right;\">\n      <th></th>\n      <th>City / Urban area</th>\n      <th>Country</th>\n      <th>Population</th>\n      <th>Land area (in sqKm)</th>\n    </tr>\n  </thead>\n  <tbody>\n    <tr>\n      <th>0</th>\n      <td>Buenos Aires</td>\n      <td>Argentina</td>\n      <td>11200000</td>\n      <td>2266</td>\n    </tr>\n    <tr>\n      <th>1</th>\n      <td>Melbourne</td>\n      <td>Australia</td>\n      <td>3162000</td>\n      <td>2080</td>\n    </tr>\n    <tr>\n      <th>2</th>\n      <td>Sydney</td>\n      <td>Australia</td>\n      <td>3502000</td>\n      <td>1687</td>\n    </tr>\n    <tr>\n      <th>3</th>\n      <td>Brisbane</td>\n      <td>Australia</td>\n      <td>1508000</td>\n      <td>1603</td>\n    </tr>\n    <tr>\n      <th>4</th>\n      <td>Perth</td>\n      <td>Australia</td>\n      <td>1177000</td>\n      <td>964</td>\n    </tr>\n    <tr>\n      <th>...</th>\n      <td>...</td>\n      <td>...</td>\n      <td>...</td>\n      <td>...</td>\n    </tr>\n    <tr>\n      <th>245</th>\n      <td>Canton</td>\n      <td>USA</td>\n      <td>267000</td>\n      <td>372</td>\n    </tr>\n    <tr>\n      <th>246</th>\n      <td>Spokane</td>\n      <td>USA</td>\n      <td>335000</td>\n      <td>371</td>\n    </tr>\n    <tr>\n      <th>247</th>\n      <td>Tashkent</td>\n      <td>Uzbekistan</td>\n      <td>2200000</td>\n      <td>531</td>\n    </tr>\n    <tr>\n      <th>248</th>\n      <td>Ho Chi Minh City</td>\n      <td>Vietnam</td>\n      <td>4900000</td>\n      <td>518</td>\n    </tr>\n    <tr>\n      <th>249</th>\n      <td>Harare</td>\n      <td>Zimbabwe</td>\n      <td>1750000</td>\n      <td>712</td>\n    </tr>\n  </tbody>\n</table>\n<p>249 rows × 4 columns</p>\n</div>"
     },
     "metadata": {},
     "execution_count": 5
    }
   ],
   "source": [
    "import pandas as pd \n",
    "\n",
    "df = pd.read_csv('data/world_cities.csv',index_col=0)\n",
    "df"
   ]
  },
  {
   "cell_type": "code",
   "execution_count": 16,
   "metadata": {},
   "outputs": [
    {
     "output_type": "execute_result",
     "data": {
      "text/plain": "USA             105\nFrance           15\nBrazil           10\nCanada            9\nGermany           8\nIndia             6\nChina             6\nAustralia         6\nSouth Africa      6\nJapan             5\nUK                5\nMexico            3\nRussia            3\nPortugal          2\nPakistan          2\nTaiwan            2\nUAE               2\nSaudi Arabia      2\nPoland            2\nBelgium           2\nSpain             2\nPuerto Rico       2\nTurkey            2\nCongo             2\nSaudi             1\nColombia          1\nGreece            1\nAustria           1\nThailand          1\nArgentina         1\nSudan             1\nGhana             1\nZimbabwe          1\nPhilippines       1\nKuwait            1\nIraq              1\nEgypt             1\nEcuador           1\nIran              1\nMalaysia          1\nNetherlands       1\nAzerbaijan        1\nFinland           1\nSouth Korea       1\nIsrael            1\nCambodia          1\nHungary           1\nPeru              1\nNigeria           1\nVietnam           1\nLebanon           1\nDenmark           1\nChile             1\nIndonesia         1\nNew Zealand       1\nSweden            1\nIreland           1\nUkraine           1\nUzbekistan        1\nSingapore         1\nName: Country, dtype: int64"
     },
     "metadata": {},
     "execution_count": 16
    }
   ],
   "source": [
    "# value.counts()를 통해서  각 국가들의 몇개나 등장했는지 그 횟수를 파악할 수 있습니다. \n",
    "countries = df['Country'].value_counts() # 그걸 변수 countries에 담아 둡니다. \n",
    "countries[countries != 4]                # 변수에 담은 True, False의 Series 값들을 숫자 4와 같은지 하나하나씩 그 records들을 비교하게 됩니다.  countries의 length는 61번 이기때문에 4와 같은지 61번 비교하게 됩니다. \n",
    "\n",
    "# 그리고 결정적으로 해당 Series를 잘 출력해서 볼려면, Series명[Series 관계연산자(==,<,>,등) 데이터타입 ]"
   ]
  },
  {
   "cell_type": "code",
   "execution_count": 17,
   "metadata": {},
   "outputs": [
    {
     "output_type": "execute_result",
     "data": {
      "text/plain": "pandas.core.series.Series"
     },
     "metadata": {},
     "execution_count": 17
    }
   ],
   "source": [
    "len(countries)\n"
   ]
  },
  {
   "cell_type": "code",
   "execution_count": null,
   "metadata": {},
   "outputs": [],
   "source": []
  }
 ],
 "metadata": {
  "language_info": {
   "codemirror_mode": {
    "name": "ipython",
    "version": 3
   },
   "file_extension": ".py",
   "mimetype": "text/x-python",
   "name": "python",
   "nbconvert_exporter": "python",
   "pygments_lexer": "ipython3",
   "version": "3.8.1-final"
  },
  "orig_nbformat": 2,
  "kernelspec": {
   "name": "python38164bitpytorchcondae2e836418e8f4945879c9669572061e2",
   "display_name": "Python 3.8.1 64-bit ('pytorch': conda)"
  }
 },
 "nbformat": 4,
 "nbformat_minor": 2
}