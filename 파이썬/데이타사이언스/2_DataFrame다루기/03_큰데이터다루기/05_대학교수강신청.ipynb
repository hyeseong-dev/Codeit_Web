{
 "cells": [
  {
   "cell_type": "code",
   "execution_count": 1,
   "metadata": {},
   "outputs": [
    {
     "output_type": "execute_result",
     "data": {
      "text/plain": "           id  year           course name\n0     2777729     1               science\n1     2777730     2               science\n2     2777765     1                  arts\n3     2777766     2                  arts\n4     2777785     1                   mba\n...       ...   ...                   ...\n1995  2796805     3  computer application\n1996  2796812     1               nursing\n1997  2796813     2               nursing\n1998  2796814     3               nursing\n1999  2796815     4               nursing\n\n[2000 rows x 3 columns]",
      "text/html": "<div>\n<style scoped>\n    .dataframe tbody tr th:only-of-type {\n        vertical-align: middle;\n    }\n\n    .dataframe tbody tr th {\n        vertical-align: top;\n    }\n\n    .dataframe thead th {\n        text-align: right;\n    }\n</style>\n<table border=\"1\" class=\"dataframe\">\n  <thead>\n    <tr style=\"text-align: right;\">\n      <th></th>\n      <th>id</th>\n      <th>year</th>\n      <th>course name</th>\n    </tr>\n  </thead>\n  <tbody>\n    <tr>\n      <th>0</th>\n      <td>2777729</td>\n      <td>1</td>\n      <td>science</td>\n    </tr>\n    <tr>\n      <th>1</th>\n      <td>2777730</td>\n      <td>2</td>\n      <td>science</td>\n    </tr>\n    <tr>\n      <th>2</th>\n      <td>2777765</td>\n      <td>1</td>\n      <td>arts</td>\n    </tr>\n    <tr>\n      <th>3</th>\n      <td>2777766</td>\n      <td>2</td>\n      <td>arts</td>\n    </tr>\n    <tr>\n      <th>4</th>\n      <td>2777785</td>\n      <td>1</td>\n      <td>mba</td>\n    </tr>\n    <tr>\n      <th>...</th>\n      <td>...</td>\n      <td>...</td>\n      <td>...</td>\n    </tr>\n    <tr>\n      <th>1995</th>\n      <td>2796805</td>\n      <td>3</td>\n      <td>computer application</td>\n    </tr>\n    <tr>\n      <th>1996</th>\n      <td>2796812</td>\n      <td>1</td>\n      <td>nursing</td>\n    </tr>\n    <tr>\n      <th>1997</th>\n      <td>2796813</td>\n      <td>2</td>\n      <td>nursing</td>\n    </tr>\n    <tr>\n      <th>1998</th>\n      <td>2796814</td>\n      <td>3</td>\n      <td>nursing</td>\n    </tr>\n    <tr>\n      <th>1999</th>\n      <td>2796815</td>\n      <td>4</td>\n      <td>nursing</td>\n    </tr>\n  </tbody>\n</table>\n<p>2000 rows × 3 columns</p>\n</div>"
     },
     "metadata": {},
     "execution_count": 1
    }
   ],
   "source": [
    "import pandas as pd\n",
    "\n",
    "df = pd.read_csv('data/enrolment_1.csv')\n",
    "\n",
    "# 코드를 작성하세요.\n",
    "\n",
    "# 정답 출력\n",
    "df"
   ]
  },
  {
   "cell_type": "markdown",
   "metadata": {},
   "source": [
    "# 힌트\n",
    "\n",
    "df.loc\\[ 조건1 & 조건2, '컬럼이름' \\] == '변경값'"
   ]
  },
  {
   "cell_type": "markdown",
   "metadata": {},
   "source": [
    "# 코드잇 해설 \n",
    "\n",
    "'status'라는 컬럼에 'allowed' 또는 'not allowed'라는 형태로 저장되어야한다.     \n",
    "    Step1. \"status\"라는 컬럼을 만들고, 모든 데이터를 'allowed'로 채워봅시다.    \n",
    "    이건 쉽습니다. 응!  "
   ]
  },
  {
   "cell_type": "code",
   "execution_count": 15,
   "metadata": {},
   "outputs": [
    {
     "output_type": "execute_result",
     "data": {
      "text/plain": "           id  year           course name   status\n0     2777729     1               science  allowed\n1     2777730     2               science  allowed\n2     2777765     1                  arts  allowed\n3     2777766     2                  arts  allowed\n4     2777785     1                   mba  allowed\n...       ...   ...                   ...      ...\n1995  2796805     3  computer application  allowed\n1996  2796812     1               nursing  allowed\n1997  2796813     2               nursing  allowed\n1998  2796814     3               nursing  allowed\n1999  2796815     4               nursing  allowed\n\n[2000 rows x 4 columns]",
      "text/html": "<div>\n<style scoped>\n    .dataframe tbody tr th:only-of-type {\n        vertical-align: middle;\n    }\n\n    .dataframe tbody tr th {\n        vertical-align: top;\n    }\n\n    .dataframe thead th {\n        text-align: right;\n    }\n</style>\n<table border=\"1\" class=\"dataframe\">\n  <thead>\n    <tr style=\"text-align: right;\">\n      <th></th>\n      <th>id</th>\n      <th>year</th>\n      <th>course name</th>\n      <th>status</th>\n    </tr>\n  </thead>\n  <tbody>\n    <tr>\n      <th>0</th>\n      <td>2777729</td>\n      <td>1</td>\n      <td>science</td>\n      <td>allowed</td>\n    </tr>\n    <tr>\n      <th>1</th>\n      <td>2777730</td>\n      <td>2</td>\n      <td>science</td>\n      <td>allowed</td>\n    </tr>\n    <tr>\n      <th>2</th>\n      <td>2777765</td>\n      <td>1</td>\n      <td>arts</td>\n      <td>allowed</td>\n    </tr>\n    <tr>\n      <th>3</th>\n      <td>2777766</td>\n      <td>2</td>\n      <td>arts</td>\n      <td>allowed</td>\n    </tr>\n    <tr>\n      <th>4</th>\n      <td>2777785</td>\n      <td>1</td>\n      <td>mba</td>\n      <td>allowed</td>\n    </tr>\n    <tr>\n      <th>...</th>\n      <td>...</td>\n      <td>...</td>\n      <td>...</td>\n      <td>...</td>\n    </tr>\n    <tr>\n      <th>1995</th>\n      <td>2796805</td>\n      <td>3</td>\n      <td>computer application</td>\n      <td>allowed</td>\n    </tr>\n    <tr>\n      <th>1996</th>\n      <td>2796812</td>\n      <td>1</td>\n      <td>nursing</td>\n      <td>allowed</td>\n    </tr>\n    <tr>\n      <th>1997</th>\n      <td>2796813</td>\n      <td>2</td>\n      <td>nursing</td>\n      <td>allowed</td>\n    </tr>\n    <tr>\n      <th>1998</th>\n      <td>2796814</td>\n      <td>3</td>\n      <td>nursing</td>\n      <td>allowed</td>\n    </tr>\n    <tr>\n      <th>1999</th>\n      <td>2796815</td>\n      <td>4</td>\n      <td>nursing</td>\n      <td>allowed</td>\n    </tr>\n  </tbody>\n</table>\n<p>2000 rows × 4 columns</p>\n</div>"
     },
     "metadata": {},
     "execution_count": 15
    }
   ],
   "source": [
    "df['status'] = 'allowed'\n",
    "\n",
    "df"
   ]
  },
  {
   "cell_type": "markdown",
   "metadata": {},
   "source": [
    "조건을 더해서 not allowed로 변경해 주어야 해요. "
   ]
  },
  {
   "cell_type": "markdown",
   "metadata": {},
   "source": [
    "## 조건 1: \"information technology\"과목은 심화과목이라 1학년은 수강할 수 없습니다.  \n",
    "'information technology'과목을 수강하는 모든 데이터를 boolean1에 저장하고, 1학년에 해당하는 모든 데이트를 boolean2에 저장합니다. "
   ]
  },
  {
   "cell_type": "code",
   "execution_count": 26,
   "metadata": {},
   "outputs": [],
   "source": [
    "boolean1 = df['course name'] == 'information technology' # 이 Series에는 index도 같이 있다는거! \n",
    "boolean2 = df['year'] == 1\n"
   ]
  },
  {
   "cell_type": "markdown",
   "metadata": {},
   "source": [
    "## ***** 개중요! 결국 위 두 조건을 동시에 만족하는 결과를 도출하는 것!  \n"
   ]
  },
  {
   "cell_type": "code",
   "execution_count": 30,
   "metadata": {},
   "outputs": [
    {
     "output_type": "execute_result",
     "data": {
      "text/plain": "           id  year             course name       status\n612   2783664     1  information technology  not allowed\n1017  2787200     1  information technology  not allowed\n1218  2789267     1  information technology  not allowed\n1284  2789753     1  information technology  not allowed\n1836  2795583     1  information technology  not allowed\n1931  2796418     1  information technology  not allowed",
      "text/html": "<div>\n<style scoped>\n    .dataframe tbody tr th:only-of-type {\n        vertical-align: middle;\n    }\n\n    .dataframe tbody tr th {\n        vertical-align: top;\n    }\n\n    .dataframe thead th {\n        text-align: right;\n    }\n</style>\n<table border=\"1\" class=\"dataframe\">\n  <thead>\n    <tr style=\"text-align: right;\">\n      <th></th>\n      <th>id</th>\n      <th>year</th>\n      <th>course name</th>\n      <th>status</th>\n    </tr>\n  </thead>\n  <tbody>\n    <tr>\n      <th>612</th>\n      <td>2783664</td>\n      <td>1</td>\n      <td>information technology</td>\n      <td>not allowed</td>\n    </tr>\n    <tr>\n      <th>1017</th>\n      <td>2787200</td>\n      <td>1</td>\n      <td>information technology</td>\n      <td>not allowed</td>\n    </tr>\n    <tr>\n      <th>1218</th>\n      <td>2789267</td>\n      <td>1</td>\n      <td>information technology</td>\n      <td>not allowed</td>\n    </tr>\n    <tr>\n      <th>1284</th>\n      <td>2789753</td>\n      <td>1</td>\n      <td>information technology</td>\n      <td>not allowed</td>\n    </tr>\n    <tr>\n      <th>1836</th>\n      <td>2795583</td>\n      <td>1</td>\n      <td>information technology</td>\n      <td>not allowed</td>\n    </tr>\n    <tr>\n      <th>1931</th>\n      <td>2796418</td>\n      <td>1</td>\n      <td>information technology</td>\n      <td>not allowed</td>\n    </tr>\n  </tbody>\n</table>\n</div>"
     },
     "metadata": {},
     "execution_count": 30
    }
   ],
   "source": [
    "df.loc[boolean1 & boolean2, 'status'] = 'not allowed'\n",
    "df[df['status'] == 'not allowed']\n"
   ]
  },
  {
   "cell_type": "markdown",
   "metadata": {},
   "source": [
    "## 조건 2: 'commerce'과목은 기초과목이고 많은 학생들이 듣는 수업이라 4학년은 수강할 수 없습니다."
   ]
  },
  {
   "cell_type": "code",
   "execution_count": 36,
   "metadata": {},
   "outputs": [
    {
     "output_type": "execute_result",
     "data": {
      "text/plain": "           id  year           course name   status\n0     2777729     1               science  allowed\n1     2777730     2               science  allowed\n2     2777765     1                  arts  allowed\n3     2777766     2                  arts  allowed\n4     2777785     1                   mba  allowed\n...       ...   ...                   ...      ...\n1995  2796805     3  computer application  allowed\n1996  2796812     1               nursing  allowed\n1997  2796813     2               nursing  allowed\n1998  2796814     3               nursing  allowed\n1999  2796815     4               nursing  allowed\n\n[2000 rows x 4 columns]",
      "text/html": "<div>\n<style scoped>\n    .dataframe tbody tr th:only-of-type {\n        vertical-align: middle;\n    }\n\n    .dataframe tbody tr th {\n        vertical-align: top;\n    }\n\n    .dataframe thead th {\n        text-align: right;\n    }\n</style>\n<table border=\"1\" class=\"dataframe\">\n  <thead>\n    <tr style=\"text-align: right;\">\n      <th></th>\n      <th>id</th>\n      <th>year</th>\n      <th>course name</th>\n      <th>status</th>\n    </tr>\n  </thead>\n  <tbody>\n    <tr>\n      <th>0</th>\n      <td>2777729</td>\n      <td>1</td>\n      <td>science</td>\n      <td>allowed</td>\n    </tr>\n    <tr>\n      <th>1</th>\n      <td>2777730</td>\n      <td>2</td>\n      <td>science</td>\n      <td>allowed</td>\n    </tr>\n    <tr>\n      <th>2</th>\n      <td>2777765</td>\n      <td>1</td>\n      <td>arts</td>\n      <td>allowed</td>\n    </tr>\n    <tr>\n      <th>3</th>\n      <td>2777766</td>\n      <td>2</td>\n      <td>arts</td>\n      <td>allowed</td>\n    </tr>\n    <tr>\n      <th>4</th>\n      <td>2777785</td>\n      <td>1</td>\n      <td>mba</td>\n      <td>allowed</td>\n    </tr>\n    <tr>\n      <th>...</th>\n      <td>...</td>\n      <td>...</td>\n      <td>...</td>\n      <td>...</td>\n    </tr>\n    <tr>\n      <th>1995</th>\n      <td>2796805</td>\n      <td>3</td>\n      <td>computer application</td>\n      <td>allowed</td>\n    </tr>\n    <tr>\n      <th>1996</th>\n      <td>2796812</td>\n      <td>1</td>\n      <td>nursing</td>\n      <td>allowed</td>\n    </tr>\n    <tr>\n      <th>1997</th>\n      <td>2796813</td>\n      <td>2</td>\n      <td>nursing</td>\n      <td>allowed</td>\n    </tr>\n    <tr>\n      <th>1998</th>\n      <td>2796814</td>\n      <td>3</td>\n      <td>nursing</td>\n      <td>allowed</td>\n    </tr>\n    <tr>\n      <th>1999</th>\n      <td>2796815</td>\n      <td>4</td>\n      <td>nursing</td>\n      <td>allowed</td>\n    </tr>\n  </tbody>\n</table>\n<p>2000 rows × 4 columns</p>\n</div>"
     },
     "metadata": {},
     "execution_count": 36
    }
   ],
   "source": [
    "boolean3 = df['course name'] == 'commerce'\n",
    "boolean4 = df['year'] == 4\n",
    "df.loc[boolean3 & boolean4, 'status'] = 'not allowed'\n"
   ]
  },
  {
   "cell_type": "markdown",
   "metadata": {},
   "source": [
    "## 조건 3: 수강생이 5명이 되지 않으면 강의는 폐강되어 수강할 수 없습니다.   \n",
    "\n",
    "우선 status가 allowed인 데이터만 모아봅시다. "
   ]
  },
  {
   "cell_type": "code",
   "execution_count": 37,
   "metadata": {},
   "outputs": [],
   "source": [
    "allowed = df['status'] == 'allowed'"
   ]
  },
  {
   "cell_type": "markdown",
   "metadata": {},
   "source": [
    "value_counts()를 사용하면, 각 과목별 신청 인원을 확인할 수 있습니다. "
   ]
  },
  {
   "cell_type": "code",
   "execution_count": 39,
   "metadata": {},
   "outputs": [
    {
     "output_type": "execute_result",
     "data": {
      "text/plain": "arts                                158\nscience                             124\ncommerce                            101\nenglish                              56\neducation                            41\n                                   ... \ncomputer science (lateral entry)      1\narts/science                          1\naih                                   1\nlibrary and information               1\narthroscopy                           1\nName: course name, Length: 296, dtype: int64"
     },
     "metadata": {},
     "execution_count": 39
    }
   ],
   "source": [
    "course_counts = df.loc[allowed, 'course name'].value_counts()\n",
    "course_counts"
   ]
  },
  {
   "cell_type": "code",
   "execution_count": 42,
   "metadata": {},
   "outputs": [
    {
     "output_type": "execute_result",
     "data": {
      "text/plain": "['computer architecture',\n 'bpt',\n 'agriculture',\n 'physical education',\n 'refactoring',\n 'electronics and instrumentation',\n 'database',\n 'environment',\n 'korean',\n 'electronics & communication engineering',\n 'instrumentation engineering',\n 'computer engg with specialization in cloud computing.',\n 'leather design',\n 'mechanical related subjects',\n 'mechanical engg.',\n 'electronics and communication',\n 'electrical engg',\n 'information subjects',\n 'engg. & tech.',\n 'fashion communication',\n 'applied sc.',\n 'chemical',\n 'data structure',\n 'civil engg',\n 'electrical and electronics engineering',\n 'mech',\n 'electros & communicationnic',\n 'pathology',\n 'tool & die making',\n 'digital electronics',\n 'admistrator',\n 'science(bzc)',\n 'gandhian thought',\n 'mobile communication',\n 'b.b.m',\n 'saskrit',\n 'corporate secaratoryship',\n 'administration services',\n 'politics',\n 'if',\n 'b.com (p)',\n 'rasshastra evum bhaisgya kalpana',\n 'kayachikitsa',\n 'bca',\n 'b.sc-m.p.c',\n 'electronics engineering',\n 'tb & chest',\n 'comp(em)',\n 'diploma in computer engineering',\n 'english literature',\n 'vocational',\n 'electronic',\n 'applied science & humanities',\n 'jain darshan',\n 'computer engg',\n 'hons.',\n 'bjmc',\n 'dcp',\n 'res',\n 'mca 2nd shift',\n 'bsc mpe',\n 'electronics & comm. engg.',\n 'deee',\n 'anaesthesiology',\n 'btzc',\n 'travel tourism & hospitality management',\n 'em',\n 'buisiness administration',\n 'bcom computer',\n 'sahitya',\n 'bcom marketing',\n 'medicine',\n 'industrial microbiology',\n 'comp science',\n 'b.com.(gen.e/m)',\n 'pol-science',\n 'computers',\n 'eep',\n 'c bc bt',\n 'cmmerce',\n 'tm',\n 'b.com.',\n 'bcom finance and taxation',\n 'discipline',\n 'mangement',\n 'bcom (general)',\n 'bbi',\n 'diploma',\n 'm.i.l',\n 'music vocal',\n 'master of computer application',\n 'co-operation',\n 'bsc btmc',\n 'professional  accounting',\n 'ai & as',\n 'microbiology-botany-chemistry',\n '3 year ll.b course',\n 'community medicine',\n 'tax procedure and practice',\n 'i.t',\n 'computers (ug)',\n 'electronics & comm engg',\n 'software computer science',\n 'bsc bzc',\n 'yes',\n 'civit',\n 'mat',\n 'electronics & communication engineeering',\n 'compulsory',\n 'all subjects',\n 'co',\n 'electronics & communication engg.  with specialization in  vlsi design & embedded systems',\n 'nano science & technology',\n 'electro nics and commun ications enginee ring',\n 'political sc',\n 'civil and environmental engineering',\n 'mpharmacypa',\n 'science arts',\n 'it cs',\n 'thermal power engineering',\n 'quality assurance',\n 'physical science',\n 'computer appplication',\n 'aero dynamics',\n 'molecular virology',\n 'bio technology',\n 'm.sc chemistry(analytical chemistry)',\n 'transportation engineering',\n 'dharmashastra',\n 'medical surgical nursing',\n 'lab technology',\n 'social studies',\n 'infra structural engineering',\n 'pharmaceutics',\n 'b.ed.',\n 'vlsi design and signal processing',\n 'power systems engineering',\n 'fibre optics and communication',\n 'veterinary epidemiology & preventive medicine',\n 'english geography',\n 'automobile engineering',\n 'btc-2012',\n 'information security',\n 'communication and signal processing',\n 'construction technology and management',\n 'environmental engg.',\n 'spl. education',\n 'hcl',\n 'structural engineering',\n 'math chemistry',\n '(biotechnology))',\n 'pharmacognosy',\n 'material science and engineering',\n 'architecture',\n 'social work',\n 'd.ed',\n 'dance-parangat',\n 'data science',\n 'drugs and pharmaceuticals',\n 'history & archeology',\n 'd.el.ed',\n 'nuclear science & engineering',\n 'dmrd',\n 'digital communicati ons',\n 'msc cs',\n 'mpharmacy',\n 'special education (h.i.)',\n 'nutrition & dietetics',\n 'power & energy systems',\n 'social science',\n 'git',\n 'chmistry',\n 'm.com',\n 'construction technology',\n 'btc 2013',\n 'arts/commerce/science/maths',\n 'polotical',\n 'mass relation',\n 'cad/cam',\n 'computer integrated manufacturing',\n 'international business',\n 'co-education',\n 'biochemistry',\n 'taalvadya-parichay',\n 'scientific computing',\n 'mba 2nd shift',\n 'computational mathematics',\n 'vlsi',\n 'library & information & science',\n 'jmc',\n 'lib. & info sci',\n 'full time',\n 'chemstry',\n 'physical edu.',\n 'sciences',\n 'school of management',\n 'humanities and social science (h',\n 'punjabi',\n 'environmental science',\n 'statistics',\n 'library',\n 'technician',\n 'b.ed',\n 'pgdca',\n 'aqua culture',\n 'dcl',\n 'pg.diploma',\n 'biological sciences',\n 'home sc. food & nutrition',\n 'computer science (lateral entry)',\n 'arts/science',\n 'aih',\n 'library and information',\n 'arthroscopy']"
     },
     "metadata": {},
     "execution_count": 42
    }
   ],
   "source": [
    "closed_course = list(course_counts[course_counts < 5 ].index)\n",
    "closed_course\n",
    "# 이제 폐강 과목에 대한 리스트가 확보 되었습니다. "
   ]
  },
  {
   "cell_type": "code",
   "execution_count": 45,
   "metadata": {},
   "outputs": [
    {
     "output_type": "execute_result",
     "data": {
      "text/plain": "           id  year           course name   status\n0     2777729     1               science  allowed\n1     2777730     2               science  allowed\n2     2777765     1                  arts  allowed\n3     2777766     2                  arts  allowed\n4     2777785     1                   mba  allowed\n...       ...   ...                   ...      ...\n1995  2796805     3  computer application  allowed\n1996  2796812     1               nursing  allowed\n1997  2796813     2               nursing  allowed\n1998  2796814     3               nursing  allowed\n1999  2796815     4               nursing  allowed\n\n[2000 rows x 4 columns]",
      "text/html": "<div>\n<style scoped>\n    .dataframe tbody tr th:only-of-type {\n        vertical-align: middle;\n    }\n\n    .dataframe tbody tr th {\n        vertical-align: top;\n    }\n\n    .dataframe thead th {\n        text-align: right;\n    }\n</style>\n<table border=\"1\" class=\"dataframe\">\n  <thead>\n    <tr style=\"text-align: right;\">\n      <th></th>\n      <th>id</th>\n      <th>year</th>\n      <th>course name</th>\n      <th>status</th>\n    </tr>\n  </thead>\n  <tbody>\n    <tr>\n      <th>0</th>\n      <td>2777729</td>\n      <td>1</td>\n      <td>science</td>\n      <td>allowed</td>\n    </tr>\n    <tr>\n      <th>1</th>\n      <td>2777730</td>\n      <td>2</td>\n      <td>science</td>\n      <td>allowed</td>\n    </tr>\n    <tr>\n      <th>2</th>\n      <td>2777765</td>\n      <td>1</td>\n      <td>arts</td>\n      <td>allowed</td>\n    </tr>\n    <tr>\n      <th>3</th>\n      <td>2777766</td>\n      <td>2</td>\n      <td>arts</td>\n      <td>allowed</td>\n    </tr>\n    <tr>\n      <th>4</th>\n      <td>2777785</td>\n      <td>1</td>\n      <td>mba</td>\n      <td>allowed</td>\n    </tr>\n    <tr>\n      <th>...</th>\n      <td>...</td>\n      <td>...</td>\n      <td>...</td>\n      <td>...</td>\n    </tr>\n    <tr>\n      <th>1995</th>\n      <td>2796805</td>\n      <td>3</td>\n      <td>computer application</td>\n      <td>allowed</td>\n    </tr>\n    <tr>\n      <th>1996</th>\n      <td>2796812</td>\n      <td>1</td>\n      <td>nursing</td>\n      <td>allowed</td>\n    </tr>\n    <tr>\n      <th>1997</th>\n      <td>2796813</td>\n      <td>2</td>\n      <td>nursing</td>\n      <td>allowed</td>\n    </tr>\n    <tr>\n      <th>1998</th>\n      <td>2796814</td>\n      <td>3</td>\n      <td>nursing</td>\n      <td>allowed</td>\n    </tr>\n    <tr>\n      <th>1999</th>\n      <td>2796815</td>\n      <td>4</td>\n      <td>nursing</td>\n      <td>allowed</td>\n    </tr>\n  </tbody>\n</table>\n<p>2000 rows × 4 columns</p>\n</div>"
     },
     "metadata": {},
     "execution_count": 45
    }
   ],
   "source": [
    "import pandas as pd\n",
    "\n",
    "df = pd.read_csv('data/enrolment_1.csv')\n",
    "df[\"status\"] = \"allowed\"\n",
    "\n",
    "# 조건 1\n",
    "boolean1 = df[\"course name\"] == \"information technology\"\n",
    "boolean2 = df[\"year\"] == 1\n",
    "df.loc[boolean1 & boolean2, \"status\"] = \"not allowed\"\n",
    "\n",
    "# 조건 2\n",
    "boolean3= df[\"course name\"] == \"commerce\"\n",
    "boolean4= df[\"year\"] == 4\n",
    "df.loc[boolean3& boolean4, \"status\"] = \"not allowed\"\n",
    "\n",
    "# 조건 3\n",
    "allowed = df[\"status\"] == \"allowed\"\n",
    "course_counts = df.loc[allowed, \"course name\"].value_counts()\n",
    "closed_courses = list(course_counts[course_counts < 5].index)\n",
    "for course in closed_courses:\n",
    "    df.loc[df[\"course name\"] == course, \"status\"] = \"not allowed\"\n",
    "\n",
    "# 정답 확인\n",
    "df"
   ]
  },
  {
   "cell_type": "code",
   "execution_count": null,
   "metadata": {},
   "outputs": [],
   "source": []
  }
 ],
 "metadata": {
  "language_info": {
   "codemirror_mode": {
    "name": "ipython",
    "version": 3
   },
   "file_extension": ".py",
   "mimetype": "text/x-python",
   "name": "python",
   "nbconvert_exporter": "python",
   "pygments_lexer": "ipython3",
   "version": "3.8.1-final"
  },
  "orig_nbformat": 2,
  "kernelspec": {
   "name": "python38164bitpytorchcondae2e836418e8f4945879c9669572061e2",
   "display_name": "Python 3.8.1 64-bit ('pytorch': conda)"
  }
 },
 "nbformat": 4,
 "nbformat_minor": 2
}