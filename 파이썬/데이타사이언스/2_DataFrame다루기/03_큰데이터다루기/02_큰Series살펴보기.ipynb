{
 "cells": [
  {
   "cell_type": "code",
   "execution_count": 1,
   "metadata": {},
   "outputs": [
    {
     "output_type": "execute_result",
     "data": {
      "text/plain": "     brand             model  ram hd_type  hd_size  screen_size   price  \\\n0     Dell  Inspiron 15-3567    4     hdd     1024         15.6   40000   \n1    Apple       MacBook Air    8     ssd      128         13.3   55499   \n2    Apple       MacBook Air    8     ssd      256         13.3   71500   \n3    Apple       MacBook Pro    8     ssd      128         13.3   96890   \n4    Apple       MacBook Pro    8     ssd      256         13.3  112666   \n..     ...               ...  ...     ...      ...          ...     ...   \n162   Asus            A555LF    8     hdd     1024         15.6   39961   \n163   Asus     X555LA-XX172D    4     hdd      500         15.6   28489   \n164   Asus            X554LD    2     hdd      500         15.6   29199   \n165   Asus    X550LAV-XX771D    2     hdd      500         15.6   29990   \n166   Asus     X540LA-XX538T    4     hdd     1024         15.6   30899   \n\n    processor_brand processor_model  clock_speed graphic_card_brand  \\\n0             intel              i5          2.5              intel   \n1             intel              i5          1.8              intel   \n2             intel              i5          1.8              intel   \n3             intel              i5          2.3              intel   \n4             intel              i5          2.3              intel   \n..              ...             ...          ...                ...   \n162           intel      i3 4th gen          1.7             nvidia   \n163           intel      i3 4th gen          1.9              intel   \n164           intel      i3 4th gen          1.9              intel   \n165           intel      i3 4th gen          1.7              intel   \n166           intel      i3 5th gen          2.0              intel   \n\n     graphic_card_size       os  weight comments  \n0                  NaN    linux    2.50      NaN  \n1                  2.0      mac    1.35      NaN  \n2                  2.0      mac    1.35      NaN  \n3                  2.0      mac    3.02      NaN  \n4                  2.0      mac    3.02      NaN  \n..                 ...      ...     ...      ...  \n162                2.0  windows    2.30      NaN  \n163                NaN    linux    2.30      NaN  \n164                1.0    linux    2.30      NaN  \n165                NaN    linux    2.50      NaN  \n166                NaN  windows    2.30      NaN  \n\n[167 rows x 15 columns]",
      "text/html": "<div>\n<style scoped>\n    .dataframe tbody tr th:only-of-type {\n        vertical-align: middle;\n    }\n\n    .dataframe tbody tr th {\n        vertical-align: top;\n    }\n\n    .dataframe thead th {\n        text-align: right;\n    }\n</style>\n<table border=\"1\" class=\"dataframe\">\n  <thead>\n    <tr style=\"text-align: right;\">\n      <th></th>\n      <th>brand</th>\n      <th>model</th>\n      <th>ram</th>\n      <th>hd_type</th>\n      <th>hd_size</th>\n      <th>screen_size</th>\n      <th>price</th>\n      <th>processor_brand</th>\n      <th>processor_model</th>\n      <th>clock_speed</th>\n      <th>graphic_card_brand</th>\n      <th>graphic_card_size</th>\n      <th>os</th>\n      <th>weight</th>\n      <th>comments</th>\n    </tr>\n  </thead>\n  <tbody>\n    <tr>\n      <th>0</th>\n      <td>Dell</td>\n      <td>Inspiron 15-3567</td>\n      <td>4</td>\n      <td>hdd</td>\n      <td>1024</td>\n      <td>15.6</td>\n      <td>40000</td>\n      <td>intel</td>\n      <td>i5</td>\n      <td>2.5</td>\n      <td>intel</td>\n      <td>NaN</td>\n      <td>linux</td>\n      <td>2.50</td>\n      <td>NaN</td>\n    </tr>\n    <tr>\n      <th>1</th>\n      <td>Apple</td>\n      <td>MacBook Air</td>\n      <td>8</td>\n      <td>ssd</td>\n      <td>128</td>\n      <td>13.3</td>\n      <td>55499</td>\n      <td>intel</td>\n      <td>i5</td>\n      <td>1.8</td>\n      <td>intel</td>\n      <td>2.0</td>\n      <td>mac</td>\n      <td>1.35</td>\n      <td>NaN</td>\n    </tr>\n    <tr>\n      <th>2</th>\n      <td>Apple</td>\n      <td>MacBook Air</td>\n      <td>8</td>\n      <td>ssd</td>\n      <td>256</td>\n      <td>13.3</td>\n      <td>71500</td>\n      <td>intel</td>\n      <td>i5</td>\n      <td>1.8</td>\n      <td>intel</td>\n      <td>2.0</td>\n      <td>mac</td>\n      <td>1.35</td>\n      <td>NaN</td>\n    </tr>\n    <tr>\n      <th>3</th>\n      <td>Apple</td>\n      <td>MacBook Pro</td>\n      <td>8</td>\n      <td>ssd</td>\n      <td>128</td>\n      <td>13.3</td>\n      <td>96890</td>\n      <td>intel</td>\n      <td>i5</td>\n      <td>2.3</td>\n      <td>intel</td>\n      <td>2.0</td>\n      <td>mac</td>\n      <td>3.02</td>\n      <td>NaN</td>\n    </tr>\n    <tr>\n      <th>4</th>\n      <td>Apple</td>\n      <td>MacBook Pro</td>\n      <td>8</td>\n      <td>ssd</td>\n      <td>256</td>\n      <td>13.3</td>\n      <td>112666</td>\n      <td>intel</td>\n      <td>i5</td>\n      <td>2.3</td>\n      <td>intel</td>\n      <td>2.0</td>\n      <td>mac</td>\n      <td>3.02</td>\n      <td>NaN</td>\n    </tr>\n    <tr>\n      <th>...</th>\n      <td>...</td>\n      <td>...</td>\n      <td>...</td>\n      <td>...</td>\n      <td>...</td>\n      <td>...</td>\n      <td>...</td>\n      <td>...</td>\n      <td>...</td>\n      <td>...</td>\n      <td>...</td>\n      <td>...</td>\n      <td>...</td>\n      <td>...</td>\n      <td>...</td>\n    </tr>\n    <tr>\n      <th>162</th>\n      <td>Asus</td>\n      <td>A555LF</td>\n      <td>8</td>\n      <td>hdd</td>\n      <td>1024</td>\n      <td>15.6</td>\n      <td>39961</td>\n      <td>intel</td>\n      <td>i3 4th gen</td>\n      <td>1.7</td>\n      <td>nvidia</td>\n      <td>2.0</td>\n      <td>windows</td>\n      <td>2.30</td>\n      <td>NaN</td>\n    </tr>\n    <tr>\n      <th>163</th>\n      <td>Asus</td>\n      <td>X555LA-XX172D</td>\n      <td>4</td>\n      <td>hdd</td>\n      <td>500</td>\n      <td>15.6</td>\n      <td>28489</td>\n      <td>intel</td>\n      <td>i3 4th gen</td>\n      <td>1.9</td>\n      <td>intel</td>\n      <td>NaN</td>\n      <td>linux</td>\n      <td>2.30</td>\n      <td>NaN</td>\n    </tr>\n    <tr>\n      <th>164</th>\n      <td>Asus</td>\n      <td>X554LD</td>\n      <td>2</td>\n      <td>hdd</td>\n      <td>500</td>\n      <td>15.6</td>\n      <td>29199</td>\n      <td>intel</td>\n      <td>i3 4th gen</td>\n      <td>1.9</td>\n      <td>intel</td>\n      <td>1.0</td>\n      <td>linux</td>\n      <td>2.30</td>\n      <td>NaN</td>\n    </tr>\n    <tr>\n      <th>165</th>\n      <td>Asus</td>\n      <td>X550LAV-XX771D</td>\n      <td>2</td>\n      <td>hdd</td>\n      <td>500</td>\n      <td>15.6</td>\n      <td>29990</td>\n      <td>intel</td>\n      <td>i3 4th gen</td>\n      <td>1.7</td>\n      <td>intel</td>\n      <td>NaN</td>\n      <td>linux</td>\n      <td>2.50</td>\n      <td>NaN</td>\n    </tr>\n    <tr>\n      <th>166</th>\n      <td>Asus</td>\n      <td>X540LA-XX538T</td>\n      <td>4</td>\n      <td>hdd</td>\n      <td>1024</td>\n      <td>15.6</td>\n      <td>30899</td>\n      <td>intel</td>\n      <td>i3 5th gen</td>\n      <td>2.0</td>\n      <td>intel</td>\n      <td>NaN</td>\n      <td>windows</td>\n      <td>2.30</td>\n      <td>NaN</td>\n    </tr>\n  </tbody>\n</table>\n<p>167 rows × 15 columns</p>\n</div>"
     },
     "metadata": {},
     "execution_count": 1
    }
   ],
   "source": [
    "import pandas as pd \n",
    "\n",
    "laptops_df = pd.read_csv('data/laptops.csv')\n",
    "laptops_df"
   ]
  },
  {
   "cell_type": "code",
   "execution_count": 2,
   "metadata": {},
   "outputs": [
    {
     "output_type": "execute_result",
     "data": {
      "text/plain": "0       Dell\n1      Apple\n2      Apple\n3      Apple\n4      Apple\n       ...  \n162     Asus\n163     Asus\n164     Asus\n165     Asus\n166     Asus\nName: brand, Length: 167, dtype: object"
     },
     "metadata": {},
     "execution_count": 2
    }
   ],
   "source": [
    "laptops_df['brand']"
   ]
  },
  {
   "cell_type": "code",
   "execution_count": 14,
   "metadata": {},
   "outputs": [
    {
     "output_type": "execute_result",
     "data": {
      "text/plain": "array(['Dell', 'Apple', 'Acer', 'HP', 'Lenovo', 'Alienware', 'Microsoft',\n       'Asus'], dtype=object)"
     },
     "metadata": {},
     "execution_count": 14
    }
   ],
   "source": [
    "# unique()메소드는 해당 리스트, 배열, Series에서 중복되지 않은 값들만 보여준다. \n",
    "laptops_df['brand'].unique()\n",
    "# laptops_df.loc[:, 'brand'].unique()"
   ]
  },
  {
   "cell_type": "code",
   "execution_count": 12,
   "metadata": {},
   "outputs": [
    {
     "output_type": "execute_result",
     "data": {
      "text/plain": "HP           55\nAcer         35\nDell         31\nLenovo       18\nAsus          9\nApple         7\nAlienware     6\nMicrosoft     6\nName: brand, dtype: int64"
     },
     "metadata": {},
     "execution_count": 12
    }
   ],
   "source": [
    "# value_counts()는 특정컬럼(예,brand)에 있는 값들중 해당 로우가 몇개 있는지 각각 나열해 준다. \n",
    "# 제일 많이 사용할 것 같은 예감이 듭니다.\n",
    "# laptops_df['brand'].value_counts()\n",
    "laptops_df.loc[:, 'brand'].value_counts()\n"
   ]
  },
  {
   "cell_type": "code",
   "execution_count": 6,
   "metadata": {},
   "outputs": [
    {
     "output_type": "execute_result",
     "data": {
      "text/plain": "count     167\nunique      8\ntop        HP\nfreq       55\nName: brand, dtype: object"
     },
     "metadata": {},
     "execution_count": 6
    }
   ],
   "source": [
    "# describe()값들은 해당 칼럼의 정보들을 보여줍니다. 특히 해당 칼럼의 값이 문자열인 경우에는 unique, 가장 많이(빈번히) 나온 문자열, 그 빈도수가 나옵니다.\n",
    "laptops_df['brand'].describe()\n",
    "# laptops_df.loc[:,'brand'].describe()"
   ]
  },
  {
   "cell_type": "code",
   "execution_count": 10,
   "metadata": {},
   "outputs": [
    {
     "output_type": "execute_result",
     "data": {
      "text/plain": "count     167\nunique      8\ntop        HP\nfreq       55\nName: brand, dtype: object"
     },
     "metadata": {},
     "execution_count": 10
    }
   ],
   "source": [
    "laptops_df.loc[:,'brand'].describe()"
   ]
  },
  {
   "cell_type": "markdown",
   "metadata": {},
   "source": [
    "# 정리 \n",
    "\n",
    "## 1. describe() 사용시 \n",
    "> numeric data의 경우 : count, mean, std, min, max, 25, 70\n",
    "\n",
    "> object data의 경우 : count, unique, top(최빈값), and freq(최빈값의 빈도)\n",
    "\n",
    "## 2. unique() \n",
    "정리 \n",
    "\n",
    "## 1. describe() 사용시 \n",
    "> numeric data의 경우 : count, mean, std, min, max, 25, 70\n",
    "\n",
    "> object data의 경우 : count, unique, top(최빈값), and freq(최빈값의 빈도)\n",
    "\n",
    "## 2. unique() \n",
    "        컬럼의 고유한 값들만 보여준다. \n",
    "\n",
    "## 3. value_counts() \n",
    "        컬럼의 중복된 값들이 총 몇개인지 보여준다.\n",
    "\n"
   ]
  },
  {
   "cell_type": "code",
   "execution_count": 16,
   "metadata": {},
   "outputs": [
    {
     "output_type": "error",
     "ename": "NameError",
     "evalue": "name '도' is not defined",
     "traceback": [
      "\u001b[1;31m---------------------------------------------------------------------------\u001b[0m",
      "\u001b[1;31mNameError\u001b[0m                                 Traceback (most recent call last)",
      "\u001b[1;32m<ipython-input-16-b8f72a2c193b>\u001b[0m in \u001b[0;36m<module>\u001b[1;34m\u001b[0m\n\u001b[1;32m----> 1\u001b[1;33m \u001b[0m도\u001b[0m\u001b[1;33m\u001b[0m\u001b[1;33m\u001b[0m\u001b[0m\n\u001b[0m",
      "\u001b[1;31mNameError\u001b[0m: name '도' is not defined"
     ]
    }
   ],
   "source": [
    "도"
   ]
  },
  {
   "cell_type": "code",
   "execution_count": null,
   "metadata": {},
   "outputs": [],
   "source": []
  }
 ],
 "metadata": {
  "language_info": {
   "codemirror_mode": {
    "name": "ipython",
    "version": 3
   },
   "file_extension": ".py",
   "mimetype": "text/x-python",
   "name": "python",
   "nbconvert_exporter": "python",
   "pygments_lexer": "ipython3",
   "version": "3.8.2-final"
  },
  "orig_nbformat": 2,
  "kernelspec": {
   "name": "python38264bitmymythonenvconda1f36fd18157f4376a30b6173fcd0cb3f",
   "display_name": "Python 3.8.2 64-bit ('my_mython_env': conda)"
  }
 },
 "nbformat": 4,
 "nbformat_minor": 2
}