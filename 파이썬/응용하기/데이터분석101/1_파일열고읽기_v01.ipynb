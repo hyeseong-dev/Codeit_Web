{
 "cells": [
  {
   "cell_type": "code",
   "execution_count": 1,
   "metadata": {},
   "outputs": [
    {
     "output_type": "stream",
     "name": "stdout",
     "text": "1일: 657005/n/n2일: 620914/n/n3일: 557251/n/n4일: 515966/n/n5일: 638040/n/n6일: 431811/n/n7일: 437480/n/n8일: 528387/n/n9일: 428344/n/n10일: 642532/n/n11일: 594636/n/n12일: 571803/n/n13일: 570122/n/n14일: 497954/n/n15일: 668795/n/n16일: 448641/n/n17일: 412834/n/n18일: 692270/n/n19일: 479431/n/n20일: 673527/n/n21일: 676698/n/n22일: 553923/n/n23일: 587371/n/n24일: 401128/n/n25일: 453836/n/n26일: 501604/n/n27일: 588083/n/n28일: 573451/n/n29일: 487876/n/n30일: 518600/n/n"
    }
   ],
   "source": [
    "f = open('chicken.txt','r', encoding='utf-8')/n",
    "/n",
    "for i in f:/n",
    "    print(i)/n",
    "    /n",
    "f.close()/n"
   ]
  },
  {
   "cell_type": "code",
   "execution_count": 6,
   "metadata": {},
   "outputs": [
    {
     "output_type": "execute_result",
     "data": {
      "text/plain": "_io.TextIOWrapper"
     },
     "metadata": {},
     "execution_count": 6
    }
   ],
   "source": [
    "from random import randint/n",
    "/n",
    "f = open('C:/Users/hyese/OneDrive/바탕 화면/main/Codeit_Web/파이썬/응용하기/chicken.txt','r', encoding='utf-8')/n",
    "lines = f.readlines()/n",
    "# for i in lines:/n",
    "#     print(i)/n",
    "# f.close()/n",
    "lines # 리스트로 돌려준다./n"
   ]
  },
  {
   "cell_type": "markdown",
   "metadata": {},
   "source": [
    "참고로 open()메소드로 열어버린 파일은 포인터가 파일내부의 마지막으로 가기 때문에 두번 사용해도 값이 출력되지 않는다."
   ]
  }
 ],
 "metadata": {
  "language_info": {
   "codemirror_mode": {
    "name": "ipython",
    "version": 3
   },
   "file_extension": ".py",
   "mimetype": "text/x-python",
   "name": "python",
   "nbconvert_exporter": "python",
   "pygments_lexer": "ipython3",
   "version": "3.7.4-final"
  },
  "orig_nbformat": 2,
  "kernelspec": {
   "name": "python37464bitanacondaconda7a410613194842c7b8b263458edf01ce",
   "display_name": "Python 3.7.4 64-bit ('Anaconda': conda)"
  }
 },
 "nbformat": 4,
 "nbformat_minor": 2
}