{
 "cells": [
  {
   "cell_type": "code",
   "execution_count": null,
   "metadata": {},
   "outputs": [],
   "source": [
    "in_file = open('../../data/chicken.txt','r', encoding='utf-8')/n",
    ""
   ]
  },
  {
   "cell_type": "code",
   "execution_count": null,
   "metadata": {},
   "outputs": [],
   "source": [
    "for line in in_file:/n",
    "    print(line)"
   ]
  },
  {
   "cell_type": "markdown",
   "metadata": {},
   "source": [
    "split()함수를 써서 문자열이 리스트 자료형으로 변환된다는 사실!/n"
   ]
  },
  {
   "cell_type": "code",
   "execution_count": 3,
   "metadata": {},
   "outputs": [
    {
     "output_type": "stream",
     "name": "stdout",
     "text": "['1', '123']/n"
    }
   ],
   "source": [
    "a = '1: 123'/n",
    "a = a.split(': ')/n",
    "print(a)/n"
   ]
  },
  {
   "cell_type": "code",
   "execution_count": 4,
   "metadata": {},
   "outputs": [
    {
     "output_type": "error",
     "ename": "FileNotFoundError",
     "evalue": "[Errno 2] No such file or directory: '../../data/chicken.txt'",
     "traceback": [
      "/u001b[1;31m---------------------------------------------------------------------------/u001b[0m",
      "/u001b[1;31mFileNotFoundError/u001b[0m                         Traceback (most recent call last)",
      "/u001b[1;32m<ipython-input-4-d0744ffd78cd>/u001b[0m in /u001b[0;36m<module>/u001b[1;34m/u001b[0m/n/u001b[1;32m----> 1/u001b[1;33m /u001b[0min_file/u001b[0m /u001b[1;33m=/u001b[0m /u001b[0mopen/u001b[0m/u001b[1;33m(/u001b[0m/u001b[1;34m'../../data/chicken.txt'/u001b[0m/u001b[1;33m,/u001b[0m/u001b[1;34m'r'/u001b[0m/u001b[1;33m,/u001b[0m /u001b[0mencoding/u001b[0m/u001b[1;33m=/u001b[0m/u001b[1;34m'utf-8'/u001b[0m/u001b[1;33m)/u001b[0m/u001b[1;33m/u001b[0m/u001b[1;33m/u001b[0m/u001b[0m/n/u001b[0m/u001b[0;32m      2/u001b[0m /u001b[1;33m/u001b[0m/u001b[0m/n/u001b[0;32m      3/u001b[0m /u001b[0msum_/u001b[0m /u001b[1;33m=/u001b[0m /u001b[1;36m0/u001b[0m/u001b[1;33m/u001b[0m/u001b[1;33m/u001b[0m/u001b[0m/n/u001b[0;32m      4/u001b[0m /u001b[0mday/u001b[0m /u001b[1;33m=/u001b[0m /u001b[1;36m0/u001b[0m/u001b[1;33m/u001b[0m/u001b[1;33m/u001b[0m/u001b[0m/n/u001b[0;32m      5/u001b[0m /u001b[1;32mfor/u001b[0m /u001b[0mline/u001b[0m /u001b[1;32min/u001b[0m /u001b[0min_file/u001b[0m/u001b[1;33m:/u001b[0m/u001b[1;33m/u001b[0m/u001b[1;33m/u001b[0m/u001b[0m/n",
      "/u001b[1;31mFileNotFoundError/u001b[0m: [Errno 2] No such file or directory: '../../data/chicken.txt'"
     ]
    }
   ],
   "source": [
    "in_file = open('../../data/chicken.txt','r', encoding='utf-8')/n",
    "/n",
    "sum_ = 0/n",
    "day = 0/n",
    "for line in in_file:/n",
    "    data = line.strip().split(/": /")/n",
    "    # print(type(data))/n",
    "    amount = int(data[1])/n",
    "    sum_ += amount /n",
    "    day += 1/n",
    "/n",
    "print(sum_/day)/n",
    "    "
   ]
  },
  {
   "cell_type": "code",
   "execution_count": 65,
   "metadata": {},
   "outputs": [
    {
     "output_type": "stream",
     "name": "stdout",
     "text": "0.9988888888888889/n"
    }
   ],
   "source": [
    "in_file = open('../../data/chicken.txt','r', encoding='utf-8')/n",
    "a = ([line.strip().split(/": /") for line in in_file] /n",
    "    /n"
   ]
  }
 ],
 "metadata": {
  "language_info": {
   "name": "python",
   "codemirror_mode": {
    "name": "ipython",
    "version": 3
   },
   "version": "3.8.1-final"
  },
  "orig_nbformat": 2,
  "file_extension": ".py",
  "mimetype": "text/x-python",
  "name": "python",
  "npconvert_exporter": "python",
  "pygments_lexer": "ipython3",
  "version": 3,
  "kernelspec": {
   "name": "python38164bitpytorchcondae2e836418e8f4945879c9669572061e2",
   "display_name": "Python 3.8.1 64-bit ('pytorch': conda)"
  }
 },
 "nbformat": 4,
 "nbformat_minor": 2
}