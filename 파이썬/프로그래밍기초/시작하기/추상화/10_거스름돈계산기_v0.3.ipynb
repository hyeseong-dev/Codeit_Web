{
 "cells": [
  {
   "cell_type": "code",
   "execution_count": null,
   "metadata": {},
   "outputs": [],
   "source": [
    "목적 : 거스름돈 계산기 \n",
    "\n",
    "변수 생성 :\n",
    "\n",
    "오만원 =  1\n",
    "일만원 =  2\n",
    "오천원 =  3\n",
    "일천원 =  4\n",
    "\n",
    "print(오만원)"
   ]
  },
  {
   "cell_type": "code",
   "execution_count": 3,
   "metadata": {},
   "outputs": [
    {
     "output_type": "stream",
     "name": "stdout",
     "text": "1\n"
    }
   ],
   "source": [
    "총보유금 = 100_000\n",
    "\n",
    "오만원 =  1\n",
    "일만원 =  2\n",
    "오천원 =  3\n",
    "일천원 =  4\n",
    "\n",
    "print()"
   ]
  },
  {
   "cell_type": "code",
   "execution_count": 29,
   "metadata": {},
   "outputs": [
    {
     "output_type": "stream",
     "name": "stdout",
     "text": "(1, 1, 1, 2)\n"
    }
   ],
   "source": [
    "def caculate_change(payment, cost): # \n",
    "    잔돈 = payment - cost    \n",
    "    \n",
    "    오만원 = 잔돈//50000\n",
    "    일만원 = (잔돈 % 50_000)//10_000   #우항의 (잔돈 % 50_000)<--이부분은 오만원의 잔돈 \n",
    "    오천원 = (잔돈 % 10_000)//5_000\n",
    "    일천원 = (잔돈 % 5_000)//1_000\n",
    "    \n",
    "    return 오만원, 일만원, 오천원, 일천원\n",
    "\n",
    "\n",
    "print(caculate_change(100_000,33_000))"
   ]
  },
  {
   "cell_type": "code",
   "execution_count": 27,
   "metadata": {},
   "outputs": [
    {
     "output_type": "stream",
     "name": "stdout",
     "text": "1 2 3\n"
    }
   ],
   "source": [
    "a =1\n",
    "b =2\n",
    "c =3\n",
    "print(a, b ,c)"
   ]
  },
  {
   "cell_type": "code",
   "execution_count": 3,
   "metadata": {},
   "outputs": [
    {
     "output_type": "stream",
     "name": "stdout",
     "text": "4\n3\n2\n1\n"
    }
   ],
   "source": [
    "for i in range(4,0,-1):\n",
    "    print(i)"
   ]
  }
 ],
 "metadata": {
  "language_info": {
   "codemirror_mode": {
    "name": "ipython",
    "version": 3
   },
   "file_extension": ".py",
   "mimetype": "text/x-python",
   "name": "python",
   "nbconvert_exporter": "python",
   "pygments_lexer": "ipython3",
   "version": "3.8.2-final"
  },
  "orig_nbformat": 2,
  "kernelspec": {
   "name": "python38264bitmymythonenvconda1f36fd18157f4376a30b6173fcd0cb3f",
   "display_name": "Python 3.8.2 64-bit ('my_mython_env': conda)"
  }
 },
 "nbformat": 4,
 "nbformat_minor": 2
}